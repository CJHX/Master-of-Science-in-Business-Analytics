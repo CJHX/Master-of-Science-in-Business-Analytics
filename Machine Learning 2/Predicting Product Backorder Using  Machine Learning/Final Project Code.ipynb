{
 "cells": [
  {
   "cell_type": "markdown",
   "metadata": {},
   "source": [
    "### Welcome to go through our final project!\n",
    "### We attempt to use machine learning algorithms to predict 'backorder' on Walmart's garment products. This notebook is divided into three main parts: feature engineering, modelling and evaluation. We have cleaned the data beforehand for the code below."
   ]
  },
  {
   "cell_type": "markdown",
   "metadata": {},
   "source": [
    "## Import Packages"
   ]
  },
  {
   "cell_type": "code",
   "execution_count": 1,
   "metadata": {},
   "outputs": [
    {
     "name": "stderr",
     "output_type": "stream",
     "text": [
      "Using TensorFlow backend.\n"
     ]
    }
   ],
   "source": [
    "import matplotlib.pyplot as plt\n",
    "import pandas as pd\n",
    "from sklearn.model_selection import train_test_split\n",
    "from sklearn import ensemble\n",
    "from sklearn.metrics import roc_curve, auc, f1_score\n",
    "from sklearn.model_selection import StratifiedKFold\n",
    "import numpy as np\n",
    "from sklearn.model_selection import GridSearchCV\n",
    "from sklearn import ensemble\n",
    "from collections import Counter\n",
    "from sklearn import linear_model\n",
    "from sklearn.metrics import confusion_matrix\n",
    "from imblearn import over_sampling as os\n",
    "from imblearn import under_sampling as us\n",
    "from imblearn import pipeline as pl\n",
    "from sklearn.neural_network import MLPClassifier\n",
    "from sklearn import preprocessing\n",
    "from sklearn import svm\n",
    "from sklearn.model_selection import KFold\n",
    "from sklearn.model_selection import cross_val_score\n",
    "import warnings\n",
    "warnings.filterwarnings(\"ignore\")"
   ]
  },
  {
   "cell_type": "markdown",
   "metadata": {},
   "source": [
    "## 1. Feature Engineering"
   ]
  },
  {
   "cell_type": "markdown",
   "metadata": {},
   "source": [
    "### 1.1. Interaction Terms (Categorical Variables)"
   ]
  },
  {
   "cell_type": "code",
   "execution_count": 2,
   "metadata": {},
   "outputs": [],
   "source": [
    "# We have cleaned the dataset beforehand for this code file.\n",
    "df = pd.read_csv(\"CleanedData.csv\")"
   ]
  },
  {
   "cell_type": "code",
   "execution_count": 3,
   "metadata": {},
   "outputs": [],
   "source": [
    "from sklearn.preprocessing import PolynomialFeatures\n",
    "\n",
    "poly = PolynomialFeatures()\n",
    "to_cross = ['potential_issue=Yes', 'deck_risk=Yes',\n",
    "       'oe_constraint=Yes', 'ppap_risk=Yes', 'stop_auto_buy=Yes',\n",
    "       'rev_stop=Yes']\n",
    "crossed_feats = poly.fit_transform(df[to_cross].values)\n",
    "\n",
    "\n",
    "#Convert to Pandas DataFrame and merge to original dataset\n",
    "crossed_feats = pd.DataFrame(crossed_feats)\n",
    "crossed_feats.columns= poly.get_feature_names(df[to_cross].columns)"
   ]
  },
  {
   "cell_type": "code",
   "execution_count": 4,
   "metadata": {},
   "outputs": [],
   "source": [
    "df = pd.concat([df, crossed_feats], axis=1)\n",
    "df = df.loc[:,~df.columns.duplicated()]"
   ]
  },
  {
   "cell_type": "code",
   "execution_count": 5,
   "metadata": {},
   "outputs": [],
   "source": [
    "df = df.loc[:,['national_inv',\n",
    "               'lead_time',\n",
    "               'in_transit_qty',\n",
    "               'forecast_3_month',\n",
    "               'forecast_6_month',\n",
    "               'forecast_9_month',\n",
    "               'sales_1_month',\n",
    "               'sales_3_month',\n",
    "               'sales_6_month',\n",
    "               'sales_9_month',\n",
    "               'min_bank',\n",
    "               'potential_issue=Yes',\n",
    "               'pieces_past_due',\n",
    "               'perf_6_month_avg',\n",
    "               'perf_12_month_avg',\n",
    "               'local_bo_qty',\n",
    "               'deck_risk=Yes',\n",
    "               'oe_constraint=Yes',\n",
    "               'ppap_risk=Yes',\n",
    "               'stop_auto_buy=Yes',\n",
    "               'rev_stop=Yes',\n",
    "               'went_on_backorder=Yes',\n",
    "              \n",
    "               'potential_issue=Yes deck_risk=Yes',\n",
    "               'potential_issue=Yes oe_constraint=Yes',\n",
    "               'potential_issue=Yes ppap_risk=Yes',\n",
    "               'potential_issue=Yes stop_auto_buy=Yes',\n",
    "               'potential_issue=Yes rev_stop=Yes',\n",
    "               \n",
    "               'deck_risk=Yes oe_constraint=Yes',\n",
    "               'deck_risk=Yes ppap_risk=Yes',\n",
    "               'deck_risk=Yes stop_auto_buy=Yes',\n",
    "               'deck_risk=Yes rev_stop=Yes',\n",
    "              \n",
    "               'oe_constraint=Yes ppap_risk=Yes',\n",
    "               'oe_constraint=Yes stop_auto_buy=Yes',\n",
    "               'oe_constraint=Yes rev_stop=Yes',\n",
    "             \n",
    "               'ppap_risk=Yes stop_auto_buy=Yes',\n",
    "               'ppap_risk=Yes rev_stop=Yes',\n",
    "             \n",
    "               'stop_auto_buy=Yes rev_stop=Yes']]"
   ]
  },
  {
   "cell_type": "code",
   "execution_count": 6,
   "metadata": {},
   "outputs": [
    {
     "name": "stdout",
     "output_type": "stream",
     "text": [
      "The dataset has 1586967 rows and 37 columns - after adding interaction terms.\n"
     ]
    }
   ],
   "source": [
    "print(\"The dataset has {} rows and {} columns - after adding interaction terms.\".format(*df.shape))"
   ]
  },
  {
   "cell_type": "markdown",
   "metadata": {},
   "source": [
    "### 1.2. Polynomial features (Numeric variables)"
   ]
  },
  {
   "cell_type": "code",
   "execution_count": 7,
   "metadata": {},
   "outputs": [],
   "source": [
    "from sklearn.preprocessing import PolynomialFeatures\n",
    "\n",
    "poly = PolynomialFeatures()\n",
    "to_power = ['national_inv',\n",
    "               'lead_time',\n",
    "               'in_transit_qty',\n",
    "               'forecast_3_month',\n",
    "               'forecast_6_month',\n",
    "               'forecast_9_month',\n",
    "               'sales_1_month',\n",
    "               'sales_3_month',\n",
    "               'sales_6_month',\n",
    "               'sales_9_month',\n",
    "               'min_bank',\n",
    "               'pieces_past_due',\n",
    "               'perf_6_month_avg',\n",
    "               'perf_12_month_avg',\n",
    "               'local_bo_qty']\n",
    "power = poly.fit_transform(df[to_power].values)\n",
    "\n",
    "\n",
    "#Convert to Pandas DataFrame and merge to original dataset\n",
    "power= pd.DataFrame(power)\n",
    "power.columns= poly.get_feature_names(df[to_power].columns)"
   ]
  },
  {
   "cell_type": "code",
   "execution_count": 8,
   "metadata": {},
   "outputs": [],
   "source": [
    "df = pd.concat([df, power], axis=1)\n",
    "df = df.loc[:,~df.columns.duplicated()]\n",
    "df = df.loc[:,['national_inv',\n",
    "               'lead_time',\n",
    "               'in_transit_qty',\n",
    "               'forecast_3_month',\n",
    "               'forecast_6_month',\n",
    "               'forecast_9_month',\n",
    "               'sales_1_month',\n",
    "               'sales_3_month',\n",
    "               'sales_6_month',\n",
    "               'sales_9_month',\n",
    "               'min_bank',\n",
    "               'potential_issue=Yes',\n",
    "               'pieces_past_due',\n",
    "               'perf_6_month_avg',\n",
    "               'perf_12_month_avg',\n",
    "               'local_bo_qty',\n",
    "               'deck_risk=Yes',\n",
    "               'oe_constraint=Yes',\n",
    "               'ppap_risk=Yes',\n",
    "               'stop_auto_buy=Yes',\n",
    "               'rev_stop=Yes',\n",
    "               'went_on_backorder=Yes',\n",
    "              \n",
    "               'potential_issue=Yes deck_risk=Yes',\n",
    "               'potential_issue=Yes oe_constraint=Yes',\n",
    "               'potential_issue=Yes ppap_risk=Yes',\n",
    "               'potential_issue=Yes stop_auto_buy=Yes',\n",
    "               'potential_issue=Yes rev_stop=Yes',\n",
    "               \n",
    "               'deck_risk=Yes oe_constraint=Yes',\n",
    "               'deck_risk=Yes ppap_risk=Yes',\n",
    "               'deck_risk=Yes stop_auto_buy=Yes',\n",
    "               'deck_risk=Yes rev_stop=Yes',\n",
    "              \n",
    "               'oe_constraint=Yes ppap_risk=Yes',\n",
    "               'oe_constraint=Yes stop_auto_buy=Yes',\n",
    "               'oe_constraint=Yes rev_stop=Yes',\n",
    "             \n",
    "               'ppap_risk=Yes stop_auto_buy=Yes',\n",
    "               'ppap_risk=Yes rev_stop=Yes',\n",
    "             \n",
    "               'stop_auto_buy=Yes rev_stop=Yes',\n",
    "               \n",
    "               'national_inv^2',\n",
    "               'lead_time^2',\n",
    "               'in_transit_qty^2',\n",
    "               'forecast_3_month^2',\n",
    "               'forecast_6_month^2',\n",
    "               'forecast_9_month^2',\n",
    "               'sales_1_month^2',\n",
    "               'sales_3_month^2',\n",
    "               'sales_6_month^2',\n",
    "               'sales_9_month^2',\n",
    "               'min_bank^2',\n",
    "               'pieces_past_due^2',\n",
    "               'perf_6_month_avg^2',\n",
    "               'perf_12_month_avg^2',\n",
    "               'local_bo_qty^2'\n",
    "              ]]"
   ]
  },
  {
   "cell_type": "code",
   "execution_count": 9,
   "metadata": {},
   "outputs": [
    {
     "name": "stdout",
     "output_type": "stream",
     "text": [
      "The dataset has 1586967 rows and 52 columns - after adding polynomial features.\n"
     ]
    }
   ],
   "source": [
    "print(\"The dataset has {} rows and {} columns - after adding polynomial features.\".format(*df.shape))"
   ]
  },
  {
   "cell_type": "markdown",
   "metadata": {},
   "source": [
    "### 1.3. Feature Engineering Based on Business Understanding"
   ]
  },
  {
   "cell_type": "code",
   "execution_count": 10,
   "metadata": {},
   "outputs": [
    {
     "name": "stdout",
     "output_type": "stream",
     "text": [
      "The dataset has 1586967 rows and 54 columns - after adding business understanding features.\n"
     ]
    }
   ],
   "source": [
    "df['forecast_mean']=(df['forecast_3_month']+df['forecast_6_month']+df['forecast_9_month'])/18\n",
    "df['sales_mean']=(df['sales_1_month']+df['sales_3_month']+df['sales_6_month']+df['sales_9_month'])/19\n",
    "print(\"The dataset has {} rows and {} columns - after adding business understanding features.\".format(*df.shape))"
   ]
  },
  {
   "cell_type": "markdown",
   "metadata": {},
   "source": [
    "## 2. Modelling"
   ]
  },
  {
   "cell_type": "markdown",
   "metadata": {},
   "source": [
    "### 2.1. Define feature set and target variable"
   ]
  },
  {
   "cell_type": "code",
   "execution_count": 11,
   "metadata": {},
   "outputs": [],
   "source": [
    "# define our target\n",
    "target = df[[\"went_on_backorder=Yes\"]]\n",
    "\n",
    "# define our features \n",
    "features = df.drop([\"went_on_backorder=Yes\"], axis=1)"
   ]
  },
  {
   "cell_type": "markdown",
   "metadata": {},
   "source": [
    "### 2.2. Choose sampling technique"
   ]
  },
  {
   "cell_type": "code",
   "execution_count": 12,
   "metadata": {},
   "outputs": [],
   "source": [
    "# Create X and y arrays\n",
    "X = np.asmatrix(features.values)\n",
    "y = np.asmatrix(target.values)"
   ]
  },
  {
   "cell_type": "markdown",
   "metadata": {},
   "source": [
    "### 2.2.1 SMOTE"
   ]
  },
  {
   "cell_type": "code",
   "execution_count": 14,
   "metadata": {},
   "outputs": [
    {
     "name": "stdout",
     "output_type": "stream",
     "text": [
      "Show fpr  ----------------------------\n",
      "[0.00000000e+00 3.17258883e-06 5.39340102e-05 ... 9.99631980e-01\n",
      " 9.99895305e-01 1.00000000e+00]\n",
      "Show tpr -----------------------------\n",
      "[0. 0. 0. ... 1. 1. 1.]\n",
      "Show roc_auc   -----------------------\n",
      "0.6530785137650446\n",
      "Show store_Roc_Auc   -----------------------\n",
      "[0.65307851 0.         0.         0.         0.        ]\n",
      "Show fpr  ----------------------------\n",
      "[0.00000000e+00 3.17258883e-06 9.51776650e-06 ... 9.99663706e-01\n",
      " 9.99869924e-01 1.00000000e+00]\n",
      "Show tpr -----------------------------\n",
      "[0. 0. 0. ... 1. 1. 1.]\n",
      "Show roc_auc   -----------------------\n",
      "0.6313916393174278\n",
      "Show store_Roc_Auc   -----------------------\n",
      "[0.65307851 0.63139164 0.         0.         0.        ]\n",
      "Show fpr  ----------------------------\n",
      "[0.00000000e+00 3.17258883e-06 2.22081218e-05 ... 9.98362944e-01\n",
      " 9.99879442e-01 1.00000000e+00]\n",
      "Show tpr -----------------------------\n",
      "[0. 0. 0. ... 1. 1. 1.]\n",
      "Show roc_auc   -----------------------\n",
      "0.6400695177433505\n",
      "Show store_Roc_Auc   -----------------------\n",
      "[0.65307851 0.63139164 0.64006952 0.         0.        ]\n",
      "Show fpr  ----------------------------\n",
      "[0.00000000e+00 3.17259890e-06 4.44163846e-05 ... 9.99206850e-01\n",
      " 9.99876269e-01 1.00000000e+00]\n",
      "Show tpr -----------------------------\n",
      "[0. 0. 0. ... 1. 1. 1.]\n",
      "Show roc_auc   -----------------------\n",
      "0.6748175039123827\n",
      "Show store_Roc_Auc   -----------------------\n",
      "[0.65307851 0.63139164 0.64006952 0.6748175  0.        ]\n",
      "Show fpr  ----------------------------\n",
      "[0.00000000e+00 3.17259890e-06 1.93528533e-04 ... 9.99854060e-01\n",
      " 9.99901649e-01 1.00000000e+00]\n",
      "Show tpr -----------------------------\n",
      "[0. 0. 0. ... 1. 1. 1.]\n",
      "Show roc_auc   -----------------------\n",
      "0.6209757372448156\n",
      "Show store_Roc_Auc   -----------------------\n",
      "[0.65307851 0.63139164 0.64006952 0.6748175  0.62097574]\n"
     ]
    },
    {
     "data": {
      "image/png": "[encoded data removed]",
      "text/plain": [
       "<Figure size 432x288 with 1 Axes>"
      ]
     },
     "metadata": {
      "needs_background": "light"
     },
     "output_type": "display_data"
    }
   ],
   "source": [
    "# Apply the random under-sampling\n",
    "pipeline = pl.make_pipeline(os.SMOTE(),linear_model.LogisticRegression(\n",
    "    penalty='l2',\n",
    "    C=1,\n",
    "    solver='liblinear',\n",
    "    random_state=0)\n",
    "    )\n",
    "\n",
    "\n",
    "n_folds = 5\n",
    "store_Roc_Auc = np.zeros(n_folds)\n",
    "\n",
    "# Split to test and train set\n",
    "results=[]\n",
    "skf = StratifiedKFold(n_splits=n_folds)\n",
    "aaa = 0\n",
    "for train_index, test_index in skf.split(X,y):\n",
    "    probas = pipeline.fit(X[train_index], y[train_index]).predict_proba(X[test_index])\n",
    "    preds = probas[:, 1]\n",
    "    fpr, tpr, threshold = roc_curve(y[test_index], preds)\n",
    "\n",
    "    print(\"Show fpr  ----------------------------\")\n",
    "    print(fpr)\n",
    "    print(\"Show tpr -----------------------------\")\n",
    "    print(tpr)\n",
    "\n",
    "\n",
    "    roc_auc = auc(fpr, tpr)\n",
    "\n",
    "    results.append(roc_auc)\n",
    "    print(\"Show roc_auc   -----------------------\")\n",
    "    print(roc_auc)\n",
    "    \n",
    "    store_Roc_Auc[aaa] = roc_auc\n",
    "    print(\"Show store_Roc_Auc   -----------------------\")\n",
    "    print(store_Roc_Auc)\n",
    "    aaa = aaa+1\n",
    "\n",
    "roc_auc = auc(fpr, tpr)\n",
    "\n",
    "# # Plot of a ROC curve\n",
    "plt.figure()\n",
    "plt.plot(fpr, tpr, color='darkorange',\n",
    "         lw=2, label='ROC curve (area = %0.2f)' % roc_auc)\n",
    "plt.plot([0, 1], [0, 1], color='navy', lw=2, linestyle='--')\n",
    "plt.xlim([0.0, 1.0])\n",
    "plt.ylim([0.0, 1.05])\n",
    "plt.xlabel('False Positive Rate')\n",
    "plt.ylabel('True Positive Rate')\n",
    "plt.title('ROC Curve - Logistic Regression - SMOTE')\n",
    "plt.legend(loc=\"lower right\")\n",
    "plt.show()"
   ]
  },
  {
   "cell_type": "markdown",
   "metadata": {},
   "source": [
    "### 2.2.2 RUS"
   ]
  },
  {
   "cell_type": "code",
   "execution_count": 13,
   "metadata": {},
   "outputs": [
    {
     "name": "stdout",
     "output_type": "stream",
     "text": [
      "Show fpr  ----------------------------\n",
      "[0.00000000e+00 7.61421320e-05 2.98223350e-04 ... 9.98819797e-01\n",
      " 9.99603426e-01 1.00000000e+00]\n",
      "Show tpr -----------------------------\n",
      "[0. 0. 0. ... 1. 1. 1.]\n",
      "Show roc_auc   -----------------------\n",
      "0.7856239349992364\n",
      "Show store_Roc_Auc   -----------------------\n",
      "[0.78562393 0.         0.         0.         0.        ]\n",
      "Show fpr  ----------------------------\n",
      "[0.00000000e+00 9.51776650e-05 1.07868020e-04 ... 9.99612944e-01\n",
      " 9.99847716e-01 1.00000000e+00]\n",
      "Show tpr -----------------------------\n",
      "[0. 0. 0. ... 1. 1. 1.]\n",
      "Show roc_auc   -----------------------\n",
      "0.717882241282177\n",
      "Show store_Roc_Auc   -----------------------\n",
      "[0.78562393 0.71788224 0.         0.         0.        ]\n",
      "Show fpr  ----------------------------\n",
      "[0.00000000e+00 3.17258883e-05 3.80710660e-05 ... 9.98435914e-01\n",
      " 9.99901650e-01 1.00000000e+00]\n",
      "Show tpr -----------------------------\n",
      "[0. 0. 0. ... 1. 1. 1.]\n",
      "Show roc_auc   -----------------------\n",
      "0.8004952999969908\n",
      "Show store_Roc_Auc   -----------------------\n",
      "[0.78562393 0.71788224 0.8004953  0.         0.        ]\n",
      "Show fpr  ----------------------------\n",
      "[0.00000000e+00 4.75889835e-05 4.40991247e-04 ... 9.99197332e-01\n",
      " 9.99917512e-01 1.00000000e+00]\n",
      "Show tpr -----------------------------\n",
      "[0. 0. 0. ... 1. 1. 1.]\n",
      "Show roc_auc   -----------------------\n",
      "0.7288051609640898\n",
      "Show store_Roc_Auc   -----------------------\n",
      "[0.78562393 0.71788224 0.8004953  0.72880516 0.        ]\n",
      "Show fpr  ----------------------------\n",
      "[0.00000000e+00 2.66498307e-04 1.05013024e-03 ... 9.99438450e-01\n",
      " 9.99701776e-01 1.00000000e+00]\n",
      "Show tpr -----------------------------\n",
      "[0.00000000e+00 9.11577028e-04 9.11577028e-04 ... 1.00000000e+00\n",
      " 1.00000000e+00 1.00000000e+00]\n",
      "Show roc_auc   -----------------------\n",
      "0.8034536793027078\n",
      "Show store_Roc_Auc   -----------------------\n",
      "[0.78562393 0.71788224 0.8004953  0.72880516 0.80345368]\n"
     ]
    },
    {
     "data": {
      "image/png": "[encoded data removed]",
      "text/plain": [
       "<Figure size 432x288 with 1 Axes>"
      ]
     },
     "metadata": {
      "needs_background": "light"
     },
     "output_type": "display_data"
    }
   ],
   "source": [
    "# Apply the random under-sampling\n",
    "pipeline = pl.make_pipeline(us.RandomUnderSampler(),linear_model.LogisticRegression(\n",
    "    penalty='l2',\n",
    "    C=1,\n",
    "    solver='liblinear',\n",
    "    random_state=0)\n",
    "    )\n",
    "\n",
    "\n",
    "n_folds = 5\n",
    "store_Roc_Auc = np.zeros(n_folds)\n",
    "\n",
    "# Split to test and train set\n",
    "results=[]\n",
    "skf = StratifiedKFold(n_splits=n_folds)\n",
    "aaa = 0\n",
    "for train_index, test_index in skf.split(X,y):\n",
    "    probas = pipeline.fit(X[train_index], y[train_index]).predict_proba(X[test_index])\n",
    "    preds = probas[:, 1]\n",
    "    fpr, tpr, threshold = roc_curve(y[test_index], preds)\n",
    "\n",
    "    print(\"Show fpr  ----------------------------\")\n",
    "    print(fpr)\n",
    "    print(\"Show tpr -----------------------------\")\n",
    "    print(tpr)\n",
    "\n",
    "\n",
    "    roc_auc = auc(fpr, tpr)\n",
    "\n",
    "    results.append(roc_auc)\n",
    "    print(\"Show roc_auc   -----------------------\")\n",
    "    print(roc_auc)\n",
    "    \n",
    "    store_Roc_Auc[aaa] = roc_auc\n",
    "    print(\"Show store_Roc_Auc   -----------------------\")\n",
    "    print(store_Roc_Auc)\n",
    "    aaa = aaa+1\n",
    "\n",
    "roc_auc = auc(fpr, tpr)\n",
    "\n",
    "# # Plot of a ROC curve\n",
    "plt.figure()\n",
    "plt.plot(fpr, tpr, color='darkorange',\n",
    "         lw=2, label='ROC curve (area = %0.2f)' % roc_auc)\n",
    "plt.plot([0, 1], [0, 1], color='navy', lw=2, linestyle='--')\n",
    "plt.xlim([0.0, 1.0])\n",
    "plt.ylim([0.0, 1.05])\n",
    "plt.xlabel('False Positive Rate')\n",
    "plt.ylabel('True Positive Rate')\n",
    "plt.title('ROC Curve - Logistic Regression - RUS')\n",
    "plt.legend(loc=\"lower right\")\n",
    "plt.show()"
   ]
  },
  {
   "cell_type": "code",
   "execution_count": 14,
   "metadata": {},
   "outputs": [],
   "source": [
    "# So we chose to use RUS to balance our dataset.\n",
    "rus = us.RandomUnderSampler(random_state=42)\n",
    "X_res, y_res = rus.fit_resample(features, target)"
   ]
  },
  {
   "cell_type": "markdown",
   "metadata": {},
   "source": [
    "### 2.3. Feature Selection"
   ]
  },
  {
   "cell_type": "markdown",
   "metadata": {},
   "source": [
    "### 2.3.1 The first thing we try is selecting features based on correlation.\n",
    "We keep the feature with absolute correlation values larger than 1."
   ]
  },
  {
   "cell_type": "code",
   "execution_count": 6,
   "metadata": {},
   "outputs": [
    {
     "name": "stdout",
     "output_type": "stream",
     "text": [
      "max correlation: 0.014438755155410817 , min correlation: -0.018323122436493425\n"
     ]
    }
   ],
   "source": [
    "# Look at correlation matrix.\n",
    "df = pd.read_csv(\"features.csv\")\n",
    "corrmatrix = df.corr()\n",
    "corrmatrix_y = corrmatrix['went_on_backorder=Yes'].sort_values(ascending=False)\n",
    "print(\"max correlation: \" + str(max(corrmatrix_y[corrmatrix_y < 1])) + \n",
    "      \" , min correlation: \" + str(min(corrmatrix_y)))"
   ]
  },
  {
   "cell_type": "code",
   "execution_count": 7,
   "metadata": {
    "scrolled": true
   },
   "outputs": [
    {
     "name": "stdout",
     "output_type": "stream",
     "text": [
      "went_on_backorder=Yes                    1.000000\n",
      "potential_issue=Yes stop_auto_buy=Yes    0.014439\n",
      "potential_issue=Yes                      0.014285\n",
      "potential_issue=Yes ppap_risk=Yes        0.010675\n",
      "local_bo_qty                             0.009958\n",
      "ppap_risk=Yes                            0.009021\n",
      "ppap_risk=Yes stop_auto_buy=Yes          0.008386\n",
      "deck_risk=Yes ppap_risk=Yes              0.008122\n",
      "perf_6_month_avg                         0.004738\n",
      "perf_12_month_avg                        0.004430\n",
      "oe_constraint=Yes stop_auto_buy=Yes      0.003861\n",
      "oe_constraint=Yes                        0.003861\n",
      "potential_issue=Yes deck_risk=Yes        0.003861\n",
      "deck_risk=Yes oe_constraint=Yes          0.003233\n",
      "local_bo_qty^2                           0.001069\n",
      "Name: went_on_backorder=Yes, dtype: float64\n",
      "forecast_6_month^2                 -0.000509\n",
      "sales_6_month^2                    -0.000529\n",
      "sales_3_month^2                    -0.000529\n",
      "sales_9_month^2                    -0.000555\n",
      "min_bank^2                         -0.000683\n",
      "forecast_6_month                   -0.000970\n",
      "forecast_mean                      -0.000981\n",
      "forecast_9_month                   -0.001156\n",
      "ppap_risk=Yes rev_stop=Yes         -0.001162\n",
      "national_inv                       -0.001283\n",
      "sales_1_month                      -0.001317\n",
      "rev_stop=Yes                       -0.001341\n",
      "sales_3_month                      -0.001742\n",
      "sales_mean                         -0.001884\n",
      "sales_6_month                      -0.001903\n",
      "sales_9_month                      -0.001925\n",
      "min_bank                           -0.002244\n",
      "stop_auto_buy=Yes                  -0.002493\n",
      "in_transit_qty                     -0.002652\n",
      "perf_12_month_avg^2                -0.004996\n",
      "perf_6_month_avg^2                 -0.005243\n",
      "deck_risk=Yes stop_auto_buy=Yes    -0.006766\n",
      "deck_risk=Yes                      -0.007153\n",
      "lead_time^2                        -0.012585\n",
      "lead_time                          -0.018323\n",
      "potential_issue=Yes rev_stop=Yes         NaN\n",
      "oe_constraint=Yes rev_stop=Yes           NaN\n",
      "Name: went_on_backorder=Yes, dtype: float64\n"
     ]
    }
   ],
   "source": [
    "print(corrmatrix_y.head(15))\n",
    "print(corrmatrix_y.tail(27))"
   ]
  },
  {
   "cell_type": "code",
   "execution_count": 8,
   "metadata": {},
   "outputs": [],
   "source": [
    "# We decided to only keep features that have absolute correlation with target variable larger than 0.001\n",
    "features_cor = X_res[['potential_issue=Yes stop_auto_buy=Yes','potential_issue=Yes','potential_issue=Yes ppap_risk=Yes','local_bo_qty','ppap_risk=Yes', 'ppap_risk=Yes stop_auto_buy=Yes',\n",
    "                   'deck_risk=Yes ppap_risk=Yes','perf_6_month_avg','perf_12_month_avg','oe_constraint=Yes stop_auto_buy=Yes','oe_constraint=Yes','potential_issue=Yes deck_risk=Yes',\n",
    "                   'deck_risk=Yes oe_constraint=Yes','local_bo_qty^2','forecast_mean','forecast_9_month','ppap_risk=Yes rev_stop=Yes', 'national_inv','sales_1_month','rev_stop=Yes',\n",
    "                   'sales_3_month','sales_mean','sales_6_month','sales_9_month','min_bank','stop_auto_buy=Yes','in_transit_qty','perf_12_month_avg^2','perf_6_month_avg^2', \n",
    "                   'deck_risk=Yes stop_auto_buy=Yes','deck_risk=Yes','lead_time^2','lead_time']]\n"
   ]
  },
  {
   "cell_type": "code",
   "execution_count": 9,
   "metadata": {},
   "outputs": [
    {
     "name": "stdout",
     "output_type": "stream",
     "text": [
      "The dataset has 21938 rows and 33 columns - after adding interaction terms.\n"
     ]
    }
   ],
   "source": [
    "print(\"The dataset has {} rows and {} columns - after adding interaction terms.\".format(*features_cor.shape))"
   ]
  },
  {
   "cell_type": "markdown",
   "metadata": {},
   "source": [
    "### 2.3.2 The second thing we try is to use a stepwise auto-selecting method. The package is called \"mlxtend\". You need to install both \"mlxtend\" and \"joblib\" in Anaconda in order to run it."
   ]
  },
  {
   "cell_type": "code",
   "execution_count": 10,
   "metadata": {},
   "outputs": [],
   "source": [
    "n_folds = 5"
   ]
  },
  {
   "cell_type": "code",
   "execution_count": 11,
   "metadata": {},
   "outputs": [],
   "source": [
    "cv = StratifiedKFold(n_splits=n_folds, random_state=42)"
   ]
  },
  {
   "cell_type": "markdown",
   "metadata": {},
   "source": [
    "### Gradient Boosting"
   ]
  },
  {
   "cell_type": "code",
   "execution_count": 31,
   "metadata": {},
   "outputs": [
    {
     "name": "stderr",
     "output_type": "stream",
     "text": [
      "[Parallel(n_jobs=-1)]: Using backend LokyBackend with 12 concurrent workers.\n",
      "[Parallel(n_jobs=-1)]: Done  27 out of  33 | elapsed:   10.8s remaining:    2.3s\n",
      "[Parallel(n_jobs=-1)]: Done  33 out of  33 | elapsed:   12.2s finished\n",
      "\n",
      "[2020-04-11 13:45:08] Features: 1/33 -- score: 0.7916234842365822[Parallel(n_jobs=-1)]: Using backend LokyBackend with 12 concurrent workers.\n",
      "[Parallel(n_jobs=-1)]: Done  26 out of  32 | elapsed:   13.4s remaining:    3.0s\n",
      "[Parallel(n_jobs=-1)]: Done  32 out of  32 | elapsed:   14.5s finished\n",
      "\n",
      "[2020-04-11 13:45:22] Features: 2/33 -- score: 0.8508679292433576[Parallel(n_jobs=-1)]: Using backend LokyBackend with 12 concurrent workers.\n",
      "[Parallel(n_jobs=-1)]: Done  24 out of  31 | elapsed:   15.1s remaining:    4.3s\n",
      "[Parallel(n_jobs=-1)]: Done  31 out of  31 | elapsed:   19.7s finished\n",
      "\n",
      "[2020-04-11 13:45:42] Features: 3/33 -- score: 0.8670245774310494[Parallel(n_jobs=-1)]: Using backend LokyBackend with 12 concurrent workers.\n",
      "[Parallel(n_jobs=-1)]: Done  23 out of  30 | elapsed:   18.4s remaining:    5.5s\n",
      "[Parallel(n_jobs=-1)]: Done  30 out of  30 | elapsed:   24.0s finished\n",
      "\n",
      "[2020-04-11 13:46:06] Features: 4/33 -- score: 0.8718309074450428[Parallel(n_jobs=-1)]: Using backend LokyBackend with 12 concurrent workers.\n",
      "[Parallel(n_jobs=-1)]: Done  21 out of  29 | elapsed:   20.7s remaining:    7.8s\n",
      "[Parallel(n_jobs=-1)]: Done  29 out of  29 | elapsed:   26.1s finished\n",
      "\n",
      "[2020-04-11 13:46:32] Features: 5/33 -- score: 0.8745268057486749[Parallel(n_jobs=-1)]: Using backend LokyBackend with 12 concurrent workers.\n",
      "[Parallel(n_jobs=-1)]: Done  20 out of  28 | elapsed:   22.9s remaining:    9.1s\n",
      "[Parallel(n_jobs=-1)]: Done  28 out of  28 | elapsed:   28.3s finished\n",
      "\n",
      "[2020-04-11 13:47:01] Features: 6/33 -- score: 0.8771176761909818[Parallel(n_jobs=-1)]: Using backend LokyBackend with 12 concurrent workers.\n",
      "[Parallel(n_jobs=-1)]: Done  18 out of  27 | elapsed:   24.5s remaining:   12.2s\n",
      "[Parallel(n_jobs=-1)]: Done  27 out of  27 | elapsed:   30.1s finished\n",
      "\n",
      "[2020-04-11 13:47:31] Features: 7/33 -- score: 0.8779829883229773[Parallel(n_jobs=-1)]: Using backend LokyBackend with 12 concurrent workers.\n",
      "[Parallel(n_jobs=-1)]: Done  17 out of  26 | elapsed:   27.6s remaining:   14.6s\n",
      "[Parallel(n_jobs=-1)]: Done  26 out of  26 | elapsed:   34.5s finished\n",
      "\n",
      "[2020-04-11 13:48:06] Features: 8/33 -- score: 0.878303190595445[Parallel(n_jobs=-1)]: Using backend LokyBackend with 12 concurrent workers.\n",
      "[Parallel(n_jobs=-1)]: Done  15 out of  25 | elapsed:   30.6s remaining:   20.4s\n",
      "[Parallel(n_jobs=-1)]: Done  25 out of  25 | elapsed:   38.4s finished\n",
      "\n",
      "[2020-04-11 13:48:44] Features: 9/33 -- score: 0.878473389511521[Parallel(n_jobs=-1)]: Using backend LokyBackend with 12 concurrent workers.\n",
      "[Parallel(n_jobs=-1)]: Done  14 out of  24 | elapsed:   31.5s remaining:   22.4s\n",
      "[Parallel(n_jobs=-1)]: Done  24 out of  24 | elapsed:   33.3s finished\n",
      "\n",
      "[2020-04-11 13:49:17] Features: 10/33 -- score: 0.8784841863440654[Parallel(n_jobs=-1)]: Using backend LokyBackend with 12 concurrent workers.\n",
      "[Parallel(n_jobs=-1)]: Done  12 out of  23 | elapsed:   19.8s remaining:   18.2s\n",
      "[Parallel(n_jobs=-1)]: Done  23 out of  23 | elapsed:   36.6s finished\n",
      "\n",
      "[2020-04-11 13:49:54] Features: 11/33 -- score: 0.8785395602927366[Parallel(n_jobs=-1)]: Using backend LokyBackend with 12 concurrent workers.\n",
      "[Parallel(n_jobs=-1)]: Done  11 out of  22 | elapsed:   19.9s remaining:   19.9s\n",
      "[Parallel(n_jobs=-1)]: Done  22 out of  22 | elapsed:   36.7s finished\n",
      "\n",
      "[2020-04-11 13:50:31] Features: 12/33 -- score: 0.8785395602927366[Parallel(n_jobs=-1)]: Using backend LokyBackend with 12 concurrent workers.\n",
      "[Parallel(n_jobs=-1)]: Done   9 out of  21 | elapsed:   20.2s remaining:   26.9s\n",
      "[Parallel(n_jobs=-1)]: Done  21 out of  21 | elapsed:   36.8s finished\n",
      "\n",
      "[2020-04-11 13:51:08] Features: 13/33 -- score: 0.8785395602927366[Parallel(n_jobs=-1)]: Using backend LokyBackend with 12 concurrent workers.\n",
      "[Parallel(n_jobs=-1)]: Done   8 out of  20 | elapsed:   20.7s remaining:   31.2s\n",
      "[Parallel(n_jobs=-1)]: Done  20 out of  20 | elapsed:   36.5s finished\n",
      "\n",
      "[2020-04-11 13:51:44] Features: 14/33 -- score: 0.8785395602927366[Parallel(n_jobs=-1)]: Using backend LokyBackend with 12 concurrent workers.\n",
      "[Parallel(n_jobs=-1)]: Done   6 out of  19 | elapsed:   21.9s remaining:   47.5s\n",
      "[Parallel(n_jobs=-1)]: Done  16 out of  19 | elapsed:   36.4s remaining:    6.7s\n",
      "[Parallel(n_jobs=-1)]: Done  19 out of  19 | elapsed:   36.8s finished\n",
      "\n",
      "[2020-04-11 13:52:21] Features: 15/33 -- score: 0.8785395602927366[Parallel(n_jobs=-1)]: Using backend LokyBackend with 12 concurrent workers.\n",
      "[Parallel(n_jobs=-1)]: Done   5 out of  18 | elapsed:   22.2s remaining:   57.9s\n",
      "[Parallel(n_jobs=-1)]: Done  15 out of  18 | elapsed:   22.2s remaining:    4.4s\n",
      "\n",
      "STOPPING EARLY DUE TO KEYBOARD INTERRUPT..."
     ]
    },
    {
     "data": {
      "text/html": [
       "<div>\n",
       "<style scoped>\n",
       "    .dataframe tbody tr th:only-of-type {\n",
       "        vertical-align: middle;\n",
       "    }\n",
       "\n",
       "    .dataframe tbody tr th {\n",
       "        vertical-align: top;\n",
       "    }\n",
       "\n",
       "    .dataframe thead th {\n",
       "        text-align: right;\n",
       "    }\n",
       "</style>\n",
       "<table border=\"1\" class=\"dataframe\">\n",
       "  <thead>\n",
       "    <tr style=\"text-align: right;\">\n",
       "      <th></th>\n",
       "      <th>avg_score</th>\n",
       "      <th>ci_bound</th>\n",
       "      <th>cv_scores</th>\n",
       "      <th>feature_idx</th>\n",
       "      <th>feature_names</th>\n",
       "      <th>std_dev</th>\n",
       "      <th>std_err</th>\n",
       "    </tr>\n",
       "  </thead>\n",
       "  <tbody>\n",
       "    <tr>\n",
       "      <th>1</th>\n",
       "      <td>0.791623</td>\n",
       "      <td>0.00649493</td>\n",
       "      <td>[0.7860437136555042, 0.7908639523336644, 0.789...</td>\n",
       "      <td>(15,)</td>\n",
       "      <td>(forecast_9_month,)</td>\n",
       "      <td>0.00505328</td>\n",
       "      <td>0.00252664</td>\n",
       "    </tr>\n",
       "    <tr>\n",
       "      <th>2</th>\n",
       "      <td>0.850868</td>\n",
       "      <td>0.0119865</td>\n",
       "      <td>[0.8397687861271675, 0.8429487179487178, 0.848...</td>\n",
       "      <td>(15, 17)</td>\n",
       "      <td>(forecast_9_month, national_inv)</td>\n",
       "      <td>0.00932589</td>\n",
       "      <td>0.00466294</td>\n",
       "    </tr>\n",
       "    <tr>\n",
       "      <th>3</th>\n",
       "      <td>0.867025</td>\n",
       "      <td>0.0123771</td>\n",
       "      <td>[0.8546617915904936, 0.8585034013605443, 0.866...</td>\n",
       "      <td>(15, 17, 20)</td>\n",
       "      <td>(forecast_9_month, national_inv, sales_3_month)</td>\n",
       "      <td>0.00962979</td>\n",
       "      <td>0.00481489</td>\n",
       "    </tr>\n",
       "    <tr>\n",
       "      <th>4</th>\n",
       "      <td>0.871831</td>\n",
       "      <td>0.0125828</td>\n",
       "      <td>[0.8592188919164395, 0.862418374240036, 0.8728...</td>\n",
       "      <td>(15, 17, 20, 31)</td>\n",
       "      <td>(forecast_9_month, national_inv, sales_3_month...</td>\n",
       "      <td>0.00978985</td>\n",
       "      <td>0.00489492</td>\n",
       "    </tr>\n",
       "    <tr>\n",
       "      <th>5</th>\n",
       "      <td>0.874527</td>\n",
       "      <td>0.0122662</td>\n",
       "      <td>[0.8633257403189067, 0.8643647032272624, 0.875...</td>\n",
       "      <td>(15, 17, 20, 26, 31)</td>\n",
       "      <td>(forecast_9_month, national_inv, sales_3_month...</td>\n",
       "      <td>0.00954355</td>\n",
       "      <td>0.00477178</td>\n",
       "    </tr>\n",
       "    <tr>\n",
       "      <th>6</th>\n",
       "      <td>0.877118</td>\n",
       "      <td>0.0128861</td>\n",
       "      <td>[0.8638220608261462, 0.8691736095473993, 0.875...</td>\n",
       "      <td>(15, 17, 18, 20, 26, 31)</td>\n",
       "      <td>(forecast_9_month, national_inv, sales_1_month...</td>\n",
       "      <td>0.0100258</td>\n",
       "      <td>0.0050129</td>\n",
       "    </tr>\n",
       "    <tr>\n",
       "      <th>7</th>\n",
       "      <td>0.877983</td>\n",
       "      <td>0.012572</td>\n",
       "      <td>[0.8652450090744103, 0.869995501574449, 0.8767...</td>\n",
       "      <td>(14, 15, 17, 18, 20, 26, 31)</td>\n",
       "      <td>(forecast_mean, forecast_9_month, national_inv...</td>\n",
       "      <td>0.0097814</td>\n",
       "      <td>0.0048907</td>\n",
       "    </tr>\n",
       "    <tr>\n",
       "      <th>8</th>\n",
       "      <td>0.878303</td>\n",
       "      <td>0.0126369</td>\n",
       "      <td>[0.8660308810172571, 0.8697412823397077, 0.877...</td>\n",
       "      <td>(14, 15, 17, 18, 20, 26, 27, 31)</td>\n",
       "      <td>(forecast_mean, forecast_9_month, national_inv...</td>\n",
       "      <td>0.00983195</td>\n",
       "      <td>0.00491597</td>\n",
       "    </tr>\n",
       "    <tr>\n",
       "      <th>9</th>\n",
       "      <td>0.878473</td>\n",
       "      <td>0.0120909</td>\n",
       "      <td>[0.8666818078582784, 0.8695456590193433, 0.878...</td>\n",
       "      <td>(6, 14, 15, 17, 18, 20, 26, 27, 31)</td>\n",
       "      <td>(deck_risk=Yes ppap_risk=Yes, forecast_mean, f...</td>\n",
       "      <td>0.00940717</td>\n",
       "      <td>0.00470358</td>\n",
       "    </tr>\n",
       "    <tr>\n",
       "      <th>10</th>\n",
       "      <td>0.878484</td>\n",
       "      <td>0.0121</td>\n",
       "      <td>[0.866999546073536, 0.8696826468602296, 0.8776...</td>\n",
       "      <td>(6, 8, 14, 15, 17, 18, 20, 26, 27, 31)</td>\n",
       "      <td>(deck_risk=Yes ppap_risk=Yes, perf_12_month_av...</td>\n",
       "      <td>0.00941424</td>\n",
       "      <td>0.00470712</td>\n",
       "    </tr>\n",
       "    <tr>\n",
       "      <th>11</th>\n",
       "      <td>0.87854</td>\n",
       "      <td>0.0117244</td>\n",
       "      <td>[0.866999546073536, 0.8704453441295547, 0.8775...</td>\n",
       "      <td>(6, 8, 14, 15, 17, 18, 20, 25, 26, 27, 31)</td>\n",
       "      <td>(deck_risk=Yes ppap_risk=Yes, perf_12_month_av...</td>\n",
       "      <td>0.00912198</td>\n",
       "      <td>0.00456099</td>\n",
       "    </tr>\n",
       "    <tr>\n",
       "      <th>12</th>\n",
       "      <td>0.87854</td>\n",
       "      <td>0.0117244</td>\n",
       "      <td>[0.866999546073536, 0.8704453441295547, 0.8775...</td>\n",
       "      <td>(6, 8, 9, 14, 15, 17, 18, 20, 25, 26, 27, 31)</td>\n",
       "      <td>(deck_risk=Yes ppap_risk=Yes, perf_12_month_av...</td>\n",
       "      <td>0.00912198</td>\n",
       "      <td>0.00456099</td>\n",
       "    </tr>\n",
       "    <tr>\n",
       "      <th>13</th>\n",
       "      <td>0.87854</td>\n",
       "      <td>0.0117244</td>\n",
       "      <td>[0.866999546073536, 0.8704453441295547, 0.8775...</td>\n",
       "      <td>(6, 8, 9, 10, 14, 15, 17, 18, 20, 25, 26, 27, 31)</td>\n",
       "      <td>(deck_risk=Yes ppap_risk=Yes, perf_12_month_av...</td>\n",
       "      <td>0.00912198</td>\n",
       "      <td>0.00456099</td>\n",
       "    </tr>\n",
       "    <tr>\n",
       "      <th>14</th>\n",
       "      <td>0.87854</td>\n",
       "      <td>0.0117244</td>\n",
       "      <td>[0.866999546073536, 0.8704453441295547, 0.8775...</td>\n",
       "      <td>(6, 8, 9, 10, 12, 14, 15, 17, 18, 20, 25, 26, ...</td>\n",
       "      <td>(deck_risk=Yes ppap_risk=Yes, perf_12_month_av...</td>\n",
       "      <td>0.00912198</td>\n",
       "      <td>0.00456099</td>\n",
       "    </tr>\n",
       "    <tr>\n",
       "      <th>15</th>\n",
       "      <td>0.87854</td>\n",
       "      <td>0.0117244</td>\n",
       "      <td>[0.866999546073536, 0.8704453441295547, 0.8775...</td>\n",
       "      <td>(6, 8, 9, 10, 12, 14, 15, 16, 17, 18, 20, 25, ...</td>\n",
       "      <td>(deck_risk=Yes ppap_risk=Yes, perf_12_month_av...</td>\n",
       "      <td>0.00912198</td>\n",
       "      <td>0.00456099</td>\n",
       "    </tr>\n",
       "  </tbody>\n",
       "</table>\n",
       "</div>"
      ],
      "text/plain": [
       "   avg_score    ci_bound                                          cv_scores  \\\n",
       "1   0.791623  0.00649493  [0.7860437136555042, 0.7908639523336644, 0.789...   \n",
       "2   0.850868   0.0119865  [0.8397687861271675, 0.8429487179487178, 0.848...   \n",
       "3   0.867025   0.0123771  [0.8546617915904936, 0.8585034013605443, 0.866...   \n",
       "4   0.871831   0.0125828  [0.8592188919164395, 0.862418374240036, 0.8728...   \n",
       "5   0.874527   0.0122662  [0.8633257403189067, 0.8643647032272624, 0.875...   \n",
       "6   0.877118   0.0128861  [0.8638220608261462, 0.8691736095473993, 0.875...   \n",
       "7   0.877983    0.012572  [0.8652450090744103, 0.869995501574449, 0.8767...   \n",
       "8   0.878303   0.0126369  [0.8660308810172571, 0.8697412823397077, 0.877...   \n",
       "9   0.878473   0.0120909  [0.8666818078582784, 0.8695456590193433, 0.878...   \n",
       "10  0.878484      0.0121  [0.866999546073536, 0.8696826468602296, 0.8776...   \n",
       "11   0.87854   0.0117244  [0.866999546073536, 0.8704453441295547, 0.8775...   \n",
       "12   0.87854   0.0117244  [0.866999546073536, 0.8704453441295547, 0.8775...   \n",
       "13   0.87854   0.0117244  [0.866999546073536, 0.8704453441295547, 0.8775...   \n",
       "14   0.87854   0.0117244  [0.866999546073536, 0.8704453441295547, 0.8775...   \n",
       "15   0.87854   0.0117244  [0.866999546073536, 0.8704453441295547, 0.8775...   \n",
       "\n",
       "                                          feature_idx  \\\n",
       "1                                               (15,)   \n",
       "2                                            (15, 17)   \n",
       "3                                        (15, 17, 20)   \n",
       "4                                    (15, 17, 20, 31)   \n",
       "5                                (15, 17, 20, 26, 31)   \n",
       "6                            (15, 17, 18, 20, 26, 31)   \n",
       "7                        (14, 15, 17, 18, 20, 26, 31)   \n",
       "8                    (14, 15, 17, 18, 20, 26, 27, 31)   \n",
       "9                 (6, 14, 15, 17, 18, 20, 26, 27, 31)   \n",
       "10             (6, 8, 14, 15, 17, 18, 20, 26, 27, 31)   \n",
       "11         (6, 8, 14, 15, 17, 18, 20, 25, 26, 27, 31)   \n",
       "12      (6, 8, 9, 14, 15, 17, 18, 20, 25, 26, 27, 31)   \n",
       "13  (6, 8, 9, 10, 14, 15, 17, 18, 20, 25, 26, 27, 31)   \n",
       "14  (6, 8, 9, 10, 12, 14, 15, 17, 18, 20, 25, 26, ...   \n",
       "15  (6, 8, 9, 10, 12, 14, 15, 16, 17, 18, 20, 25, ...   \n",
       "\n",
       "                                        feature_names     std_dev     std_err  \n",
       "1                                 (forecast_9_month,)  0.00505328  0.00252664  \n",
       "2                    (forecast_9_month, national_inv)  0.00932589  0.00466294  \n",
       "3     (forecast_9_month, national_inv, sales_3_month)  0.00962979  0.00481489  \n",
       "4   (forecast_9_month, national_inv, sales_3_month...  0.00978985  0.00489492  \n",
       "5   (forecast_9_month, national_inv, sales_3_month...  0.00954355  0.00477178  \n",
       "6   (forecast_9_month, national_inv, sales_1_month...   0.0100258   0.0050129  \n",
       "7   (forecast_mean, forecast_9_month, national_inv...   0.0097814   0.0048907  \n",
       "8   (forecast_mean, forecast_9_month, national_inv...  0.00983195  0.00491597  \n",
       "9   (deck_risk=Yes ppap_risk=Yes, forecast_mean, f...  0.00940717  0.00470358  \n",
       "10  (deck_risk=Yes ppap_risk=Yes, perf_12_month_av...  0.00941424  0.00470712  \n",
       "11  (deck_risk=Yes ppap_risk=Yes, perf_12_month_av...  0.00912198  0.00456099  \n",
       "12  (deck_risk=Yes ppap_risk=Yes, perf_12_month_av...  0.00912198  0.00456099  \n",
       "13  (deck_risk=Yes ppap_risk=Yes, perf_12_month_av...  0.00912198  0.00456099  \n",
       "14  (deck_risk=Yes ppap_risk=Yes, perf_12_month_av...  0.00912198  0.00456099  \n",
       "15  (deck_risk=Yes ppap_risk=Yes, perf_12_month_av...  0.00912198  0.00456099  "
      ]
     },
     "execution_count": 31,
     "metadata": {},
     "output_type": "execute_result"
    }
   ],
   "source": [
    "# http://rasbt.github.io/mlxtend/user_guide/feature_selection/SequentialFeatureSelector/\n",
    "from mlxtend.feature_selection import SequentialFeatureSelector as SFS\n",
    "gb = ensemble.GradientBoostingClassifier()\n",
    "sfs1 = SFS(gb,\n",
    "           # Change the features number accordingly.\n",
    "           k_features=33,\n",
    "           forward=True, \n",
    "           floating=False, \n",
    "           verbose=2,\n",
    "           scoring='f1',\n",
    "           cv=cv,\n",
    "           n_jobs=-1)\n",
    "\n",
    "sfs1 = sfs1.fit(features_cor, y_res)\n",
    "pd.DataFrame.from_dict(sfs1.get_metric_dict()).T"
   ]
  },
  {
   "cell_type": "code",
   "execution_count": 33,
   "metadata": {},
   "outputs": [
    {
     "name": "stdout",
     "output_type": "stream",
     "text": [
      "Chosen features for Gradient Boosting: Index(['deck_risk=Yes ppap_risk=Yes', 'perf_12_month_avg', 'forecast_mean',\n",
      "       'forecast_9_month', 'national_inv', 'sales_1_month', 'sales_3_month',\n",
      "       'stop_auto_buy=Yes', 'in_transit_qty', 'perf_12_month_avg^2',\n",
      "       'lead_time^2'],\n",
      "      dtype='object')\n",
      "Gradient Boosting after (step 2) selected features f1:  0.8785395602927366\n"
     ]
    }
   ],
   "source": [
    "output = pd.DataFrame.from_dict(sfs1.get_metric_dict()).T\n",
    "features_fw = output[output.avg_score==max(output.avg_score)].feature_names\n",
    "features_fw_gb = list(list(features_fw)[0])\n",
    "features_fw_gb = features_cor[features_fw_gb]\n",
    "print('Chosen features for Gradient Boosting:',features_fw_gb.columns)\n",
    "print('Gradient Boosting after (step 2) selected features f1: ',max(output.avg_score))"
   ]
  },
  {
   "cell_type": "code",
   "execution_count": 12,
   "metadata": {},
   "outputs": [],
   "source": [
    "features_fw_gb = features_cor[['deck_risk=Yes ppap_risk=Yes', 'perf_12_month_avg', 'forecast_mean',\n",
    "       'forecast_9_month', 'national_inv', 'sales_1_month', 'sales_3_month',\n",
    "       'stop_auto_buy=Yes', 'in_transit_qty', 'perf_12_month_avg^2',\n",
    "       'lead_time^2']]"
   ]
  },
  {
   "cell_type": "markdown",
   "metadata": {},
   "source": [
    "### Support Vector Machines"
   ]
  },
  {
   "cell_type": "code",
   "execution_count": 14,
   "metadata": {},
   "outputs": [],
   "source": [
    "# Standardization before using SVM and NN\n",
    "from sklearn.preprocessing import StandardScaler as sc\n",
    "sc=sc()\n",
    "features_std = pd.DataFrame(sc.fit_transform(features_cor),columns = features_cor.columns)"
   ]
  },
  {
   "cell_type": "code",
   "execution_count": 52,
   "metadata": {
    "scrolled": true
   },
   "outputs": [
    {
     "name": "stderr",
     "output_type": "stream",
     "text": [
      "[Parallel(n_jobs=-1)]: Using backend LokyBackend with 12 concurrent workers.\n",
      "[Parallel(n_jobs=-1)]: Done  27 out of  33 | elapsed:  2.8min remaining:   36.6s\n",
      "[Parallel(n_jobs=-1)]: Done  33 out of  33 | elapsed:  3.1min finished\n",
      "\n",
      "[2020-04-11 18:36:56] Features: 1/33 -- score: 0.7080376071420453[Parallel(n_jobs=-1)]: Using backend LokyBackend with 12 concurrent workers.\n",
      "[Parallel(n_jobs=-1)]: Done  26 out of  32 | elapsed:  3.4min remaining:   47.0s\n",
      "[Parallel(n_jobs=-1)]: Done  32 out of  32 | elapsed:  3.4min finished\n",
      "\n",
      "[2020-04-11 18:40:21] Features: 2/33 -- score: 0.7085351869694201[Parallel(n_jobs=-1)]: Using backend LokyBackend with 12 concurrent workers.\n",
      "[Parallel(n_jobs=-1)]: Done  24 out of  31 | elapsed:  2.7min remaining:   47.0s\n",
      "[Parallel(n_jobs=-1)]: Done  31 out of  31 | elapsed:  3.6min finished\n",
      "\n",
      "[2020-04-11 18:43:56] Features: 3/33 -- score: 0.7117971922762993[Parallel(n_jobs=-1)]: Using backend LokyBackend with 12 concurrent workers.\n",
      "[Parallel(n_jobs=-1)]: Done  23 out of  30 | elapsed:  2.9min remaining:   52.5s\n",
      "[Parallel(n_jobs=-1)]: Done  30 out of  30 | elapsed:  3.7min finished\n",
      "\n",
      "[2020-04-11 18:47:39] Features: 4/33 -- score: 0.7280245381446239[Parallel(n_jobs=-1)]: Using backend LokyBackend with 12 concurrent workers.\n",
      "[Parallel(n_jobs=-1)]: Done  21 out of  29 | elapsed:  3.1min remaining:  1.2min\n",
      "[Parallel(n_jobs=-1)]: Done  29 out of  29 | elapsed:  3.9min finished\n",
      "\n",
      "[2020-04-11 18:51:30] Features: 5/33 -- score: 0.7305444392727772[Parallel(n_jobs=-1)]: Using backend LokyBackend with 12 concurrent workers.\n",
      "[Parallel(n_jobs=-1)]: Done  20 out of  28 | elapsed:  3.3min remaining:  1.3min\n",
      "[Parallel(n_jobs=-1)]: Done  28 out of  28 | elapsed:  4.0min finished\n",
      "\n",
      "[2020-04-11 18:55:32] Features: 6/33 -- score: 0.7304175100890353[Parallel(n_jobs=-1)]: Using backend LokyBackend with 12 concurrent workers.\n",
      "[Parallel(n_jobs=-1)]: Done  18 out of  27 | elapsed:  3.5min remaining:  1.7min\n",
      "[Parallel(n_jobs=-1)]: Done  27 out of  27 | elapsed:  4.2min finished\n",
      "\n",
      "[2020-04-11 18:59:44] Features: 7/33 -- score: 0.7297049216426991[Parallel(n_jobs=-1)]: Using backend LokyBackend with 12 concurrent workers.\n",
      "[Parallel(n_jobs=-1)]: Done  17 out of  26 | elapsed:  3.6min remaining:  1.9min\n",
      "[Parallel(n_jobs=-1)]: Done  26 out of  26 | elapsed:  4.3min finished\n",
      "\n",
      "[2020-04-11 19:04:05] Features: 8/33 -- score: 0.7284300509225219[Parallel(n_jobs=-1)]: Using backend LokyBackend with 12 concurrent workers.\n",
      "[Parallel(n_jobs=-1)]: Done  15 out of  25 | elapsed:  3.9min remaining:  2.6min\n",
      "[Parallel(n_jobs=-1)]: Done  25 out of  25 | elapsed:  4.6min finished\n",
      "\n",
      "[2020-04-11 19:08:43] Features: 9/33 -- score: 0.7241323810193282[Parallel(n_jobs=-1)]: Using backend LokyBackend with 12 concurrent workers.\n",
      "[Parallel(n_jobs=-1)]: Done  14 out of  24 | elapsed:  4.1min remaining:  2.9min\n",
      "[Parallel(n_jobs=-1)]: Done  24 out of  24 | elapsed:  4.1min finished\n",
      "\n",
      "[2020-04-11 19:12:52] Features: 10/33 -- score: 0.718303464889932[Parallel(n_jobs=-1)]: Using backend LokyBackend with 12 concurrent workers.\n",
      "[Parallel(n_jobs=-1)]: Done  12 out of  23 | elapsed:  2.3min remaining:  2.1min\n",
      "\n",
      "STOPPING EARLY DUE TO KEYBOARD INTERRUPT..."
     ]
    },
    {
     "data": {
      "text/html": [
       "<div>\n",
       "<style scoped>\n",
       "    .dataframe tbody tr th:only-of-type {\n",
       "        vertical-align: middle;\n",
       "    }\n",
       "\n",
       "    .dataframe tbody tr th {\n",
       "        vertical-align: top;\n",
       "    }\n",
       "\n",
       "    .dataframe thead th {\n",
       "        text-align: right;\n",
       "    }\n",
       "</style>\n",
       "<table border=\"1\" class=\"dataframe\">\n",
       "  <thead>\n",
       "    <tr style=\"text-align: right;\">\n",
       "      <th></th>\n",
       "      <th>avg_score</th>\n",
       "      <th>ci_bound</th>\n",
       "      <th>cv_scores</th>\n",
       "      <th>feature_idx</th>\n",
       "      <th>feature_names</th>\n",
       "      <th>std_dev</th>\n",
       "      <th>std_err</th>\n",
       "    </tr>\n",
       "  </thead>\n",
       "  <tbody>\n",
       "    <tr>\n",
       "      <th>1</th>\n",
       "      <td>0.708038</td>\n",
       "      <td>0.00389727</td>\n",
       "      <td>[0.7087730870712401, 0.7039894926941388, 0.713...</td>\n",
       "      <td>(17,)</td>\n",
       "      <td>(national_inv,)</td>\n",
       "      <td>0.00303221</td>\n",
       "      <td>0.0015161</td>\n",
       "    </tr>\n",
       "    <tr>\n",
       "      <th>2</th>\n",
       "      <td>0.708535</td>\n",
       "      <td>0.0122638</td>\n",
       "      <td>[0.7036316472114137, 0.701453957996769, 0.7274...</td>\n",
       "      <td>(14, 17)</td>\n",
       "      <td>(forecast_mean, national_inv)</td>\n",
       "      <td>0.00954163</td>\n",
       "      <td>0.00477081</td>\n",
       "    </tr>\n",
       "    <tr>\n",
       "      <th>3</th>\n",
       "      <td>0.711797</td>\n",
       "      <td>0.00234981</td>\n",
       "      <td>[0.7101593625498008, 0.7095714989328518, 0.712...</td>\n",
       "      <td>(8, 14, 17)</td>\n",
       "      <td>(perf_12_month_avg, forecast_mean, national_inv)</td>\n",
       "      <td>0.00182823</td>\n",
       "      <td>0.000914116</td>\n",
       "    </tr>\n",
       "    <tr>\n",
       "      <th>4</th>\n",
       "      <td>0.728025</td>\n",
       "      <td>0.0140451</td>\n",
       "      <td>[0.7104261796042618, 0.7251673602315905, 0.725...</td>\n",
       "      <td>(3, 8, 14, 17)</td>\n",
       "      <td>(local_bo_qty, perf_12_month_avg, forecast_mea...</td>\n",
       "      <td>0.0109276</td>\n",
       "      <td>0.00546378</td>\n",
       "    </tr>\n",
       "    <tr>\n",
       "      <th>5</th>\n",
       "      <td>0.730544</td>\n",
       "      <td>0.00617677</td>\n",
       "      <td>[0.7280622399131537, 0.7253211332042935, 0.727...</td>\n",
       "      <td>(3, 8, 13, 14, 17)</td>\n",
       "      <td>(local_bo_qty, perf_12_month_avg, local_bo_qty...</td>\n",
       "      <td>0.00480574</td>\n",
       "      <td>0.00240287</td>\n",
       "    </tr>\n",
       "    <tr>\n",
       "      <th>6</th>\n",
       "      <td>0.730418</td>\n",
       "      <td>0.00629826</td>\n",
       "      <td>[0.7278320665942816, 0.7251626516616844, 0.726...</td>\n",
       "      <td>(3, 8, 13, 14, 16, 17)</td>\n",
       "      <td>(local_bo_qty, perf_12_month_avg, local_bo_qty...</td>\n",
       "      <td>0.00490026</td>\n",
       "      <td>0.00245013</td>\n",
       "    </tr>\n",
       "    <tr>\n",
       "      <th>7</th>\n",
       "      <td>0.729705</td>\n",
       "      <td>0.0100531</td>\n",
       "      <td>[0.7182117991938439, 0.7230063514467183, 0.732...</td>\n",
       "      <td>(0, 3, 8, 13, 14, 16, 17)</td>\n",
       "      <td>(potential_issue=Yes stop_auto_buy=Yes, local_...</td>\n",
       "      <td>0.00782162</td>\n",
       "      <td>0.00391081</td>\n",
       "    </tr>\n",
       "    <tr>\n",
       "      <th>8</th>\n",
       "      <td>0.72843</td>\n",
       "      <td>0.00642285</td>\n",
       "      <td>[0.726864640883978, 0.7208035410282602, 0.7363...</td>\n",
       "      <td>(0, 3, 8, 13, 14, 15, 16, 17)</td>\n",
       "      <td>(potential_issue=Yes stop_auto_buy=Yes, local_...</td>\n",
       "      <td>0.00499719</td>\n",
       "      <td>0.0024986</td>\n",
       "    </tr>\n",
       "    <tr>\n",
       "      <th>9</th>\n",
       "      <td>0.724132</td>\n",
       "      <td>0.0128111</td>\n",
       "      <td>[0.720513687056438, 0.7152604426693294, 0.7436...</td>\n",
       "      <td>(0, 3, 8, 13, 14, 15, 16, 17, 18)</td>\n",
       "      <td>(potential_issue=Yes stop_auto_buy=Yes, local_...</td>\n",
       "      <td>0.00996745</td>\n",
       "      <td>0.00498372</td>\n",
       "    </tr>\n",
       "    <tr>\n",
       "      <th>10</th>\n",
       "      <td>0.718303</td>\n",
       "      <td>0.0139806</td>\n",
       "      <td>[0.7137137137137136, 0.7096986662275645, 0.739...</td>\n",
       "      <td>(0, 3, 8, 9, 13, 14, 15, 16, 17, 18)</td>\n",
       "      <td>(potential_issue=Yes stop_auto_buy=Yes, local_...</td>\n",
       "      <td>0.0108774</td>\n",
       "      <td>0.00543871</td>\n",
       "    </tr>\n",
       "  </tbody>\n",
       "</table>\n",
       "</div>"
      ],
      "text/plain": [
       "   avg_score    ci_bound                                          cv_scores  \\\n",
       "1   0.708038  0.00389727  [0.7087730870712401, 0.7039894926941388, 0.713...   \n",
       "2   0.708535   0.0122638  [0.7036316472114137, 0.701453957996769, 0.7274...   \n",
       "3   0.711797  0.00234981  [0.7101593625498008, 0.7095714989328518, 0.712...   \n",
       "4   0.728025   0.0140451  [0.7104261796042618, 0.7251673602315905, 0.725...   \n",
       "5   0.730544  0.00617677  [0.7280622399131537, 0.7253211332042935, 0.727...   \n",
       "6   0.730418  0.00629826  [0.7278320665942816, 0.7251626516616844, 0.726...   \n",
       "7   0.729705   0.0100531  [0.7182117991938439, 0.7230063514467183, 0.732...   \n",
       "8    0.72843  0.00642285  [0.726864640883978, 0.7208035410282602, 0.7363...   \n",
       "9   0.724132   0.0128111  [0.720513687056438, 0.7152604426693294, 0.7436...   \n",
       "10  0.718303   0.0139806  [0.7137137137137136, 0.7096986662275645, 0.739...   \n",
       "\n",
       "                             feature_idx  \\\n",
       "1                                  (17,)   \n",
       "2                               (14, 17)   \n",
       "3                            (8, 14, 17)   \n",
       "4                         (3, 8, 14, 17)   \n",
       "5                     (3, 8, 13, 14, 17)   \n",
       "6                 (3, 8, 13, 14, 16, 17)   \n",
       "7              (0, 3, 8, 13, 14, 16, 17)   \n",
       "8          (0, 3, 8, 13, 14, 15, 16, 17)   \n",
       "9      (0, 3, 8, 13, 14, 15, 16, 17, 18)   \n",
       "10  (0, 3, 8, 9, 13, 14, 15, 16, 17, 18)   \n",
       "\n",
       "                                        feature_names     std_dev      std_err  \n",
       "1                                     (national_inv,)  0.00303221    0.0015161  \n",
       "2                       (forecast_mean, national_inv)  0.00954163   0.00477081  \n",
       "3    (perf_12_month_avg, forecast_mean, national_inv)  0.00182823  0.000914116  \n",
       "4   (local_bo_qty, perf_12_month_avg, forecast_mea...   0.0109276   0.00546378  \n",
       "5   (local_bo_qty, perf_12_month_avg, local_bo_qty...  0.00480574   0.00240287  \n",
       "6   (local_bo_qty, perf_12_month_avg, local_bo_qty...  0.00490026   0.00245013  \n",
       "7   (potential_issue=Yes stop_auto_buy=Yes, local_...  0.00782162   0.00391081  \n",
       "8   (potential_issue=Yes stop_auto_buy=Yes, local_...  0.00499719    0.0024986  \n",
       "9   (potential_issue=Yes stop_auto_buy=Yes, local_...  0.00996745   0.00498372  \n",
       "10  (potential_issue=Yes stop_auto_buy=Yes, local_...   0.0108774   0.00543871  "
      ]
     },
     "execution_count": 52,
     "metadata": {},
     "output_type": "execute_result"
    }
   ],
   "source": [
    "from sklearn import svm\n",
    "svm =  svm.SVC()\n",
    "sfs2 = SFS(svm,\n",
    "           # Change the features number accordingly.\n",
    "           k_features=33,\n",
    "           forward=True, \n",
    "           floating=False, \n",
    "           verbose=2,\n",
    "           scoring='f1',\n",
    "           cv=cv,\n",
    "           n_jobs=-1)\n",
    "\n",
    "sfs2 = sfs2.fit(features_std, y_res)\n",
    "pd.DataFrame.from_dict(sfs2.get_metric_dict()).T"
   ]
  },
  {
   "cell_type": "code",
   "execution_count": 53,
   "metadata": {},
   "outputs": [
    {
     "name": "stdout",
     "output_type": "stream",
     "text": [
      "Chosen features for SVM: Index(['local_bo_qty', 'perf_12_month_avg', 'local_bo_qty^2', 'forecast_mean',\n",
      "       'national_inv'],\n",
      "      dtype='object')\n",
      "SVM after (step 2) selected features f1:  0.7305444392727772\n"
     ]
    }
   ],
   "source": [
    "output = pd.DataFrame.from_dict(sfs2.get_metric_dict()).T\n",
    "features_fw = output[output.avg_score==max(output.avg_score)].feature_names\n",
    "features_fw_svm = list(list(features_fw)[0])\n",
    "features_fw_svm = features_std[features_fw_svm]\n",
    "print('Chosen features for SVM:',features_fw_svm.columns)\n",
    "print('SVM after (step 2) selected features f1: ',max(output.avg_score))"
   ]
  },
  {
   "cell_type": "code",
   "execution_count": 15,
   "metadata": {},
   "outputs": [],
   "source": [
    "features_fw_svm = features_std[['local_bo_qty', 'perf_12_month_avg', 'local_bo_qty^2', 'forecast_mean',\n",
    "       'national_inv']]"
   ]
  },
  {
   "cell_type": "markdown",
   "metadata": {},
   "source": [
    "### Neural Network"
   ]
  },
  {
   "cell_type": "code",
   "execution_count": 54,
   "metadata": {
    "scrolled": true
   },
   "outputs": [
    {
     "name": "stderr",
     "output_type": "stream",
     "text": [
      "[Parallel(n_jobs=-1)]: Using backend LokyBackend with 12 concurrent workers.\n",
      "[Parallel(n_jobs=-1)]: Done  27 out of  33 | elapsed:   31.8s remaining:    7.0s\n",
      "[Parallel(n_jobs=-1)]: Done  33 out of  33 | elapsed:  1.1min finished\n",
      "\n",
      "[2020-04-11 19:16:18] Features: 1/33 -- score: 0.7361047010575671[Parallel(n_jobs=-1)]: Using backend LokyBackend with 12 concurrent workers.\n",
      "[Parallel(n_jobs=-1)]: Done  26 out of  32 | elapsed:  2.4min remaining:   33.5s\n",
      "[Parallel(n_jobs=-1)]: Done  32 out of  32 | elapsed:  2.7min finished\n",
      "\n",
      "[2020-04-11 19:18:58] Features: 2/33 -- score: 0.7830982579162392[Parallel(n_jobs=-1)]: Using backend LokyBackend with 12 concurrent workers.\n",
      "[Parallel(n_jobs=-1)]: Done  24 out of  31 | elapsed:  1.9min remaining:   33.9s\n",
      "[Parallel(n_jobs=-1)]: Done  31 out of  31 | elapsed:  2.1min finished\n",
      "\n",
      "[2020-04-11 19:21:06] Features: 3/33 -- score: 0.8069874162261537[Parallel(n_jobs=-1)]: Using backend LokyBackend with 12 concurrent workers.\n",
      "[Parallel(n_jobs=-1)]: Done  23 out of  30 | elapsed:  1.6min remaining:   28.8s\n",
      "[Parallel(n_jobs=-1)]: Done  30 out of  30 | elapsed:  1.8min finished\n",
      "\n",
      "[2020-04-11 19:22:56] Features: 4/33 -- score: 0.8515361858361776[Parallel(n_jobs=-1)]: Using backend LokyBackend with 12 concurrent workers.\n",
      "[Parallel(n_jobs=-1)]: Done  21 out of  29 | elapsed:  3.1min remaining:  1.2min\n",
      "[Parallel(n_jobs=-1)]: Done  29 out of  29 | elapsed:  3.9min finished\n",
      "\n",
      "[2020-04-11 19:26:50] Features: 5/33 -- score: 0.8514706636971168[Parallel(n_jobs=-1)]: Using backend LokyBackend with 12 concurrent workers.\n",
      "[Parallel(n_jobs=-1)]: Done  20 out of  28 | elapsed:  3.1min remaining:  1.3min\n",
      "[Parallel(n_jobs=-1)]: Done  28 out of  28 | elapsed:  3.9min finished\n",
      "\n",
      "[2020-04-11 19:30:44] Features: 6/33 -- score: 0.8674050958390531[Parallel(n_jobs=-1)]: Using backend LokyBackend with 12 concurrent workers.\n",
      "[Parallel(n_jobs=-1)]: Done  18 out of  27 | elapsed:  3.1min remaining:  1.6min\n",
      "[Parallel(n_jobs=-1)]: Done  27 out of  27 | elapsed:  3.8min finished\n",
      "\n",
      "[2020-04-11 19:34:35] Features: 7/33 -- score: 0.8638067985776534[Parallel(n_jobs=-1)]: Using backend LokyBackend with 12 concurrent workers.\n",
      "[Parallel(n_jobs=-1)]: Done  17 out of  26 | elapsed:  3.2min remaining:  1.7min\n",
      "[Parallel(n_jobs=-1)]: Done  26 out of  26 | elapsed:  3.9min finished\n",
      "\n",
      "[2020-04-11 19:38:29] Features: 8/33 -- score: 0.8681754739407845[Parallel(n_jobs=-1)]: Using backend LokyBackend with 12 concurrent workers.\n",
      "[Parallel(n_jobs=-1)]: Done  15 out of  25 | elapsed:  3.2min remaining:  2.1min\n",
      "[Parallel(n_jobs=-1)]: Done  25 out of  25 | elapsed:  3.9min finished\n",
      "\n",
      "[2020-04-11 19:42:21] Features: 9/33 -- score: 0.8683698926570755[Parallel(n_jobs=-1)]: Using backend LokyBackend with 12 concurrent workers.\n",
      "[Parallel(n_jobs=-1)]: Done  14 out of  24 | elapsed:  3.2min remaining:  2.3min\n",
      "[Parallel(n_jobs=-1)]: Done  24 out of  24 | elapsed:  3.3min finished\n",
      "\n",
      "[2020-04-11 19:45:39] Features: 10/33 -- score: 0.8675159750783668[Parallel(n_jobs=-1)]: Using backend LokyBackend with 12 concurrent workers.\n",
      "[Parallel(n_jobs=-1)]: Done  12 out of  23 | elapsed:  1.7min remaining:  1.5min\n",
      "[Parallel(n_jobs=-1)]: Done  23 out of  23 | elapsed:  3.2min finished\n",
      "\n",
      "[2020-04-11 19:48:52] Features: 11/33 -- score: 0.8684070572023345[Parallel(n_jobs=-1)]: Using backend LokyBackend with 12 concurrent workers.\n",
      "[Parallel(n_jobs=-1)]: Done  11 out of  22 | elapsed:  1.7min remaining:  1.7min\n",
      "\n",
      "STOPPING EARLY DUE TO KEYBOARD INTERRUPT..."
     ]
    }
   ],
   "source": [
    "nn =  MLPClassifier()\n",
    "sfs3 = SFS(nn,\n",
    "           # Change the features number accordingly.\n",
    "           k_features=33,\n",
    "           forward=True, \n",
    "           floating=False, \n",
    "           verbose=2,\n",
    "           scoring='f1',\n",
    "           cv=cv,\n",
    "           n_jobs=-1)\n",
    "\n",
    "sfs3 = sfs3.fit(features_std, y_res)"
   ]
  },
  {
   "cell_type": "code",
   "execution_count": 55,
   "metadata": {},
   "outputs": [
    {
     "name": "stdout",
     "output_type": "stream",
     "text": [
      "Chosen features for NN: Index(['potential_issue=Yes', 'oe_constraint=Yes stop_auto_buy=Yes',\n",
      "       'potential_issue=Yes deck_risk=Yes', 'local_bo_qty^2',\n",
      "       'forecast_9_month', 'national_inv', 'sales_1_month', 'sales_3_month',\n",
      "       'sales_6_month', 'sales_9_month', 'in_transit_qty'],\n",
      "      dtype='object')\n",
      "Neural Network after (step 2) selected features f1:  0.8684070572023345\n"
     ]
    }
   ],
   "source": [
    "output = pd.DataFrame.from_dict(sfs3.get_metric_dict()).T\n",
    "features_fw = output[output.avg_score==max(output.avg_score)].feature_names\n",
    "features_fw_nn = list(list(features_fw)[0])\n",
    "features_fw_nn = features_std[features_fw_nn]\n",
    "print('Chosen features for NN:',features_fw_nn.columns)\n",
    "print('Neural Network after (step 2) selected features f1: ',max(output.avg_score))"
   ]
  },
  {
   "cell_type": "code",
   "execution_count": 16,
   "metadata": {},
   "outputs": [],
   "source": [
    "features_fw_nn = features_std[['potential_issue=Yes', 'oe_constraint=Yes stop_auto_buy=Yes',\n",
    "       'potential_issue=Yes deck_risk=Yes', 'local_bo_qty^2',\n",
    "       'forecast_9_month', 'national_inv', 'sales_1_month', 'sales_3_month',\n",
    "       'sales_6_month', 'sales_9_month', 'in_transit_qty']]"
   ]
  },
  {
   "cell_type": "markdown",
   "metadata": {},
   "source": [
    "### 2.4. Hyperparamter tuning with nested cross validation"
   ]
  },
  {
   "cell_type": "code",
   "execution_count": 17,
   "metadata": {},
   "outputs": [],
   "source": [
    "#####################################    Set inner and outer cv   ############################################\n",
    "inner_cv = KFold(n_splits=5, shuffle=True, random_state=42)\n",
    "outer_cv = KFold(n_splits=5, shuffle=True, random_state=42)\n",
    "import math"
   ]
  },
  {
   "cell_type": "code",
   "execution_count": null,
   "metadata": {},
   "outputs": [],
   "source": [
    "################################  Modelling with Neural Network #######################################\n",
    "# Choosing the optimal activation function and alpha\n",
    "gs_nn = GridSearchCV(estimator=MLPClassifier(random_state=42),\n",
    "                  param_grid= [{'activation': ['tanh','relu'],\n",
    "                                'alpha': [0.0001,0.001,0.01]\n",
    "                                }],\n",
    "                  scoring='f1',\n",
    "                  cv=inner_cv,\n",
    "                  n_jobs=-1)\n",
    "\n",
    "\n",
    "gs_nn = gs_nn.fit(features_fw_nn,y_res)\n",
    "print(\"\\n Neural Network Model\")\n",
    "print(\"Non-nested CV F1: \", gs_nn.best_score_)\n",
    "print(\"Optimal Parameter: \", gs_nn.best_params_)\n",
    "print(\"Optimal Estimator: \", gs_nn.best_estimator_)\n",
    "nested_score_gs_nn = cross_val_score(gs_nn, X=features_fw_nn, y=y_res, cv=outer_cv,scoring='f1')\n",
    "print(\"Gradient Boosting: Nested CV F1: \",nested_score_gs_nn.mean())"
   ]
  },
  {
   "cell_type": "code",
   "execution_count": null,
   "metadata": {},
   "outputs": [],
   "source": [
    "####################################  Modelling with SVM #######################################\n",
    "# Choosing kernel and C\n",
    "from sklearn import svm\n",
    "gs_svm = GridSearchCV(estimator=svm.SVC(),\n",
    "                  param_grid= [{\n",
    "                        'kernel': ['poly', 'rbf', 'sigmoid'],\n",
    "                        'C' : [0.01, 0.1, 1]\n",
    "                    }],\n",
    "                  scoring='f1',\n",
    "                  cv=inner_cv,\n",
    "                  n_jobs=-1)\n",
    "\n",
    "\n",
    "gs_svm = gs_svm.fit(features_fw_svm,y_res)\n",
    "print(\"\\n SVM Model\")\n",
    "print(\"Non-nested CV F1: \", gs_svm.best_score_)\n",
    "print(\"Optimal Parameter: \", gs_svm.best_params_)\n",
    "print(\"Optimal Estimator: \", gs_svm.best_estimator_)"
   ]
  },
  {
   "cell_type": "code",
   "execution_count": 18,
   "metadata": {},
   "outputs": [],
   "source": [
    "features_fw_svm = features_std[['local_bo_qty', 'perf_12_month_avg', 'local_bo_qty^2', 'forecast_mean',\n",
    "       'national_inv']]"
   ]
  },
  {
   "cell_type": "code",
   "execution_count": 19,
   "metadata": {},
   "outputs": [],
   "source": [
    "gs_svm = svm.SVC(C=1, random_state=42, kernel='rbf')"
   ]
  },
  {
   "cell_type": "code",
   "execution_count": 20,
   "metadata": {},
   "outputs": [
    {
     "name": "stdout",
     "output_type": "stream",
     "text": [
      "SVM: Nested CV F1:  0.7150565725105628\n"
     ]
    }
   ],
   "source": [
    "nested_score_gs_svm = cross_val_score(gs_svm, X=features_fw_svm, y=y_res, cv=outer_cv,scoring='f1', n_jobs=-1)\n",
    "print(\"SVM: Nested CV F1: \",nested_score_gs_svm.mean())"
   ]
  },
  {
   "cell_type": "code",
   "execution_count": 47,
   "metadata": {},
   "outputs": [
    {
     "name": "stdout",
     "output_type": "stream",
     "text": [
      "\n",
      " Gradient Boosting Model\n",
      "Non-nested CV F1:  0.9044531243214655\n",
      "Optimal Parameter:  {'max_depth': 12, 'min_samples_leaf': 9, 'n_estimators': 200}\n",
      "Optimal Estimator:  GradientBoostingClassifier(ccp_alpha=0.0, criterion='friedman_mse', init=None,\n",
      "                           learning_rate=0.1, loss='deviance', max_depth=12,\n",
      "                           max_features=None, max_leaf_nodes=None,\n",
      "                           min_impurity_decrease=0.0, min_impurity_split=None,\n",
      "                           min_samples_leaf=9, min_samples_split=2,\n",
      "                           min_weight_fraction_leaf=0.0, n_estimators=200,\n",
      "                           n_iter_no_change=None, presort='deprecated',\n",
      "                           random_state=None, subsample=1.0, tol=0.0001,\n",
      "                           validation_fraction=0.1, verbose=0,\n",
      "                           warm_start=False)\n",
      "Gradient Boosting: Nested CV F1:  0.9030261758364702\n"
     ]
    }
   ],
   "source": [
    "####################################  Modelling with Gradient Boosting #######################################\n",
    "# Choosing n estimators AND max depth AND min_samples_leaf\n",
    "gs_gb = GridSearchCV(estimator=ensemble.GradientBoostingClassifier(),\n",
    "                  param_grid= [{\n",
    "                        'n_estimators': [10,100,200],\n",
    "                        'max_depth': [3,6,9,12],\n",
    "                        'min_samples_leaf': [5,9,12],\n",
    "                    }],\n",
    "                  scoring='f1',\n",
    "                  cv=inner_cv,\n",
    "                  n_jobs=-1)\n",
    "\n",
    "\n",
    "gs_gb = gs_gb.fit(features_fw_gb,y_res)\n",
    "print(\"\\n Gradient Boosting Model\")\n",
    "print(\"Non-nested CV F1: \", gs_gb.best_score_)\n",
    "print(\"Optimal Parameter: \", gs_gb.best_params_)\n",
    "print(\"Optimal Estimator: \", gs_gb.best_estimator_)\n",
    "nested_score_gs_gb = cross_val_score(gs_gb, X=features_fw_gb, y=y_res, cv=outer_cv, scoring='f1')\n",
    "print(\"Gradient Boosting: Nested CV F1: \",nested_score_gs_gb.mean())"
   ]
  },
  {
   "cell_type": "markdown",
   "metadata": {},
   "source": [
    "## 3. Evaluation"
   ]
  },
  {
   "cell_type": "code",
   "execution_count": 20,
   "metadata": {},
   "outputs": [],
   "source": [
    "gs_nn = MLPClassifier(activation = 'relu', alpha = 0.0001, random_state=42)\n",
    "gs_nn = gs_nn.fit(features_fw_nn,y_res)"
   ]
  },
  {
   "cell_type": "code",
   "execution_count": 32,
   "metadata": {},
   "outputs": [],
   "source": [
    "from sklearn.model_selection import cross_validate\n",
    "from sklearn.metrics import confusion_matrix\n",
    "from sklearn.metrics import make_scorer\n",
    "\n",
    "def tn(y_true, y_pred): return confusion_matrix(y_true, y_pred)[0, 0]\n",
    "def fp(y_true, y_pred): return confusion_matrix(y_true, y_pred)[0, 1]\n",
    "def fn(y_true, y_pred): return confusion_matrix(y_true, y_pred)[1, 0]\n",
    "def tp(y_true, y_pred): return confusion_matrix(y_true, y_pred)[1, 1]\n",
    "\n",
    "scoring = {'tp': make_scorer(tp), 'tn': make_scorer(tn), 'fp': make_scorer(fp), 'fn': make_scorer(fn)}\n",
    "\n",
    "nested_score_gs_nn = cross_validate(gs_nn, X=features_fw_nn, y=y_res, cv=outer_cv,scoring=scoring, n_jobs=-1)"
   ]
  },
  {
   "cell_type": "code",
   "execution_count": 33,
   "metadata": {},
   "outputs": [
    {
     "name": "stdout",
     "output_type": "stream",
     "text": [
      "1989.8\n",
      "470.6\n",
      "1723.2\n",
      "204.0\n"
     ]
    }
   ],
   "source": [
    "print(np.mean(nested_score_gs_nn['test_tp']))\n",
    "print(np.mean(nested_score_gs_nn['test_fp']))\n",
    "print(np.mean(nested_score_gs_nn['test_tn']))\n",
    "print(np.mean(nested_score_gs_nn['test_fn']))"
   ]
  },
  {
   "cell_type": "code",
   "execution_count": 21,
   "metadata": {},
   "outputs": [],
   "source": [
    "gs_svm = svm.SVC(C=1, random_state=42, kernel='rbf')\n",
    "gs_svm = gs_svm.fit(features_fw_svm,y_res)"
   ]
  },
  {
   "cell_type": "code",
   "execution_count": 27,
   "metadata": {},
   "outputs": [],
   "source": [
    "from sklearn.model_selection import cross_validate\n",
    "from sklearn.metrics import confusion_matrix\n",
    "from sklearn.metrics import make_scorer\n",
    "\n",
    "def tn(y_true, y_pred): return confusion_matrix(y_true, y_pred)[0, 0]\n",
    "def fp(y_true, y_pred): return confusion_matrix(y_true, y_pred)[0, 1]\n",
    "def fn(y_true, y_pred): return confusion_matrix(y_true, y_pred)[1, 0]\n",
    "def tp(y_true, y_pred): return confusion_matrix(y_true, y_pred)[1, 1]\n",
    "\n",
    "scoring = {'tp': make_scorer(tp), 'tn': make_scorer(tn), 'fp': make_scorer(fp), 'fn': make_scorer(fn)}\n",
    "\n",
    "nested_score_gs_svm = cross_validate(gs_svm, X=features_fw_svm, y=y_res, cv=outer_cv,scoring=scoring, n_jobs=-1)"
   ]
  },
  {
   "cell_type": "code",
   "execution_count": 34,
   "metadata": {},
   "outputs": [
    {
     "name": "stdout",
     "output_type": "stream",
     "text": [
      "2019.2\n",
      "1422.6\n",
      "771.2\n",
      "174.6\n"
     ]
    }
   ],
   "source": [
    "print(np.mean(nested_score_gs_svm['test_tp']))\n",
    "print(np.mean(nested_score_gs_svm['test_fp']))\n",
    "print(np.mean(nested_score_gs_svm['test_tn']))\n",
    "print(np.mean(nested_score_gs_svm['test_fn']))"
   ]
  },
  {
   "cell_type": "code",
   "execution_count": 22,
   "metadata": {},
   "outputs": [],
   "source": [
    "gs_gb = ensemble.GradientBoostingClassifier(max_depth = 12, min_samples_leaf = 9, n_estimators = 200)\n",
    "gs_gb = gs_gb.fit(features_fw_gb,y_res)"
   ]
  },
  {
   "cell_type": "code",
   "execution_count": 35,
   "metadata": {},
   "outputs": [],
   "source": [
    "from sklearn.model_selection import cross_validate\n",
    "from sklearn.metrics import confusion_matrix\n",
    "from sklearn.metrics import make_scorer\n",
    "\n",
    "def tn(y_true, y_pred): return confusion_matrix(y_true, y_pred)[0, 0]\n",
    "def fp(y_true, y_pred): return confusion_matrix(y_true, y_pred)[0, 1]\n",
    "def fn(y_true, y_pred): return confusion_matrix(y_true, y_pred)[1, 0]\n",
    "def tp(y_true, y_pred): return confusion_matrix(y_true, y_pred)[1, 1]\n",
    "\n",
    "scoring = {'tp': make_scorer(tp), 'tn': make_scorer(tn), 'fp': make_scorer(fp), 'fn': make_scorer(fn)}\n",
    "\n",
    "nested_score_gs_gb = cross_validate(gs_gb, X=features_fw_gb, y=y_res, cv=outer_cv,scoring=scoring, n_jobs=-1)"
   ]
  },
  {
   "cell_type": "code",
   "execution_count": 36,
   "metadata": {},
   "outputs": [
    {
     "name": "stdout",
     "output_type": "stream",
     "text": [
      "2033.6\n",
      "268.0\n",
      "1925.8\n",
      "160.2\n"
     ]
    }
   ],
   "source": [
    "print(np.mean(nested_score_gs_gb['test_tp']))\n",
    "print(np.mean(nested_score_gs_gb['test_fp']))\n",
    "print(np.mean(nested_score_gs_gb['test_tn']))\n",
    "print(np.mean(nested_score_gs_gb['test_fn']))"
   ]
  }
 ],
 "metadata": {
  "kernelspec": {
   "display_name": "Python 3",
   "language": "python",
   "name": "python3"
  },
  "language_info": {
   "codemirror_mode": {
    "name": "ipython",
    "version": 3
   },
   "file_extension": ".py",
   "mimetype": "text/x-python",
   "name": "python",
   "nbconvert_exporter": "python",
   "pygments_lexer": "ipython3",
   "version": "3.7.3"
  }
 },
 "nbformat": 4,
 "nbformat_minor": 2
}
