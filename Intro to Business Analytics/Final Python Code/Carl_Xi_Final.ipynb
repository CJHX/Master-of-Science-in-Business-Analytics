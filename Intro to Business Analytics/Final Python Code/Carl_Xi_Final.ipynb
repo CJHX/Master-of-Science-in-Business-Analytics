{
 "cells": [
  {
   "cell_type": "code",
   "execution_count": null,
   "metadata": {},
   "outputs": [],
   "source": [
    "#Carl Jia Hua Xi, Python 3"
   ]
  },
  {
   "cell_type": "code",
   "execution_count": 125,
   "metadata": {
    "ExecuteTime": {
     "end_time": "2019-10-11T20:35:31.989831Z",
     "start_time": "2019-10-11T20:35:30.580729Z"
    }
   },
   "outputs": [
    {
     "name": "stdout",
     "output_type": "stream",
     "text": [
      "Requirement already satisfied: graphviz in c:\\programdata\\anaconda3\\lib\\site-packages (0.13)\n"
     ]
    }
   ],
   "source": [
    "# To write a Python 2/3 compatible codebase, the first step is to add this line to the top of each module\n",
    "from __future__ import division, print_function, unicode_literals\n",
    "from IPython.display import Image\n",
    "from sklearn import linear_model, neighbors, datasets, metrics, tree        # The sklearn.linear_model module implements generalized linear models. LR is part of this module\n",
    "from sklearn.linear_model import LogisticRegression # Logistic regression classifier class\n",
    "from matplotlib.colors import ListedColormap # Learn more about matplotlib.colors here https://matplotlib.org/3.1.1/api/colors_api.html\n",
    "import matplotlib.pyplot as plt #pyplot is matplotlib's plotting framework https://matplotlib.org/users/pyplot_tutorial.html\n",
    "import matplotlib\n",
    "import scipy as sp # sp is an alias pointing to scipy\n",
    "import numpy as np\n",
    "import pandas as pd # pd is an alias point to pandas\n",
    "import warnings\n",
    "import sklearn\n",
    "warnings.filterwarnings(\"ignore\")\n",
    "from sklearn.model_selection import train_test_split, cross_val_score, validation_curve, GridSearchCV, KFold, StratifiedKFold\n",
    "from sklearn.preprocessing import StandardScaler, LabelEncoder \n",
    "# StandardScaler Standardize features by removing the mean and scaling to unit variance\n",
    "# LabelEncoder Encode labels with value between 0 and n_classes-1\n",
    "# Cross_val_score Evaluate a score by cross-validation\n",
    "\n",
    "# The sklearn.metrics module includes score functions, performance metrics and pairwise metrics \n",
    "# and distance computations.\n",
    "# https://scikit-learn.org/stable/modules/classes.html#sklearn-metrics-metrics\n",
    "#----------\n",
    "from sklearn.metrics import confusion_matrix, classification_report, accuracy_score, f1_score, cohen_kappa_score,  roc_curve, auc\n",
    "from sklearn.tree import export_graphviz, DecisionTreeClassifier\n",
    "from sklearn.neighbors import KNeighborsClassifier \n",
    "# If you don't have graphviz package, you need to install it https://anaconda.org/anaconda/graphviz\n",
    "# How to install Graphviz with Anaconda 1\n",
    "# conda install -c anaconda graphviz \n",
    "!pip install graphviz\n",
    "import itertools\n",
    "import graphviz\n",
    "import os\n",
    "\n",
    "# Seed the generator to make this notebook's output stable across runs\n",
    "np.random.seed(32)\n",
    "\n",
    "# To plot pretty figures\n",
    "%matplotlib inline\n",
    "\n",
    "# Dynamically change the default rc settings in a python script\n",
    "# See documentation for a complete list of parameters https://matplotlib.org/users/customizing.html\n",
    "plt.rcParams['axes.labelsize'] = 14  # fontsize of the x any y labels\n",
    "plt.rcParams['xtick.labelsize'] = 12 # fontsize of the tick labels\n",
    "plt.rcParams['ytick.labelsize'] = 12 # fontsize of the tick labels\n",
    "#-----------------\n",
    "# Matplotlib inline allows the output of plotting commands will be displayed inline\n",
    "%matplotlib inline    \n",
    "\n",
    "import matplotlib.pyplot as plt\n",
    "import seaborn as sns; sns.set()  # for plot styling"
   ]
  },
  {
   "cell_type": "markdown",
   "metadata": {},
   "source": [
    "# Quesiton 1"
   ]
  },
  {
   "cell_type": "code",
   "execution_count": 92,
   "metadata": {
    "ExecuteTime": {
     "end_time": "2019-10-11T20:29:05.632938Z",
     "start_time": "2019-10-11T20:29:05.516256Z"
    }
   },
   "outputs": [],
   "source": [
    "import pandas as pd\n",
    "np.random.seed(32)\n",
    "data = pd.read_csv('http://people.stern.nyu.edu/vt527/perf.data', header=None, names=[\"UScitB\", \"SupervisorC\", \"DeptC\", \"TempB\",\"NumEmpN\",\"PerformC\"])\n"
   ]
  },
  {
   "cell_type": "markdown",
   "metadata": {},
   "source": [
    "# Question 2"
   ]
  },
  {
   "cell_type": "code",
   "execution_count": 93,
   "metadata": {
    "ExecuteTime": {
     "end_time": "2019-10-11T20:29:07.352505Z",
     "start_time": "2019-10-11T20:29:07.343497Z"
    }
   },
   "outputs": [
    {
     "data": {
      "text/html": [
       "<div>\n",
       "<style scoped>\n",
       "    .dataframe tbody tr th:only-of-type {\n",
       "        vertical-align: middle;\n",
       "    }\n",
       "\n",
       "    .dataframe tbody tr th {\n",
       "        vertical-align: top;\n",
       "    }\n",
       "\n",
       "    .dataframe thead th {\n",
       "        text-align: right;\n",
       "    }\n",
       "</style>\n",
       "<table border=\"1\" class=\"dataframe\">\n",
       "  <thead>\n",
       "    <tr style=\"text-align: right;\">\n",
       "      <th></th>\n",
       "      <th>UScitB</th>\n",
       "      <th>SupervisorC</th>\n",
       "      <th>DeptC</th>\n",
       "      <th>TempB</th>\n",
       "      <th>NumEmpN</th>\n",
       "      <th>PerformC</th>\n",
       "    </tr>\n",
       "  </thead>\n",
       "  <tbody>\n",
       "    <tr>\n",
       "      <td>0</td>\n",
       "      <td>1</td>\n",
       "      <td>23</td>\n",
       "      <td>3</td>\n",
       "      <td>1</td>\n",
       "      <td>19</td>\n",
       "      <td>3</td>\n",
       "    </tr>\n",
       "    <tr>\n",
       "      <td>1</td>\n",
       "      <td>2</td>\n",
       "      <td>15</td>\n",
       "      <td>3</td>\n",
       "      <td>1</td>\n",
       "      <td>17</td>\n",
       "      <td>3</td>\n",
       "    </tr>\n",
       "    <tr>\n",
       "      <td>2</td>\n",
       "      <td>1</td>\n",
       "      <td>23</td>\n",
       "      <td>3</td>\n",
       "      <td>2</td>\n",
       "      <td>49</td>\n",
       "      <td>3</td>\n",
       "    </tr>\n",
       "    <tr>\n",
       "      <td>3</td>\n",
       "      <td>1</td>\n",
       "      <td>5</td>\n",
       "      <td>2</td>\n",
       "      <td>2</td>\n",
       "      <td>33</td>\n",
       "      <td>3</td>\n",
       "    </tr>\n",
       "    <tr>\n",
       "      <td>4</td>\n",
       "      <td>2</td>\n",
       "      <td>7</td>\n",
       "      <td>11</td>\n",
       "      <td>2</td>\n",
       "      <td>55</td>\n",
       "      <td>3</td>\n",
       "    </tr>\n",
       "    <tr>\n",
       "      <td>5</td>\n",
       "      <td>2</td>\n",
       "      <td>23</td>\n",
       "      <td>3</td>\n",
       "      <td>1</td>\n",
       "      <td>20</td>\n",
       "      <td>3</td>\n",
       "    </tr>\n",
       "    <tr>\n",
       "      <td>6</td>\n",
       "      <td>2</td>\n",
       "      <td>9</td>\n",
       "      <td>5</td>\n",
       "      <td>2</td>\n",
       "      <td>19</td>\n",
       "      <td>3</td>\n",
       "    </tr>\n",
       "    <tr>\n",
       "      <td>7</td>\n",
       "      <td>2</td>\n",
       "      <td>10</td>\n",
       "      <td>3</td>\n",
       "      <td>2</td>\n",
       "      <td>27</td>\n",
       "      <td>3</td>\n",
       "    </tr>\n",
       "    <tr>\n",
       "      <td>8</td>\n",
       "      <td>1</td>\n",
       "      <td>22</td>\n",
       "      <td>3</td>\n",
       "      <td>1</td>\n",
       "      <td>58</td>\n",
       "      <td>3</td>\n",
       "    </tr>\n",
       "    <tr>\n",
       "      <td>9</td>\n",
       "      <td>2</td>\n",
       "      <td>15</td>\n",
       "      <td>3</td>\n",
       "      <td>1</td>\n",
       "      <td>20</td>\n",
       "      <td>3</td>\n",
       "    </tr>\n",
       "  </tbody>\n",
       "</table>\n",
       "</div>"
      ],
      "text/plain": [
       "   UScitB  SupervisorC  DeptC  TempB  NumEmpN  PerformC\n",
       "0       1           23      3      1       19         3\n",
       "1       2           15      3      1       17         3\n",
       "2       1           23      3      2       49         3\n",
       "3       1            5      2      2       33         3\n",
       "4       2            7     11      2       55         3\n",
       "5       2           23      3      1       20         3\n",
       "6       2            9      5      2       19         3\n",
       "7       2           10      3      2       27         3\n",
       "8       1           22      3      1       58         3\n",
       "9       2           15      3      1       20         3"
      ]
     },
     "execution_count": 93,
     "metadata": {},
     "output_type": "execute_result"
    }
   ],
   "source": [
    "data.head(10)"
   ]
  },
  {
   "cell_type": "code",
   "execution_count": 94,
   "metadata": {
    "ExecuteTime": {
     "end_time": "2019-10-11T20:29:09.205018Z",
     "start_time": "2019-10-11T20:29:09.200031Z"
    }
   },
   "outputs": [
    {
     "data": {
      "text/plain": [
       "(151, 6)"
      ]
     },
     "execution_count": 94,
     "metadata": {},
     "output_type": "execute_result"
    }
   ],
   "source": [
    "data.shape"
   ]
  },
  {
   "cell_type": "code",
   "execution_count": 95,
   "metadata": {
    "ExecuteTime": {
     "end_time": "2019-10-11T20:29:10.480521Z",
     "start_time": "2019-10-11T20:29:10.477445Z"
    }
   },
   "outputs": [],
   "source": [
    "data.columns = [\"attr1\",\"attr2\",\"attr3\",\"attr4\",\"attr5\",\"attr6\"]"
   ]
  },
  {
   "cell_type": "code",
   "execution_count": 96,
   "metadata": {
    "ExecuteTime": {
     "end_time": "2019-10-11T20:29:11.503685Z",
     "start_time": "2019-10-11T20:29:11.481494Z"
    }
   },
   "outputs": [
    {
     "data": {
      "text/html": [
       "<div>\n",
       "<style scoped>\n",
       "    .dataframe tbody tr th:only-of-type {\n",
       "        vertical-align: middle;\n",
       "    }\n",
       "\n",
       "    .dataframe tbody tr th {\n",
       "        vertical-align: top;\n",
       "    }\n",
       "\n",
       "    .dataframe thead th {\n",
       "        text-align: right;\n",
       "    }\n",
       "</style>\n",
       "<table border=\"1\" class=\"dataframe\">\n",
       "  <thead>\n",
       "    <tr style=\"text-align: right;\">\n",
       "      <th></th>\n",
       "      <th>attr1</th>\n",
       "      <th>attr2</th>\n",
       "      <th>attr3</th>\n",
       "      <th>attr4</th>\n",
       "      <th>attr5</th>\n",
       "      <th>attr6</th>\n",
       "    </tr>\n",
       "  </thead>\n",
       "  <tbody>\n",
       "    <tr>\n",
       "      <td>count</td>\n",
       "      <td>151.000000</td>\n",
       "      <td>151.000000</td>\n",
       "      <td>151.000000</td>\n",
       "      <td>151.000000</td>\n",
       "      <td>151.000000</td>\n",
       "      <td>151.000000</td>\n",
       "    </tr>\n",
       "    <tr>\n",
       "      <td>mean</td>\n",
       "      <td>1.807947</td>\n",
       "      <td>13.642384</td>\n",
       "      <td>8.105960</td>\n",
       "      <td>1.847682</td>\n",
       "      <td>27.867550</td>\n",
       "      <td>2.019868</td>\n",
       "    </tr>\n",
       "    <tr>\n",
       "      <td>std</td>\n",
       "      <td>0.395225</td>\n",
       "      <td>6.825779</td>\n",
       "      <td>7.023914</td>\n",
       "      <td>0.360525</td>\n",
       "      <td>12.893758</td>\n",
       "      <td>0.820327</td>\n",
       "    </tr>\n",
       "    <tr>\n",
       "      <td>min</td>\n",
       "      <td>1.000000</td>\n",
       "      <td>1.000000</td>\n",
       "      <td>1.000000</td>\n",
       "      <td>1.000000</td>\n",
       "      <td>3.000000</td>\n",
       "      <td>1.000000</td>\n",
       "    </tr>\n",
       "    <tr>\n",
       "      <td>25%</td>\n",
       "      <td>2.000000</td>\n",
       "      <td>8.000000</td>\n",
       "      <td>3.000000</td>\n",
       "      <td>2.000000</td>\n",
       "      <td>19.000000</td>\n",
       "      <td>1.000000</td>\n",
       "    </tr>\n",
       "    <tr>\n",
       "      <td>50%</td>\n",
       "      <td>2.000000</td>\n",
       "      <td>13.000000</td>\n",
       "      <td>4.000000</td>\n",
       "      <td>2.000000</td>\n",
       "      <td>27.000000</td>\n",
       "      <td>2.000000</td>\n",
       "    </tr>\n",
       "    <tr>\n",
       "      <td>75%</td>\n",
       "      <td>2.000000</td>\n",
       "      <td>20.000000</td>\n",
       "      <td>15.000000</td>\n",
       "      <td>2.000000</td>\n",
       "      <td>37.000000</td>\n",
       "      <td>3.000000</td>\n",
       "    </tr>\n",
       "    <tr>\n",
       "      <td>max</td>\n",
       "      <td>2.000000</td>\n",
       "      <td>25.000000</td>\n",
       "      <td>26.000000</td>\n",
       "      <td>2.000000</td>\n",
       "      <td>66.000000</td>\n",
       "      <td>3.000000</td>\n",
       "    </tr>\n",
       "  </tbody>\n",
       "</table>\n",
       "</div>"
      ],
      "text/plain": [
       "            attr1       attr2       attr3       attr4       attr5       attr6\n",
       "count  151.000000  151.000000  151.000000  151.000000  151.000000  151.000000\n",
       "mean     1.807947   13.642384    8.105960    1.847682   27.867550    2.019868\n",
       "std      0.395225    6.825779    7.023914    0.360525   12.893758    0.820327\n",
       "min      1.000000    1.000000    1.000000    1.000000    3.000000    1.000000\n",
       "25%      2.000000    8.000000    3.000000    2.000000   19.000000    1.000000\n",
       "50%      2.000000   13.000000    4.000000    2.000000   27.000000    2.000000\n",
       "75%      2.000000   20.000000   15.000000    2.000000   37.000000    3.000000\n",
       "max      2.000000   25.000000   26.000000    2.000000   66.000000    3.000000"
      ]
     },
     "execution_count": 96,
     "metadata": {},
     "output_type": "execute_result"
    }
   ],
   "source": [
    "data.describe()"
   ]
  },
  {
   "cell_type": "code",
   "execution_count": 105,
   "metadata": {
    "ExecuteTime": {
     "end_time": "2019-10-11T20:31:45.009781Z",
     "start_time": "2019-10-11T20:31:45.003797Z"
    }
   },
   "outputs": [
    {
     "name": "stdout",
     "output_type": "stream",
     "text": [
      "1s\n"
     ]
    },
    {
     "data": {
      "text/plain": [
       "49"
      ]
     },
     "execution_count": 105,
     "metadata": {},
     "output_type": "execute_result"
    }
   ],
   "source": [
    "count1 = data[(data['attr6']==1)].index\n",
    "print(\"1s\")\n",
    "count1.size"
   ]
  },
  {
   "cell_type": "code",
   "execution_count": 106,
   "metadata": {
    "ExecuteTime": {
     "end_time": "2019-10-11T20:32:07.238034Z",
     "start_time": "2019-10-11T20:32:07.233047Z"
    }
   },
   "outputs": [
    {
     "name": "stdout",
     "output_type": "stream",
     "text": [
      "2s\n"
     ]
    },
    {
     "data": {
      "text/plain": [
       "50"
      ]
     },
     "execution_count": 106,
     "metadata": {},
     "output_type": "execute_result"
    }
   ],
   "source": [
    "count1 = data[(data['attr6']==2)].index\n",
    "print(\"2s\")\n",
    "count1.size"
   ]
  },
  {
   "cell_type": "code",
   "execution_count": 107,
   "metadata": {
    "ExecuteTime": {
     "end_time": "2019-10-11T20:32:08.806445Z",
     "start_time": "2019-10-11T20:32:08.800461Z"
    }
   },
   "outputs": [
    {
     "name": "stdout",
     "output_type": "stream",
     "text": [
      "3s\n"
     ]
    },
    {
     "data": {
      "text/plain": [
       "52"
      ]
     },
     "execution_count": 107,
     "metadata": {},
     "output_type": "execute_result"
    }
   ],
   "source": [
    "count1 = data[(data['attr6']==3)].index\n",
    "print(\"3s\")\n",
    "count1.size"
   ]
  },
  {
   "cell_type": "code",
   "execution_count": 108,
   "metadata": {
    "ExecuteTime": {
     "end_time": "2019-10-11T20:32:19.278823Z",
     "start_time": "2019-10-11T20:32:19.274748Z"
    }
   },
   "outputs": [],
   "source": [
    "baddata = data[(data['attr2']==25)].index\n",
    "\n",
    "data.drop(baddata, inplace=True)"
   ]
  },
  {
   "cell_type": "code",
   "execution_count": 111,
   "metadata": {
    "ExecuteTime": {
     "end_time": "2019-10-11T20:32:38.293040Z",
     "start_time": "2019-10-11T20:32:38.289077Z"
    }
   },
   "outputs": [
    {
     "data": {
      "text/plain": [
       "(147, 6)"
      ]
     },
     "execution_count": 111,
     "metadata": {},
     "output_type": "execute_result"
    }
   ],
   "source": [
    "data.shape"
   ]
  },
  {
   "cell_type": "markdown",
   "metadata": {},
   "source": [
    "# Question 3"
   ]
  },
  {
   "cell_type": "code",
   "execution_count": 112,
   "metadata": {
    "ExecuteTime": {
     "end_time": "2019-10-11T20:32:42.106452Z",
     "start_time": "2019-10-11T20:32:42.101464Z"
    }
   },
   "outputs": [],
   "source": [
    "X = data.iloc[:,:-1]#or remove .values?\n",
    "# Retriving Target Variable\n",
    "y = data.iloc[:,-1]#or remove .values?"
   ]
  },
  {
   "cell_type": "code",
   "execution_count": 113,
   "metadata": {
    "ExecuteTime": {
     "end_time": "2019-10-11T20:32:43.811657Z",
     "start_time": "2019-10-11T20:32:43.804676Z"
    }
   },
   "outputs": [],
   "source": [
    "y= y.replace(2, 0)\n",
    "y= y.replace(1, 0)\n",
    "y= y.replace(3, 1)"
   ]
  },
  {
   "cell_type": "code",
   "execution_count": 114,
   "metadata": {
    "ExecuteTime": {
     "end_time": "2019-10-11T20:32:44.490575Z",
     "start_time": "2019-10-11T20:32:44.481566Z"
    }
   },
   "outputs": [
    {
     "data": {
      "text/html": [
       "<div>\n",
       "<style scoped>\n",
       "    .dataframe tbody tr th:only-of-type {\n",
       "        vertical-align: middle;\n",
       "    }\n",
       "\n",
       "    .dataframe tbody tr th {\n",
       "        vertical-align: top;\n",
       "    }\n",
       "\n",
       "    .dataframe thead th {\n",
       "        text-align: right;\n",
       "    }\n",
       "</style>\n",
       "<table border=\"1\" class=\"dataframe\">\n",
       "  <thead>\n",
       "    <tr style=\"text-align: right;\">\n",
       "      <th></th>\n",
       "      <th>attr1</th>\n",
       "      <th>attr2</th>\n",
       "      <th>attr3</th>\n",
       "      <th>attr4</th>\n",
       "      <th>attr5</th>\n",
       "    </tr>\n",
       "  </thead>\n",
       "  <tbody>\n",
       "    <tr>\n",
       "      <td>0</td>\n",
       "      <td>1</td>\n",
       "      <td>23</td>\n",
       "      <td>3</td>\n",
       "      <td>1</td>\n",
       "      <td>19</td>\n",
       "    </tr>\n",
       "    <tr>\n",
       "      <td>1</td>\n",
       "      <td>2</td>\n",
       "      <td>15</td>\n",
       "      <td>3</td>\n",
       "      <td>1</td>\n",
       "      <td>17</td>\n",
       "    </tr>\n",
       "    <tr>\n",
       "      <td>2</td>\n",
       "      <td>1</td>\n",
       "      <td>23</td>\n",
       "      <td>3</td>\n",
       "      <td>2</td>\n",
       "      <td>49</td>\n",
       "    </tr>\n",
       "    <tr>\n",
       "      <td>3</td>\n",
       "      <td>1</td>\n",
       "      <td>5</td>\n",
       "      <td>2</td>\n",
       "      <td>2</td>\n",
       "      <td>33</td>\n",
       "    </tr>\n",
       "    <tr>\n",
       "      <td>4</td>\n",
       "      <td>2</td>\n",
       "      <td>7</td>\n",
       "      <td>11</td>\n",
       "      <td>2</td>\n",
       "      <td>55</td>\n",
       "    </tr>\n",
       "    <tr>\n",
       "      <td>5</td>\n",
       "      <td>2</td>\n",
       "      <td>23</td>\n",
       "      <td>3</td>\n",
       "      <td>1</td>\n",
       "      <td>20</td>\n",
       "    </tr>\n",
       "    <tr>\n",
       "      <td>6</td>\n",
       "      <td>2</td>\n",
       "      <td>9</td>\n",
       "      <td>5</td>\n",
       "      <td>2</td>\n",
       "      <td>19</td>\n",
       "    </tr>\n",
       "    <tr>\n",
       "      <td>7</td>\n",
       "      <td>2</td>\n",
       "      <td>10</td>\n",
       "      <td>3</td>\n",
       "      <td>2</td>\n",
       "      <td>27</td>\n",
       "    </tr>\n",
       "    <tr>\n",
       "      <td>8</td>\n",
       "      <td>1</td>\n",
       "      <td>22</td>\n",
       "      <td>3</td>\n",
       "      <td>1</td>\n",
       "      <td>58</td>\n",
       "    </tr>\n",
       "    <tr>\n",
       "      <td>9</td>\n",
       "      <td>2</td>\n",
       "      <td>15</td>\n",
       "      <td>3</td>\n",
       "      <td>1</td>\n",
       "      <td>20</td>\n",
       "    </tr>\n",
       "  </tbody>\n",
       "</table>\n",
       "</div>"
      ],
      "text/plain": [
       "   attr1  attr2  attr3  attr4  attr5\n",
       "0      1     23      3      1     19\n",
       "1      2     15      3      1     17\n",
       "2      1     23      3      2     49\n",
       "3      1      5      2      2     33\n",
       "4      2      7     11      2     55\n",
       "5      2     23      3      1     20\n",
       "6      2      9      5      2     19\n",
       "7      2     10      3      2     27\n",
       "8      1     22      3      1     58\n",
       "9      2     15      3      1     20"
      ]
     },
     "execution_count": 114,
     "metadata": {},
     "output_type": "execute_result"
    }
   ],
   "source": [
    "X.head(10)"
   ]
  },
  {
   "cell_type": "code",
   "execution_count": 115,
   "metadata": {
    "ExecuteTime": {
     "end_time": "2019-10-11T20:32:45.276400Z",
     "start_time": "2019-10-11T20:32:45.269418Z"
    }
   },
   "outputs": [
    {
     "data": {
      "text/plain": [
       "0    1\n",
       "1    1\n",
       "2    1\n",
       "3    1\n",
       "4    1\n",
       "5    1\n",
       "6    1\n",
       "7    1\n",
       "8    1\n",
       "9    1\n",
       "Name: attr6, dtype: int64"
      ]
     },
     "execution_count": 115,
     "metadata": {},
     "output_type": "execute_result"
    }
   ],
   "source": [
    "y.head(10)"
   ]
  },
  {
   "cell_type": "markdown",
   "metadata": {},
   "source": [
    "# Question 4"
   ]
  },
  {
   "cell_type": "code",
   "execution_count": 116,
   "metadata": {
    "ExecuteTime": {
     "end_time": "2019-10-11T20:32:49.062985Z",
     "start_time": "2019-10-11T20:32:49.054010Z"
    }
   },
   "outputs": [],
   "source": [
    "inner_cv = StratifiedKFold(n_splits=10, shuffle=True, random_state=32)#Interestingly both calls are the same but yield different results\n",
    "outer_cv = StratifiedKFold(n_splits=10, shuffle=True, random_state=32)#need to state random state \n",
    "\n",
    "X_train, X_test, y_train, y_test = train_test_split(\n",
    "    X, y, test_size=0.3, random_state=32, stratify=y)\n",
    "\n",
    "################### Standardize Training and Testing X using metrics from Training X #############################\n",
    "sc = StandardScaler()\n",
    "sc.fit(X_train)\n",
    "X_train_std = sc.transform(X_train)\n",
    "X_test_std = sc.transform(X_test)"
   ]
  },
  {
   "cell_type": "code",
   "execution_count": 117,
   "metadata": {
    "ExecuteTime": {
     "end_time": "2019-10-11T20:32:52.337176Z",
     "start_time": "2019-10-11T20:32:52.154639Z"
    }
   },
   "outputs": [
    {
     "name": "stdout",
     "output_type": "stream",
     "text": [
      "Nested CV F1-Score:  0.4598484848484848  +/-  0.2393299596287675\n",
      "Accuracy 0.6951190476190476  +/-  0.12156207646866742\n",
      "Recall  0.4133333333333334  +/-  0.24413111231467408\n",
      "Precision 0.5958333333333333  +/-  0.30621456711121875\n"
     ]
    },
    {
     "name": "stderr",
     "output_type": "stream",
     "text": [
      "C:\\Users\\carlj\\AppData\\Roaming\\Python\\Python37\\site-packages\\sklearn\\metrics\\classification.py:1437: UndefinedMetricWarning: F-score is ill-defined and being set to 0.0 due to no predicted samples.\n",
      "  'precision', 'predicted', average, warn_for)\n",
      "C:\\Users\\carlj\\AppData\\Roaming\\Python\\Python37\\site-packages\\sklearn\\metrics\\classification.py:1437: UndefinedMetricWarning: Precision is ill-defined and being set to 0.0 due to no predicted samples.\n",
      "  'precision', 'predicted', average, warn_for)\n"
     ]
    }
   ],
   "source": [
    "clf1 = DecisionTreeClassifier(criterion='entropy', max_depth=6,random_state=32)\n",
    "clf1 = clf1.fit(X,y)\n",
    "\n",
    "DT_score = cross_val_score(clf1, X=X, y=y, cv=outer_cv, scoring=\"f1\")\n",
    "print(\"Nested CV F1-Score: \",DT_score.mean(), \" +/- \", DT_score.std())\n",
    "D2 = cross_val_score(clf1, X=X, y=y, cv=outer_cv, scoring=\"accuracy\")\n",
    "print(\"Accuracy\",D2.mean(), \" +/- \", D2.std())\n",
    "D3 = cross_val_score(clf1, X=X, y=y, cv=outer_cv, scoring=\"recall\")\n",
    "print(\"Recall \",D3.mean(), \" +/- \", D3.std())\n",
    "D4 = cross_val_score(clf1, X=X, y=y, cv=outer_cv, scoring=\"precision\")\n",
    "print(\"Precision\",D4.mean(), \" +/- \", D4.std())\n",
    "#DT_score2 = cross_val_score(DT, X=X, y=y, cv=outer_cv, scoring=\"mcc\")\n",
    "#print(\"MCC\",DT_score2.mean(), \" +/- \", DT_score2.std())"
   ]
  },
  {
   "cell_type": "code",
   "execution_count": 118,
   "metadata": {
    "ExecuteTime": {
     "end_time": "2019-10-11T20:33:05.234928Z",
     "start_time": "2019-10-11T20:33:05.162480Z"
    }
   },
   "outputs": [
    {
     "data": {
      "image/svg+xml": [
       "<?xml version=\"1.0\" encoding=\"UTF-8\" standalone=\"no\"?>\r\n",
       "<!DOCTYPE svg PUBLIC \"-//W3C//DTD SVG 1.1//EN\"\r\n",
       " \"http://www.w3.org/Graphics/SVG/1.1/DTD/svg11.dtd\">\r\n",
       "<!-- Generated by graphviz version 2.38.0 (20140413.2041)\r\n",
       " -->\r\n",
       "<!-- Title: Tree Pages: 1 -->\r\n",
       "<svg width=\"2403pt\" height=\"790pt\"\r\n",
       " viewBox=\"0.00 0.00 2403.00 790.00\" xmlns=\"http://www.w3.org/2000/svg\" xmlns:xlink=\"http://www.w3.org/1999/xlink\">\r\n",
       "<g id=\"graph0\" class=\"graph\" transform=\"scale(1 1) rotate(0) translate(4 786)\">\r\n",
       "<title>Tree</title>\r\n",
       "<polygon fill=\"white\" stroke=\"none\" points=\"-4,4 -4,-786 2399,-786 2399,4 -4,4\"/>\r\n",
       "<!-- 0 -->\r\n",
       "<g id=\"node1\" class=\"node\"><title>0</title>\r\n",
       "<path fill=\"#f3c6a5\" stroke=\"black\" d=\"M760,-782C760,-782 635,-782 635,-782 629,-782 623,-776 623,-770 623,-770 623,-711 623,-711 623,-705 629,-699 635,-699 635,-699 760,-699 760,-699 766,-699 772,-705 772,-711 772,-711 772,-770 772,-770 772,-776 766,-782 760,-782\"/>\r\n",
       "<text text-anchor=\"start\" x=\"665.5\" y=\"-766.8\" font-family=\"Helvetica,sans-Serif\" font-size=\"14.00\">attr1 ≤ 1.5</text>\r\n",
       "<text text-anchor=\"start\" x=\"647.5\" y=\"-751.8\" font-family=\"Helvetica,sans-Serif\" font-size=\"14.00\">entropy = 0.937</text>\r\n",
       "<text text-anchor=\"start\" x=\"650\" y=\"-736.8\" font-family=\"Helvetica,sans-Serif\" font-size=\"14.00\">samples = 147</text>\r\n",
       "<text text-anchor=\"start\" x=\"649\" y=\"-721.8\" font-family=\"Helvetica,sans-Serif\" font-size=\"14.00\">value = [95, 52]</text>\r\n",
       "<text text-anchor=\"start\" x=\"631\" y=\"-706.8\" font-family=\"Helvetica,sans-Serif\" font-size=\"14.00\">class = High Perform</text>\r\n",
       "</g>\r\n",
       "<!-- 1 -->\r\n",
       "<g id=\"node2\" class=\"node\"><title>1</title>\r\n",
       "<path fill=\"#b2d9f5\" stroke=\"black\" d=\"M552,-663C552,-663 429,-663 429,-663 423,-663 417,-657 417,-651 417,-651 417,-592 417,-592 417,-586 423,-580 429,-580 429,-580 552,-580 552,-580 558,-580 564,-586 564,-592 564,-592 564,-651 564,-651 564,-657 558,-663 552,-663\"/>\r\n",
       "<text text-anchor=\"start\" x=\"458.5\" y=\"-647.8\" font-family=\"Helvetica,sans-Serif\" font-size=\"14.00\">attr3 ≤ 5.0</text>\r\n",
       "<text text-anchor=\"start\" x=\"440.5\" y=\"-632.8\" font-family=\"Helvetica,sans-Serif\" font-size=\"14.00\">entropy = 0.958</text>\r\n",
       "<text text-anchor=\"start\" x=\"447\" y=\"-617.8\" font-family=\"Helvetica,sans-Serif\" font-size=\"14.00\">samples = 29</text>\r\n",
       "<text text-anchor=\"start\" x=\"442\" y=\"-602.8\" font-family=\"Helvetica,sans-Serif\" font-size=\"14.00\">value = [11, 18]</text>\r\n",
       "<text text-anchor=\"start\" x=\"425\" y=\"-587.8\" font-family=\"Helvetica,sans-Serif\" font-size=\"14.00\">class = Low Perform</text>\r\n",
       "</g>\r\n",
       "<!-- 0&#45;&gt;1 -->\r\n",
       "<g id=\"edge1\" class=\"edge\"><title>0&#45;&gt;1</title>\r\n",
       "<path fill=\"none\" stroke=\"black\" d=\"M625.682,-698.907C608.021,-688.925 588.997,-678.172 570.957,-667.976\"/>\r\n",
       "<polygon fill=\"black\" stroke=\"black\" points=\"572.619,-664.894 562.191,-663.021 569.174,-670.988 572.619,-664.894\"/>\r\n",
       "<text text-anchor=\"middle\" x=\"568.882\" y=\"-683.409\" font-family=\"Helvetica,sans-Serif\" font-size=\"14.00\">True</text>\r\n",
       "</g>\r\n",
       "<!-- 16 -->\r\n",
       "<g id=\"node17\" class=\"node\"><title>16</title>\r\n",
       "<path fill=\"#f0b489\" stroke=\"black\" d=\"M968,-663C968,-663 843,-663 843,-663 837,-663 831,-657 831,-651 831,-651 831,-592 831,-592 831,-586 837,-580 843,-580 843,-580 968,-580 968,-580 974,-580 980,-586 980,-592 980,-592 980,-651 980,-651 980,-657 974,-663 968,-663\"/>\r\n",
       "<text text-anchor=\"start\" x=\"873.5\" y=\"-647.8\" font-family=\"Helvetica,sans-Serif\" font-size=\"14.00\">attr4 ≤ 1.5</text>\r\n",
       "<text text-anchor=\"start\" x=\"855.5\" y=\"-632.8\" font-family=\"Helvetica,sans-Serif\" font-size=\"14.00\">entropy = 0.866</text>\r\n",
       "<text text-anchor=\"start\" x=\"858\" y=\"-617.8\" font-family=\"Helvetica,sans-Serif\" font-size=\"14.00\">samples = 118</text>\r\n",
       "<text text-anchor=\"start\" x=\"857\" y=\"-602.8\" font-family=\"Helvetica,sans-Serif\" font-size=\"14.00\">value = [84, 34]</text>\r\n",
       "<text text-anchor=\"start\" x=\"839\" y=\"-587.8\" font-family=\"Helvetica,sans-Serif\" font-size=\"14.00\">class = High Perform</text>\r\n",
       "</g>\r\n",
       "<!-- 0&#45;&gt;16 -->\r\n",
       "<g id=\"edge16\" class=\"edge\"><title>0&#45;&gt;16</title>\r\n",
       "<path fill=\"none\" stroke=\"black\" d=\"M769.665,-698.907C787.411,-688.925 806.527,-678.172 824.654,-667.976\"/>\r\n",
       "<polygon fill=\"black\" stroke=\"black\" points=\"826.463,-670.974 833.463,-663.021 823.031,-664.873 826.463,-670.974\"/>\r\n",
       "<text text-anchor=\"middle\" x=\"826.722\" y=\"-683.395\" font-family=\"Helvetica,sans-Serif\" font-size=\"14.00\">False</text>\r\n",
       "</g>\r\n",
       "<!-- 2 -->\r\n",
       "<g id=\"node3\" class=\"node\"><title>2</title>\r\n",
       "<path fill=\"#77bced\" stroke=\"black\" d=\"M302,-544C302,-544 179,-544 179,-544 173,-544 167,-538 167,-532 167,-532 167,-473 167,-473 167,-467 173,-461 179,-461 179,-461 302,-461 302,-461 308,-461 314,-467 314,-473 314,-473 314,-532 314,-532 314,-538 308,-544 302,-544\"/>\r\n",
       "<text text-anchor=\"start\" x=\"204.5\" y=\"-528.8\" font-family=\"Helvetica,sans-Serif\" font-size=\"14.00\">attr5 ≤ 16.0</text>\r\n",
       "<text text-anchor=\"start\" x=\"190.5\" y=\"-513.8\" font-family=\"Helvetica,sans-Serif\" font-size=\"14.00\">entropy = 0.792</text>\r\n",
       "<text text-anchor=\"start\" x=\"197\" y=\"-498.8\" font-family=\"Helvetica,sans-Serif\" font-size=\"14.00\">samples = 21</text>\r\n",
       "<text text-anchor=\"start\" x=\"196\" y=\"-483.8\" font-family=\"Helvetica,sans-Serif\" font-size=\"14.00\">value = [5, 16]</text>\r\n",
       "<text text-anchor=\"start\" x=\"175\" y=\"-468.8\" font-family=\"Helvetica,sans-Serif\" font-size=\"14.00\">class = Low Perform</text>\r\n",
       "</g>\r\n",
       "<!-- 1&#45;&gt;2 -->\r\n",
       "<g id=\"edge2\" class=\"edge\"><title>1&#45;&gt;2</title>\r\n",
       "<path fill=\"none\" stroke=\"black\" d=\"M416.844,-586.029C387.475,-572.284 353.53,-556.398 323.311,-542.255\"/>\r\n",
       "<polygon fill=\"black\" stroke=\"black\" points=\"324.602,-538.995 314.061,-537.927 321.635,-545.336 324.602,-538.995\"/>\r\n",
       "</g>\r\n",
       "<!-- 11 -->\r\n",
       "<g id=\"node12\" class=\"node\"><title>11</title>\r\n",
       "<path fill=\"#eeab7b\" stroke=\"black\" d=\"M553,-544C553,-544 428,-544 428,-544 422,-544 416,-538 416,-532 416,-532 416,-473 416,-473 416,-467 422,-461 428,-461 428,-461 553,-461 553,-461 559,-461 565,-467 565,-473 565,-473 565,-532 565,-532 565,-538 559,-544 553,-544\"/>\r\n",
       "<text text-anchor=\"start\" x=\"454.5\" y=\"-528.8\" font-family=\"Helvetica,sans-Serif\" font-size=\"14.00\">attr3 ≤ 16.5</text>\r\n",
       "<text text-anchor=\"start\" x=\"440.5\" y=\"-513.8\" font-family=\"Helvetica,sans-Serif\" font-size=\"14.00\">entropy = 0.811</text>\r\n",
       "<text text-anchor=\"start\" x=\"451\" y=\"-498.8\" font-family=\"Helvetica,sans-Serif\" font-size=\"14.00\">samples = 8</text>\r\n",
       "<text text-anchor=\"start\" x=\"450\" y=\"-483.8\" font-family=\"Helvetica,sans-Serif\" font-size=\"14.00\">value = [6, 2]</text>\r\n",
       "<text text-anchor=\"start\" x=\"424\" y=\"-468.8\" font-family=\"Helvetica,sans-Serif\" font-size=\"14.00\">class = High Perform</text>\r\n",
       "</g>\r\n",
       "<!-- 1&#45;&gt;11 -->\r\n",
       "<g id=\"edge11\" class=\"edge\"><title>1&#45;&gt;11</title>\r\n",
       "<path fill=\"none\" stroke=\"black\" d=\"M490.5,-579.907C490.5,-571.649 490.5,-562.864 490.5,-554.302\"/>\r\n",
       "<polygon fill=\"black\" stroke=\"black\" points=\"494,-554.021 490.5,-544.021 487,-554.021 494,-554.021\"/>\r\n",
       "</g>\r\n",
       "<!-- 3 -->\r\n",
       "<g id=\"node4\" class=\"node\"><title>3</title>\r\n",
       "<path fill=\"#e58139\" stroke=\"black\" d=\"M137,-417.5C137,-417.5 12,-417.5 12,-417.5 6,-417.5 0,-411.5 0,-405.5 0,-405.5 0,-361.5 0,-361.5 0,-355.5 6,-349.5 12,-349.5 12,-349.5 137,-349.5 137,-349.5 143,-349.5 149,-355.5 149,-361.5 149,-361.5 149,-405.5 149,-405.5 149,-411.5 143,-417.5 137,-417.5\"/>\r\n",
       "<text text-anchor=\"start\" x=\"32.5\" y=\"-402.3\" font-family=\"Helvetica,sans-Serif\" font-size=\"14.00\">entropy = 0.0</text>\r\n",
       "<text text-anchor=\"start\" x=\"35\" y=\"-387.3\" font-family=\"Helvetica,sans-Serif\" font-size=\"14.00\">samples = 3</text>\r\n",
       "<text text-anchor=\"start\" x=\"34\" y=\"-372.3\" font-family=\"Helvetica,sans-Serif\" font-size=\"14.00\">value = [3, 0]</text>\r\n",
       "<text text-anchor=\"start\" x=\"8\" y=\"-357.3\" font-family=\"Helvetica,sans-Serif\" font-size=\"14.00\">class = High Perform</text>\r\n",
       "</g>\r\n",
       "<!-- 2&#45;&gt;3 -->\r\n",
       "<g id=\"edge3\" class=\"edge\"><title>2&#45;&gt;3</title>\r\n",
       "<path fill=\"none\" stroke=\"black\" d=\"M182.907,-460.907C165.686,-448.769 146.849,-435.493 129.78,-423.462\"/>\r\n",
       "<polygon fill=\"black\" stroke=\"black\" points=\"131.748,-420.567 121.557,-417.667 127.715,-426.289 131.748,-420.567\"/>\r\n",
       "</g>\r\n",
       "<!-- 4 -->\r\n",
       "<g id=\"node5\" class=\"node\"><title>4</title>\r\n",
       "<path fill=\"#52a9e8\" stroke=\"black\" d=\"M302,-425C302,-425 179,-425 179,-425 173,-425 167,-419 167,-413 167,-413 167,-354 167,-354 167,-348 173,-342 179,-342 179,-342 302,-342 302,-342 308,-342 314,-348 314,-354 314,-354 314,-413 314,-413 314,-419 308,-425 302,-425\"/>\r\n",
       "<text text-anchor=\"start\" x=\"204.5\" y=\"-409.8\" font-family=\"Helvetica,sans-Serif\" font-size=\"14.00\">attr2 ≤ 22.5</text>\r\n",
       "<text text-anchor=\"start\" x=\"190.5\" y=\"-394.8\" font-family=\"Helvetica,sans-Serif\" font-size=\"14.00\">entropy = 0.503</text>\r\n",
       "<text text-anchor=\"start\" x=\"197\" y=\"-379.8\" font-family=\"Helvetica,sans-Serif\" font-size=\"14.00\">samples = 18</text>\r\n",
       "<text text-anchor=\"start\" x=\"196\" y=\"-364.8\" font-family=\"Helvetica,sans-Serif\" font-size=\"14.00\">value = [2, 16]</text>\r\n",
       "<text text-anchor=\"start\" x=\"175\" y=\"-349.8\" font-family=\"Helvetica,sans-Serif\" font-size=\"14.00\">class = Low Perform</text>\r\n",
       "</g>\r\n",
       "<!-- 2&#45;&gt;4 -->\r\n",
       "<g id=\"edge4\" class=\"edge\"><title>2&#45;&gt;4</title>\r\n",
       "<path fill=\"none\" stroke=\"black\" d=\"M240.5,-460.907C240.5,-452.649 240.5,-443.864 240.5,-435.302\"/>\r\n",
       "<polygon fill=\"black\" stroke=\"black\" points=\"244,-435.021 240.5,-425.021 237,-435.021 244,-435.021\"/>\r\n",
       "</g>\r\n",
       "<!-- 5 -->\r\n",
       "<g id=\"node6\" class=\"node\"><title>5</title>\r\n",
       "<path fill=\"#399de5\" stroke=\"black\" d=\"M138,-298.5C138,-298.5 15,-298.5 15,-298.5 9,-298.5 3,-292.5 3,-286.5 3,-286.5 3,-242.5 3,-242.5 3,-236.5 9,-230.5 15,-230.5 15,-230.5 138,-230.5 138,-230.5 144,-230.5 150,-236.5 150,-242.5 150,-242.5 150,-286.5 150,-286.5 150,-292.5 144,-298.5 138,-298.5\"/>\r\n",
       "<text text-anchor=\"start\" x=\"34.5\" y=\"-283.3\" font-family=\"Helvetica,sans-Serif\" font-size=\"14.00\">entropy = 0.0</text>\r\n",
       "<text text-anchor=\"start\" x=\"37\" y=\"-268.3\" font-family=\"Helvetica,sans-Serif\" font-size=\"14.00\">samples = 9</text>\r\n",
       "<text text-anchor=\"start\" x=\"36\" y=\"-253.3\" font-family=\"Helvetica,sans-Serif\" font-size=\"14.00\">value = [0, 9]</text>\r\n",
       "<text text-anchor=\"start\" x=\"11\" y=\"-238.3\" font-family=\"Helvetica,sans-Serif\" font-size=\"14.00\">class = Low Perform</text>\r\n",
       "</g>\r\n",
       "<!-- 4&#45;&gt;5 -->\r\n",
       "<g id=\"edge5\" class=\"edge\"><title>4&#45;&gt;5</title>\r\n",
       "<path fill=\"none\" stroke=\"black\" d=\"M183.601,-341.907C166.742,-329.88 148.316,-316.735 131.574,-304.791\"/>\r\n",
       "<polygon fill=\"black\" stroke=\"black\" points=\"133.164,-301.625 122.99,-298.667 129.098,-307.324 133.164,-301.625\"/>\r\n",
       "</g>\r\n",
       "<!-- 6 -->\r\n",
       "<g id=\"node7\" class=\"node\"><title>6</title>\r\n",
       "<path fill=\"#72b9ec\" stroke=\"black\" d=\"M303,-306C303,-306 180,-306 180,-306 174,-306 168,-300 168,-294 168,-294 168,-235 168,-235 168,-229 174,-223 180,-223 180,-223 303,-223 303,-223 309,-223 315,-229 315,-235 315,-235 315,-294 315,-294 315,-300 309,-306 303,-306\"/>\r\n",
       "<text text-anchor=\"start\" x=\"205.5\" y=\"-290.8\" font-family=\"Helvetica,sans-Serif\" font-size=\"14.00\">attr5 ≤ 19.5</text>\r\n",
       "<text text-anchor=\"start\" x=\"191.5\" y=\"-275.8\" font-family=\"Helvetica,sans-Serif\" font-size=\"14.00\">entropy = 0.764</text>\r\n",
       "<text text-anchor=\"start\" x=\"202\" y=\"-260.8\" font-family=\"Helvetica,sans-Serif\" font-size=\"14.00\">samples = 9</text>\r\n",
       "<text text-anchor=\"start\" x=\"201\" y=\"-245.8\" font-family=\"Helvetica,sans-Serif\" font-size=\"14.00\">value = [2, 7]</text>\r\n",
       "<text text-anchor=\"start\" x=\"176\" y=\"-230.8\" font-family=\"Helvetica,sans-Serif\" font-size=\"14.00\">class = Low Perform</text>\r\n",
       "</g>\r\n",
       "<!-- 4&#45;&gt;6 -->\r\n",
       "<g id=\"edge6\" class=\"edge\"><title>4&#45;&gt;6</title>\r\n",
       "<path fill=\"none\" stroke=\"black\" d=\"M240.847,-341.907C240.918,-333.649 240.993,-324.864 241.066,-316.302\"/>\r\n",
       "<polygon fill=\"black\" stroke=\"black\" points=\"244.568,-316.05 241.154,-306.021 237.568,-315.99 244.568,-316.05\"/>\r\n",
       "</g>\r\n",
       "<!-- 7 -->\r\n",
       "<g id=\"node8\" class=\"node\"><title>7</title>\r\n",
       "<path fill=\"#399de5\" stroke=\"black\" d=\"M220,-179.5C220,-179.5 97,-179.5 97,-179.5 91,-179.5 85,-173.5 85,-167.5 85,-167.5 85,-123.5 85,-123.5 85,-117.5 91,-111.5 97,-111.5 97,-111.5 220,-111.5 220,-111.5 226,-111.5 232,-117.5 232,-123.5 232,-123.5 232,-167.5 232,-167.5 232,-173.5 226,-179.5 220,-179.5\"/>\r\n",
       "<text text-anchor=\"start\" x=\"116.5\" y=\"-164.3\" font-family=\"Helvetica,sans-Serif\" font-size=\"14.00\">entropy = 0.0</text>\r\n",
       "<text text-anchor=\"start\" x=\"119\" y=\"-149.3\" font-family=\"Helvetica,sans-Serif\" font-size=\"14.00\">samples = 2</text>\r\n",
       "<text text-anchor=\"start\" x=\"118\" y=\"-134.3\" font-family=\"Helvetica,sans-Serif\" font-size=\"14.00\">value = [0, 2]</text>\r\n",
       "<text text-anchor=\"start\" x=\"93\" y=\"-119.3\" font-family=\"Helvetica,sans-Serif\" font-size=\"14.00\">class = Low Perform</text>\r\n",
       "</g>\r\n",
       "<!-- 6&#45;&gt;7 -->\r\n",
       "<g id=\"edge7\" class=\"edge\"><title>6&#45;&gt;7</title>\r\n",
       "<path fill=\"none\" stroke=\"black\" d=\"M212.704,-222.907C204.719,-211.652 196.04,-199.418 188.016,-188.106\"/>\r\n",
       "<polygon fill=\"black\" stroke=\"black\" points=\"190.669,-185.798 182.029,-179.667 184.96,-189.848 190.669,-185.798\"/>\r\n",
       "</g>\r\n",
       "<!-- 8 -->\r\n",
       "<g id=\"node9\" class=\"node\"><title>8</title>\r\n",
       "<path fill=\"#88c4ef\" stroke=\"black\" d=\"M385,-187C385,-187 262,-187 262,-187 256,-187 250,-181 250,-175 250,-175 250,-116 250,-116 250,-110 256,-104 262,-104 262,-104 385,-104 385,-104 391,-104 397,-110 397,-116 397,-116 397,-175 397,-175 397,-181 391,-187 385,-187\"/>\r\n",
       "<text text-anchor=\"start\" x=\"287.5\" y=\"-171.8\" font-family=\"Helvetica,sans-Serif\" font-size=\"14.00\">attr5 ≤ 43.5</text>\r\n",
       "<text text-anchor=\"start\" x=\"273.5\" y=\"-156.8\" font-family=\"Helvetica,sans-Serif\" font-size=\"14.00\">entropy = 0.863</text>\r\n",
       "<text text-anchor=\"start\" x=\"284\" y=\"-141.8\" font-family=\"Helvetica,sans-Serif\" font-size=\"14.00\">samples = 7</text>\r\n",
       "<text text-anchor=\"start\" x=\"283\" y=\"-126.8\" font-family=\"Helvetica,sans-Serif\" font-size=\"14.00\">value = [2, 5]</text>\r\n",
       "<text text-anchor=\"start\" x=\"258\" y=\"-111.8\" font-family=\"Helvetica,sans-Serif\" font-size=\"14.00\">class = Low Perform</text>\r\n",
       "</g>\r\n",
       "<!-- 6&#45;&gt;8 -->\r\n",
       "<g id=\"edge8\" class=\"edge\"><title>6&#45;&gt;8</title>\r\n",
       "<path fill=\"none\" stroke=\"black\" d=\"M269.949,-222.907C276.183,-214.014 282.844,-204.509 289.277,-195.331\"/>\r\n",
       "<polygon fill=\"black\" stroke=\"black\" points=\"292.228,-197.219 295.101,-187.021 286.495,-193.201 292.228,-197.219\"/>\r\n",
       "</g>\r\n",
       "<!-- 9 -->\r\n",
       "<g id=\"node10\" class=\"node\"><title>9</title>\r\n",
       "<path fill=\"#bddef6\" stroke=\"black\" d=\"M302,-68C302,-68 179,-68 179,-68 173,-68 167,-62 167,-56 167,-56 167,-12 167,-12 167,-6 173,-0 179,-0 179,-0 302,-0 302,-0 308,-0 314,-6 314,-12 314,-12 314,-56 314,-56 314,-62 308,-68 302,-68\"/>\r\n",
       "<text text-anchor=\"start\" x=\"190.5\" y=\"-52.8\" font-family=\"Helvetica,sans-Serif\" font-size=\"14.00\">entropy = 0.971</text>\r\n",
       "<text text-anchor=\"start\" x=\"201\" y=\"-37.8\" font-family=\"Helvetica,sans-Serif\" font-size=\"14.00\">samples = 5</text>\r\n",
       "<text text-anchor=\"start\" x=\"200\" y=\"-22.8\" font-family=\"Helvetica,sans-Serif\" font-size=\"14.00\">value = [2, 3]</text>\r\n",
       "<text text-anchor=\"start\" x=\"175\" y=\"-7.8\" font-family=\"Helvetica,sans-Serif\" font-size=\"14.00\">class = Low Perform</text>\r\n",
       "</g>\r\n",
       "<!-- 8&#45;&gt;9 -->\r\n",
       "<g id=\"edge9\" class=\"edge\"><title>8&#45;&gt;9</title>\r\n",
       "<path fill=\"none\" stroke=\"black\" d=\"M292.594,-103.726C285.819,-94.7878 278.64,-85.3168 271.847,-76.3558\"/>\r\n",
       "<polygon fill=\"black\" stroke=\"black\" points=\"274.571,-74.1547 265.741,-68.2996 268.992,-78.3832 274.571,-74.1547\"/>\r\n",
       "</g>\r\n",
       "<!-- 10 -->\r\n",
       "<g id=\"node11\" class=\"node\"><title>10</title>\r\n",
       "<path fill=\"#399de5\" stroke=\"black\" d=\"M467,-68C467,-68 344,-68 344,-68 338,-68 332,-62 332,-56 332,-56 332,-12 332,-12 332,-6 338,-0 344,-0 344,-0 467,-0 467,-0 473,-0 479,-6 479,-12 479,-12 479,-56 479,-56 479,-62 473,-68 467,-68\"/>\r\n",
       "<text text-anchor=\"start\" x=\"363.5\" y=\"-52.8\" font-family=\"Helvetica,sans-Serif\" font-size=\"14.00\">entropy = 0.0</text>\r\n",
       "<text text-anchor=\"start\" x=\"366\" y=\"-37.8\" font-family=\"Helvetica,sans-Serif\" font-size=\"14.00\">samples = 2</text>\r\n",
       "<text text-anchor=\"start\" x=\"365\" y=\"-22.8\" font-family=\"Helvetica,sans-Serif\" font-size=\"14.00\">value = [0, 2]</text>\r\n",
       "<text text-anchor=\"start\" x=\"340\" y=\"-7.8\" font-family=\"Helvetica,sans-Serif\" font-size=\"14.00\">class = Low Perform</text>\r\n",
       "</g>\r\n",
       "<!-- 8&#45;&gt;10 -->\r\n",
       "<g id=\"edge10\" class=\"edge\"><title>8&#45;&gt;10</title>\r\n",
       "<path fill=\"none\" stroke=\"black\" d=\"M354.034,-103.726C360.727,-94.7878 367.82,-85.3168 374.53,-76.3558\"/>\r\n",
       "<polygon fill=\"black\" stroke=\"black\" points=\"377.371,-78.402 380.563,-68.2996 371.768,-74.206 377.371,-78.402\"/>\r\n",
       "</g>\r\n",
       "<!-- 12 -->\r\n",
       "<g id=\"node13\" class=\"node\"><title>12</title>\r\n",
       "<path fill=\"#e58139\" stroke=\"black\" d=\"M469,-417.5C469,-417.5 344,-417.5 344,-417.5 338,-417.5 332,-411.5 332,-405.5 332,-405.5 332,-361.5 332,-361.5 332,-355.5 338,-349.5 344,-349.5 344,-349.5 469,-349.5 469,-349.5 475,-349.5 481,-355.5 481,-361.5 481,-361.5 481,-405.5 481,-405.5 481,-411.5 475,-417.5 469,-417.5\"/>\r\n",
       "<text text-anchor=\"start\" x=\"364.5\" y=\"-402.3\" font-family=\"Helvetica,sans-Serif\" font-size=\"14.00\">entropy = 0.0</text>\r\n",
       "<text text-anchor=\"start\" x=\"367\" y=\"-387.3\" font-family=\"Helvetica,sans-Serif\" font-size=\"14.00\">samples = 4</text>\r\n",
       "<text text-anchor=\"start\" x=\"366\" y=\"-372.3\" font-family=\"Helvetica,sans-Serif\" font-size=\"14.00\">value = [4, 0]</text>\r\n",
       "<text text-anchor=\"start\" x=\"340\" y=\"-357.3\" font-family=\"Helvetica,sans-Serif\" font-size=\"14.00\">class = High Perform</text>\r\n",
       "</g>\r\n",
       "<!-- 11&#45;&gt;12 -->\r\n",
       "<g id=\"edge12\" class=\"edge\"><title>11&#45;&gt;12</title>\r\n",
       "<path fill=\"none\" stroke=\"black\" d=\"M461.357,-460.907C453.276,-449.652 444.493,-437.418 436.371,-426.106\"/>\r\n",
       "<polygon fill=\"black\" stroke=\"black\" points=\"438.987,-423.749 430.312,-417.667 433.301,-427.831 438.987,-423.749\"/>\r\n",
       "</g>\r\n",
       "<!-- 13 -->\r\n",
       "<g id=\"node14\" class=\"node\"><title>13</title>\r\n",
       "<path fill=\"#ffffff\" stroke=\"black\" d=\"M636,-425C636,-425 511,-425 511,-425 505,-425 499,-419 499,-413 499,-413 499,-354 499,-354 499,-348 505,-342 511,-342 511,-342 636,-342 636,-342 642,-342 648,-348 648,-354 648,-354 648,-413 648,-413 648,-419 642,-425 636,-425\"/>\r\n",
       "<text text-anchor=\"start\" x=\"537.5\" y=\"-409.8\" font-family=\"Helvetica,sans-Serif\" font-size=\"14.00\">attr5 ≤ 33.0</text>\r\n",
       "<text text-anchor=\"start\" x=\"531.5\" y=\"-394.8\" font-family=\"Helvetica,sans-Serif\" font-size=\"14.00\">entropy = 1.0</text>\r\n",
       "<text text-anchor=\"start\" x=\"534\" y=\"-379.8\" font-family=\"Helvetica,sans-Serif\" font-size=\"14.00\">samples = 4</text>\r\n",
       "<text text-anchor=\"start\" x=\"533\" y=\"-364.8\" font-family=\"Helvetica,sans-Serif\" font-size=\"14.00\">value = [2, 2]</text>\r\n",
       "<text text-anchor=\"start\" x=\"507\" y=\"-349.8\" font-family=\"Helvetica,sans-Serif\" font-size=\"14.00\">class = High Perform</text>\r\n",
       "</g>\r\n",
       "<!-- 11&#45;&gt;13 -->\r\n",
       "<g id=\"edge13\" class=\"edge\"><title>11&#45;&gt;13</title>\r\n",
       "<path fill=\"none\" stroke=\"black\" d=\"M519.296,-460.907C525.606,-452.014 532.348,-442.509 538.859,-433.331\"/>\r\n",
       "<polygon fill=\"black\" stroke=\"black\" points=\"541.823,-435.202 544.754,-425.021 536.114,-431.152 541.823,-435.202\"/>\r\n",
       "</g>\r\n",
       "<!-- 14 -->\r\n",
       "<g id=\"node15\" class=\"node\"><title>14</title>\r\n",
       "<path fill=\"#399de5\" stroke=\"black\" d=\"M469,-298.5C469,-298.5 346,-298.5 346,-298.5 340,-298.5 334,-292.5 334,-286.5 334,-286.5 334,-242.5 334,-242.5 334,-236.5 340,-230.5 346,-230.5 346,-230.5 469,-230.5 469,-230.5 475,-230.5 481,-236.5 481,-242.5 481,-242.5 481,-286.5 481,-286.5 481,-292.5 475,-298.5 469,-298.5\"/>\r\n",
       "<text text-anchor=\"start\" x=\"365.5\" y=\"-283.3\" font-family=\"Helvetica,sans-Serif\" font-size=\"14.00\">entropy = 0.0</text>\r\n",
       "<text text-anchor=\"start\" x=\"368\" y=\"-268.3\" font-family=\"Helvetica,sans-Serif\" font-size=\"14.00\">samples = 2</text>\r\n",
       "<text text-anchor=\"start\" x=\"367\" y=\"-253.3\" font-family=\"Helvetica,sans-Serif\" font-size=\"14.00\">value = [0, 2]</text>\r\n",
       "<text text-anchor=\"start\" x=\"342\" y=\"-238.3\" font-family=\"Helvetica,sans-Serif\" font-size=\"14.00\">class = Low Perform</text>\r\n",
       "</g>\r\n",
       "<!-- 13&#45;&gt;14 -->\r\n",
       "<g id=\"edge14\" class=\"edge\"><title>13&#45;&gt;14</title>\r\n",
       "<path fill=\"none\" stroke=\"black\" d=\"M515.907,-341.907C498.686,-329.769 479.849,-316.493 462.78,-304.462\"/>\r\n",
       "<polygon fill=\"black\" stroke=\"black\" points=\"464.748,-301.567 454.557,-298.667 460.715,-307.289 464.748,-301.567\"/>\r\n",
       "</g>\r\n",
       "<!-- 15 -->\r\n",
       "<g id=\"node16\" class=\"node\"><title>15</title>\r\n",
       "<path fill=\"#e58139\" stroke=\"black\" d=\"M636,-298.5C636,-298.5 511,-298.5 511,-298.5 505,-298.5 499,-292.5 499,-286.5 499,-286.5 499,-242.5 499,-242.5 499,-236.5 505,-230.5 511,-230.5 511,-230.5 636,-230.5 636,-230.5 642,-230.5 648,-236.5 648,-242.5 648,-242.5 648,-286.5 648,-286.5 648,-292.5 642,-298.5 636,-298.5\"/>\r\n",
       "<text text-anchor=\"start\" x=\"531.5\" y=\"-283.3\" font-family=\"Helvetica,sans-Serif\" font-size=\"14.00\">entropy = 0.0</text>\r\n",
       "<text text-anchor=\"start\" x=\"534\" y=\"-268.3\" font-family=\"Helvetica,sans-Serif\" font-size=\"14.00\">samples = 2</text>\r\n",
       "<text text-anchor=\"start\" x=\"533\" y=\"-253.3\" font-family=\"Helvetica,sans-Serif\" font-size=\"14.00\">value = [2, 0]</text>\r\n",
       "<text text-anchor=\"start\" x=\"507\" y=\"-238.3\" font-family=\"Helvetica,sans-Serif\" font-size=\"14.00\">class = High Perform</text>\r\n",
       "</g>\r\n",
       "<!-- 13&#45;&gt;15 -->\r\n",
       "<g id=\"edge15\" class=\"edge\"><title>13&#45;&gt;15</title>\r\n",
       "<path fill=\"none\" stroke=\"black\" d=\"M573.5,-341.907C573.5,-331.204 573.5,-319.615 573.5,-308.776\"/>\r\n",
       "<polygon fill=\"black\" stroke=\"black\" points=\"577,-308.667 573.5,-298.667 570,-308.667 577,-308.667\"/>\r\n",
       "</g>\r\n",
       "<!-- 17 -->\r\n",
       "<g id=\"node18\" class=\"node\"><title>17</title>\r\n",
       "<path fill=\"#a7d3f3\" stroke=\"black\" d=\"M967,-544C967,-544 844,-544 844,-544 838,-544 832,-538 832,-532 832,-532 832,-473 832,-473 832,-467 838,-461 844,-461 844,-461 967,-461 967,-461 973,-461 979,-467 979,-473 979,-473 979,-532 979,-532 979,-538 973,-544 967,-544\"/>\r\n",
       "<text text-anchor=\"start\" x=\"869.5\" y=\"-528.8\" font-family=\"Helvetica,sans-Serif\" font-size=\"14.00\">attr3 ≤ 13.0</text>\r\n",
       "<text text-anchor=\"start\" x=\"859.5\" y=\"-513.8\" font-family=\"Helvetica,sans-Serif\" font-size=\"14.00\">entropy = 0.94</text>\r\n",
       "<text text-anchor=\"start\" x=\"862\" y=\"-498.8\" font-family=\"Helvetica,sans-Serif\" font-size=\"14.00\">samples = 14</text>\r\n",
       "<text text-anchor=\"start\" x=\"865\" y=\"-483.8\" font-family=\"Helvetica,sans-Serif\" font-size=\"14.00\">value = [5, 9]</text>\r\n",
       "<text text-anchor=\"start\" x=\"840\" y=\"-468.8\" font-family=\"Helvetica,sans-Serif\" font-size=\"14.00\">class = Low Perform</text>\r\n",
       "</g>\r\n",
       "<!-- 16&#45;&gt;17 -->\r\n",
       "<g id=\"edge17\" class=\"edge\"><title>16&#45;&gt;17</title>\r\n",
       "<path fill=\"none\" stroke=\"black\" d=\"M905.5,-579.907C905.5,-571.649 905.5,-562.864 905.5,-554.302\"/>\r\n",
       "<polygon fill=\"black\" stroke=\"black\" points=\"909,-554.021 905.5,-544.021 902,-554.021 909,-554.021\"/>\r\n",
       "</g>\r\n",
       "<!-- 24 -->\r\n",
       "<g id=\"node25\" class=\"node\"><title>24</title>\r\n",
       "<path fill=\"#eda978\" stroke=\"black\" d=\"M1383,-544C1383,-544 1258,-544 1258,-544 1252,-544 1246,-538 1246,-532 1246,-532 1246,-473 1246,-473 1246,-467 1252,-461 1258,-461 1258,-461 1383,-461 1383,-461 1389,-461 1395,-467 1395,-473 1395,-473 1395,-532 1395,-532 1395,-538 1389,-544 1383,-544\"/>\r\n",
       "<text text-anchor=\"start\" x=\"1284.5\" y=\"-528.8\" font-family=\"Helvetica,sans-Serif\" font-size=\"14.00\">attr3 ≤ 18.5</text>\r\n",
       "<text text-anchor=\"start\" x=\"1270.5\" y=\"-513.8\" font-family=\"Helvetica,sans-Serif\" font-size=\"14.00\">entropy = 0.796</text>\r\n",
       "<text text-anchor=\"start\" x=\"1273\" y=\"-498.8\" font-family=\"Helvetica,sans-Serif\" font-size=\"14.00\">samples = 104</text>\r\n",
       "<text text-anchor=\"start\" x=\"1272\" y=\"-483.8\" font-family=\"Helvetica,sans-Serif\" font-size=\"14.00\">value = [79, 25]</text>\r\n",
       "<text text-anchor=\"start\" x=\"1254\" y=\"-468.8\" font-family=\"Helvetica,sans-Serif\" font-size=\"14.00\">class = High Perform</text>\r\n",
       "</g>\r\n",
       "<!-- 16&#45;&gt;24 -->\r\n",
       "<g id=\"edge24\" class=\"edge\"><title>16&#45;&gt;24</title>\r\n",
       "<path fill=\"none\" stroke=\"black\" d=\"M980.173,-599.448C1052.09,-579.173 1160.72,-548.546 1235.82,-527.373\"/>\r\n",
       "<polygon fill=\"black\" stroke=\"black\" points=\"1237.05,-530.663 1245.73,-524.58 1235.15,-523.925 1237.05,-530.663\"/>\r\n",
       "</g>\r\n",
       "<!-- 18 -->\r\n",
       "<g id=\"node19\" class=\"node\"><title>18</title>\r\n",
       "<path fill=\"#7bbeee\" stroke=\"black\" d=\"M884,-425C884,-425 761,-425 761,-425 755,-425 749,-419 749,-413 749,-413 749,-354 749,-354 749,-348 755,-342 761,-342 761,-342 884,-342 884,-342 890,-342 896,-348 896,-354 896,-354 896,-413 896,-413 896,-419 890,-425 884,-425\"/>\r\n",
       "<text text-anchor=\"start\" x=\"786.5\" y=\"-409.8\" font-family=\"Helvetica,sans-Serif\" font-size=\"14.00\">attr5 ≤ 10.5</text>\r\n",
       "<text text-anchor=\"start\" x=\"772.5\" y=\"-394.8\" font-family=\"Helvetica,sans-Serif\" font-size=\"14.00\">entropy = 0.811</text>\r\n",
       "<text text-anchor=\"start\" x=\"779\" y=\"-379.8\" font-family=\"Helvetica,sans-Serif\" font-size=\"14.00\">samples = 12</text>\r\n",
       "<text text-anchor=\"start\" x=\"782\" y=\"-364.8\" font-family=\"Helvetica,sans-Serif\" font-size=\"14.00\">value = [3, 9]</text>\r\n",
       "<text text-anchor=\"start\" x=\"757\" y=\"-349.8\" font-family=\"Helvetica,sans-Serif\" font-size=\"14.00\">class = Low Perform</text>\r\n",
       "</g>\r\n",
       "<!-- 17&#45;&gt;18 -->\r\n",
       "<g id=\"edge18\" class=\"edge\"><title>17&#45;&gt;18</title>\r\n",
       "<path fill=\"none\" stroke=\"black\" d=\"M876.704,-460.907C870.394,-452.014 863.652,-442.509 857.141,-433.331\"/>\r\n",
       "<polygon fill=\"black\" stroke=\"black\" points=\"859.886,-431.152 851.246,-425.021 854.177,-435.202 859.886,-431.152\"/>\r\n",
       "</g>\r\n",
       "<!-- 23 -->\r\n",
       "<g id=\"node24\" class=\"node\"><title>23</title>\r\n",
       "<path fill=\"#e58139\" stroke=\"black\" d=\"M1051,-417.5C1051,-417.5 926,-417.5 926,-417.5 920,-417.5 914,-411.5 914,-405.5 914,-405.5 914,-361.5 914,-361.5 914,-355.5 920,-349.5 926,-349.5 926,-349.5 1051,-349.5 1051,-349.5 1057,-349.5 1063,-355.5 1063,-361.5 1063,-361.5 1063,-405.5 1063,-405.5 1063,-411.5 1057,-417.5 1051,-417.5\"/>\r\n",
       "<text text-anchor=\"start\" x=\"946.5\" y=\"-402.3\" font-family=\"Helvetica,sans-Serif\" font-size=\"14.00\">entropy = 0.0</text>\r\n",
       "<text text-anchor=\"start\" x=\"949\" y=\"-387.3\" font-family=\"Helvetica,sans-Serif\" font-size=\"14.00\">samples = 2</text>\r\n",
       "<text text-anchor=\"start\" x=\"948\" y=\"-372.3\" font-family=\"Helvetica,sans-Serif\" font-size=\"14.00\">value = [2, 0]</text>\r\n",
       "<text text-anchor=\"start\" x=\"922\" y=\"-357.3\" font-family=\"Helvetica,sans-Serif\" font-size=\"14.00\">class = High Perform</text>\r\n",
       "</g>\r\n",
       "<!-- 17&#45;&gt;23 -->\r\n",
       "<g id=\"edge23\" class=\"edge\"><title>17&#45;&gt;23</title>\r\n",
       "<path fill=\"none\" stroke=\"black\" d=\"M934.296,-460.907C942.281,-449.652 950.96,-437.418 958.984,-426.106\"/>\r\n",
       "<polygon fill=\"black\" stroke=\"black\" points=\"962.04,-427.848 964.971,-417.667 956.331,-423.798 962.04,-427.848\"/>\r\n",
       "</g>\r\n",
       "<!-- 19 -->\r\n",
       "<g id=\"node20\" class=\"node\"><title>19</title>\r\n",
       "<path fill=\"#e58139\" stroke=\"black\" d=\"M803,-298.5C803,-298.5 678,-298.5 678,-298.5 672,-298.5 666,-292.5 666,-286.5 666,-286.5 666,-242.5 666,-242.5 666,-236.5 672,-230.5 678,-230.5 678,-230.5 803,-230.5 803,-230.5 809,-230.5 815,-236.5 815,-242.5 815,-242.5 815,-286.5 815,-286.5 815,-292.5 809,-298.5 803,-298.5\"/>\r\n",
       "<text text-anchor=\"start\" x=\"698.5\" y=\"-283.3\" font-family=\"Helvetica,sans-Serif\" font-size=\"14.00\">entropy = 0.0</text>\r\n",
       "<text text-anchor=\"start\" x=\"701\" y=\"-268.3\" font-family=\"Helvetica,sans-Serif\" font-size=\"14.00\">samples = 2</text>\r\n",
       "<text text-anchor=\"start\" x=\"700\" y=\"-253.3\" font-family=\"Helvetica,sans-Serif\" font-size=\"14.00\">value = [2, 0]</text>\r\n",
       "<text text-anchor=\"start\" x=\"674\" y=\"-238.3\" font-family=\"Helvetica,sans-Serif\" font-size=\"14.00\">class = High Perform</text>\r\n",
       "</g>\r\n",
       "<!-- 18&#45;&gt;19 -->\r\n",
       "<g id=\"edge19\" class=\"edge\"><title>18&#45;&gt;19</title>\r\n",
       "<path fill=\"none\" stroke=\"black\" d=\"M794.051,-341.907C786.162,-330.652 777.588,-318.418 769.66,-307.106\"/>\r\n",
       "<polygon fill=\"black\" stroke=\"black\" points=\"772.351,-304.847 763.745,-298.667 766.618,-308.865 772.351,-304.847\"/>\r\n",
       "</g>\r\n",
       "<!-- 20 -->\r\n",
       "<g id=\"node21\" class=\"node\"><title>20</title>\r\n",
       "<path fill=\"#4fa8e8\" stroke=\"black\" d=\"M968,-306C968,-306 845,-306 845,-306 839,-306 833,-300 833,-294 833,-294 833,-235 833,-235 833,-229 839,-223 845,-223 845,-223 968,-223 968,-223 974,-223 980,-229 980,-235 980,-235 980,-294 980,-294 980,-300 974,-306 968,-306\"/>\r\n",
       "<text text-anchor=\"start\" x=\"870.5\" y=\"-290.8\" font-family=\"Helvetica,sans-Serif\" font-size=\"14.00\">attr2 ≤ 19.0</text>\r\n",
       "<text text-anchor=\"start\" x=\"856.5\" y=\"-275.8\" font-family=\"Helvetica,sans-Serif\" font-size=\"14.00\">entropy = 0.469</text>\r\n",
       "<text text-anchor=\"start\" x=\"863\" y=\"-260.8\" font-family=\"Helvetica,sans-Serif\" font-size=\"14.00\">samples = 10</text>\r\n",
       "<text text-anchor=\"start\" x=\"866\" y=\"-245.8\" font-family=\"Helvetica,sans-Serif\" font-size=\"14.00\">value = [1, 9]</text>\r\n",
       "<text text-anchor=\"start\" x=\"841\" y=\"-230.8\" font-family=\"Helvetica,sans-Serif\" font-size=\"14.00\">class = Low Perform</text>\r\n",
       "</g>\r\n",
       "<!-- 18&#45;&gt;20 -->\r\n",
       "<g id=\"edge20\" class=\"edge\"><title>18&#45;&gt;20</title>\r\n",
       "<path fill=\"none\" stroke=\"black\" d=\"M851.643,-341.907C858.029,-333.014 864.852,-323.509 871.442,-314.331\"/>\r\n",
       "<polygon fill=\"black\" stroke=\"black\" points=\"874.419,-316.185 877.408,-306.021 868.733,-312.103 874.419,-316.185\"/>\r\n",
       "</g>\r\n",
       "<!-- 21 -->\r\n",
       "<g id=\"node22\" class=\"node\"><title>21</title>\r\n",
       "<path fill=\"#399de5\" stroke=\"black\" d=\"M803,-179.5C803,-179.5 680,-179.5 680,-179.5 674,-179.5 668,-173.5 668,-167.5 668,-167.5 668,-123.5 668,-123.5 668,-117.5 674,-111.5 680,-111.5 680,-111.5 803,-111.5 803,-111.5 809,-111.5 815,-117.5 815,-123.5 815,-123.5 815,-167.5 815,-167.5 815,-173.5 809,-179.5 803,-179.5\"/>\r\n",
       "<text text-anchor=\"start\" x=\"699.5\" y=\"-164.3\" font-family=\"Helvetica,sans-Serif\" font-size=\"14.00\">entropy = 0.0</text>\r\n",
       "<text text-anchor=\"start\" x=\"702\" y=\"-149.3\" font-family=\"Helvetica,sans-Serif\" font-size=\"14.00\">samples = 6</text>\r\n",
       "<text text-anchor=\"start\" x=\"701\" y=\"-134.3\" font-family=\"Helvetica,sans-Serif\" font-size=\"14.00\">value = [0, 6]</text>\r\n",
       "<text text-anchor=\"start\" x=\"676\" y=\"-119.3\" font-family=\"Helvetica,sans-Serif\" font-size=\"14.00\">class = Low Perform</text>\r\n",
       "</g>\r\n",
       "<!-- 20&#45;&gt;21 -->\r\n",
       "<g id=\"edge21\" class=\"edge\"><title>20&#45;&gt;21</title>\r\n",
       "<path fill=\"none\" stroke=\"black\" d=\"M849.254,-222.907C832.136,-210.769 813.414,-197.493 796.447,-185.462\"/>\r\n",
       "<polygon fill=\"black\" stroke=\"black\" points=\"798.456,-182.596 788.274,-179.667 794.407,-188.306 798.456,-182.596\"/>\r\n",
       "</g>\r\n",
       "<!-- 22 -->\r\n",
       "<g id=\"node23\" class=\"node\"><title>22</title>\r\n",
       "<path fill=\"#7bbeee\" stroke=\"black\" d=\"M968,-179.5C968,-179.5 845,-179.5 845,-179.5 839,-179.5 833,-173.5 833,-167.5 833,-167.5 833,-123.5 833,-123.5 833,-117.5 839,-111.5 845,-111.5 845,-111.5 968,-111.5 968,-111.5 974,-111.5 980,-117.5 980,-123.5 980,-123.5 980,-167.5 980,-167.5 980,-173.5 974,-179.5 968,-179.5\"/>\r\n",
       "<text text-anchor=\"start\" x=\"856.5\" y=\"-164.3\" font-family=\"Helvetica,sans-Serif\" font-size=\"14.00\">entropy = 0.811</text>\r\n",
       "<text text-anchor=\"start\" x=\"867\" y=\"-149.3\" font-family=\"Helvetica,sans-Serif\" font-size=\"14.00\">samples = 4</text>\r\n",
       "<text text-anchor=\"start\" x=\"866\" y=\"-134.3\" font-family=\"Helvetica,sans-Serif\" font-size=\"14.00\">value = [1, 3]</text>\r\n",
       "<text text-anchor=\"start\" x=\"841\" y=\"-119.3\" font-family=\"Helvetica,sans-Serif\" font-size=\"14.00\">class = Low Perform</text>\r\n",
       "</g>\r\n",
       "<!-- 20&#45;&gt;22 -->\r\n",
       "<g id=\"edge22\" class=\"edge\"><title>20&#45;&gt;22</title>\r\n",
       "<path fill=\"none\" stroke=\"black\" d=\"M906.5,-222.907C906.5,-212.204 906.5,-200.615 906.5,-189.776\"/>\r\n",
       "<polygon fill=\"black\" stroke=\"black\" points=\"910,-189.667 906.5,-179.667 903,-189.667 910,-189.667\"/>\r\n",
       "</g>\r\n",
       "<!-- 25 -->\r\n",
       "<g id=\"node26\" class=\"node\"><title>25</title>\r\n",
       "<path fill=\"#eb9e67\" stroke=\"black\" d=\"M1383,-425C1383,-425 1258,-425 1258,-425 1252,-425 1246,-419 1246,-413 1246,-413 1246,-354 1246,-354 1246,-348 1252,-342 1258,-342 1258,-342 1383,-342 1383,-342 1389,-342 1395,-348 1395,-354 1395,-354 1395,-413 1395,-413 1395,-419 1389,-425 1383,-425\"/>\r\n",
       "<text text-anchor=\"start\" x=\"1284.5\" y=\"-409.8\" font-family=\"Helvetica,sans-Serif\" font-size=\"14.00\">attr2 ≤ 14.5</text>\r\n",
       "<text text-anchor=\"start\" x=\"1270.5\" y=\"-394.8\" font-family=\"Helvetica,sans-Serif\" font-size=\"14.00\">entropy = 0.699</text>\r\n",
       "<text text-anchor=\"start\" x=\"1277\" y=\"-379.8\" font-family=\"Helvetica,sans-Serif\" font-size=\"14.00\">samples = 90</text>\r\n",
       "<text text-anchor=\"start\" x=\"1272\" y=\"-364.8\" font-family=\"Helvetica,sans-Serif\" font-size=\"14.00\">value = [73, 17]</text>\r\n",
       "<text text-anchor=\"start\" x=\"1254\" y=\"-349.8\" font-family=\"Helvetica,sans-Serif\" font-size=\"14.00\">class = High Perform</text>\r\n",
       "</g>\r\n",
       "<!-- 24&#45;&gt;25 -->\r\n",
       "<g id=\"edge25\" class=\"edge\"><title>24&#45;&gt;25</title>\r\n",
       "<path fill=\"none\" stroke=\"black\" d=\"M1320.5,-460.907C1320.5,-452.649 1320.5,-443.864 1320.5,-435.302\"/>\r\n",
       "<polygon fill=\"black\" stroke=\"black\" points=\"1324,-435.021 1320.5,-425.021 1317,-435.021 1324,-435.021\"/>\r\n",
       "</g>\r\n",
       "<!-- 36 -->\r\n",
       "<g id=\"node37\" class=\"node\"><title>36</title>\r\n",
       "<path fill=\"#cee6f8\" stroke=\"black\" d=\"M1883,-425C1883,-425 1760,-425 1760,-425 1754,-425 1748,-419 1748,-413 1748,-413 1748,-354 1748,-354 1748,-348 1754,-342 1760,-342 1760,-342 1883,-342 1883,-342 1889,-342 1895,-348 1895,-354 1895,-354 1895,-413 1895,-413 1895,-419 1889,-425 1883,-425\"/>\r\n",
       "<text text-anchor=\"start\" x=\"1785.5\" y=\"-409.8\" font-family=\"Helvetica,sans-Serif\" font-size=\"14.00\">attr3 ≤ 22.5</text>\r\n",
       "<text text-anchor=\"start\" x=\"1771.5\" y=\"-394.8\" font-family=\"Helvetica,sans-Serif\" font-size=\"14.00\">entropy = 0.985</text>\r\n",
       "<text text-anchor=\"start\" x=\"1778\" y=\"-379.8\" font-family=\"Helvetica,sans-Serif\" font-size=\"14.00\">samples = 14</text>\r\n",
       "<text text-anchor=\"start\" x=\"1781\" y=\"-364.8\" font-family=\"Helvetica,sans-Serif\" font-size=\"14.00\">value = [6, 8]</text>\r\n",
       "<text text-anchor=\"start\" x=\"1756\" y=\"-349.8\" font-family=\"Helvetica,sans-Serif\" font-size=\"14.00\">class = Low Perform</text>\r\n",
       "</g>\r\n",
       "<!-- 24&#45;&gt;36 -->\r\n",
       "<g id=\"edge36\" class=\"edge\"><title>24&#45;&gt;36</title>\r\n",
       "<path fill=\"none\" stroke=\"black\" d=\"M1395.23,-484.047C1487.05,-462.605 1642.37,-426.334 1738.01,-403.997\"/>\r\n",
       "<polygon fill=\"black\" stroke=\"black\" points=\"1739,-407.361 1747.94,-401.679 1737.4,-400.545 1739,-407.361\"/>\r\n",
       "</g>\r\n",
       "<!-- 26 -->\r\n",
       "<g id=\"node27\" class=\"node\"><title>26</title>\r\n",
       "<path fill=\"#eeae7f\" stroke=\"black\" d=\"M1300,-306C1300,-306 1175,-306 1175,-306 1169,-306 1163,-300 1163,-294 1163,-294 1163,-235 1163,-235 1163,-229 1169,-223 1175,-223 1175,-223 1300,-223 1300,-223 1306,-223 1312,-229 1312,-235 1312,-235 1312,-294 1312,-294 1312,-300 1306,-306 1300,-306\"/>\r\n",
       "<text text-anchor=\"start\" x=\"1201.5\" y=\"-290.8\" font-family=\"Helvetica,sans-Serif\" font-size=\"14.00\">attr5 ≤ 53.0</text>\r\n",
       "<text text-anchor=\"start\" x=\"1191.5\" y=\"-275.8\" font-family=\"Helvetica,sans-Serif\" font-size=\"14.00\">entropy = 0.83</text>\r\n",
       "<text text-anchor=\"start\" x=\"1194\" y=\"-260.8\" font-family=\"Helvetica,sans-Serif\" font-size=\"14.00\">samples = 61</text>\r\n",
       "<text text-anchor=\"start\" x=\"1189\" y=\"-245.8\" font-family=\"Helvetica,sans-Serif\" font-size=\"14.00\">value = [45, 16]</text>\r\n",
       "<text text-anchor=\"start\" x=\"1171\" y=\"-230.8\" font-family=\"Helvetica,sans-Serif\" font-size=\"14.00\">class = High Perform</text>\r\n",
       "</g>\r\n",
       "<!-- 25&#45;&gt;26 -->\r\n",
       "<g id=\"edge26\" class=\"edge\"><title>25&#45;&gt;26</title>\r\n",
       "<path fill=\"none\" stroke=\"black\" d=\"M1291.7,-341.907C1285.39,-333.014 1278.65,-323.509 1272.14,-314.331\"/>\r\n",
       "<polygon fill=\"black\" stroke=\"black\" points=\"1274.89,-312.152 1266.25,-306.021 1269.18,-316.202 1274.89,-312.152\"/>\r\n",
       "</g>\r\n",
       "<!-- 31 -->\r\n",
       "<g id=\"node32\" class=\"node\"><title>31</title>\r\n",
       "<path fill=\"#e68640\" stroke=\"black\" d=\"M1467,-306C1467,-306 1342,-306 1342,-306 1336,-306 1330,-300 1330,-294 1330,-294 1330,-235 1330,-235 1330,-229 1336,-223 1342,-223 1342,-223 1467,-223 1467,-223 1473,-223 1479,-229 1479,-235 1479,-235 1479,-294 1479,-294 1479,-300 1473,-306 1467,-306\"/>\r\n",
       "<text text-anchor=\"start\" x=\"1368.5\" y=\"-290.8\" font-family=\"Helvetica,sans-Serif\" font-size=\"14.00\">attr5 ≤ 43.5</text>\r\n",
       "<text text-anchor=\"start\" x=\"1354.5\" y=\"-275.8\" font-family=\"Helvetica,sans-Serif\" font-size=\"14.00\">entropy = 0.216</text>\r\n",
       "<text text-anchor=\"start\" x=\"1361\" y=\"-260.8\" font-family=\"Helvetica,sans-Serif\" font-size=\"14.00\">samples = 29</text>\r\n",
       "<text text-anchor=\"start\" x=\"1360\" y=\"-245.8\" font-family=\"Helvetica,sans-Serif\" font-size=\"14.00\">value = [28, 1]</text>\r\n",
       "<text text-anchor=\"start\" x=\"1338\" y=\"-230.8\" font-family=\"Helvetica,sans-Serif\" font-size=\"14.00\">class = High Perform</text>\r\n",
       "</g>\r\n",
       "<!-- 25&#45;&gt;31 -->\r\n",
       "<g id=\"edge31\" class=\"edge\"><title>25&#45;&gt;31</title>\r\n",
       "<path fill=\"none\" stroke=\"black\" d=\"M1349.64,-341.907C1356.03,-333.014 1362.85,-323.509 1369.44,-314.331\"/>\r\n",
       "<polygon fill=\"black\" stroke=\"black\" points=\"1372.42,-316.185 1375.41,-306.021 1366.73,-312.103 1372.42,-316.185\"/>\r\n",
       "</g>\r\n",
       "<!-- 27 -->\r\n",
       "<g id=\"node28\" class=\"node\"><title>27</title>\r\n",
       "<path fill=\"#eda877\" stroke=\"black\" d=\"M1135,-187C1135,-187 1010,-187 1010,-187 1004,-187 998,-181 998,-175 998,-175 998,-116 998,-116 998,-110 1004,-104 1010,-104 1010,-104 1135,-104 1135,-104 1141,-104 1147,-110 1147,-116 1147,-116 1147,-175 1147,-175 1147,-181 1141,-187 1135,-187\"/>\r\n",
       "<text text-anchor=\"start\" x=\"1040.5\" y=\"-171.8\" font-family=\"Helvetica,sans-Serif\" font-size=\"14.00\">attr2 ≤ 8.5</text>\r\n",
       "<text text-anchor=\"start\" x=\"1022.5\" y=\"-156.8\" font-family=\"Helvetica,sans-Serif\" font-size=\"14.00\">entropy = 0.791</text>\r\n",
       "<text text-anchor=\"start\" x=\"1029\" y=\"-141.8\" font-family=\"Helvetica,sans-Serif\" font-size=\"14.00\">samples = 59</text>\r\n",
       "<text text-anchor=\"start\" x=\"1024\" y=\"-126.8\" font-family=\"Helvetica,sans-Serif\" font-size=\"14.00\">value = [45, 14]</text>\r\n",
       "<text text-anchor=\"start\" x=\"1006\" y=\"-111.8\" font-family=\"Helvetica,sans-Serif\" font-size=\"14.00\">class = High Perform</text>\r\n",
       "</g>\r\n",
       "<!-- 26&#45;&gt;27 -->\r\n",
       "<g id=\"edge27\" class=\"edge\"><title>26&#45;&gt;27</title>\r\n",
       "<path fill=\"none\" stroke=\"black\" d=\"M1180.25,-222.907C1166.56,-213.197 1151.84,-202.758 1137.81,-192.811\"/>\r\n",
       "<polygon fill=\"black\" stroke=\"black\" points=\"1139.83,-189.95 1129.64,-187.021 1135.78,-195.66 1139.83,-189.95\"/>\r\n",
       "</g>\r\n",
       "<!-- 30 -->\r\n",
       "<g id=\"node31\" class=\"node\"><title>30</title>\r\n",
       "<path fill=\"#399de5\" stroke=\"black\" d=\"M1300,-179.5C1300,-179.5 1177,-179.5 1177,-179.5 1171,-179.5 1165,-173.5 1165,-167.5 1165,-167.5 1165,-123.5 1165,-123.5 1165,-117.5 1171,-111.5 1177,-111.5 1177,-111.5 1300,-111.5 1300,-111.5 1306,-111.5 1312,-117.5 1312,-123.5 1312,-123.5 1312,-167.5 1312,-167.5 1312,-173.5 1306,-179.5 1300,-179.5\"/>\r\n",
       "<text text-anchor=\"start\" x=\"1196.5\" y=\"-164.3\" font-family=\"Helvetica,sans-Serif\" font-size=\"14.00\">entropy = 0.0</text>\r\n",
       "<text text-anchor=\"start\" x=\"1199\" y=\"-149.3\" font-family=\"Helvetica,sans-Serif\" font-size=\"14.00\">samples = 2</text>\r\n",
       "<text text-anchor=\"start\" x=\"1198\" y=\"-134.3\" font-family=\"Helvetica,sans-Serif\" font-size=\"14.00\">value = [0, 2]</text>\r\n",
       "<text text-anchor=\"start\" x=\"1173\" y=\"-119.3\" font-family=\"Helvetica,sans-Serif\" font-size=\"14.00\">class = Low Perform</text>\r\n",
       "</g>\r\n",
       "<!-- 26&#45;&gt;30 -->\r\n",
       "<g id=\"edge30\" class=\"edge\"><title>26&#45;&gt;30</title>\r\n",
       "<path fill=\"none\" stroke=\"black\" d=\"M1237.85,-222.907C1237.94,-212.204 1238.04,-200.615 1238.13,-189.776\"/>\r\n",
       "<polygon fill=\"black\" stroke=\"black\" points=\"1241.63,-189.697 1238.22,-179.667 1234.63,-189.637 1241.63,-189.697\"/>\r\n",
       "</g>\r\n",
       "<!-- 28 -->\r\n",
       "<g id=\"node29\" class=\"node\"><title>28</title>\r\n",
       "<path fill=\"#e88e4e\" stroke=\"black\" d=\"M1051,-68C1051,-68 926,-68 926,-68 920,-68 914,-62 914,-56 914,-56 914,-12 914,-12 914,-6 920,-0 926,-0 926,-0 1051,-0 1051,-0 1057,-0 1063,-6 1063,-12 1063,-12 1063,-56 1063,-56 1063,-62 1057,-68 1051,-68\"/>\r\n",
       "<text text-anchor=\"start\" x=\"938.5\" y=\"-52.8\" font-family=\"Helvetica,sans-Serif\" font-size=\"14.00\">entropy = 0.459</text>\r\n",
       "<text text-anchor=\"start\" x=\"945\" y=\"-37.8\" font-family=\"Helvetica,sans-Serif\" font-size=\"14.00\">samples = 31</text>\r\n",
       "<text text-anchor=\"start\" x=\"944\" y=\"-22.8\" font-family=\"Helvetica,sans-Serif\" font-size=\"14.00\">value = [28, 3]</text>\r\n",
       "<text text-anchor=\"start\" x=\"922\" y=\"-7.8\" font-family=\"Helvetica,sans-Serif\" font-size=\"14.00\">class = High Perform</text>\r\n",
       "</g>\r\n",
       "<!-- 27&#45;&gt;28 -->\r\n",
       "<g id=\"edge28\" class=\"edge\"><title>27&#45;&gt;28</title>\r\n",
       "<path fill=\"none\" stroke=\"black\" d=\"M1041.22,-103.726C1034.36,-94.7878 1027.1,-85.3168 1020.22,-76.3558\"/>\r\n",
       "<polygon fill=\"black\" stroke=\"black\" points=\"1022.91,-74.1036 1014.04,-68.2996 1017.35,-78.3643 1022.91,-74.1036\"/>\r\n",
       "</g>\r\n",
       "<!-- 29 -->\r\n",
       "<g id=\"node30\" class=\"node\"><title>29</title>\r\n",
       "<path fill=\"#f6d3b9\" stroke=\"black\" d=\"M1218,-68C1218,-68 1093,-68 1093,-68 1087,-68 1081,-62 1081,-56 1081,-56 1081,-12 1081,-12 1081,-6 1087,-0 1093,-0 1093,-0 1218,-0 1218,-0 1224,-0 1230,-6 1230,-12 1230,-12 1230,-56 1230,-56 1230,-62 1224,-68 1218,-68\"/>\r\n",
       "<text text-anchor=\"start\" x=\"1105.5\" y=\"-52.8\" font-family=\"Helvetica,sans-Serif\" font-size=\"14.00\">entropy = 0.967</text>\r\n",
       "<text text-anchor=\"start\" x=\"1112\" y=\"-37.8\" font-family=\"Helvetica,sans-Serif\" font-size=\"14.00\">samples = 28</text>\r\n",
       "<text text-anchor=\"start\" x=\"1107\" y=\"-22.8\" font-family=\"Helvetica,sans-Serif\" font-size=\"14.00\">value = [17, 11]</text>\r\n",
       "<text text-anchor=\"start\" x=\"1089\" y=\"-7.8\" font-family=\"Helvetica,sans-Serif\" font-size=\"14.00\">class = High Perform</text>\r\n",
       "</g>\r\n",
       "<!-- 27&#45;&gt;29 -->\r\n",
       "<g id=\"edge29\" class=\"edge\"><title>27&#45;&gt;29</title>\r\n",
       "<path fill=\"none\" stroke=\"black\" d=\"M1103.41,-103.726C1110.18,-94.7878 1117.36,-85.3168 1124.15,-76.3558\"/>\r\n",
       "<polygon fill=\"black\" stroke=\"black\" points=\"1127.01,-78.3832 1130.26,-68.2996 1121.43,-74.1547 1127.01,-78.3832\"/>\r\n",
       "</g>\r\n",
       "<!-- 32 -->\r\n",
       "<g id=\"node33\" class=\"node\"><title>32</title>\r\n",
       "<path fill=\"#e58139\" stroke=\"black\" d=\"M1467,-179.5C1467,-179.5 1342,-179.5 1342,-179.5 1336,-179.5 1330,-173.5 1330,-167.5 1330,-167.5 1330,-123.5 1330,-123.5 1330,-117.5 1336,-111.5 1342,-111.5 1342,-111.5 1467,-111.5 1467,-111.5 1473,-111.5 1479,-117.5 1479,-123.5 1479,-123.5 1479,-167.5 1479,-167.5 1479,-173.5 1473,-179.5 1467,-179.5\"/>\r\n",
       "<text text-anchor=\"start\" x=\"1362.5\" y=\"-164.3\" font-family=\"Helvetica,sans-Serif\" font-size=\"14.00\">entropy = 0.0</text>\r\n",
       "<text text-anchor=\"start\" x=\"1361\" y=\"-149.3\" font-family=\"Helvetica,sans-Serif\" font-size=\"14.00\">samples = 24</text>\r\n",
       "<text text-anchor=\"start\" x=\"1360\" y=\"-134.3\" font-family=\"Helvetica,sans-Serif\" font-size=\"14.00\">value = [24, 0]</text>\r\n",
       "<text text-anchor=\"start\" x=\"1338\" y=\"-119.3\" font-family=\"Helvetica,sans-Serif\" font-size=\"14.00\">class = High Perform</text>\r\n",
       "</g>\r\n",
       "<!-- 31&#45;&gt;32 -->\r\n",
       "<g id=\"edge32\" class=\"edge\"><title>31&#45;&gt;32</title>\r\n",
       "<path fill=\"none\" stroke=\"black\" d=\"M1404.5,-222.907C1404.5,-212.204 1404.5,-200.615 1404.5,-189.776\"/>\r\n",
       "<polygon fill=\"black\" stroke=\"black\" points=\"1408,-189.667 1404.5,-179.667 1401,-189.667 1408,-189.667\"/>\r\n",
       "</g>\r\n",
       "<!-- 33 -->\r\n",
       "<g id=\"node34\" class=\"node\"><title>33</title>\r\n",
       "<path fill=\"#eca06a\" stroke=\"black\" d=\"M1634,-187C1634,-187 1509,-187 1509,-187 1503,-187 1497,-181 1497,-175 1497,-175 1497,-116 1497,-116 1497,-110 1503,-104 1509,-104 1509,-104 1634,-104 1634,-104 1640,-104 1646,-110 1646,-116 1646,-116 1646,-175 1646,-175 1646,-181 1640,-187 1634,-187\"/>\r\n",
       "<text text-anchor=\"start\" x=\"1535.5\" y=\"-171.8\" font-family=\"Helvetica,sans-Serif\" font-size=\"14.00\">attr5 ≤ 45.5</text>\r\n",
       "<text text-anchor=\"start\" x=\"1521.5\" y=\"-156.8\" font-family=\"Helvetica,sans-Serif\" font-size=\"14.00\">entropy = 0.722</text>\r\n",
       "<text text-anchor=\"start\" x=\"1532\" y=\"-141.8\" font-family=\"Helvetica,sans-Serif\" font-size=\"14.00\">samples = 5</text>\r\n",
       "<text text-anchor=\"start\" x=\"1531\" y=\"-126.8\" font-family=\"Helvetica,sans-Serif\" font-size=\"14.00\">value = [4, 1]</text>\r\n",
       "<text text-anchor=\"start\" x=\"1505\" y=\"-111.8\" font-family=\"Helvetica,sans-Serif\" font-size=\"14.00\">class = High Perform</text>\r\n",
       "</g>\r\n",
       "<!-- 31&#45;&gt;33 -->\r\n",
       "<g id=\"edge33\" class=\"edge\"><title>31&#45;&gt;33</title>\r\n",
       "<path fill=\"none\" stroke=\"black\" d=\"M1462.44,-222.907C1476.3,-213.197 1491.2,-202.758 1505.4,-192.811\"/>\r\n",
       "<polygon fill=\"black\" stroke=\"black\" points=\"1507.48,-195.625 1513.66,-187.021 1503.46,-189.892 1507.48,-195.625\"/>\r\n",
       "</g>\r\n",
       "<!-- 34 -->\r\n",
       "<g id=\"node35\" class=\"node\"><title>34</title>\r\n",
       "<path fill=\"#399de5\" stroke=\"black\" d=\"M1467,-68C1467,-68 1344,-68 1344,-68 1338,-68 1332,-62 1332,-56 1332,-56 1332,-12 1332,-12 1332,-6 1338,-0 1344,-0 1344,-0 1467,-0 1467,-0 1473,-0 1479,-6 1479,-12 1479,-12 1479,-56 1479,-56 1479,-62 1473,-68 1467,-68\"/>\r\n",
       "<text text-anchor=\"start\" x=\"1363.5\" y=\"-52.8\" font-family=\"Helvetica,sans-Serif\" font-size=\"14.00\">entropy = 0.0</text>\r\n",
       "<text text-anchor=\"start\" x=\"1366\" y=\"-37.8\" font-family=\"Helvetica,sans-Serif\" font-size=\"14.00\">samples = 1</text>\r\n",
       "<text text-anchor=\"start\" x=\"1365\" y=\"-22.8\" font-family=\"Helvetica,sans-Serif\" font-size=\"14.00\">value = [0, 1]</text>\r\n",
       "<text text-anchor=\"start\" x=\"1340\" y=\"-7.8\" font-family=\"Helvetica,sans-Serif\" font-size=\"14.00\">class = Low Perform</text>\r\n",
       "</g>\r\n",
       "<!-- 33&#45;&gt;34 -->\r\n",
       "<g id=\"edge34\" class=\"edge\"><title>33&#45;&gt;34</title>\r\n",
       "<path fill=\"none\" stroke=\"black\" d=\"M1509.69,-103.726C1494.82,-93.9161 1478.97,-83.4644 1464.24,-73.7496\"/>\r\n",
       "<polygon fill=\"black\" stroke=\"black\" points=\"1465.99,-70.7099 1455.72,-68.1252 1462.14,-76.5532 1465.99,-70.7099\"/>\r\n",
       "</g>\r\n",
       "<!-- 35 -->\r\n",
       "<g id=\"node36\" class=\"node\"><title>35</title>\r\n",
       "<path fill=\"#e58139\" stroke=\"black\" d=\"M1634,-68C1634,-68 1509,-68 1509,-68 1503,-68 1497,-62 1497,-56 1497,-56 1497,-12 1497,-12 1497,-6 1503,-0 1509,-0 1509,-0 1634,-0 1634,-0 1640,-0 1646,-6 1646,-12 1646,-12 1646,-56 1646,-56 1646,-62 1640,-68 1634,-68\"/>\r\n",
       "<text text-anchor=\"start\" x=\"1529.5\" y=\"-52.8\" font-family=\"Helvetica,sans-Serif\" font-size=\"14.00\">entropy = 0.0</text>\r\n",
       "<text text-anchor=\"start\" x=\"1532\" y=\"-37.8\" font-family=\"Helvetica,sans-Serif\" font-size=\"14.00\">samples = 4</text>\r\n",
       "<text text-anchor=\"start\" x=\"1531\" y=\"-22.8\" font-family=\"Helvetica,sans-Serif\" font-size=\"14.00\">value = [4, 0]</text>\r\n",
       "<text text-anchor=\"start\" x=\"1505\" y=\"-7.8\" font-family=\"Helvetica,sans-Serif\" font-size=\"14.00\">class = High Perform</text>\r\n",
       "</g>\r\n",
       "<!-- 33&#45;&gt;35 -->\r\n",
       "<g id=\"edge35\" class=\"edge\"><title>33&#45;&gt;35</title>\r\n",
       "<path fill=\"none\" stroke=\"black\" d=\"M1571.5,-103.726C1571.5,-95.5175 1571.5,-86.8595 1571.5,-78.56\"/>\r\n",
       "<polygon fill=\"black\" stroke=\"black\" points=\"1575,-78.2996 1571.5,-68.2996 1568,-78.2996 1575,-78.2996\"/>\r\n",
       "</g>\r\n",
       "<!-- 37 -->\r\n",
       "<g id=\"node38\" class=\"node\"><title>37</title>\r\n",
       "<path fill=\"#55abe9\" stroke=\"black\" d=\"M1883,-306C1883,-306 1760,-306 1760,-306 1754,-306 1748,-300 1748,-294 1748,-294 1748,-235 1748,-235 1748,-229 1754,-223 1760,-223 1760,-223 1883,-223 1883,-223 1889,-223 1895,-229 1895,-235 1895,-235 1895,-294 1895,-294 1895,-300 1889,-306 1883,-306\"/>\r\n",
       "<text text-anchor=\"start\" x=\"1785.5\" y=\"-290.8\" font-family=\"Helvetica,sans-Serif\" font-size=\"14.00\">attr3 ≤ 20.5</text>\r\n",
       "<text text-anchor=\"start\" x=\"1771.5\" y=\"-275.8\" font-family=\"Helvetica,sans-Serif\" font-size=\"14.00\">entropy = 0.544</text>\r\n",
       "<text text-anchor=\"start\" x=\"1782\" y=\"-260.8\" font-family=\"Helvetica,sans-Serif\" font-size=\"14.00\">samples = 8</text>\r\n",
       "<text text-anchor=\"start\" x=\"1781\" y=\"-245.8\" font-family=\"Helvetica,sans-Serif\" font-size=\"14.00\">value = [1, 7]</text>\r\n",
       "<text text-anchor=\"start\" x=\"1756\" y=\"-230.8\" font-family=\"Helvetica,sans-Serif\" font-size=\"14.00\">class = Low Perform</text>\r\n",
       "</g>\r\n",
       "<!-- 36&#45;&gt;37 -->\r\n",
       "<g id=\"edge37\" class=\"edge\"><title>36&#45;&gt;37</title>\r\n",
       "<path fill=\"none\" stroke=\"black\" d=\"M1821.5,-341.907C1821.5,-333.649 1821.5,-324.864 1821.5,-316.302\"/>\r\n",
       "<polygon fill=\"black\" stroke=\"black\" points=\"1825,-316.021 1821.5,-306.021 1818,-316.021 1825,-316.021\"/>\r\n",
       "</g>\r\n",
       "<!-- 42 -->\r\n",
       "<g id=\"node43\" class=\"node\"><title>42</title>\r\n",
       "<path fill=\"#ea9a61\" stroke=\"black\" d=\"M2133,-306C2133,-306 2008,-306 2008,-306 2002,-306 1996,-300 1996,-294 1996,-294 1996,-235 1996,-235 1996,-229 2002,-223 2008,-223 2008,-223 2133,-223 2133,-223 2139,-223 2145,-229 2145,-235 2145,-235 2145,-294 2145,-294 2145,-300 2139,-306 2133,-306\"/>\r\n",
       "<text text-anchor=\"start\" x=\"2034.5\" y=\"-290.8\" font-family=\"Helvetica,sans-Serif\" font-size=\"14.00\">attr2 ≤ 16.0</text>\r\n",
       "<text text-anchor=\"start\" x=\"2024.5\" y=\"-275.8\" font-family=\"Helvetica,sans-Serif\" font-size=\"14.00\">entropy = 0.65</text>\r\n",
       "<text text-anchor=\"start\" x=\"2031\" y=\"-260.8\" font-family=\"Helvetica,sans-Serif\" font-size=\"14.00\">samples = 6</text>\r\n",
       "<text text-anchor=\"start\" x=\"2030\" y=\"-245.8\" font-family=\"Helvetica,sans-Serif\" font-size=\"14.00\">value = [5, 1]</text>\r\n",
       "<text text-anchor=\"start\" x=\"2004\" y=\"-230.8\" font-family=\"Helvetica,sans-Serif\" font-size=\"14.00\">class = High Perform</text>\r\n",
       "</g>\r\n",
       "<!-- 36&#45;&gt;42 -->\r\n",
       "<g id=\"edge42\" class=\"edge\"><title>36&#45;&gt;42</title>\r\n",
       "<path fill=\"none\" stroke=\"black\" d=\"M1895.2,-347.871C1923.92,-334.375 1956.99,-318.834 1986.62,-304.912\"/>\r\n",
       "<polygon fill=\"black\" stroke=\"black\" points=\"1988.14,-308.068 1995.7,-300.648 1985.16,-301.733 1988.14,-308.068\"/>\r\n",
       "</g>\r\n",
       "<!-- 38 -->\r\n",
       "<g id=\"node39\" class=\"node\"><title>38</title>\r\n",
       "<path fill=\"#ffffff\" stroke=\"black\" d=\"M1801,-187C1801,-187 1676,-187 1676,-187 1670,-187 1664,-181 1664,-175 1664,-175 1664,-116 1664,-116 1664,-110 1670,-104 1676,-104 1676,-104 1801,-104 1801,-104 1807,-104 1813,-110 1813,-116 1813,-116 1813,-175 1813,-175 1813,-181 1807,-187 1801,-187\"/>\r\n",
       "<text text-anchor=\"start\" x=\"1702.5\" y=\"-171.8\" font-family=\"Helvetica,sans-Serif\" font-size=\"14.00\">attr3 ≤ 19.5</text>\r\n",
       "<text text-anchor=\"start\" x=\"1696.5\" y=\"-156.8\" font-family=\"Helvetica,sans-Serif\" font-size=\"14.00\">entropy = 1.0</text>\r\n",
       "<text text-anchor=\"start\" x=\"1699\" y=\"-141.8\" font-family=\"Helvetica,sans-Serif\" font-size=\"14.00\">samples = 2</text>\r\n",
       "<text text-anchor=\"start\" x=\"1698\" y=\"-126.8\" font-family=\"Helvetica,sans-Serif\" font-size=\"14.00\">value = [1, 1]</text>\r\n",
       "<text text-anchor=\"start\" x=\"1672\" y=\"-111.8\" font-family=\"Helvetica,sans-Serif\" font-size=\"14.00\">class = High Perform</text>\r\n",
       "</g>\r\n",
       "<!-- 37&#45;&gt;38 -->\r\n",
       "<g id=\"edge38\" class=\"edge\"><title>37&#45;&gt;38</title>\r\n",
       "<path fill=\"none\" stroke=\"black\" d=\"M1792.7,-222.907C1786.39,-214.014 1779.65,-204.509 1773.14,-195.331\"/>\r\n",
       "<polygon fill=\"black\" stroke=\"black\" points=\"1775.89,-193.152 1767.25,-187.021 1770.18,-197.202 1775.89,-193.152\"/>\r\n",
       "</g>\r\n",
       "<!-- 41 -->\r\n",
       "<g id=\"node42\" class=\"node\"><title>41</title>\r\n",
       "<path fill=\"#399de5\" stroke=\"black\" d=\"M1966,-179.5C1966,-179.5 1843,-179.5 1843,-179.5 1837,-179.5 1831,-173.5 1831,-167.5 1831,-167.5 1831,-123.5 1831,-123.5 1831,-117.5 1837,-111.5 1843,-111.5 1843,-111.5 1966,-111.5 1966,-111.5 1972,-111.5 1978,-117.5 1978,-123.5 1978,-123.5 1978,-167.5 1978,-167.5 1978,-173.5 1972,-179.5 1966,-179.5\"/>\r\n",
       "<text text-anchor=\"start\" x=\"1862.5\" y=\"-164.3\" font-family=\"Helvetica,sans-Serif\" font-size=\"14.00\">entropy = 0.0</text>\r\n",
       "<text text-anchor=\"start\" x=\"1865\" y=\"-149.3\" font-family=\"Helvetica,sans-Serif\" font-size=\"14.00\">samples = 6</text>\r\n",
       "<text text-anchor=\"start\" x=\"1864\" y=\"-134.3\" font-family=\"Helvetica,sans-Serif\" font-size=\"14.00\">value = [0, 6]</text>\r\n",
       "<text text-anchor=\"start\" x=\"1839\" y=\"-119.3\" font-family=\"Helvetica,sans-Serif\" font-size=\"14.00\">class = Low Perform</text>\r\n",
       "</g>\r\n",
       "<!-- 37&#45;&gt;41 -->\r\n",
       "<g id=\"edge41\" class=\"edge\"><title>37&#45;&gt;41</title>\r\n",
       "<path fill=\"none\" stroke=\"black\" d=\"M1850.3,-222.907C1858.28,-211.652 1866.96,-199.418 1874.98,-188.106\"/>\r\n",
       "<polygon fill=\"black\" stroke=\"black\" points=\"1878.04,-189.848 1880.97,-179.667 1872.33,-185.798 1878.04,-189.848\"/>\r\n",
       "</g>\r\n",
       "<!-- 39 -->\r\n",
       "<g id=\"node40\" class=\"node\"><title>39</title>\r\n",
       "<path fill=\"#399de5\" stroke=\"black\" d=\"M1799,-68C1799,-68 1676,-68 1676,-68 1670,-68 1664,-62 1664,-56 1664,-56 1664,-12 1664,-12 1664,-6 1670,-0 1676,-0 1676,-0 1799,-0 1799,-0 1805,-0 1811,-6 1811,-12 1811,-12 1811,-56 1811,-56 1811,-62 1805,-68 1799,-68\"/>\r\n",
       "<text text-anchor=\"start\" x=\"1695.5\" y=\"-52.8\" font-family=\"Helvetica,sans-Serif\" font-size=\"14.00\">entropy = 0.0</text>\r\n",
       "<text text-anchor=\"start\" x=\"1698\" y=\"-37.8\" font-family=\"Helvetica,sans-Serif\" font-size=\"14.00\">samples = 1</text>\r\n",
       "<text text-anchor=\"start\" x=\"1697\" y=\"-22.8\" font-family=\"Helvetica,sans-Serif\" font-size=\"14.00\">value = [0, 1]</text>\r\n",
       "<text text-anchor=\"start\" x=\"1672\" y=\"-7.8\" font-family=\"Helvetica,sans-Serif\" font-size=\"14.00\">class = Low Perform</text>\r\n",
       "</g>\r\n",
       "<!-- 38&#45;&gt;39 -->\r\n",
       "<g id=\"edge39\" class=\"edge\"><title>38&#45;&gt;39</title>\r\n",
       "<path fill=\"none\" stroke=\"black\" d=\"M1738.13,-103.726C1738.05,-95.5175 1737.97,-86.8595 1737.9,-78.56\"/>\r\n",
       "<polygon fill=\"black\" stroke=\"black\" points=\"1741.4,-78.2672 1737.8,-68.2996 1734.4,-78.3312 1741.4,-78.2672\"/>\r\n",
       "</g>\r\n",
       "<!-- 40 -->\r\n",
       "<g id=\"node41\" class=\"node\"><title>40</title>\r\n",
       "<path fill=\"#e58139\" stroke=\"black\" d=\"M1966,-68C1966,-68 1841,-68 1841,-68 1835,-68 1829,-62 1829,-56 1829,-56 1829,-12 1829,-12 1829,-6 1835,-0 1841,-0 1841,-0 1966,-0 1966,-0 1972,-0 1978,-6 1978,-12 1978,-12 1978,-56 1978,-56 1978,-62 1972,-68 1966,-68\"/>\r\n",
       "<text text-anchor=\"start\" x=\"1861.5\" y=\"-52.8\" font-family=\"Helvetica,sans-Serif\" font-size=\"14.00\">entropy = 0.0</text>\r\n",
       "<text text-anchor=\"start\" x=\"1864\" y=\"-37.8\" font-family=\"Helvetica,sans-Serif\" font-size=\"14.00\">samples = 1</text>\r\n",
       "<text text-anchor=\"start\" x=\"1863\" y=\"-22.8\" font-family=\"Helvetica,sans-Serif\" font-size=\"14.00\">value = [1, 0]</text>\r\n",
       "<text text-anchor=\"start\" x=\"1837\" y=\"-7.8\" font-family=\"Helvetica,sans-Serif\" font-size=\"14.00\">class = High Perform</text>\r\n",
       "</g>\r\n",
       "<!-- 38&#45;&gt;40 -->\r\n",
       "<g id=\"edge40\" class=\"edge\"><title>38&#45;&gt;40</title>\r\n",
       "<path fill=\"none\" stroke=\"black\" d=\"M1799.94,-103.726C1814.72,-93.9161 1830.47,-83.4644 1845.11,-73.7496\"/>\r\n",
       "<polygon fill=\"black\" stroke=\"black\" points=\"1847.19,-76.571 1853.59,-68.1252 1843.32,-70.7385 1847.19,-76.571\"/>\r\n",
       "</g>\r\n",
       "<!-- 43 -->\r\n",
       "<g id=\"node44\" class=\"node\"><title>43</title>\r\n",
       "<path fill=\"#e58139\" stroke=\"black\" d=\"M2133,-179.5C2133,-179.5 2008,-179.5 2008,-179.5 2002,-179.5 1996,-173.5 1996,-167.5 1996,-167.5 1996,-123.5 1996,-123.5 1996,-117.5 2002,-111.5 2008,-111.5 2008,-111.5 2133,-111.5 2133,-111.5 2139,-111.5 2145,-117.5 2145,-123.5 2145,-123.5 2145,-167.5 2145,-167.5 2145,-173.5 2139,-179.5 2133,-179.5\"/>\r\n",
       "<text text-anchor=\"start\" x=\"2028.5\" y=\"-164.3\" font-family=\"Helvetica,sans-Serif\" font-size=\"14.00\">entropy = 0.0</text>\r\n",
       "<text text-anchor=\"start\" x=\"2031\" y=\"-149.3\" font-family=\"Helvetica,sans-Serif\" font-size=\"14.00\">samples = 4</text>\r\n",
       "<text text-anchor=\"start\" x=\"2030\" y=\"-134.3\" font-family=\"Helvetica,sans-Serif\" font-size=\"14.00\">value = [4, 0]</text>\r\n",
       "<text text-anchor=\"start\" x=\"2004\" y=\"-119.3\" font-family=\"Helvetica,sans-Serif\" font-size=\"14.00\">class = High Perform</text>\r\n",
       "</g>\r\n",
       "<!-- 42&#45;&gt;43 -->\r\n",
       "<g id=\"edge43\" class=\"edge\"><title>42&#45;&gt;43</title>\r\n",
       "<path fill=\"none\" stroke=\"black\" d=\"M2070.5,-222.907C2070.5,-212.204 2070.5,-200.615 2070.5,-189.776\"/>\r\n",
       "<polygon fill=\"black\" stroke=\"black\" points=\"2074,-189.667 2070.5,-179.667 2067,-189.667 2074,-189.667\"/>\r\n",
       "</g>\r\n",
       "<!-- 44 -->\r\n",
       "<g id=\"node45\" class=\"node\"><title>44</title>\r\n",
       "<path fill=\"#ffffff\" stroke=\"black\" d=\"M2300,-187C2300,-187 2175,-187 2175,-187 2169,-187 2163,-181 2163,-175 2163,-175 2163,-116 2163,-116 2163,-110 2169,-104 2175,-104 2175,-104 2300,-104 2300,-104 2306,-104 2312,-110 2312,-116 2312,-116 2312,-175 2312,-175 2312,-181 2306,-187 2300,-187\"/>\r\n",
       "<text text-anchor=\"start\" x=\"2201.5\" y=\"-171.8\" font-family=\"Helvetica,sans-Serif\" font-size=\"14.00\">attr3 ≤ 25.5</text>\r\n",
       "<text text-anchor=\"start\" x=\"2195.5\" y=\"-156.8\" font-family=\"Helvetica,sans-Serif\" font-size=\"14.00\">entropy = 1.0</text>\r\n",
       "<text text-anchor=\"start\" x=\"2198\" y=\"-141.8\" font-family=\"Helvetica,sans-Serif\" font-size=\"14.00\">samples = 2</text>\r\n",
       "<text text-anchor=\"start\" x=\"2197\" y=\"-126.8\" font-family=\"Helvetica,sans-Serif\" font-size=\"14.00\">value = [1, 1]</text>\r\n",
       "<text text-anchor=\"start\" x=\"2171\" y=\"-111.8\" font-family=\"Helvetica,sans-Serif\" font-size=\"14.00\">class = High Perform</text>\r\n",
       "</g>\r\n",
       "<!-- 42&#45;&gt;44 -->\r\n",
       "<g id=\"edge44\" class=\"edge\"><title>42&#45;&gt;44</title>\r\n",
       "<path fill=\"none\" stroke=\"black\" d=\"M2128.44,-222.907C2142.3,-213.197 2157.2,-202.758 2171.4,-192.811\"/>\r\n",
       "<polygon fill=\"black\" stroke=\"black\" points=\"2173.48,-195.625 2179.66,-187.021 2169.46,-189.892 2173.48,-195.625\"/>\r\n",
       "</g>\r\n",
       "<!-- 45 -->\r\n",
       "<g id=\"node46\" class=\"node\"><title>45</title>\r\n",
       "<path fill=\"#399de5\" stroke=\"black\" d=\"M2216,-68C2216,-68 2093,-68 2093,-68 2087,-68 2081,-62 2081,-56 2081,-56 2081,-12 2081,-12 2081,-6 2087,-0 2093,-0 2093,-0 2216,-0 2216,-0 2222,-0 2228,-6 2228,-12 2228,-12 2228,-56 2228,-56 2228,-62 2222,-68 2216,-68\"/>\r\n",
       "<text text-anchor=\"start\" x=\"2112.5\" y=\"-52.8\" font-family=\"Helvetica,sans-Serif\" font-size=\"14.00\">entropy = 0.0</text>\r\n",
       "<text text-anchor=\"start\" x=\"2115\" y=\"-37.8\" font-family=\"Helvetica,sans-Serif\" font-size=\"14.00\">samples = 1</text>\r\n",
       "<text text-anchor=\"start\" x=\"2114\" y=\"-22.8\" font-family=\"Helvetica,sans-Serif\" font-size=\"14.00\">value = [0, 1]</text>\r\n",
       "<text text-anchor=\"start\" x=\"2089\" y=\"-7.8\" font-family=\"Helvetica,sans-Serif\" font-size=\"14.00\">class = Low Perform</text>\r\n",
       "</g>\r\n",
       "<!-- 44&#45;&gt;45 -->\r\n",
       "<g id=\"edge45\" class=\"edge\"><title>44&#45;&gt;45</title>\r\n",
       "<path fill=\"none\" stroke=\"black\" d=\"M2206.59,-103.726C2199.82,-94.7878 2192.64,-85.3168 2185.85,-76.3558\"/>\r\n",
       "<polygon fill=\"black\" stroke=\"black\" points=\"2188.57,-74.1547 2179.74,-68.2996 2182.99,-78.3832 2188.57,-74.1547\"/>\r\n",
       "</g>\r\n",
       "<!-- 46 -->\r\n",
       "<g id=\"node47\" class=\"node\"><title>46</title>\r\n",
       "<path fill=\"#e58139\" stroke=\"black\" d=\"M2383,-68C2383,-68 2258,-68 2258,-68 2252,-68 2246,-62 2246,-56 2246,-56 2246,-12 2246,-12 2246,-6 2252,-0 2258,-0 2258,-0 2383,-0 2383,-0 2389,-0 2395,-6 2395,-12 2395,-12 2395,-56 2395,-56 2395,-62 2389,-68 2383,-68\"/>\r\n",
       "<text text-anchor=\"start\" x=\"2278.5\" y=\"-52.8\" font-family=\"Helvetica,sans-Serif\" font-size=\"14.00\">entropy = 0.0</text>\r\n",
       "<text text-anchor=\"start\" x=\"2281\" y=\"-37.8\" font-family=\"Helvetica,sans-Serif\" font-size=\"14.00\">samples = 1</text>\r\n",
       "<text text-anchor=\"start\" x=\"2280\" y=\"-22.8\" font-family=\"Helvetica,sans-Serif\" font-size=\"14.00\">value = [1, 0]</text>\r\n",
       "<text text-anchor=\"start\" x=\"2254\" y=\"-7.8\" font-family=\"Helvetica,sans-Serif\" font-size=\"14.00\">class = High Perform</text>\r\n",
       "</g>\r\n",
       "<!-- 44&#45;&gt;46 -->\r\n",
       "<g id=\"edge46\" class=\"edge\"><title>44&#45;&gt;46</title>\r\n",
       "<path fill=\"none\" stroke=\"black\" d=\"M2268.41,-103.726C2275.18,-94.7878 2282.36,-85.3168 2289.15,-76.3558\"/>\r\n",
       "<polygon fill=\"black\" stroke=\"black\" points=\"2292.01,-78.3832 2295.26,-68.2996 2286.43,-74.1547 2292.01,-78.3832\"/>\r\n",
       "</g>\r\n",
       "</g>\r\n",
       "</svg>\r\n"
      ],
      "text/plain": [
       "<graphviz.files.Source at 0x14c0df3d6a0>"
      ]
     },
     "execution_count": 118,
     "metadata": {},
     "output_type": "execute_result"
    }
   ],
   "source": [
    "banana = tree.export_graphviz(clf1,\n",
    "        out_file=None, #image_path(\"HW1.dot\")\n",
    "        feature_names=list(X.columns),\n",
    "        class_names=[\"High Perform\",\"Low Perform\"],\n",
    "        rounded=True,\n",
    "        filled=True,\n",
    "        special_characters=True)\n",
    "\n",
    "graph = graphviz.Source(banana) \n",
    "graph"
   ]
  },
  {
   "cell_type": "markdown",
   "metadata": {
    "ExecuteTime": {
     "end_time": "2019-10-11T19:59:18.370175Z",
     "start_time": "2019-10-11T19:59:18.367854Z"
    }
   },
   "source": [
    "# Question 5"
   ]
  },
  {
   "cell_type": "code",
   "execution_count": 119,
   "metadata": {
    "ExecuteTime": {
     "end_time": "2019-10-11T20:33:06.901995Z",
     "start_time": "2019-10-11T20:33:06.758366Z"
    }
   },
   "outputs": [
    {
     "name": "stdout",
     "output_type": "stream",
     "text": [
      "Nested CV F1-Score:  0.4165873015873016  +/-  0.22286032252513924\n",
      "Accuracy 0.6692261904761905  +/-  0.12431446084722791\n",
      "Recall  0.35  +/-  0.2176898915634093\n",
      "Precision 0.5866666666666667  +/-  0.3135637450698378\n"
     ]
    }
   ],
   "source": [
    "clf2 = LogisticRegression(C=100, penalty='l1', random_state=32)\n",
    "\n",
    "clf2 = clf2.fit(X,y)\n",
    "\n",
    "DT_score = cross_val_score(clf2, X=X, y=y, cv=outer_cv, scoring=\"f1\")\n",
    "print(\"Nested CV F1-Score: \",DT_score.mean(), \" +/- \", DT_score.std())\n",
    "D2 = cross_val_score(clf2, X=X, y=y, cv=outer_cv, scoring=\"accuracy\")\n",
    "print(\"Accuracy\",D2.mean(), \" +/- \", D2.std())\n",
    "D3 = cross_val_score(clf2, X=X, y=y, cv=outer_cv, scoring=\"recall\")\n",
    "print(\"Recall \",D3.mean(), \" +/- \", D3.std())\n",
    "D4 = cross_val_score(clf2, X=X, y=y, cv=outer_cv, scoring=\"precision\")\n",
    "print(\"Precision\",D4.mean(), \" +/- \", D4.std())"
   ]
  },
  {
   "cell_type": "markdown",
   "metadata": {},
   "source": [
    "# Quesiton 6"
   ]
  },
  {
   "cell_type": "code",
   "execution_count": 120,
   "metadata": {
    "ExecuteTime": {
     "end_time": "2019-10-11T20:33:10.336593Z",
     "start_time": "2019-10-11T20:33:10.194999Z"
    }
   },
   "outputs": [
    {
     "name": "stdout",
     "output_type": "stream",
     "text": [
      "Nested CV F1-Score:  0.4031096681096681  +/-  0.15240012782323778\n",
      "Accuracy 0.5906547619047618  +/-  0.08231436976932727\n",
      "Recall  0.43  +/-  0.2213343373471204\n",
      "Precision 0.4178571428571428  +/-  0.10661377302506209\n"
     ]
    }
   ],
   "source": [
    "clf3 = KNeighborsClassifier(n_neighbors=3)\n",
    "\n",
    "clf3 = clf3.fit(X,y)\n",
    "\n",
    "DT_score = cross_val_score(clf3, X=X, y=y, cv=outer_cv, scoring=\"f1\")\n",
    "print(\"Nested CV F1-Score: \",DT_score.mean(), \" +/- \", DT_score.std())\n",
    "D2 = cross_val_score(clf3, X=X, y=y, cv=outer_cv, scoring=\"accuracy\")\n",
    "print(\"Accuracy\",D2.mean(), \" +/- \", D2.std())\n",
    "D3 = cross_val_score(clf3, X=X, y=y, cv=outer_cv, scoring=\"recall\")\n",
    "print(\"Recall \",D3.mean(), \" +/- \", D3.std())\n",
    "D4 = cross_val_score(clf3, X=X, y=y, cv=outer_cv, scoring=\"precision\")\n",
    "print(\"Precision\",D4.mean(), \" +/- \", D4.std())"
   ]
  },
  {
   "cell_type": "markdown",
   "metadata": {},
   "source": [
    "# Question 7"
   ]
  },
  {
   "cell_type": "code",
   "execution_count": 121,
   "metadata": {
    "ExecuteTime": {
     "end_time": "2019-10-11T20:33:19.197312Z",
     "start_time": "2019-10-11T20:33:18.960696Z"
    }
   },
   "outputs": [
    {
     "name": "stdout",
     "output_type": "stream",
     "text": [
      "5-fold cross validation:\n",
      "\n",
      "ROC AUC: 0.68 (+/- 0.13) [Logistic regression]\n",
      "ROC AUC: 0.68 (+/- 0.26) [Decision tree]\n",
      "ROC AUC: 0.62 (+/- 0.16) [kNN]\n"
     ]
    },
    {
     "data": {
      "image/png": "[encoded data removed]",
      "text/plain": [
       "<Figure size 432x288 with 1 Axes>"
      ]
     },
     "metadata": {},
     "output_type": "display_data"
    }
   ],
   "source": [
    "sc = StandardScaler()\n",
    "sc.fit(X)\n",
    "X_std = sc.transform(X)\n",
    "\n",
    "# Logistic Regression Classifier\n",
    "clf1 = LogisticRegression(C=100, penalty='l1', random_state=32)\n",
    "\n",
    "# Decision Tree Classifier\n",
    "clf2 = DecisionTreeClassifier(criterion='entropy', max_depth=6,random_state=32)\n",
    "\n",
    "# kNN Classifier\n",
    "clf3 = KNeighborsClassifier(n_neighbors=3)\n",
    "\n",
    "# Label the classifiers\n",
    "clf_labels = ['Logistic regression', 'Decision tree', 'kNN']\n",
    "all_clf = [clf1, clf2, clf3]\n",
    "\n",
    "#################################### Cross - Validation ####################################\n",
    "cv = StratifiedKFold(n_splits=10, shuffle=True, random_state=32)\n",
    "\n",
    "print('5-fold cross validation:\\n')\n",
    "# Note: We are assuming here that the data is standardized. For the homework, you need to make sure the data is standardized.\n",
    "for clf, label in zip([clf1, clf2, clf3], clf_labels): #For all classifiers \n",
    "    scores = cross_val_score(estimator=clf,  #Estimate AUC based on cross validation\n",
    "                             X=X, #We are using standardized dataset\n",
    "                             y=y,\n",
    "                             cv=10,\n",
    "                             scoring='roc_auc')\n",
    "    print(\"ROC AUC: %0.2f (+/- %0.2f) [%s]\" #Print peformance statistics based on cross-validation\n",
    "          % (scores.mean(), scores.std(), label))\n",
    "\n",
    "##################################### Visualization ######################################\n",
    "\n",
    "colors = [ 'orange', 'blue', 'green']      # Colors for visualization\n",
    "linestyles = [':', '--', '-.', '-']        # Line styles for visualization\n",
    "for clf, label, clr, ls in zip(all_clf,\n",
    "               clf_labels, colors, linestyles):\n",
    "\n",
    "    # Assuming the label of the positive class is 1 and data is normalized\n",
    "    y_pred = clf.fit(X_train, #use std?\n",
    "                     y_train).predict_proba(X_test)[:, 1] # Make predictions based on the classifiers\n",
    "    fpr, tpr, thresholds = roc_curve(y_true=y_test, # Build ROC curve\n",
    "                                     y_score=y_pred)\n",
    "    roc_auc = auc(x=fpr, y=tpr)                # Compute Area Under the Curve (AUC) \n",
    "    plt.plot(fpr, tpr,                         # Plot ROC Curve and create label with AUC values\n",
    "             color=clr,\n",
    "             linestyle=ls,\n",
    "             label='%s (auc = %0.2f)' % (label, roc_auc))\n",
    "\n",
    "plt.legend(loc='lower right')    # Where to place the legend\n",
    "plt.plot([0, 1], [0, 1], # Visualize random classifier\n",
    "         linestyle='--',\n",
    "         color='gray',\n",
    "         linewidth=2)\n",
    "\n",
    "plt.xlim([-0.1, 1.1])   #limits for x axis\n",
    "plt.ylim([-0.1, 1.1])   #limits for y axis\n",
    "plt.grid(alpha=0.5)\n",
    "plt.xlabel('False positive rate (FPR)')\n",
    "plt.ylabel('True positive rate (TPR)')\n",
    "\n",
    "plt.title('ROC Curves', loc='center',fontsize=15)\n",
    "#plt.savefig('ROC_all_classifiers', dpi=300)\n",
    "plt.show()"
   ]
  },
  {
   "cell_type": "markdown",
   "metadata": {
    "ExecuteTime": {
     "end_time": "2019-10-11T19:59:57.113595Z",
     "start_time": "2019-10-11T19:59:57.110279Z"
    }
   },
   "source": [
    "# Question 8"
   ]
  },
  {
   "cell_type": "code",
   "execution_count": 122,
   "metadata": {
    "ExecuteTime": {
     "end_time": "2019-10-11T20:34:27.806368Z",
     "start_time": "2019-10-11T20:33:28.468745Z"
    }
   },
   "outputs": [
    {
     "name": "stdout",
     "output_type": "stream",
     "text": [
      "\n",
      "Decision Tree Parameter Tuning\n",
      "Non-nested CV F1-Score:  0.5927025355596784\n",
      "Optimal Parameter:  {'criterion': 'entropy', 'max_depth': 5, 'min_samples_leaf': 5, 'min_samples_split': 2}\n",
      "Optimal Estimator:  DecisionTreeClassifier(class_weight=None, criterion='entropy', max_depth=5,\n",
      "                       max_features=None, max_leaf_nodes=None,\n",
      "                       min_impurity_decrease=0.0, min_impurity_split=None,\n",
      "                       min_samples_leaf=5, min_samples_split=2,\n",
      "                       min_weight_fraction_leaf=0.0, presort=False,\n",
      "                       random_state=32, splitter='best')\n"
     ]
    },
    {
     "name": "stderr",
     "output_type": "stream",
     "text": [
      "C:\\Users\\carlj\\AppData\\Roaming\\Python\\Python37\\site-packages\\sklearn\\metrics\\classification.py:1437: UndefinedMetricWarning: F-score is ill-defined and being set to 0.0 due to no predicted samples.\n",
      "  'precision', 'predicted', average, warn_for)\n"
     ]
    },
    {
     "name": "stdout",
     "output_type": "stream",
     "text": [
      "Nested CV F1-Score:  0.49327505827505824  +/-  0.2394150042734044\n"
     ]
    }
   ],
   "source": [
    "sc = StandardScaler()\n",
    "sc.fit(X)\n",
    "X_std = sc.transform(X)\n",
    "\n",
    "gs_dt = GridSearchCV(estimator=DecisionTreeClassifier(random_state=32),\n",
    "                  param_grid=[{'max_depth': [1, 2, 3, 4, 5], 'criterion':['gini','entropy'], \n",
    "                              'min_samples_leaf':[1,2,3,4,5],\n",
    "                              'min_samples_split':[2,3,4,5]}],\n",
    "                  scoring='f1', # Specifying multiple metrics for evaluation\n",
    "                  cv=inner_cv,\n",
    "                  n_jobs=-1)\n",
    "\n",
    "gs_dt = gs_dt.fit(X,y)\n",
    "print(\"\\nDecision Tree Parameter Tuning\")\n",
    "print(\"Non-nested CV F1-Score: \", gs_dt.best_score_)\n",
    "print(\"Optimal Parameter: \", gs_dt.best_params_) # Parameter setting that gave the best results on the hold out data.\n",
    "print(\"Optimal Estimator: \", gs_dt.best_estimator_) # Estimator that was chosen by the search, i.e. estimator which gave highest score\n",
    "nested_score_gs_dt = cross_val_score(gs_dt, X=X, y=y, cv=outer_cv)\n",
    "print(\"Nested CV F1-Score: \",nested_score_gs_dt.mean(), \" +/- \", nested_score_gs_dt.std())"
   ]
  },
  {
   "cell_type": "markdown",
   "metadata": {},
   "source": [
    "# Question 9"
   ]
  },
  {
   "cell_type": "code",
   "execution_count": 126,
   "metadata": {
    "ExecuteTime": {
     "end_time": "2019-10-11T20:36:06.496955Z",
     "start_time": "2019-10-11T20:36:01.247795Z"
    }
   },
   "outputs": [
    {
     "name": "stdout",
     "output_type": "stream",
     "text": [
      "\n",
      " Logistic Regression Parameter Tuning\n",
      "Non-nested CV F1-Score:  0.4136810279667423\n",
      "Optimal Parameter:  {'C': 100, 'penalty': 'l1'}\n",
      "Optimal Estimator:  LogisticRegression(C=100, class_weight=None, dual=False, fit_intercept=True,\n",
      "                   intercept_scaling=1, l1_ratio=None, max_iter=100,\n",
      "                   multi_class='warn', n_jobs=None, penalty='l1',\n",
      "                   random_state=32, solver='warn', tol=0.0001, verbose=0,\n",
      "                   warm_start=False)\n",
      "Nested CV F1-Score: 0.3971428571428572  +/-  0.22800475389880256\n"
     ]
    }
   ],
   "source": [
    "sc = StandardScaler()\n",
    "sc.fit(X)\n",
    "X_std = sc.transform(X)\n",
    "\n",
    "gs_lr = GridSearchCV(estimator=LogisticRegression(random_state=32),\n",
    "                  param_grid=[{'C': [ 0.00001, 0.0001, 0.001, 0.01, 0.1 ,1 ,10 ,100, 1000],\n",
    "                             'penalty':['l1','l2']}],\n",
    "                  scoring='f1',\n",
    "                  cv=inner_cv)\n",
    "\n",
    "gs_lr = gs_lr.fit(X,y)\n",
    "print(\"\\n Logistic Regression Parameter Tuning\")\n",
    "print(\"Non-nested CV F1-Score: \", gs_lr.best_score_)\n",
    "print(\"Optimal Parameter: \", gs_lr.best_params_)\n",
    "print(\"Optimal Estimator: \", gs_lr.best_estimator_)\n",
    "nested_score_gs_lr = cross_val_score(gs_lr, X=X, y=y, cv=outer_cv)\n",
    "print(\"Nested CV F1-Score:\",nested_score_gs_lr.mean(), \" +/- \", nested_score_gs_lr.std())"
   ]
  },
  {
   "cell_type": "markdown",
   "metadata": {},
   "source": [
    "# Question 10"
   ]
  },
  {
   "cell_type": "code",
   "execution_count": 127,
   "metadata": {
    "ExecuteTime": {
     "end_time": "2019-10-11T20:36:55.683333Z",
     "start_time": "2019-10-11T20:36:28.596884Z"
    }
   },
   "outputs": [
    {
     "name": "stdout",
     "output_type": "stream",
     "text": [
      "\n",
      " kNN Parameter Tuning\n",
      "Non-nested CV F1-Score:  0.6478664192949908\n",
      "Optimal Parameter:  {'n_neighbors': 7, 'p': 1, 'weights': 'distance'}\n",
      "Optimal Estimator:  KNeighborsClassifier(algorithm='auto', leaf_size=30, metric='minkowski',\n",
      "                     metric_params=None, n_jobs=None, n_neighbors=7, p=1,\n",
      "                     weights='distance')\n",
      "Nested CV F1-Score:  0.629126559714795  +/-  0.16411045927564008\n"
     ]
    }
   ],
   "source": [
    "sc = StandardScaler()\n",
    "sc.fit(X)\n",
    "X_std = sc.transform(X)\n",
    "\n",
    "# Choosing k for kNN\n",
    "# Choosing k for kNN AND type of distance\n",
    "gs_knn = GridSearchCV(estimator=neighbors.KNeighborsClassifier( \n",
    "                           metric='minkowski'),\n",
    "                  param_grid=[{'n_neighbors': [1,3,5,7,9],\n",
    "                               'weights':['uniform','distance'],'p':[1,2]}],\n",
    "                  scoring='f1',\n",
    "                  cv=inner_cv,\n",
    "                  n_jobs=4)\n",
    "\n",
    "#print(len(y))\n",
    "gs_knn = gs_knn.fit(X,y)  #X_std\n",
    "print(\"\\n kNN Parameter Tuning\")\n",
    "print(\"Non-nested CV F1-Score: \", gs_knn.best_score_)\n",
    "print(\"Optimal Parameter: \", gs_knn.best_params_)\n",
    "print(\"Optimal Estimator: \", gs_knn.best_estimator_) # Estimator that was chosen by the search, i.e. estimator which gave highest score\n",
    "nested_score_gs_knn = cross_val_score(gs_knn, X=X, y=y, cv=outer_cv)\n",
    "print(\"Nested CV F1-Score: \",nested_score_gs_knn.mean(), \" +/- \", nested_score_gs_knn.std())"
   ]
  },
  {
   "cell_type": "markdown",
   "metadata": {},
   "source": [
    "# Question 11"
   ]
  },
  {
   "cell_type": "markdown",
   "metadata": {},
   "source": [
    "# Question 12"
   ]
  },
  {
   "cell_type": "code",
   "execution_count": null,
   "metadata": {},
   "outputs": [],
   "source": []
  }
 ],
 "metadata": {
  "kernelspec": {
   "display_name": "Python 3",
   "language": "python",
   "name": "python3"
  },
  "language_info": {
   "codemirror_mode": {
    "name": "ipython",
    "version": 3
   },
   "file_extension": ".py",
   "mimetype": "text/x-python",
   "name": "python",
   "nbconvert_exporter": "python",
   "pygments_lexer": "ipython3",
   "version": "3.7.1"
  },
  "toc": {
   "base_numbering": 1,
   "nav_menu": {},
   "number_sections": true,
   "sideBar": true,
   "skip_h1_title": false,
   "title_cell": "Table of Contents",
   "title_sidebar": "Contents",
   "toc_cell": false,
   "toc_position": {
    "height": "calc(100% - 180px)",
    "left": "10px",
    "top": "150px",
    "width": "256px"
   },
   "toc_section_display": true,
   "toc_window_display": true
  },
  "varInspector": {
   "cols": {
    "lenName": 16,
    "lenType": 16,
    "lenVar": 40
   },
   "kernels_config": {
    "python": {
     "delete_cmd_postfix": "",
     "delete_cmd_prefix": "del ",
     "library": "var_list.py",
     "varRefreshCmd": "print(var_dic_list())"
    },
    "r": {
     "delete_cmd_postfix": ") ",
     "delete_cmd_prefix": "rm(",
     "library": "var_list.r",
     "varRefreshCmd": "cat(var_dic_list()) "
    }
   },
   "types_to_exclude": [
    "module",
    "function",
    "builtin_function_or_method",
    "instance",
    "_Feature"
   ],
   "window_display": false
  }
 },
 "nbformat": 4,
 "nbformat_minor": 2
}
