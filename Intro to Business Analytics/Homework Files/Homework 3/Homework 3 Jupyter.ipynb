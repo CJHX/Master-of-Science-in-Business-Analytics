{
 "cells": [
  {
   "cell_type": "markdown",
   "metadata": {},
   "source": [
    "# Homework 3"
   ]
  },
  {
   "cell_type": "markdown",
   "metadata": {},
   "source": [
    "[We have seen this data before – No need to explore the data for this exercise]\n",
    "\n",
    "a)\tWe would like to perform a predictive modeling analysis on this same dataset using the a) decision tree, b) the k-NN technique and c) the logistic regression technique. Using the nested cross-validation technique, try to optimize the parameters of your classifiers in order to improve the performance of your classifiers (i.e., f1-score) as much as possible. Please make sure to always use a random state of “42” whenever applicable. What are your optimal parameters and what is the corresponding performance of these classifiers? Please provide screenshots of your code and explain the process you have followed.\n",
    "\n",
    "[part a is worth 25 points in total:\n",
    "\n",
    "7 points for correctly optimizing at least two parameters for the Decision Tree and providing screenshots/explaining what you are doing and the corresponding results\n",
    "\n",
    "7 points for correctly optimizing at least two parameters for the kNN and providing screenshots/explaining what you are doing and the corresponding results\n",
    "\n",
    "7 points for correctly optimizing at least two parameters for the Logistic Regression and providing screenshots/explaining what you are doing and the corresponding results\n",
    "\n",
    "4 points for contrasting their performance of all three algorithms and discussing which one would you prefer to use – justify why it is the case\n"
   ]
  },
  {
   "cell_type": "markdown",
   "metadata": {},
   "source": [
    "## Data Import & Prep"
   ]
  },
  {
   "cell_type": "code",
   "execution_count": 1,
   "metadata": {
    "ExecuteTime": {
     "end_time": "2019-10-03T17:06:12.284951Z",
     "start_time": "2019-10-03T17:06:08.756289Z"
    }
   },
   "outputs": [
    {
     "name": "stdout",
     "output_type": "stream",
     "text": [
      "Requirement already satisfied: graphviz in c:\\programdata\\anaconda3\\lib\\site-packages (0.13)\n"
     ]
    }
   ],
   "source": [
    "# To write a Python 2/3 compatible codebase, the first step is to add this line to the top of each module\n",
    "from __future__ import division, print_function, unicode_literals\n",
    "from IPython.display import Image\n",
    "from sklearn import linear_model, neighbors, datasets, metrics, tree        # The sklearn.linear_model module implements generalized linear models. LR is part of this module\n",
    "from sklearn.linear_model import LogisticRegression # Logistic regression classifier class\n",
    "from matplotlib.colors import ListedColormap # Learn more about matplotlib.colors here https://matplotlib.org/3.1.1/api/colors_api.html\n",
    "import matplotlib.pyplot as plt #pyplot is matplotlib's plotting framework https://matplotlib.org/users/pyplot_tutorial.html\n",
    "import matplotlib\n",
    "import scipy as sp # sp is an alias pointing to scipy\n",
    "import numpy as np\n",
    "import pandas as pd # pd is an alias point to pandas\n",
    "import warnings\n",
    "warnings.filterwarnings(\"ignore\")\n",
    "from sklearn.model_selection import train_test_split, cross_val_score, validation_curve, GridSearchCV, KFold, StratifiedKFold\n",
    "from sklearn.preprocessing import StandardScaler, LabelEncoder \n",
    "# StandardScaler Standardize features by removing the mean and scaling to unit variance\n",
    "# LabelEncoder Encode labels with value between 0 and n_classes-1\n",
    "# Cross_val_score Evaluate a score by cross-validation\n",
    "\n",
    "# The sklearn.metrics module includes score functions, performance metrics and pairwise metrics \n",
    "# and distance computations.\n",
    "# https://scikit-learn.org/stable/modules/classes.html#sklearn-metrics-metrics\n",
    "#----------\n",
    "from sklearn.metrics import confusion_matrix, classification_report, accuracy_score, f1_score, cohen_kappa_score,  roc_curve, auc\n",
    "from sklearn.tree import export_graphviz, DecisionTreeClassifier\n",
    "from sklearn.neighbors import KNeighborsClassifier \n",
    "# If you don't have graphviz package, you need to install it https://anaconda.org/anaconda/graphviz\n",
    "# How to install Graphviz with Anaconda 1\n",
    "# conda install -c anaconda graphviz \n",
    "!pip install graphviz\n",
    "import itertools\n",
    "import graphviz\n",
    "import os\n",
    "\n",
    "# Seed the generator to make this notebook's output stable across runs\n",
    "np.random.seed(42)\n",
    "\n",
    "# To plot pretty figures\n",
    "%matplotlib inline\n",
    "\n",
    "# Dynamically change the default rc settings in a python script\n",
    "# See documentation for a complete list of parameters https://matplotlib.org/users/customizing.html\n",
    "plt.rcParams['axes.labelsize'] = 14  # fontsize of the x any y labels\n",
    "plt.rcParams['xtick.labelsize'] = 12 # fontsize of the tick labels\n",
    "plt.rcParams['ytick.labelsize'] = 12 # fontsize of the tick labels\n",
    "#-----------------\n",
    "# Matplotlib inline allows the output of plotting commands will be displayed inline\n",
    "%matplotlib inline    \n",
    "\n",
    "# Root Directory\n",
    "PROJECT_ROOT_DIR = \"C:\\\\Users\\\\carlj\\\\OneDrive\\\\Documents\\\\School-MSBA\\\\Classes\\\\Fall\\\\Intro. to Business Analytics\\\\HW3\""
   ]
  },
  {
   "cell_type": "code",
   "execution_count": 2,
   "metadata": {
    "ExecuteTime": {
     "end_time": "2019-10-03T17:06:12.345140Z",
     "start_time": "2019-10-03T17:06:12.297867Z"
    }
   },
   "outputs": [],
   "source": [
    "########################################### Imports ###########################################\n",
    "hw2data = pd.read_csv(\"wdbc.data\", header=None, names=[\"id\",\"diagnosis\",\"radius_mean\",\"radius_stderror\",\"radius_worst\",\"texture_mean\",\"texture_stderror\",\"texture_worst\",\"perimeter_mean\",\"perimeter_stderror\",\"perimeter_worst\",\"area_mean\",\"area_stderror\",\"area_worst\",\"smoothness_mean\",\"smoothness_stderror\",\"smoothness_worst\",\"compactness_mean\",\"compactness_stderror\",\"compactness_worst\",\"concavity_mean\",\"concavity_stderror\",\"concavity_worst\",\"concavepoints_mean\",\"concavepoints_stderror\",\"concavepoints_worst\",\"symmetry_mean\",\"symmetry_stderror\",\"symmetry_worst\",\"fractaldimension_mean\",\"fractaldimension_stderror\",\"fractaldimension_worst\"]) \n",
    "#hw2data.rename(columns={0:\"id\",1:\"diagnosis\"},inplace=True)\n",
    "\n",
    "######################################### Isolating the Target Variable #########################################\n",
    "# Retrieving Attributes\n",
    "X = hw2data.iloc[:,2:].values\n",
    "# Retriving Target Variable\n",
    "y = hw2data.iloc[:,1].values\n",
    "\n",
    "le = LabelEncoder()\n",
    "#print(y)               #See label before transformation\n",
    "y = le.fit_transform(y) #Labels 'M' as 1 and 'B' as 0\n",
    "#print(y)               #See label after transformation\n",
    "#print(le.classes_)      #Show the classes that have been encoded\n",
    "\n",
    "################################# Split the Data into 70% training and 30% test ##################################\n",
    "X_train, X_test, y_train, y_test = train_test_split(\n",
    "    X, y, test_size=0.3, random_state=42, stratify=y)\n",
    "\n",
    "################### Standardize Training and Testing X using metrics from Training X #############################\n",
    "sc = StandardScaler()\n",
    "sc.fit(X_train)\n",
    "X_train_std = sc.transform(X_train)\n",
    "X_test_std = sc.transform(X_test)"
   ]
  },
  {
   "cell_type": "code",
   "execution_count": 5,
   "metadata": {
    "ExecuteTime": {
     "end_time": "2019-10-03T17:07:38.207843Z",
     "start_time": "2019-10-03T17:07:38.200817Z"
    }
   },
   "outputs": [
    {
     "data": {
      "text/plain": [
       "array([1, 1, 1, 1, 1, 1, 1, 1, 1, 1, 1, 1, 1, 1, 1, 1, 1, 1, 1, 0, 0, 0,\n",
       "       1, 1, 1, 1, 1, 1, 1, 1, 1, 1, 1, 1, 1, 1, 1, 0, 1, 1, 1, 1, 1, 1,\n",
       "       1, 1, 0, 1, 0, 0, 0, 0, 0, 1, 1, 0, 1, 1, 0, 0, 0, 0, 1, 0, 1, 1,\n",
       "       0, 0, 0, 0, 1, 0, 1, 1, 0, 1, 0, 1, 1, 0, 0, 0, 1, 1, 0, 1, 1, 1,\n",
       "       0, 0, 0, 1, 0, 0, 1, 1, 0, 0, 0, 1, 1, 0, 0, 0, 0, 1, 0, 0, 1, 0,\n",
       "       0, 0, 0, 0, 0, 0, 0, 1, 1, 1, 0, 1, 1, 0, 0, 0, 1, 1, 0, 1, 0, 1,\n",
       "       1, 0, 1, 1, 0, 0, 1, 0, 0, 1, 0, 0, 0, 0, 1, 0, 0, 0, 0, 0, 0, 0,\n",
       "       0, 0, 1, 0, 0, 0, 0, 1, 1, 0, 1, 0, 0, 1, 1, 0, 0, 1, 1, 0, 0, 0,\n",
       "       0, 1, 0, 0, 1, 1, 1, 0, 1, 0, 1, 0, 0, 0, 1, 0, 0, 1, 1, 0, 1, 1,\n",
       "       1, 1, 0, 1, 1, 1, 0, 1, 0, 1, 0, 0, 1, 0, 1, 1, 1, 1, 0, 0, 1, 1,\n",
       "       0, 0, 0, 1, 0, 0, 0, 0, 0, 1, 1, 0, 0, 1, 0, 0, 1, 1, 0, 1, 0, 0,\n",
       "       0, 0, 1, 0, 0, 0, 0, 0, 1, 0, 1, 1, 1, 1, 1, 1, 1, 1, 1, 1, 1, 1,\n",
       "       1, 1, 0, 0, 0, 0, 0, 0, 1, 0, 1, 0, 0, 1, 0, 0, 1, 0, 1, 1, 0, 0,\n",
       "       0, 0, 0, 0, 0, 0, 0, 0, 0, 0, 0, 1, 0, 0, 1, 0, 1, 0, 0, 0, 0, 0,\n",
       "       0, 0, 0, 0, 0, 0, 0, 0, 0, 1, 0, 0, 0, 1, 0, 1, 0, 0, 0, 0, 1, 1,\n",
       "       1, 0, 0, 0, 0, 1, 0, 1, 0, 1, 0, 0, 0, 1, 0, 0, 0, 0, 0, 0, 0, 1,\n",
       "       1, 1, 0, 0, 0, 0, 0, 0, 0, 0, 0, 0, 0, 1, 1, 0, 1, 1, 1, 0, 1, 1,\n",
       "       0, 0, 0, 0, 0, 1, 0, 0, 0, 0, 0, 1, 0, 0, 0, 1, 0, 0, 1, 1, 0, 0,\n",
       "       0, 0, 0, 0, 1, 0, 0, 0, 0, 0, 0, 0, 1, 0, 0, 0, 0, 0, 1, 0, 0, 1,\n",
       "       0, 0, 0, 0, 0, 0, 0, 0, 0, 0, 0, 0, 1, 0, 1, 1, 0, 1, 0, 0, 0, 0,\n",
       "       0, 1, 0, 0, 1, 0, 1, 0, 0, 1, 0, 1, 0, 0, 0, 0, 0, 0, 0, 0, 1, 1,\n",
       "       0, 0, 0, 0, 0, 0, 1, 0, 0, 0, 0, 0, 0, 0, 0, 0, 0, 1, 0, 0, 0, 0,\n",
       "       0, 0, 0, 1, 0, 1, 0, 0, 1, 0, 0, 0, 0, 0, 1, 1, 0, 1, 0, 1, 0, 0,\n",
       "       0, 0, 0, 1, 0, 0, 1, 0, 1, 0, 1, 1, 0, 0, 0, 1, 0, 0, 0, 0, 0, 0,\n",
       "       0, 0, 0, 0, 0, 1, 0, 1, 1, 0, 0, 0, 0, 0, 0, 0, 0, 0, 0, 0, 0, 0,\n",
       "       0, 0, 0, 0, 0, 0, 0, 0, 0, 0, 0, 0, 1, 1, 1, 1, 1, 1, 0])"
      ]
     },
     "execution_count": 5,
     "metadata": {},
     "output_type": "execute_result"
    }
   ],
   "source": [
    "y"
   ]
  },
  {
   "cell_type": "markdown",
   "metadata": {},
   "source": [
    "## Parameter Tuning"
   ]
  },
  {
   "cell_type": "code",
   "execution_count": 3,
   "metadata": {},
   "outputs": [],
   "source": [
    "##################################### Parameter Tuning ####################################\n",
    "# Exhaustive search over specified parameter values for an estimator.\n",
    "# GridSearchCV implements a “fit” and a “score” method. \n",
    "# It also implements “predict”, “predict_proba”, “decision_function”, “transform” and “inverse_transform” \n",
    "# if they are implemented in the estimator used.\n",
    "# The parameters of the estimator used to apply these methods are optimized by cross-validated \n",
    "# grid-search over a parameter grid.\n",
    "\n",
    "inner_cv = KFold(n_splits=5, shuffle=True, random_state=42)#Interestingly both calls are the same but yield different results\n",
    "outer_cv = KFold(n_splits=5, shuffle=True, random_state=42)#need to state random state "
   ]
  },
  {
   "cell_type": "markdown",
   "metadata": {},
   "source": [
    "### Decision Tree Parameter Tuning"
   ]
  },
  {
   "cell_type": "code",
   "execution_count": 66,
   "metadata": {},
   "outputs": [
    {
     "name": "stdout",
     "output_type": "stream",
     "text": [
      "\n",
      "Decision Tree Parameter Tuning\n",
      "Non-nested CV F1-Score:  0.934657984394364\n",
      "Optimal Parameter:  {'criterion': 'gini', 'max_depth': 5, 'min_samples_leaf': 5, 'min_samples_split': 2}\n",
      "Optimal Estimator:  DecisionTreeClassifier(class_weight=None, criterion='gini', max_depth=5,\n",
      "            max_features=None, max_leaf_nodes=None,\n",
      "            min_impurity_decrease=0.0, min_impurity_split=None,\n",
      "            min_samples_leaf=5, min_samples_split=2,\n",
      "            min_weight_fraction_leaf=0.0, presort=False, random_state=42,\n",
      "            splitter='best')\n",
      "Nested CV F1-Score:  0.9265708104408736  +/-  0.014452515617888772\n"
     ]
    }
   ],
   "source": [
    "############################## Decision Tree Parameter Tuning ##############################\n",
    "\n",
    "# See all the parameters you can optimize here http://scikit-learn.org/stable/modules/generated/sklearn.tree.DecisionTreeClassifier.html\n",
    "# Choosing optimal depth of the tree\n",
    "# Choosing optimal depth of the tree AND optimal splitting criterion\n",
    "# Choosing depth of the tree AND splitting criterion AND min_samples_leaf AND min_samples_split\n",
    "sc = StandardScaler()\n",
    "sc.fit(X)\n",
    "X_std = sc.transform(X)\n",
    "\n",
    "gs_dt = GridSearchCV(estimator=DecisionTreeClassifier(random_state=42),\n",
    "                  param_grid=[{'max_depth': [1, 2, 3, 4, 5, 6], 'criterion':['gini','entropy'], \n",
    "                              'min_samples_leaf':[1,2,3,4,5],\n",
    "                              'min_samples_split':[2,3,4,5]}],\n",
    "                  scoring='f1', # Specifying multiple metrics for evaluation\n",
    "                  cv=inner_cv,\n",
    "                  n_jobs=-1)\n",
    "\n",
    "gs_dt = gs_dt.fit(X,y)\n",
    "print(\"\\nDecision Tree Parameter Tuning\")\n",
    "print(\"Non-nested CV F1-Score: \", gs_dt.best_score_)\n",
    "print(\"Optimal Parameter: \", gs_dt.best_params_) # Parameter setting that gave the best results on the hold out data.\n",
    "print(\"Optimal Estimator: \", gs_dt.best_estimator_) # Estimator that was chosen by the search, i.e. estimator which gave highest score\n",
    "nested_score_gs_dt = cross_val_score(gs_dt, X=X, y=y, cv=outer_cv)\n",
    "print(\"Nested CV F1-Score: \",nested_score_gs_dt.mean(), \" +/- \", nested_score_gs_dt.std())"
   ]
  },
  {
   "cell_type": "markdown",
   "metadata": {},
   "source": [
    "### Logistic Regression Parameter Tuning"
   ]
  },
  {
   "cell_type": "code",
   "execution_count": 67,
   "metadata": {},
   "outputs": [
    {
     "name": "stdout",
     "output_type": "stream",
     "text": [
      "\n",
      " Logistic Regression Parameter Tuning\n",
      "Non-nested CV F1-Score:  0.9741332753342583\n",
      "Optimal Parameter:  {'C': 0.1, 'penalty': 'l2'}\n",
      "Optimal Estimator:  LogisticRegression(C=0.1, class_weight=None, dual=False, fit_intercept=True,\n",
      "          intercept_scaling=1, max_iter=100, multi_class='warn',\n",
      "          n_jobs=None, penalty='l2', random_state=42, solver='warn',\n",
      "          tol=0.0001, verbose=0, warm_start=False)\n",
      "Nested CV F1-Score: 0.9741006828434184  +/-  0.012735348788663165\n"
     ]
    }
   ],
   "source": [
    "############################ Logistic Regression Parameter Tuning ############################\n",
    "# Choosing C parameter (i.e., regularization parameter) for Logistic Regression\n",
    "# Choosing C parameter for Logistic Regression AND type of penalty (ie., l1 vs l2)\n",
    "# See other parameters here http://scikit-learn.org/stable/modules/generated/sklearn.linear_model.LogisticRegression.html\n",
    "sc = StandardScaler()\n",
    "sc.fit(X)\n",
    "X_std = sc.transform(X)\n",
    "\n",
    "gs_lr = GridSearchCV(estimator=LogisticRegression(random_state=42),\n",
    "                  param_grid=[{'C': [ 0.00001, 0.0001, 0.001, 0.01, 0.1 ,1 ,10 ,100, 1000, 10000, 100000, 1000000, 10000000],\n",
    "                             'penalty':['l1','l2']}],\n",
    "                  scoring='f1',\n",
    "                  cv=inner_cv)\n",
    "\n",
    "gs_lr = gs_lr.fit(X,y)\n",
    "print(\"\\n Logistic Regression Parameter Tuning\")\n",
    "print(\"Non-nested CV F1-Score: \", gs_lr.best_score_)\n",
    "print(\"Optimal Parameter: \", gs_lr.best_params_)\n",
    "print(\"Optimal Estimator: \", gs_lr.best_estimator_)\n",
    "nested_score_gs_lr = cross_val_score(gs_lr, X=X, y=y, cv=outer_cv)\n",
    "print(\"Nested CV F1-Score:\",nested_score_gs_lr.mean(), \" +/- \", nested_score_gs_lr.std())"
   ]
  },
  {
   "cell_type": "markdown",
   "metadata": {},
   "source": [
    "### kNN Parameter Tuning"
   ]
  },
  {
   "cell_type": "code",
   "execution_count": 68,
   "metadata": {
    "scrolled": true
   },
   "outputs": [
    {
     "name": "stdout",
     "output_type": "stream",
     "text": [
      "\n",
      " kNN Parameter Tuning\n",
      "Non-nested CV F1-Score:  0.9574747147707873\n",
      "Optimal Parameter:  {'n_neighbors': 9, 'p': 2, 'weights': 'uniform'}\n",
      "Optimal Estimator:  KNeighborsClassifier(algorithm='auto', leaf_size=30, metric='minkowski',\n",
      "           metric_params=None, n_jobs=None, n_neighbors=9, p=2,\n",
      "           weights='uniform')\n",
      "Nested CV F1-Score:  0.9464914636342086  +/-  0.03280761754947194\n"
     ]
    }
   ],
   "source": [
    "################################### kNN Parameter Tuning ###################################\n",
    "\n",
    "#We Tune our parameters using the entire standardized X set\n",
    "sc = StandardScaler()\n",
    "sc.fit(X)\n",
    "X_std = sc.transform(X)\n",
    "\n",
    "# Choosing k for kNN\n",
    "# Choosing k for kNN AND type of distance\n",
    "gs_knn = GridSearchCV(estimator=neighbors.KNeighborsClassifier( \n",
    "                           metric='minkowski'),\n",
    "                  param_grid=[{'n_neighbors': [1,3,5,7,9,11,13,15,17,19,21],\n",
    "                               'weights':['uniform','distance'],'p':[1,2,3,4,5,6,7,8,9,10]}],\n",
    "                  scoring='f1',\n",
    "                  cv=inner_cv,\n",
    "                  n_jobs=4)\n",
    "\n",
    "#print(len(y))\n",
    "gs_knn = gs_knn.fit(X,y)  #X_std\n",
    "print(\"\\n kNN Parameter Tuning\")\n",
    "print(\"Non-nested CV F1-Score: \", gs_knn.best_score_)\n",
    "print(\"Optimal Parameter: \", gs_knn.best_params_)\n",
    "print(\"Optimal Estimator: \", gs_knn.best_estimator_) # Estimator that was chosen by the search, i.e. estimator which gave highest score\n",
    "nested_score_gs_knn = cross_val_score(gs_knn, X=X, y=y, cv=outer_cv)\n",
    "print(\"Nested CV F1-Score: \",nested_score_gs_knn.mean(), \" +/- \", nested_score_gs_knn.std())"
   ]
  },
  {
   "cell_type": "markdown",
   "metadata": {},
   "source": [
    "## Learning Curve"
   ]
  },
  {
   "cell_type": "markdown",
   "metadata": {},
   "source": [
    "Points will not be deducted for not getting the highest possible results, but have to become very familiar with this\n",
    "\n",
    "b)\tBuild and visualize a learning curve for the logistic regression technique (visualize the performance for both training and test data in the same plot). Please provide screenshots of your code and explain the process you have followed.\n",
    "[part b is worth 25 points in total:\n",
    "\n",
    "8 points for correct visualization of learning curve for in-sample sample performance – show the performance for 10 different sizes (10%,20%,30%)  - provide screenshots of your code and explain the process you have followed.\n",
    "\n",
    "8 points for correct visualization of learning curve for out-sample sample performance – show the performance for 10 different sizes - provide screenshots of your code and explain the process you have followed.\t\n",
    "\n",
    "9 points for discussing what we can learn from this specific learning curve – what are the insights that can be drawn\n",
    "\n",
    "- One learning curve with two lines\n"
   ]
  },
  {
   "cell_type": "code",
   "execution_count": 33,
   "metadata": {},
   "outputs": [],
   "source": [
    "################################## Define function that plots Learning Curves ##################################\n",
    "\n",
    "def plot_learning_curve(estimator, title, X, y, ylim=None, cv=None,\n",
    "                        n_jobs=1, train_sizes=np.linspace(.1, 1.0, 10)): # np.linspace(.1, 1.0, 5) will return evenly\n",
    "                                                                        # spaced 5 numbers from 0.1 to 1.0\n",
    "                        # n_jobs is the number of CPUs to use to do the computation. \n",
    "# Visualization patamters\n",
    "    plt.figure()                    #display figure\n",
    "    plt.title(title)\n",
    "    if ylim is not None:\n",
    "        plt.ylim(*ylim)\n",
    "    plt.xlabel(\"Training examples\") #y label title\n",
    "    plt.ylabel(\"F1 Score\")             #x label title\n",
    "    \n",
    "    # Estimate train and test score for different training set sizes\n",
    "    # Class learning_curve determines cross-validated training and test scores for different training set sizes\n",
    "    train_sizes, train_scores, test_scores = learning_curve(\n",
    "        estimator, X, y, cv=cv, n_jobs=n_jobs, train_sizes=train_sizes) # learning_curve Determines cross-validated \n",
    "                                                                        # training and test scores for different \n",
    "                                                                        # training set sizes.\n",
    "    # Cross validation statistics for training and testing data (mean and standard deviation)\n",
    "    # Estimate statistics of train and test scores (mean, std)\n",
    "    train_scores_mean = np.mean(train_scores, axis=1) # Compute the arithmetic mean along the specified axis.\n",
    "    train_scores_std = np.std(train_scores, axis=1)   # Compute the standard deviation along the specified axis.\n",
    "    test_scores_mean = np.mean(test_scores, axis=1)   # Compute the arithmetic mean along the specified axis.\n",
    "    test_scores_std = np.std(test_scores, axis=1)     # Compute the standard deviation along the specified axis.\n",
    "\n",
    "    plt.grid() # Configure the grid lines\n",
    "\n",
    "    # Fill the area around the mean scores with standard deviation info\n",
    "    # and test data\n",
    "    plt.fill_between(train_sizes, train_scores_mean - train_scores_std,\n",
    "                     train_scores_mean + train_scores_std, alpha=0.1,\n",
    "                     color=\"r\") # train data performance indicated with red\n",
    "    plt.fill_between(train_sizes, test_scores_mean - test_scores_std,\n",
    "                     test_scores_mean + test_scores_std, alpha=0.1, color=\"g\") # test data performance indicated with green\n",
    "\n",
    "    # Cross-validation means indicated by dots\n",
    "    # Train data performance indicated with red\n",
    "    # Visualization parameters that will allow us to distinguish train set scores from test set scores\n",
    "    plt.plot(train_sizes, train_scores_mean, 'o-', color=\"r\",\n",
    "             label=\"Training Score (In-Sample)\")\n",
    "    plt.plot(train_sizes, test_scores_mean, 'o-', color=\"g\",\n",
    "             label=\"Cross-Validation Score (Out-Sample)\")\n",
    "\n",
    "    plt.legend(loc=\"best\") # Show legend of the plot at the best location possible\n",
    "    return plt             # Function that returns the plot as an output"
   ]
  },
  {
   "cell_type": "code",
   "execution_count": 50,
   "metadata": {
    "scrolled": true
   },
   "outputs": [
    {
     "data": {
      "image/png": "[encoded data removed]",
      "text/plain": [
       "<Figure size 432x288 with 1 Axes>"
      ]
     },
     "metadata": {
      "needs_background": "light"
     },
     "output_type": "display_data"
    }
   ],
   "source": [
    "###################################### Plot Learning Curve for Logistic Regression #######################################\n",
    "\n",
    "# Determines cross-validated training and test scores for different training set sizes\n",
    "from sklearn.model_selection import learning_curve \n",
    "# Random permutation cross-validator\n",
    "from sklearn.model_selection import ShuffleSplit\n",
    "# Logistic regression classifier class\n",
    "from sklearn.linear_model import LogisticRegression\n",
    "# kNN classifier class\n",
    "from sklearn import neighbors\n",
    "# Each pyplot function makes some change to a figure: e.g., creates a figure, creates a plotting area in a figure, \n",
    "# plots some lines in a plotting area, decorates the plot with labels, etc\n",
    "\n",
    "title = \"Learning Curve (Logistic Regression)\"\n",
    "# SVC is more expensive so we do a lower number of CV iterations:\n",
    "# Class ShuffleSplit is a random permutation cross-validator\n",
    "# Parameter n_splits = Number of re-shuffling & splitting iterations\n",
    "# Parameter test_size = represents the proportion of the dataset to include in the test split (float between 0.0 and 1.0) \n",
    "# Parameter random_state = the seed used by the random number generator\n",
    "\n",
    "cv = ShuffleSplit(n_splits=5, test_size=0.3, random_state=42)\n",
    "estimator = LogisticRegression(C=100, class_weight=None, dual=False, fit_intercept=True,\n",
    "          intercept_scaling=1, max_iter=100, multi_class='warn',\n",
    "          n_jobs=None, penalty='l1', random_state=42, solver='warn',\n",
    "          tol=0.0001, verbose=0, warm_start=False)\n",
    "# Plots the learning curve based on the previously defined function for the logistic regression estimator\n",
    "plot_learning_curve(estimator, title, X, y, (0.88, 1.01), cv=cv, n_jobs=4, train_sizes=np.linspace(.1, 1.0, 10))\n",
    "plt.xticks(np.linspace(0, 398, 11), ('0%','10%', '20%', '30%', '40%', '50%','60%','70%','80%','90%','100%'))\n",
    "plt.show() # Display the figure"
   ]
  },
  {
   "cell_type": "markdown",
   "metadata": {},
   "source": [
    "## Fitting Graph"
   ]
  },
  {
   "cell_type": "markdown",
   "metadata": {},
   "source": [
    "c)\tBuild a fitting graph for different depths of the decision tree (visualize the performance for both training and test data in the same plot). Please provide screenshots of your code and explain the process you have followed.\n",
    "[part c is worth 25 points in total:\n",
    "\n",
    "8 points for correct visualization of fitting graph for in-sample sample performance (training) – show the performance for 15 different values- provide screenshots of your code and explain the process you have followed\n",
    "\n",
    "8 points for correct visualization of fitting graph for out-of-sample performance (test)– show the performance for 15 different values- provide screenshots of your code and explain the process you have followed\n",
    "\n",
    "9 points for discussing what we can learn from this specific fitting graph – what are the insights that can be drawn] – imagine you are talking to another team, how would you describe the insights?\n",
    "\n",
    "\n"
   ]
  },
  {
   "cell_type": "code",
   "execution_count": 59,
   "metadata": {},
   "outputs": [],
   "source": [
    "############################# Parameters - Varying Complexity #############################\n",
    "# Specify possible depths for the tree.\n",
    "param_range = [1, 2, 3, 4, 5, 6, 7, 8, 9, 10, 11, 12, 13, 14, 15]\n",
    "# Compute scores for an estimator with different values of a specified parameter. \n",
    "# This is similar to grid search with one parameter. \n",
    "# However, this will also compute training scores and is merely a utility for plotting the results.\n",
    "\n",
    "########################## Estimate Scores - Varying Complexity ##########################\n",
    "\n",
    "# Determine training and test scores for varying parameter values.\n",
    "train_scores, test_scores = validation_curve( \n",
    "                #estimator=DecisionTreeClassifier(random_state=42), #Build Logistic Regression Models\n",
    "                estimator=DecisionTreeClassifier(class_weight=None, criterion='gini',\n",
    "                max_features=None, max_leaf_nodes=None,\n",
    "                min_impurity_decrease=0.0, min_impurity_split=None,\n",
    "                min_samples_leaf=5, min_samples_split=2,\n",
    "                min_weight_fraction_leaf=0.0, presort=False, random_state=42,\n",
    "                splitter='best'),\n",
    "                X=X, #X=X because we are testing the model and not optimizing\n",
    "                y=y, #\n",
    "                param_name=\"max_depth\", # parameter C: Inverse of regularization strength; must be a positive float. Smaller values of paramter C specify stronger regularization.\n",
    "                param_range=param_range,\n",
    "                cv=5,     #5-fold cross-validation\n",
    "                scoring=\"f1\", \n",
    "                n_jobs=4) # Number of CPU cores used when parallelizing over classes if multi_class=’ovr’”. This parameter is ignored when the ``solver``is set to ‘liblinear’ regardless of whether ‘multi_class’ is specified or not. If given a value of -1, all cores are used.\n",
    "\n",
    "# Cross validation statistics for training and testing data (mean and standard deviation)\n",
    "train_mean = np.mean(train_scores, axis=1) # Compute the arithmetic mean along the specified axis.\n",
    "train_std = np.std(train_scores, axis=1)   # Compute the standard deviation along the specified axis.\n",
    "test_mean = np.mean(test_scores, axis=1)\n",
    "test_std = np.std(test_scores, axis=1)"
   ]
  },
  {
   "cell_type": "code",
   "execution_count": 60,
   "metadata": {},
   "outputs": [
    {
     "data": {
      "image/png": "[encoded data removed]",
      "text/plain": [
       "<Figure size 432x288 with 1 Axes>"
      ]
     },
     "metadata": {
      "needs_background": "light"
     },
     "output_type": "display_data"
    }
   ],
   "source": [
    "\n",
    "############################## Visualization - Fitting Graph ##############################\n",
    "\n",
    "# Plot train f1 means of cross-validation for all the parameters C in param_range\n",
    "plt.plot(param_range, train_mean, \n",
    "         color='blue', marker='o', \n",
    "         markersize=5, label='Training f1 Score (In-Sample)')\n",
    "\n",
    "# Fill the area around the line to indicate the size of standard deviations of performance for the training data\n",
    "plt.fill_between(param_range, train_mean + train_std,\n",
    "                 train_mean - train_std, alpha=0.15,\n",
    "                 color='blue')\n",
    "\n",
    "# Plot test f1 means of cross-validation for all the parameters C in param_range\n",
    "plt.plot(param_range, test_mean, \n",
    "         color='green', linestyle='--', \n",
    "         marker='s', markersize=5, \n",
    "         label='Test f1 Score (Out-Sample)')\n",
    "\n",
    "# Fill the area around the line to indicate the size of standard deviations of performance for the test data\n",
    "plt.fill_between(param_range, \n",
    "                 test_mean + test_std,\n",
    "                 test_mean - test_std, \n",
    "                 alpha=0.15, color='green')\n",
    "\n",
    "# Grid and Axes Titles\n",
    "plt.title('Decision Tree Fitting Graph', loc='center',fontsize=15)\n",
    "#plt.suptitle('Fitting Graph', loc='center')\n",
    "plt.grid()\n",
    "plt.xscale('linear')\n",
    "plt.legend(loc='lower right')\n",
    "plt.xlabel('Max Depth')\n",
    "plt.ylabel('F1 Score')\n",
    "plt.xticks(np.linspace(1, 15, 15))\n",
    "plt.yticks(np.linspace(0.8, 1, 9))\n",
    "#plt.ylim([0.8, 1.01]) # y limits in the plot\n",
    "plt.tight_layout()\n",
    "# plt.savefig('Fitting_graph_LR.png', dpi=300)\n",
    "plt.show()           # Display the figure"
   ]
  },
  {
   "cell_type": "markdown",
   "metadata": {},
   "source": [
    "## ROC Curves "
   ]
  },
  {
   "cell_type": "markdown",
   "metadata": {},
   "source": [
    "\n",
    "d)\tCreate an ROC curve for k-NN, decision tree, and logistic regression. Discuss the results. Which classifier would you prefer to choose? Please provide screenshots of your code and explain the process you have followed.\n",
    "[part d is worth 25 points in total:\n",
    "\n",
    "5 points for correct visualization of ROC graph for kNN – use optimal kNN from part a\n",
    "\n",
    "5 points for correct visualization of ROC graph for Decision Tree – use optimal Decision Tree from part a\n",
    "\n",
    "5 points for correct visualization of ROC graph for Logistic Regression – use optimal Logistic Regression from part a\n",
    "\n",
    "2 points for showing all the ROC graphs in one single plot\n",
    "\n",
    "3 points for showing AUC estimators in the ROC graph\n",
    "\n",
    "5 points for discussing and correctly identifying which classifier you would use]- optimal\n"
   ]
  },
  {
   "cell_type": "code",
   "execution_count": 73,
   "metadata": {},
   "outputs": [
    {
     "name": "stdout",
     "output_type": "stream",
     "text": [
      "5-fold cross validation:\n",
      "\n",
      "ROC AUC: 0.99 (+/- 0.01) [Logistic regression]\n",
      "ROC AUC: 0.95 (+/- 0.02) [Decision tree]\n",
      "ROC AUC: 0.97 (+/- 0.01) [kNN]\n"
     ]
    },
    {
     "data": {
      "image/png": "[encoded data removed]",
      "text/plain": [
       "<Figure size 432x288 with 1 Axes>"
      ]
     },
     "metadata": {
      "needs_background": "light"
     },
     "output_type": "display_data"
    }
   ],
   "source": [
    "######################################## Classifiers ########################################\n",
    "\n",
    "#Normalize Data\n",
    "#sc = StandardScaler()\n",
    "#sc.fit(X_train)\n",
    "#X_train_std = sc.transform(X_train)\n",
    "#X_test_std = sc.transform(X_test)\n",
    "#Normalize Data\n",
    "sc = StandardScaler()\n",
    "sc.fit(X)\n",
    "X_std = sc.transform(X)\n",
    "\n",
    "\n",
    "\n",
    "# Logistic Regression Classifier\n",
    "clf1 = LogisticRegression(C=100, class_weight=None, dual=False, fit_intercept=True,\n",
    "          intercept_scaling=1, max_iter=100, multi_class='warn',\n",
    "          n_jobs=None, penalty='l1', random_state=42, solver='warn',\n",
    "          tol=0.0001, verbose=0, warm_start=False)\n",
    "\n",
    "# Decision Tree Classifier\n",
    "clf2 = DecisionTreeClassifier(class_weight=None, criterion='gini', max_depth=5,\n",
    "            max_features=None, max_leaf_nodes=None,\n",
    "            min_impurity_decrease=0.0, min_impurity_split=None,\n",
    "            min_samples_leaf=5, min_samples_split=2,\n",
    "            min_weight_fraction_leaf=0.0, presort=False, random_state=42,\n",
    "            splitter='best')\n",
    "\n",
    "# kNN Classifier\n",
    "clf3 = KNeighborsClassifier(algorithm='auto', leaf_size=30, metric='minkowski',\n",
    "           metric_params=None, n_jobs=None, n_neighbors=5, p=1,\n",
    "           weights='uniform')\n",
    "\n",
    "# Label the classifiers\n",
    "clf_labels = ['Logistic regression', 'Decision tree', 'kNN']\n",
    "all_clf = [clf1, clf2, clf3]\n",
    "\n",
    "#################################### Cross - Validation ####################################\n",
    "cv = StratifiedKFold(n_splits=5, shuffle=True, random_state=42)\n",
    "\n",
    "print('5-fold cross validation:\\n')\n",
    "# Note: We are assuming here that the data is standardized. For the homework, you need to make sure the data is standardized.\n",
    "for clf, label in zip([clf1, clf2, clf3], clf_labels): #For all classifiers \n",
    "    scores = cross_val_score(estimator=clf,  #Estimate AUC based on cross validation\n",
    "                             X=X, #We are using standardized dataset\n",
    "                             y=y,\n",
    "                             cv=5,\n",
    "                             scoring='roc_auc')\n",
    "    print(\"ROC AUC: %0.2f (+/- %0.2f) [%s]\" #Print peformance statistics based on cross-validation\n",
    "          % (scores.mean(), scores.std(), label))\n",
    "\n",
    "##################################### Visualization ######################################\n",
    "\n",
    "colors = [ 'orange', 'blue', 'green']      # Colors for visualization\n",
    "linestyles = [':', '--', '-.', '-']        # Line styles for visualization\n",
    "for clf, label, clr, ls in zip(all_clf,\n",
    "               clf_labels, colors, linestyles):\n",
    "\n",
    "    # Assuming the label of the positive class is 1 and data is normalized\n",
    "    y_pred = clf.fit(X_train, #use std?\n",
    "                     y_train).predict_proba(X_test)[:, 1] # Make predictions based on the classifiers\n",
    "    fpr, tpr, thresholds = roc_curve(y_true=y_test, # Build ROC curve\n",
    "                                     y_score=y_pred)\n",
    "    roc_auc = auc(x=fpr, y=tpr)                # Compute Area Under the Curve (AUC) \n",
    "    plt.plot(fpr, tpr,                         # Plot ROC Curve and create label with AUC values\n",
    "             color=clr,\n",
    "             linestyle=ls,\n",
    "             label='%s (auc = %0.2f)' % (label, roc_auc))\n",
    "\n",
    "plt.legend(loc='lower right')    # Where to place the legend\n",
    "plt.plot([0, 1], [0, 1], # Visualize random classifier\n",
    "         linestyle='--',\n",
    "         color='gray',\n",
    "         linewidth=2)\n",
    "\n",
    "plt.xlim([-0.1, 1.1])   #limits for x axis\n",
    "plt.ylim([-0.1, 1.1])   #limits for y axis\n",
    "plt.grid(alpha=0.5)\n",
    "plt.xlabel('False positive rate (FPR)')\n",
    "plt.ylabel('True positive rate (TPR)')\n",
    "\n",
    "plt.title('ROC Curves', loc='center',fontsize=15)\n",
    "#plt.savefig('ROC_all_classifiers', dpi=300)\n",
    "plt.show()"
   ]
  },
  {
   "cell_type": "code",
   "execution_count": null,
   "metadata": {},
   "outputs": [],
   "source": []
  }
 ],
 "metadata": {
  "kernelspec": {
   "display_name": "Python 3",
   "language": "python",
   "name": "python3"
  },
  "language_info": {
   "codemirror_mode": {
    "name": "ipython",
    "version": 3
   },
   "file_extension": ".py",
   "mimetype": "text/x-python",
   "name": "python",
   "nbconvert_exporter": "python",
   "pygments_lexer": "ipython3",
   "version": "3.7.1"
  },
  "toc": {
   "base_numbering": 1,
   "nav_menu": {},
   "number_sections": true,
   "sideBar": true,
   "skip_h1_title": false,
   "title_cell": "Table of Contents",
   "title_sidebar": "Contents",
   "toc_cell": false,
   "toc_position": {},
   "toc_section_display": true,
   "toc_window_display": true
  },
  "varInspector": {
   "cols": {
    "lenName": 16,
    "lenType": 16,
    "lenVar": 40
   },
   "kernels_config": {
    "python": {
     "delete_cmd_postfix": "",
     "delete_cmd_prefix": "del ",
     "library": "var_list.py",
     "varRefreshCmd": "print(var_dic_list())"
    },
    "r": {
     "delete_cmd_postfix": ") ",
     "delete_cmd_prefix": "rm(",
     "library": "var_list.r",
     "varRefreshCmd": "cat(var_dic_list()) "
    }
   },
   "types_to_exclude": [
    "module",
    "function",
    "builtin_function_or_method",
    "instance",
    "_Feature"
   ],
   "window_display": false
  }
 },
 "nbformat": 4,
 "nbformat_minor": 2
}
