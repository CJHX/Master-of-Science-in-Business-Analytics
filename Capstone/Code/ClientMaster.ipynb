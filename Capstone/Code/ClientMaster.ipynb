{
 "cells": [
  {
   "cell_type": "code",
   "execution_count": 1,
   "metadata": {},
   "outputs": [
    {
     "name": "stdout",
     "output_type": "stream",
     "text": [
      "Collecting numpy==1.15.1\n",
      "\u001b[?25l  Downloading https://files.pythonhosted.org/packages/fe/94/7049fed8373c52839c8cde619acaf2c9b83082b935e5aa8c0fa27a4a8bcc/numpy-1.15.1-cp36-cp36m-manylinux1_x86_64.whl (13.9MB)\n",
      "\u001b[K    100% |████████████████████████████████| 13.9MB 3.5MB/s eta 0:00:01\n",
      "\u001b[?25hInstalling collected packages: numpy\n",
      "  Found existing installation: numpy 1.14.3\n",
      "    Uninstalling numpy-1.14.3:\n",
      "      Successfully uninstalled numpy-1.14.3\n",
      "Successfully installed numpy-1.15.1\n",
      "\u001b[33mYou are using pip version 10.0.1, however version 20.0.2 is available.\n",
      "You should consider upgrading via the 'pip install --upgrade pip' command.\u001b[0m\n"
     ]
    }
   ],
   "source": [
    "!pip install numpy==1.15.1"
   ]
  },
  {
   "cell_type": "code",
   "execution_count": 2,
   "metadata": {},
   "outputs": [
    {
     "name": "stdout",
     "output_type": "stream",
     "text": [
      "Collecting pyarrow==0.15.1\n",
      "\u001b[?25l  Downloading https://files.pythonhosted.org/packages/dd/77/5865b367a6792da2f811ae49391c1f85c29b29663555aac0a118fe8e153e/pyarrow-0.15.1-cp36-cp36m-manylinux1_x86_64.whl (59.0MB)\n",
      "\u001b[K    100% |████████████████████████████████| 59.0MB 864kB/s eta 0:00:011\n",
      "\u001b[?25hRequirement already satisfied: numpy>=1.14 in /home/ec2-user/anaconda3/envs/python3/lib/python3.6/site-packages (from pyarrow==0.15.1) (1.15.1)\n",
      "Requirement already satisfied: six>=1.0.0 in /home/ec2-user/anaconda3/envs/python3/lib/python3.6/site-packages (from pyarrow==0.15.1) (1.11.0)\n",
      "Installing collected packages: pyarrow\n",
      "Successfully installed pyarrow-0.15.1\n",
      "\u001b[33mYou are using pip version 10.0.1, however version 20.0.2 is available.\n",
      "You should consider upgrading via the 'pip install --upgrade pip' command.\u001b[0m\n"
     ]
    }
   ],
   "source": [
    "!pip install pyarrow==0.15.1"
   ]
  },
  {
   "cell_type": "code",
   "execution_count": 3,
   "metadata": {},
   "outputs": [],
   "source": [
    "import pandas as pd\n",
    "import pyarrow"
   ]
  },
  {
   "cell_type": "code",
   "execution_count": 7,
   "metadata": {},
   "outputs": [],
   "source": [
    "client_master = pd.read_csv(\"s3://cads-emory-data/data/csv/client_master/coxclient_pipe.dlm\",sep=\"|\")"
   ]
  },
  {
   "cell_type": "code",
   "execution_count": 8,
   "metadata": {},
   "outputs": [
    {
     "data": {
      "text/html": [
       "<div>\n",
       "<style scoped>\n",
       "    .dataframe tbody tr th:only-of-type {\n",
       "        vertical-align: middle;\n",
       "    }\n",
       "\n",
       "    .dataframe tbody tr th {\n",
       "        vertical-align: top;\n",
       "    }\n",
       "\n",
       "    .dataframe thead th {\n",
       "        text-align: right;\n",
       "    }\n",
       "</style>\n",
       "<table border=\"1\" class=\"dataframe\">\n",
       "  <thead>\n",
       "    <tr style=\"text-align: right;\">\n",
       "      <th></th>\n",
       "      <th>acctnum</th>\n",
       "      <th>accttype</th>\n",
       "      <th>acctsubtype</th>\n",
       "      <th>caid</th>\n",
       "      <th>custname</th>\n",
       "      <th>custcity</th>\n",
       "      <th>custaddrline1</th>\n",
       "      <th>custprovincecode</th>\n",
       "      <th>custpostalcode</th>\n",
       "      <th>externalidtype</th>\n",
       "      <th>externalid</th>\n",
       "      <th>acctaddline1</th>\n",
       "      <th>acctcity</th>\n",
       "      <th>acctprovincecd</th>\n",
       "      <th>acctpostalcd</th>\n",
       "    </tr>\n",
       "  </thead>\n",
       "  <tbody>\n",
       "    <tr>\n",
       "      <th>0</th>\n",
       "      <td>DETA7000403</td>\n",
       "      <td>OVC</td>\n",
       "      <td>AUCTION</td>\n",
       "      <td>CA11741570</td>\n",
       "      <td>GARY L HAZELLIEF/PUBLIC</td>\n",
       "      <td>ANN ARBOR</td>\n",
       "      <td>3085 WHISPERWOOD DR</td>\n",
       "      <td>USA-MI</td>\n",
       "      <td>48105</td>\n",
       "      <td>OVC ID</td>\n",
       "      <td>5698281</td>\n",
       "      <td>3085 WHISPERWOOD DR</td>\n",
       "      <td>ANN ARBOR</td>\n",
       "      <td>USA-MI</td>\n",
       "      <td>48105</td>\n",
       "    </tr>\n",
       "    <tr>\n",
       "      <th>1</th>\n",
       "      <td>AREN7000438</td>\n",
       "      <td>OVC</td>\n",
       "      <td>AUCTION</td>\n",
       "      <td>CA11740438</td>\n",
       "      <td>ARSALAN ALI</td>\n",
       "      <td>VILLA PARK</td>\n",
       "      <td>901 W NORTH AVE</td>\n",
       "      <td>USA-IL</td>\n",
       "      <td>60181</td>\n",
       "      <td>OVC ID</td>\n",
       "      <td>5700002</td>\n",
       "      <td>901 W NORTH AVE</td>\n",
       "      <td>VILLA PARK</td>\n",
       "      <td>USA-IL</td>\n",
       "      <td>60181</td>\n",
       "    </tr>\n",
       "    <tr>\n",
       "      <th>2</th>\n",
       "      <td>ALOH7001395</td>\n",
       "      <td>OVC</td>\n",
       "      <td>AUCTION</td>\n",
       "      <td>CA11747260</td>\n",
       "      <td>GARY OSHIRO</td>\n",
       "      <td>HONOLULU</td>\n",
       "      <td>3720 MAHINA AVE</td>\n",
       "      <td>USA-HI</td>\n",
       "      <td>96816</td>\n",
       "      <td>OVC ID</td>\n",
       "      <td>5740421</td>\n",
       "      <td>3720 MAHINA AVE</td>\n",
       "      <td>HONOLULU</td>\n",
       "      <td>USA-HI</td>\n",
       "      <td>96816</td>\n",
       "    </tr>\n",
       "    <tr>\n",
       "      <th>3</th>\n",
       "      <td>80506</td>\n",
       "      <td>NGC</td>\n",
       "      <td>DEALER</td>\n",
       "      <td>CA11346933</td>\n",
       "      <td>BAVARIAN MOTORS</td>\n",
       "      <td>TOMBALL</td>\n",
       "      <td>9428 HUFSMITH RD</td>\n",
       "      <td>USA-TX</td>\n",
       "      <td>77375</td>\n",
       "      <td>NGC AA</td>\n",
       "      <td>5317162</td>\n",
       "      <td>8561 RAYSON RD STE C</td>\n",
       "      <td>HOUSTON</td>\n",
       "      <td>USA-TX</td>\n",
       "      <td>77080</td>\n",
       "    </tr>\n",
       "    <tr>\n",
       "      <th>4</th>\n",
       "      <td>5224772</td>\n",
       "      <td>OVC</td>\n",
       "      <td>AUCTION</td>\n",
       "      <td>CA11465278</td>\n",
       "      <td>JETT AUCTION LIMITED</td>\n",
       "      <td>PARKSVILLE</td>\n",
       "      <td>861 ALLSBROOK RD</td>\n",
       "      <td>CAN-BC</td>\n",
       "      <td>V9P 2A9</td>\n",
       "      <td>OVC ID</td>\n",
       "      <td>399669</td>\n",
       "      <td>861 ALLSBROOK RD</td>\n",
       "      <td>PARKSVILLE</td>\n",
       "      <td>CAN-BC</td>\n",
       "      <td>V9P 2A9</td>\n",
       "    </tr>\n",
       "  </tbody>\n",
       "</table>\n",
       "</div>"
      ],
      "text/plain": [
       "       acctnum accttype acctsubtype        caid                 custname  \\\n",
       "0  DETA7000403      OVC     AUCTION  CA11741570  GARY L HAZELLIEF/PUBLIC   \n",
       "1  AREN7000438      OVC     AUCTION  CA11740438              ARSALAN ALI   \n",
       "2  ALOH7001395      OVC     AUCTION  CA11747260              GARY OSHIRO   \n",
       "3        80506      NGC      DEALER  CA11346933          BAVARIAN MOTORS   \n",
       "4      5224772      OVC     AUCTION  CA11465278     JETT AUCTION LIMITED   \n",
       "\n",
       "     custcity        custaddrline1 custprovincecode custpostalcode  \\\n",
       "0   ANN ARBOR  3085 WHISPERWOOD DR           USA-MI          48105   \n",
       "1  VILLA PARK      901 W NORTH AVE           USA-IL          60181   \n",
       "2    HONOLULU      3720 MAHINA AVE           USA-HI          96816   \n",
       "3     TOMBALL     9428 HUFSMITH RD           USA-TX          77375   \n",
       "4  PARKSVILLE     861 ALLSBROOK RD           CAN-BC        V9P 2A9   \n",
       "\n",
       "  externalidtype  externalid          acctaddline1    acctcity acctprovincecd  \\\n",
       "0         OVC ID     5698281   3085 WHISPERWOOD DR   ANN ARBOR         USA-MI   \n",
       "1         OVC ID     5700002       901 W NORTH AVE  VILLA PARK         USA-IL   \n",
       "2         OVC ID     5740421       3720 MAHINA AVE    HONOLULU         USA-HI   \n",
       "3         NGC AA     5317162  8561 RAYSON RD STE C     HOUSTON         USA-TX   \n",
       "4         OVC ID      399669      861 ALLSBROOK RD  PARKSVILLE         CAN-BC   \n",
       "\n",
       "  acctpostalcd  \n",
       "0        48105  \n",
       "1        60181  \n",
       "2        96816  \n",
       "3        77080  \n",
       "4      V9P 2A9  "
      ]
     },
     "execution_count": 8,
     "metadata": {},
     "output_type": "execute_result"
    }
   ],
   "source": [
    "client_master.head()"
   ]
  },
  {
   "cell_type": "code",
   "execution_count": 9,
   "metadata": {},
   "outputs": [],
   "source": [
    "client_master.to_csv(\"client_master.csv\",index=False)"
   ]
  },
  {
   "cell_type": "code",
   "execution_count": 10,
   "metadata": {},
   "outputs": [
    {
     "data": {
      "text/plain": [
       "(778171, 15)"
      ]
     },
     "execution_count": 10,
     "metadata": {},
     "output_type": "execute_result"
    }
   ],
   "source": [
    "client_master.shape"
   ]
  },
  {
   "cell_type": "code",
   "execution_count": null,
   "metadata": {},
   "outputs": [],
   "source": []
  }
 ],
 "metadata": {
  "kernelspec": {
   "display_name": "conda_python3",
   "language": "python",
   "name": "conda_python3"
  },
  "language_info": {
   "codemirror_mode": {
    "name": "ipython",
    "version": 3
   },
   "file_extension": ".py",
   "mimetype": "text/x-python",
   "name": "python",
   "nbconvert_exporter": "python",
   "pygments_lexer": "ipython3",
   "version": "3.6.5"
  }
 },
 "nbformat": 4,
 "nbformat_minor": 4
}
