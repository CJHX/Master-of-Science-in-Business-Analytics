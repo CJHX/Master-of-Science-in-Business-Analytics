{
 "cells": [
  {
   "cell_type": "code",
   "execution_count": 3,
   "metadata": {},
   "outputs": [
    {
     "name": "stderr",
     "output_type": "stream",
     "text": [
      "/home/ec2-user/anaconda3/envs/python3/lib/python3.6/site-packages/IPython/core/interactiveshell.py:2785: DtypeWarning: Columns (20) have mixed types. Specify dtype option on import or set low_memory=False.\n",
      "  interactivity=interactivity, compiler=compiler, result=result)\n"
     ]
    }
   ],
   "source": [
    "import pandas as pd\n",
    "df = pd.read_csv(\"polk_data_clean.csv\")"
   ]
  },
  {
   "cell_type": "code",
   "execution_count": 4,
   "metadata": {},
   "outputs": [
    {
     "data": {
      "text/html": [
       "<div>\n",
       "<style scoped>\n",
       "    .dataframe tbody tr th:only-of-type {\n",
       "        vertical-align: middle;\n",
       "    }\n",
       "\n",
       "    .dataframe tbody tr th {\n",
       "        vertical-align: top;\n",
       "    }\n",
       "\n",
       "    .dataframe thead th {\n",
       "        text-align: right;\n",
       "    }\n",
       "</style>\n",
       "<table border=\"1\" class=\"dataframe\">\n",
       "  <thead>\n",
       "    <tr style=\"text-align: right;\">\n",
       "      <th></th>\n",
       "      <th>data_type</th>\n",
       "      <th>vin</th>\n",
       "      <th>polk_con_num</th>\n",
       "      <th>dealer_name</th>\n",
       "      <th>dealer_address</th>\n",
       "      <th>dealer_town</th>\n",
       "      <th>dealer_state</th>\n",
       "      <th>dealer_zip</th>\n",
       "      <th>dealer_dma</th>\n",
       "      <th>dealer_fran_ind</th>\n",
       "      <th>...</th>\n",
       "      <th>mileage</th>\n",
       "      <th>trans_price</th>\n",
       "      <th>age</th>\n",
       "      <th>income</th>\n",
       "      <th>gender</th>\n",
       "      <th>ethnic_group</th>\n",
       "      <th>sub_ethnic_group</th>\n",
       "      <th>language</th>\n",
       "      <th>reg_type_code</th>\n",
       "      <th>new_count</th>\n",
       "    </tr>\n",
       "  </thead>\n",
       "  <tbody>\n",
       "    <tr>\n",
       "      <th>0</th>\n",
       "      <td>N</td>\n",
       "      <td>KNDPM3AC0L7707222</td>\n",
       "      <td>15669.0</td>\n",
       "      <td>RAY SKILLMAN GMC</td>\n",
       "      <td>8424 US 31 S</td>\n",
       "      <td>INDIANAPOLIS</td>\n",
       "      <td>IN</td>\n",
       "      <td>46227.0</td>\n",
       "      <td>INDIANAPOLIS</td>\n",
       "      <td>F</td>\n",
       "      <td>...</td>\n",
       "      <td>130.0</td>\n",
       "      <td>NaN</td>\n",
       "      <td>35-44 YEARS</td>\n",
       "      <td>$50,000 - $74,999</td>\n",
       "      <td>FEMALE</td>\n",
       "      <td>WESTERN EUROPEAN</td>\n",
       "      <td>ENGLISH</td>\n",
       "      <td>ENGLISH</td>\n",
       "      <td>3</td>\n",
       "      <td>1</td>\n",
       "    </tr>\n",
       "    <tr>\n",
       "      <th>1</th>\n",
       "      <td>N</td>\n",
       "      <td>19XFC2F89KE046284</td>\n",
       "      <td>19284.0</td>\n",
       "      <td>STEPHEN WADE MAZDA</td>\n",
       "      <td>1630 S HILTON  DR</td>\n",
       "      <td>SAINT GEORGE</td>\n",
       "      <td>UT</td>\n",
       "      <td>84770.0</td>\n",
       "      <td>SALT LAKE CITY</td>\n",
       "      <td>F</td>\n",
       "      <td>...</td>\n",
       "      <td>10.0</td>\n",
       "      <td>NaN</td>\n",
       "      <td>UNKNOWN</td>\n",
       "      <td>UNKNOWN</td>\n",
       "      <td>FEMALE</td>\n",
       "      <td>WESTERN EUROPEAN</td>\n",
       "      <td>ENGLISH</td>\n",
       "      <td>ENGLISH</td>\n",
       "      <td>3</td>\n",
       "      <td>1</td>\n",
       "    </tr>\n",
       "    <tr>\n",
       "      <th>2</th>\n",
       "      <td>N</td>\n",
       "      <td>JF2GTABC7KH381113</td>\n",
       "      <td>390704.0</td>\n",
       "      <td>SUBARU OF LITTLE ROCK</td>\n",
       "      <td>12121 COLONEL GLENN  RD</td>\n",
       "      <td>LITTLE ROCK</td>\n",
       "      <td>AR</td>\n",
       "      <td>72210.0</td>\n",
       "      <td>LITTLE ROCK PINE BLUFF</td>\n",
       "      <td>F</td>\n",
       "      <td>...</td>\n",
       "      <td>12.0</td>\n",
       "      <td>NaN</td>\n",
       "      <td>UNKNOWN</td>\n",
       "      <td>UNKNOWN</td>\n",
       "      <td>FEMALE</td>\n",
       "      <td>HISPANIC</td>\n",
       "      <td>MEXICO</td>\n",
       "      <td>SPANISH</td>\n",
       "      <td>3</td>\n",
       "      <td>1</td>\n",
       "    </tr>\n",
       "    <tr>\n",
       "      <th>3</th>\n",
       "      <td>N</td>\n",
       "      <td>3CZRU6H55KM731404</td>\n",
       "      <td>11576.0</td>\n",
       "      <td>SCHLOSSMANN HONDA CITY</td>\n",
       "      <td>3450 S 108TH  ST</td>\n",
       "      <td>MILWAUKEE</td>\n",
       "      <td>WI</td>\n",
       "      <td>53227.0</td>\n",
       "      <td>MILWAUKEE</td>\n",
       "      <td>F</td>\n",
       "      <td>...</td>\n",
       "      <td>16.0</td>\n",
       "      <td>NaN</td>\n",
       "      <td>65-74 YEARS</td>\n",
       "      <td>$30,000 - $39,999</td>\n",
       "      <td>FEMALE</td>\n",
       "      <td>WESTERN EUROPEAN</td>\n",
       "      <td>NORWEGIAN</td>\n",
       "      <td>ENGLISH</td>\n",
       "      <td>4</td>\n",
       "      <td>1</td>\n",
       "    </tr>\n",
       "    <tr>\n",
       "      <th>4</th>\n",
       "      <td>N</td>\n",
       "      <td>5GAEVAKW9KJ308006</td>\n",
       "      <td>13233.0</td>\n",
       "      <td>LYNCH CHEVROLET BUICK GMC</td>\n",
       "      <td>2300 BROWNS LAKE  DR</td>\n",
       "      <td>BURLINGTON</td>\n",
       "      <td>WI</td>\n",
       "      <td>53105.0</td>\n",
       "      <td>MILWAUKEE</td>\n",
       "      <td>F</td>\n",
       "      <td>...</td>\n",
       "      <td>66.0</td>\n",
       "      <td>NaN</td>\n",
       "      <td>UNKNOWN</td>\n",
       "      <td>UNKNOWN</td>\n",
       "      <td>UNKNOWN</td>\n",
       "      <td>UNKNOWN</td>\n",
       "      <td>UNKNOWN</td>\n",
       "      <td>UNKNOWN</td>\n",
       "      <td>18</td>\n",
       "      <td>1</td>\n",
       "    </tr>\n",
       "  </tbody>\n",
       "</table>\n",
       "<p>5 rows × 48 columns</p>\n",
       "</div>"
      ],
      "text/plain": [
       "  data_type                vin  polk_con_num                dealer_name  \\\n",
       "0         N  KNDPM3AC0L7707222       15669.0           RAY SKILLMAN GMC   \n",
       "1         N  19XFC2F89KE046284       19284.0         STEPHEN WADE MAZDA   \n",
       "2         N  JF2GTABC7KH381113      390704.0      SUBARU OF LITTLE ROCK   \n",
       "3         N  3CZRU6H55KM731404       11576.0     SCHLOSSMANN HONDA CITY   \n",
       "4         N  5GAEVAKW9KJ308006       13233.0  LYNCH CHEVROLET BUICK GMC   \n",
       "\n",
       "            dealer_address   dealer_town dealer_state  dealer_zip  \\\n",
       "0             8424 US 31 S  INDIANAPOLIS           IN     46227.0   \n",
       "1        1630 S HILTON  DR  SAINT GEORGE           UT     84770.0   \n",
       "2  12121 COLONEL GLENN  RD   LITTLE ROCK           AR     72210.0   \n",
       "3         3450 S 108TH  ST     MILWAUKEE           WI     53227.0   \n",
       "4     2300 BROWNS LAKE  DR    BURLINGTON           WI     53105.0   \n",
       "\n",
       "               dealer_dma dealer_fran_ind  ...  mileage trans_price  \\\n",
       "0            INDIANAPOLIS               F  ...    130.0         NaN   \n",
       "1          SALT LAKE CITY               F  ...     10.0         NaN   \n",
       "2  LITTLE ROCK PINE BLUFF               F  ...     12.0         NaN   \n",
       "3               MILWAUKEE               F  ...     16.0         NaN   \n",
       "4               MILWAUKEE               F  ...     66.0         NaN   \n",
       "\n",
       "           age             income   gender      ethnic_group sub_ethnic_group  \\\n",
       "0  35-44 YEARS  $50,000 - $74,999   FEMALE  WESTERN EUROPEAN          ENGLISH   \n",
       "1      UNKNOWN            UNKNOWN   FEMALE  WESTERN EUROPEAN          ENGLISH   \n",
       "2      UNKNOWN            UNKNOWN   FEMALE          HISPANIC           MEXICO   \n",
       "3  65-74 YEARS  $30,000 - $39,999   FEMALE  WESTERN EUROPEAN        NORWEGIAN   \n",
       "4      UNKNOWN            UNKNOWN  UNKNOWN           UNKNOWN          UNKNOWN   \n",
       "\n",
       "  language reg_type_code new_count  \n",
       "0  ENGLISH             3         1  \n",
       "1  ENGLISH             3         1  \n",
       "2  SPANISH             3         1  \n",
       "3  ENGLISH             4         1  \n",
       "4  UNKNOWN            18         1  \n",
       "\n",
       "[5 rows x 48 columns]"
      ]
     },
     "execution_count": 4,
     "metadata": {},
     "output_type": "execute_result"
    }
   ],
   "source": [
    "df.head(5)"
   ]
  },
  {
   "cell_type": "code",
   "execution_count": 5,
   "metadata": {},
   "outputs": [
    {
     "data": {
      "text/plain": [
       "Index(['data_type', 'vin', 'polk_con_num', 'dealer_name', 'dealer_address',\n",
       "       'dealer_town', 'dealer_state', 'dealer_zip', 'dealer_dma',\n",
       "       'dealer_fran_ind', 'vin_year_model', 'segment', 'make', 'model',\n",
       "       'series', 'sub_series', 'vehicle_type', 'body_style', 'cylinders',\n",
       "       'drive_type', 'doors', 'fuel_type', 'orgin', 'gvw', 'bed_size',\n",
       "       'cab_size', 'turbo', 'financial_inst', 'veh_mfg_base_list_price',\n",
       "       'corporation', 'reg_dma', 'reg_state', 'reg_county', 'reg_zip',\n",
       "       'reg_type', 'purchase_lease', 'report_year_month', 'transaction_date',\n",
       "       'mileage', 'trans_price', 'age', 'income', 'gender', 'ethnic_group',\n",
       "       'sub_ethnic_group', 'language', 'reg_type_code', 'new_count'],\n",
       "      dtype='object')"
      ]
     },
     "execution_count": 5,
     "metadata": {},
     "output_type": "execute_result"
    }
   ],
   "source": [
    "df.columns"
   ]
  },
  {
   "cell_type": "code",
   "execution_count": 11,
   "metadata": {},
   "outputs": [],
   "source": [
    "df1 = pd.DataFrame()"
   ]
  },
  {
   "cell_type": "code",
   "execution_count": 12,
   "metadata": {},
   "outputs": [],
   "source": [
    "df1['Key'] = df['vin']"
   ]
  },
  {
   "cell_type": "code",
   "execution_count": 13,
   "metadata": {},
   "outputs": [],
   "source": [
    "df1['Source'] = 'polk'"
   ]
  },
  {
   "cell_type": "code",
   "execution_count": 14,
   "metadata": {},
   "outputs": [],
   "source": [
    "df1['Date'] = df['transaction_date']"
   ]
  },
  {
   "cell_type": "code",
   "execution_count": 15,
   "metadata": {},
   "outputs": [],
   "source": [
    "df1['Year'] = df['vin_year_model']"
   ]
  },
  {
   "cell_type": "code",
   "execution_count": 16,
   "metadata": {},
   "outputs": [],
   "source": [
    "df1['Make'] = df['make']"
   ]
  },
  {
   "cell_type": "code",
   "execution_count": 17,
   "metadata": {},
   "outputs": [],
   "source": [
    "df1['Model'] = df['model']"
   ]
  },
  {
   "cell_type": "code",
   "execution_count": 18,
   "metadata": {},
   "outputs": [],
   "source": [
    "df1['Mileage'] = df['mileage']"
   ]
  },
  {
   "cell_type": "code",
   "execution_count": 20,
   "metadata": {},
   "outputs": [],
   "source": [
    "df1[\"VIN\"]=df['vin']"
   ]
  },
  {
   "cell_type": "code",
   "execution_count": 21,
   "metadata": {},
   "outputs": [
    {
     "data": {
      "text/html": [
       "<div>\n",
       "<style scoped>\n",
       "    .dataframe tbody tr th:only-of-type {\n",
       "        vertical-align: middle;\n",
       "    }\n",
       "\n",
       "    .dataframe tbody tr th {\n",
       "        vertical-align: top;\n",
       "    }\n",
       "\n",
       "    .dataframe thead th {\n",
       "        text-align: right;\n",
       "    }\n",
       "</style>\n",
       "<table border=\"1\" class=\"dataframe\">\n",
       "  <thead>\n",
       "    <tr style=\"text-align: right;\">\n",
       "      <th></th>\n",
       "      <th>Key</th>\n",
       "      <th>Source</th>\n",
       "      <th>Date</th>\n",
       "      <th>Year</th>\n",
       "      <th>Make</th>\n",
       "      <th>Model</th>\n",
       "      <th>Mileage</th>\n",
       "      <th>VIN</th>\n",
       "    </tr>\n",
       "  </thead>\n",
       "  <tbody>\n",
       "    <tr>\n",
       "      <th>0</th>\n",
       "      <td>KNDPM3AC0L7707222</td>\n",
       "      <td>polk</td>\n",
       "      <td>1919-10-18</td>\n",
       "      <td>2020</td>\n",
       "      <td>KIA</td>\n",
       "      <td>SPORTAGE</td>\n",
       "      <td>130.0</td>\n",
       "      <td>KNDPM3AC0L7707222</td>\n",
       "    </tr>\n",
       "    <tr>\n",
       "      <th>1</th>\n",
       "      <td>19XFC2F89KE046284</td>\n",
       "      <td>polk</td>\n",
       "      <td>1919-11-13</td>\n",
       "      <td>2019</td>\n",
       "      <td>HONDA</td>\n",
       "      <td>CIVIC</td>\n",
       "      <td>10.0</td>\n",
       "      <td>19XFC2F89KE046284</td>\n",
       "    </tr>\n",
       "    <tr>\n",
       "      <th>2</th>\n",
       "      <td>JF2GTABC7KH381113</td>\n",
       "      <td>polk</td>\n",
       "      <td>1965-08-10</td>\n",
       "      <td>2019</td>\n",
       "      <td>SUBARU</td>\n",
       "      <td>CROSSTREK</td>\n",
       "      <td>12.0</td>\n",
       "      <td>JF2GTABC7KH381113</td>\n",
       "    </tr>\n",
       "    <tr>\n",
       "      <th>3</th>\n",
       "      <td>3CZRU6H55KM731404</td>\n",
       "      <td>polk</td>\n",
       "      <td>1970-04-06</td>\n",
       "      <td>2019</td>\n",
       "      <td>HONDA</td>\n",
       "      <td>HR-V</td>\n",
       "      <td>16.0</td>\n",
       "      <td>3CZRU6H55KM731404</td>\n",
       "    </tr>\n",
       "    <tr>\n",
       "      <th>4</th>\n",
       "      <td>5GAEVAKW9KJ308006</td>\n",
       "      <td>polk</td>\n",
       "      <td>1970-04-15</td>\n",
       "      <td>2019</td>\n",
       "      <td>BUICK</td>\n",
       "      <td>ENCLAVE</td>\n",
       "      <td>66.0</td>\n",
       "      <td>5GAEVAKW9KJ308006</td>\n",
       "    </tr>\n",
       "  </tbody>\n",
       "</table>\n",
       "</div>"
      ],
      "text/plain": [
       "                 Key Source        Date  Year    Make      Model  Mileage  \\\n",
       "0  KNDPM3AC0L7707222   polk  1919-10-18  2020     KIA   SPORTAGE    130.0   \n",
       "1  19XFC2F89KE046284   polk  1919-11-13  2019   HONDA      CIVIC     10.0   \n",
       "2  JF2GTABC7KH381113   polk  1965-08-10  2019  SUBARU  CROSSTREK     12.0   \n",
       "3  3CZRU6H55KM731404   polk  1970-04-06  2019   HONDA       HR-V     16.0   \n",
       "4  5GAEVAKW9KJ308006   polk  1970-04-15  2019   BUICK    ENCLAVE     66.0   \n",
       "\n",
       "                 VIN  \n",
       "0  KNDPM3AC0L7707222  \n",
       "1  19XFC2F89KE046284  \n",
       "2  JF2GTABC7KH381113  \n",
       "3  3CZRU6H55KM731404  \n",
       "4  5GAEVAKW9KJ308006  "
      ]
     },
     "execution_count": 21,
     "metadata": {},
     "output_type": "execute_result"
    }
   ],
   "source": [
    "df1.head()"
   ]
  },
  {
   "cell_type": "code",
   "execution_count": 22,
   "metadata": {},
   "outputs": [],
   "source": [
    "df1.to_csv(\"polk_merge.csv\")"
   ]
  },
  {
   "cell_type": "code",
   "execution_count": null,
   "metadata": {},
   "outputs": [],
   "source": []
  },
  {
   "cell_type": "code",
   "execution_count": null,
   "metadata": {},
   "outputs": [],
   "source": []
  },
  {
   "cell_type": "code",
   "execution_count": null,
   "metadata": {},
   "outputs": [],
   "source": []
  },
  {
   "cell_type": "code",
   "execution_count": null,
   "metadata": {},
   "outputs": [],
   "source": []
  },
  {
   "cell_type": "code",
   "execution_count": 20,
   "metadata": {},
   "outputs": [],
   "source": [
    "import pandas as pd\n",
    "df = pd.read_csv(\"polk_merge.csv\")"
   ]
  },
  {
   "cell_type": "code",
   "execution_count": 21,
   "metadata": {},
   "outputs": [
    {
     "name": "stderr",
     "output_type": "stream",
     "text": [
      "/home/ec2-user/anaconda3/envs/python3/lib/python3.6/site-packages/IPython/core/interactiveshell.py:2785: DtypeWarning: Columns (20) have mixed types. Specify dtype option on import or set low_memory=False.\n",
      "  interactivity=interactivity, compiler=compiler, result=result)\n"
     ]
    }
   ],
   "source": [
    "df1= pd.read_csv(\"polk_data_clean.csv\")"
   ]
  },
  {
   "cell_type": "code",
   "execution_count": 22,
   "metadata": {},
   "outputs": [],
   "source": [
    "df[\"Trim\"]=df1[\"series\"]"
   ]
  },
  {
   "cell_type": "code",
   "execution_count": 23,
   "metadata": {},
   "outputs": [],
   "source": [
    "df = df.rename(columns={'VIN':'Vin'})"
   ]
  },
  {
   "cell_type": "code",
   "execution_count": 24,
   "metadata": {},
   "outputs": [],
   "source": [
    "polk_merge_new=df[['Key','Source','Vin','Year','Make','Model','Trim','Mileage','Date']]"
   ]
  },
  {
   "cell_type": "code",
   "execution_count": 25,
   "metadata": {},
   "outputs": [
    {
     "data": {
      "text/plain": [
       "0          1919-10-18\n",
       "1          1919-11-13\n",
       "2          1965-08-10\n",
       "3          1970-04-06\n",
       "4          1970-04-15\n",
       "5          1979-08-31\n",
       "6          1990-02-16\n",
       "7          1990-07-22\n",
       "8          1999-09-02\n",
       "9          1999-09-04\n",
       "10         1999-10-30\n",
       "11         1999-11-30\n",
       "12         1999-12-31\n",
       "13         1999-12-31\n",
       "14         1999-12-31\n",
       "15         1999-12-31\n",
       "16         1999-12-31\n",
       "17         1999-12-31\n",
       "18         1999-12-31\n",
       "19         1999-12-31\n",
       "20         1999-12-31\n",
       "21         1999-12-31\n",
       "22         1999-12-31\n",
       "23         1999-12-31\n",
       "24         1999-12-31\n",
       "25         1999-12-31\n",
       "26         1999-12-31\n",
       "27         1999-12-31\n",
       "28         1999-12-31\n",
       "29         1999-12-31\n",
       "              ...    \n",
       "3780293    2019-10-31\n",
       "3780294    2019-10-31\n",
       "3780295    2019-10-31\n",
       "3780296    2019-10-31\n",
       "3780297    2019-10-31\n",
       "3780298    2019-10-31\n",
       "3780299    2019-10-31\n",
       "3780300    2019-10-31\n",
       "3780301    2019-10-31\n",
       "3780302    2019-10-31\n",
       "3780303    2019-10-31\n",
       "3780304    2019-10-31\n",
       "3780305    2019-10-31\n",
       "3780306    2019-10-31\n",
       "3780307    2019-10-31\n",
       "3780308    2019-10-31\n",
       "3780309    2019-10-31\n",
       "3780310    2019-10-31\n",
       "3780311    2019-10-31\n",
       "3780312    2019-10-31\n",
       "3780313    2019-10-31\n",
       "3780314    2019-10-31\n",
       "3780315    2019-10-31\n",
       "3780316    2019-10-31\n",
       "3780317    2019-11-01\n",
       "3780318    2019-11-01\n",
       "3780319    2019-11-01\n",
       "3780320    2019-11-01\n",
       "3780321    2019-11-01\n",
       "3780322    2019-11-02\n",
       "Name: Date, Length: 3780323, dtype: object"
      ]
     },
     "execution_count": 25,
     "metadata": {},
     "output_type": "execute_result"
    }
   ],
   "source": [
    "polk_merge_new.Date"
   ]
  },
  {
   "cell_type": "code",
   "execution_count": 26,
   "metadata": {},
   "outputs": [],
   "source": [
    "mask = (polk_merge_new['Date'] > '2019-08-01') & (polk_merge_new['Date'] <= '2019-10-31')"
   ]
  },
  {
   "cell_type": "code",
   "execution_count": 27,
   "metadata": {},
   "outputs": [],
   "source": [
    "polk_merge_new = polk_merge_new.loc[mask]"
   ]
  },
  {
   "cell_type": "code",
   "execution_count": 28,
   "metadata": {},
   "outputs": [
    {
     "data": {
      "text/html": [
       "<div>\n",
       "<style scoped>\n",
       "    .dataframe tbody tr th:only-of-type {\n",
       "        vertical-align: middle;\n",
       "    }\n",
       "\n",
       "    .dataframe tbody tr th {\n",
       "        vertical-align: top;\n",
       "    }\n",
       "\n",
       "    .dataframe thead th {\n",
       "        text-align: right;\n",
       "    }\n",
       "</style>\n",
       "<table border=\"1\" class=\"dataframe\">\n",
       "  <thead>\n",
       "    <tr style=\"text-align: right;\">\n",
       "      <th></th>\n",
       "      <th>Key</th>\n",
       "      <th>Source</th>\n",
       "      <th>Vin</th>\n",
       "      <th>Year</th>\n",
       "      <th>Make</th>\n",
       "      <th>Model</th>\n",
       "      <th>Trim</th>\n",
       "      <th>Mileage</th>\n",
       "      <th>Date</th>\n",
       "    </tr>\n",
       "  </thead>\n",
       "  <tbody>\n",
       "    <tr>\n",
       "      <th>364674</th>\n",
       "      <td>5TDDZ3DC0LS228496</td>\n",
       "      <td>polk</td>\n",
       "      <td>5TDDZ3DC0LS228496</td>\n",
       "      <td>2020</td>\n",
       "      <td>TOYOTA</td>\n",
       "      <td>SIENNA</td>\n",
       "      <td>MTL</td>\n",
       "      <td>1504.0</td>\n",
       "      <td>2019-08-02</td>\n",
       "    </tr>\n",
       "    <tr>\n",
       "      <th>364675</th>\n",
       "      <td>KNMAT2MT9KP550612</td>\n",
       "      <td>polk</td>\n",
       "      <td>KNMAT2MT9KP550612</td>\n",
       "      <td>2019</td>\n",
       "      <td>NISSAN</td>\n",
       "      <td>ROGUE</td>\n",
       "      <td>MTL</td>\n",
       "      <td>2.0</td>\n",
       "      <td>2019-08-02</td>\n",
       "    </tr>\n",
       "    <tr>\n",
       "      <th>364676</th>\n",
       "      <td>5J6RW2H5XKL013495</td>\n",
       "      <td>polk</td>\n",
       "      <td>5J6RW2H5XKL013495</td>\n",
       "      <td>2019</td>\n",
       "      <td>HONDA</td>\n",
       "      <td>CR-V</td>\n",
       "      <td>EX</td>\n",
       "      <td>10.0</td>\n",
       "      <td>2019-08-02</td>\n",
       "    </tr>\n",
       "    <tr>\n",
       "      <th>364677</th>\n",
       "      <td>1C4RJFBGXKC815499</td>\n",
       "      <td>polk</td>\n",
       "      <td>1C4RJFBGXKC815499</td>\n",
       "      <td>2019</td>\n",
       "      <td>JEEP</td>\n",
       "      <td>GRAND CHEROKEE</td>\n",
       "      <td>LTD</td>\n",
       "      <td>11.0</td>\n",
       "      <td>2019-08-02</td>\n",
       "    </tr>\n",
       "    <tr>\n",
       "      <th>364678</th>\n",
       "      <td>7FARW1H50KE021466</td>\n",
       "      <td>polk</td>\n",
       "      <td>7FARW1H50KE021466</td>\n",
       "      <td>2019</td>\n",
       "      <td>HONDA</td>\n",
       "      <td>CR-V</td>\n",
       "      <td>EX</td>\n",
       "      <td>25.0</td>\n",
       "      <td>2019-08-02</td>\n",
       "    </tr>\n",
       "  </tbody>\n",
       "</table>\n",
       "</div>"
      ],
      "text/plain": [
       "                      Key Source                Vin  Year    Make  \\\n",
       "364674  5TDDZ3DC0LS228496   polk  5TDDZ3DC0LS228496  2020  TOYOTA   \n",
       "364675  KNMAT2MT9KP550612   polk  KNMAT2MT9KP550612  2019  NISSAN   \n",
       "364676  5J6RW2H5XKL013495   polk  5J6RW2H5XKL013495  2019   HONDA   \n",
       "364677  1C4RJFBGXKC815499   polk  1C4RJFBGXKC815499  2019    JEEP   \n",
       "364678  7FARW1H50KE021466   polk  7FARW1H50KE021466  2019   HONDA   \n",
       "\n",
       "                 Model Trim  Mileage        Date  \n",
       "364674          SIENNA  MTL   1504.0  2019-08-02  \n",
       "364675           ROGUE  MTL      2.0  2019-08-02  \n",
       "364676            CR-V   EX     10.0  2019-08-02  \n",
       "364677  GRAND CHEROKEE  LTD     11.0  2019-08-02  \n",
       "364678            CR-V   EX     25.0  2019-08-02  "
      ]
     },
     "execution_count": 28,
     "metadata": {},
     "output_type": "execute_result"
    }
   ],
   "source": [
    "polk_merge_new.head()"
   ]
  },
  {
   "cell_type": "code",
   "execution_count": 29,
   "metadata": {},
   "outputs": [
    {
     "data": {
      "text/plain": [
       "(3415643, 9)"
      ]
     },
     "execution_count": 29,
     "metadata": {},
     "output_type": "execute_result"
    }
   ],
   "source": [
    "polk_merge_new.shape"
   ]
  },
  {
   "cell_type": "code",
   "execution_count": 31,
   "metadata": {},
   "outputs": [],
   "source": [
    "polk_merge_new.to_csv(\"polk_merge_new.csv\")"
   ]
  },
  {
   "cell_type": "code",
   "execution_count": null,
   "metadata": {},
   "outputs": [],
   "source": []
  }
 ],
 "metadata": {
  "kernelspec": {
   "display_name": "conda_python3",
   "language": "python",
   "name": "conda_python3"
  },
  "language_info": {
   "codemirror_mode": {
    "name": "ipython",
    "version": 3
   },
   "file_extension": ".py",
   "mimetype": "text/x-python",
   "name": "python",
   "nbconvert_exporter": "python",
   "pygments_lexer": "ipython3",
   "version": "3.6.5"
  }
 },
 "nbformat": 4,
 "nbformat_minor": 4
}
