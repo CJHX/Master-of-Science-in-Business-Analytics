{
 "cells": [
  {
   "cell_type": "code",
   "execution_count": 1,
   "metadata": {},
   "outputs": [],
   "source": [
    "import pandas as pd\n",
    "import numpy as np"
   ]
  },
  {
   "cell_type": "markdown",
   "metadata": {},
   "source": [
    "# Data Preparation"
   ]
  },
  {
   "cell_type": "code",
   "execution_count": 2,
   "metadata": {},
   "outputs": [
    {
     "name": "stderr",
     "output_type": "stream",
     "text": [
      "/home/ec2-user/anaconda3/envs/python3/lib/python3.6/site-packages/IPython/core/interactiveshell.py:2785: DtypeWarning: Columns (12) have mixed types. Specify dtype option on import or set low_memory=False.\n",
      "  interactivity=interactivity, compiler=compiler, result=result)\n"
     ]
    }
   ],
   "source": [
    "df= pd.read_csv('profit_wallet_share.csv')"
   ]
  },
  {
   "cell_type": "code",
   "execution_count": 3,
   "metadata": {},
   "outputs": [
    {
     "data": {
      "text/html": [
       "<div>\n",
       "<style scoped>\n",
       "    .dataframe tbody tr th:only-of-type {\n",
       "        vertical-align: middle;\n",
       "    }\n",
       "\n",
       "    .dataframe tbody tr th {\n",
       "        vertical-align: top;\n",
       "    }\n",
       "\n",
       "    .dataframe thead th {\n",
       "        text-align: right;\n",
       "    }\n",
       "</style>\n",
       "<table border=\"1\" class=\"dataframe\">\n",
       "  <thead>\n",
       "    <tr style=\"text-align: right;\">\n",
       "      <th></th>\n",
       "      <th>isca</th>\n",
       "      <th>caid</th>\n",
       "      <th>cost</th>\n",
       "      <th>revenue</th>\n",
       "      <th>profit</th>\n",
       "      <th>profitability</th>\n",
       "      <th>NGC_total_floored</th>\n",
       "      <th>wallet_share</th>\n",
       "      <th>count_vin</th>\n",
       "      <th>count_vin_for_wallet_share</th>\n",
       "      <th>count_vin_floored</th>\n",
       "      <th>count_vin_floored_by_NGC</th>\n",
       "      <th>custname</th>\n",
       "    </tr>\n",
       "  </thead>\n",
       "  <tbody>\n",
       "    <tr>\n",
       "      <th>0</th>\n",
       "      <td>1</td>\n",
       "      <td>CA12015785</td>\n",
       "      <td>800.0</td>\n",
       "      <td>13050.0</td>\n",
       "      <td>12250.0</td>\n",
       "      <td>0.938697</td>\n",
       "      <td>800.0</td>\n",
       "      <td>1.0</td>\n",
       "      <td>1</td>\n",
       "      <td>1.0</td>\n",
       "      <td>1.0</td>\n",
       "      <td>1.0</td>\n",
       "      <td>FIL'S GROUP LLC</td>\n",
       "    </tr>\n",
       "    <tr>\n",
       "      <th>1</th>\n",
       "      <td>1</td>\n",
       "      <td>CA11355101</td>\n",
       "      <td>1590.0</td>\n",
       "      <td>8975.0</td>\n",
       "      <td>8205.0</td>\n",
       "      <td>0.914206</td>\n",
       "      <td>1590.0</td>\n",
       "      <td>1.0</td>\n",
       "      <td>2</td>\n",
       "      <td>1.0</td>\n",
       "      <td>2.0</td>\n",
       "      <td>2.0</td>\n",
       "      <td>JAZZY'S AUTOMOTIVE SERVICES LLC</td>\n",
       "    </tr>\n",
       "    <tr>\n",
       "      <th>2</th>\n",
       "      <td>1</td>\n",
       "      <td>CA11251941</td>\n",
       "      <td>13285.0</td>\n",
       "      <td>26500.0</td>\n",
       "      <td>23410.0</td>\n",
       "      <td>0.883396</td>\n",
       "      <td>13285.0</td>\n",
       "      <td>1.0</td>\n",
       "      <td>23</td>\n",
       "      <td>6.0</td>\n",
       "      <td>23.0</td>\n",
       "      <td>23.0</td>\n",
       "      <td>AAA AUTO SALVAGE</td>\n",
       "    </tr>\n",
       "    <tr>\n",
       "      <th>3</th>\n",
       "      <td>1</td>\n",
       "      <td>CA11575339</td>\n",
       "      <td>1455.0</td>\n",
       "      <td>9550.0</td>\n",
       "      <td>8095.0</td>\n",
       "      <td>0.847644</td>\n",
       "      <td>1455.0</td>\n",
       "      <td>1.0</td>\n",
       "      <td>1</td>\n",
       "      <td>1.0</td>\n",
       "      <td>1.0</td>\n",
       "      <td>1.0</td>\n",
       "      <td>CRYSTAL BEACH AUTO BROKERS LLC</td>\n",
       "    </tr>\n",
       "    <tr>\n",
       "      <th>4</th>\n",
       "      <td>1</td>\n",
       "      <td>CA11349571</td>\n",
       "      <td>5465.0</td>\n",
       "      <td>32100.0</td>\n",
       "      <td>26635.0</td>\n",
       "      <td>0.829751</td>\n",
       "      <td>5465.0</td>\n",
       "      <td>1.0</td>\n",
       "      <td>2</td>\n",
       "      <td>2.0</td>\n",
       "      <td>2.0</td>\n",
       "      <td>2.0</td>\n",
       "      <td>G S AUTO</td>\n",
       "    </tr>\n",
       "  </tbody>\n",
       "</table>\n",
       "</div>"
      ],
      "text/plain": [
       "   isca        caid     cost  revenue   profit  profitability  \\\n",
       "0     1  CA12015785    800.0  13050.0  12250.0       0.938697   \n",
       "1     1  CA11355101   1590.0   8975.0   8205.0       0.914206   \n",
       "2     1  CA11251941  13285.0  26500.0  23410.0       0.883396   \n",
       "3     1  CA11575339   1455.0   9550.0   8095.0       0.847644   \n",
       "4     1  CA11349571   5465.0  32100.0  26635.0       0.829751   \n",
       "\n",
       "   NGC_total_floored  wallet_share  count_vin  count_vin_for_wallet_share  \\\n",
       "0              800.0           1.0          1                         1.0   \n",
       "1             1590.0           1.0          2                         1.0   \n",
       "2            13285.0           1.0         23                         6.0   \n",
       "3             1455.0           1.0          1                         1.0   \n",
       "4             5465.0           1.0          2                         2.0   \n",
       "\n",
       "   count_vin_floored  count_vin_floored_by_NGC  \\\n",
       "0                1.0                       1.0   \n",
       "1                2.0                       2.0   \n",
       "2               23.0                      23.0   \n",
       "3                1.0                       1.0   \n",
       "4                2.0                       2.0   \n",
       "\n",
       "                          custname  \n",
       "0                  FIL'S GROUP LLC  \n",
       "1  JAZZY'S AUTOMOTIVE SERVICES LLC  \n",
       "2                 AAA AUTO SALVAGE  \n",
       "3   CRYSTAL BEACH AUTO BROKERS LLC  \n",
       "4                         G S AUTO  "
      ]
     },
     "execution_count": 3,
     "metadata": {},
     "output_type": "execute_result"
    }
   ],
   "source": [
    "df.head()"
   ]
  },
  {
   "cell_type": "code",
   "execution_count": 4,
   "metadata": {},
   "outputs": [
    {
     "name": "stderr",
     "output_type": "stream",
     "text": [
      "/home/ec2-user/anaconda3/envs/python3/lib/python3.6/site-packages/IPython/core/interactiveshell.py:2785: DtypeWarning: Columns (21,22) have mixed types. Specify dtype option on import or set low_memory=False.\n",
      "  interactivity=interactivity, compiler=compiler, result=result)\n"
     ]
    }
   ],
   "source": [
    "df2= pd.read_csv('data_324.csv')"
   ]
  },
  {
   "cell_type": "code",
   "execution_count": 5,
   "metadata": {},
   "outputs": [
    {
     "data": {
      "text/html": [
       "<div>\n",
       "<style scoped>\n",
       "    .dataframe tbody tr th:only-of-type {\n",
       "        vertical-align: middle;\n",
       "    }\n",
       "\n",
       "    .dataframe tbody tr th {\n",
       "        vertical-align: top;\n",
       "    }\n",
       "\n",
       "    .dataframe thead th {\n",
       "        text-align: right;\n",
       "    }\n",
       "</style>\n",
       "<table border=\"1\" class=\"dataframe\">\n",
       "  <thead>\n",
       "    <tr style=\"text-align: right;\">\n",
       "      <th></th>\n",
       "      <th>isca</th>\n",
       "      <th>caid</th>\n",
       "      <th>Vin</th>\n",
       "      <th>Year</th>\n",
       "      <th>Make</th>\n",
       "      <th>Model</th>\n",
       "      <th>Trim</th>\n",
       "      <th>Mileage</th>\n",
       "      <th>Date</th>\n",
       "      <th>MIDMapAlgorithm</th>\n",
       "      <th>...</th>\n",
       "      <th>cost</th>\n",
       "      <th>revenue</th>\n",
       "      <th>profit</th>\n",
       "      <th>profitability</th>\n",
       "      <th>NGC_total_floored</th>\n",
       "      <th>wallet_share</th>\n",
       "      <th>count_vin</th>\n",
       "      <th>count_vin_for_wallet_share</th>\n",
       "      <th>count_vin_floored</th>\n",
       "      <th>count_vin_floored_by_NGC</th>\n",
       "    </tr>\n",
       "  </thead>\n",
       "  <tbody>\n",
       "    <tr>\n",
       "      <th>0</th>\n",
       "      <td>1</td>\n",
       "      <td>CA11197380</td>\n",
       "      <td>1GTR2VE7XCZ218323</td>\n",
       "      <td>2012</td>\n",
       "      <td>GMC</td>\n",
       "      <td>Sierra 1500</td>\n",
       "      <td>Truck</td>\n",
       "      <td>NaN</td>\n",
       "      <td>2019-10-30</td>\n",
       "      <td>Exact</td>\n",
       "      <td>...</td>\n",
       "      <td>37900.0</td>\n",
       "      <td>48050.0</td>\n",
       "      <td>10150.0</td>\n",
       "      <td>0.211238</td>\n",
       "      <td>0.0</td>\n",
       "      <td>0.0</td>\n",
       "      <td>3</td>\n",
       "      <td>3.0</td>\n",
       "      <td>0.0</td>\n",
       "      <td>0.0</td>\n",
       "    </tr>\n",
       "    <tr>\n",
       "      <th>1</th>\n",
       "      <td>1</td>\n",
       "      <td>CA11197380</td>\n",
       "      <td>2HGFB6E50DH705377</td>\n",
       "      <td>2013</td>\n",
       "      <td>Honda</td>\n",
       "      <td>Civic</td>\n",
       "      <td>Other</td>\n",
       "      <td>NaN</td>\n",
       "      <td>2019-10-12</td>\n",
       "      <td>Exact</td>\n",
       "      <td>...</td>\n",
       "      <td>37900.0</td>\n",
       "      <td>48050.0</td>\n",
       "      <td>10150.0</td>\n",
       "      <td>0.211238</td>\n",
       "      <td>0.0</td>\n",
       "      <td>0.0</td>\n",
       "      <td>3</td>\n",
       "      <td>3.0</td>\n",
       "      <td>0.0</td>\n",
       "      <td>0.0</td>\n",
       "    </tr>\n",
       "    <tr>\n",
       "      <th>2</th>\n",
       "      <td>1</td>\n",
       "      <td>CA11197380</td>\n",
       "      <td>5NPE34AF5GH274704</td>\n",
       "      <td>2016</td>\n",
       "      <td>Hyundai</td>\n",
       "      <td>Sonata</td>\n",
       "      <td>Sedan</td>\n",
       "      <td>19310.0</td>\n",
       "      <td>2019-10-20</td>\n",
       "      <td>Exact</td>\n",
       "      <td>...</td>\n",
       "      <td>37900.0</td>\n",
       "      <td>48050.0</td>\n",
       "      <td>10150.0</td>\n",
       "      <td>0.211238</td>\n",
       "      <td>0.0</td>\n",
       "      <td>0.0</td>\n",
       "      <td>3</td>\n",
       "      <td>3.0</td>\n",
       "      <td>0.0</td>\n",
       "      <td>0.0</td>\n",
       "    </tr>\n",
       "    <tr>\n",
       "      <th>3</th>\n",
       "      <td>1</td>\n",
       "      <td>CA11197386</td>\n",
       "      <td>19XFA1F59AE046628</td>\n",
       "      <td>2010</td>\n",
       "      <td>Honda</td>\n",
       "      <td>Civic</td>\n",
       "      <td>LX</td>\n",
       "      <td>79889.0</td>\n",
       "      <td>2019-08-21</td>\n",
       "      <td>Exact</td>\n",
       "      <td>...</td>\n",
       "      <td>5903300.0</td>\n",
       "      <td>6464402.0</td>\n",
       "      <td>561102.0</td>\n",
       "      <td>0.086799</td>\n",
       "      <td>0.0</td>\n",
       "      <td>0.0</td>\n",
       "      <td>242</td>\n",
       "      <td>212.0</td>\n",
       "      <td>0.0</td>\n",
       "      <td>0.0</td>\n",
       "    </tr>\n",
       "    <tr>\n",
       "      <th>4</th>\n",
       "      <td>1</td>\n",
       "      <td>CA11197386</td>\n",
       "      <td>19XFB2F55DE031146</td>\n",
       "      <td>2013</td>\n",
       "      <td>Honda</td>\n",
       "      <td>Civic</td>\n",
       "      <td>LX</td>\n",
       "      <td>80827.0</td>\n",
       "      <td>2019-08-21</td>\n",
       "      <td>Exact</td>\n",
       "      <td>...</td>\n",
       "      <td>5903300.0</td>\n",
       "      <td>6464402.0</td>\n",
       "      <td>561102.0</td>\n",
       "      <td>0.086799</td>\n",
       "      <td>0.0</td>\n",
       "      <td>0.0</td>\n",
       "      <td>242</td>\n",
       "      <td>212.0</td>\n",
       "      <td>0.0</td>\n",
       "      <td>0.0</td>\n",
       "    </tr>\n",
       "  </tbody>\n",
       "</table>\n",
       "<p>5 rows × 40 columns</p>\n",
       "</div>"
      ],
      "text/plain": [
       "   isca        caid                Vin  Year     Make        Model   Trim  \\\n",
       "0     1  CA11197380  1GTR2VE7XCZ218323  2012      GMC  Sierra 1500  Truck   \n",
       "1     1  CA11197380  2HGFB6E50DH705377  2013    Honda        Civic  Other   \n",
       "2     1  CA11197380  5NPE34AF5GH274704  2016  Hyundai       Sonata  Sedan   \n",
       "3     1  CA11197386  19XFA1F59AE046628  2010    Honda        Civic     LX   \n",
       "4     1  CA11197386  19XFB2F55DE031146  2013    Honda        Civic     LX   \n",
       "\n",
       "   Mileage        Date MIDMapAlgorithm  ...       cost    revenue    profit  \\\n",
       "0      NaN  2019-10-30           Exact  ...    37900.0    48050.0   10150.0   \n",
       "1      NaN  2019-10-12           Exact  ...    37900.0    48050.0   10150.0   \n",
       "2  19310.0  2019-10-20           Exact  ...    37900.0    48050.0   10150.0   \n",
       "3  79889.0  2019-08-21           Exact  ...  5903300.0  6464402.0  561102.0   \n",
       "4  80827.0  2019-08-21           Exact  ...  5903300.0  6464402.0  561102.0   \n",
       "\n",
       "   profitability NGC_total_floored  wallet_share  count_vin  \\\n",
       "0       0.211238               0.0           0.0          3   \n",
       "1       0.211238               0.0           0.0          3   \n",
       "2       0.211238               0.0           0.0          3   \n",
       "3       0.086799               0.0           0.0        242   \n",
       "4       0.086799               0.0           0.0        242   \n",
       "\n",
       "  count_vin_for_wallet_share count_vin_floored  count_vin_floored_by_NGC  \n",
       "0                        3.0               0.0                       0.0  \n",
       "1                        3.0               0.0                       0.0  \n",
       "2                        3.0               0.0                       0.0  \n",
       "3                      212.0               0.0                       0.0  \n",
       "4                      212.0               0.0                       0.0  \n",
       "\n",
       "[5 rows x 40 columns]"
      ]
     },
     "execution_count": 5,
     "metadata": {},
     "output_type": "execute_result"
    }
   ],
   "source": [
    "df2.head()"
   ]
  },
  {
   "cell_type": "code",
   "execution_count": 6,
   "metadata": {},
   "outputs": [
    {
     "data": {
      "text/plain": [
       "Index(['isca', 'caid', 'Vin', 'Year', 'Make', 'Model', 'Trim', 'Mileage',\n",
       "       'Date', 'MIDMapAlgorithm', 'MMR_adj_current', 'RMI_adj_current',\n",
       "       'AvgPrice', 'avgmiles', 'Velocity', 'Salesefficiency', 'AvgDaysToSell',\n",
       "       'vol_tier', 'availability', 'inventory', 'spread_current',\n",
       "       'buyer_how_paid_cd', 'floorplan_cur_cust_nm', 'floorplan_cust_ovc_id',\n",
       "       'NGC_purchase_price', 'NGC_floored_amount', 'wholesale_price',\n",
       "       'MMR_price', 'list_price', 'price', 'cost', 'revenue', 'profit',\n",
       "       'profitability', 'NGC_total_floored', 'wallet_share', 'count_vin',\n",
       "       'count_vin_for_wallet_share', 'count_vin_floored',\n",
       "       'count_vin_floored_by_NGC'],\n",
       "      dtype='object')"
      ]
     },
     "execution_count": 6,
     "metadata": {},
     "output_type": "execute_result"
    }
   ],
   "source": [
    "df2.columns"
   ]
  },
  {
   "cell_type": "code",
   "execution_count": 7,
   "metadata": {},
   "outputs": [
    {
     "data": {
      "text/plain": [
       "isca                                 0\n",
       "caid                                 0\n",
       "Vin                                  0\n",
       "Year                                 0\n",
       "Make                              9423\n",
       "Model                            15418\n",
       "Trim                            879987\n",
       "Mileage                        4242336\n",
       "Date                                 0\n",
       "MIDMapAlgorithm                      0\n",
       "MMR_adj_current                3166679\n",
       "RMI_adj_current                2869002\n",
       "AvgPrice                        917343\n",
       "avgmiles                        917343\n",
       "Velocity                       1366083\n",
       "Salesefficiency                 917944\n",
       "AvgDaysToSell                   917343\n",
       "vol_tier                        917343\n",
       "availability                    917349\n",
       "inventory                       969034\n",
       "spread_current                 4158207\n",
       "buyer_how_paid_cd             21665872\n",
       "floorplan_cur_cust_nm         22331601\n",
       "floorplan_cust_ovc_id         22331601\n",
       "NGC_purchase_price            22536116\n",
       "NGC_floored_amount            22640758\n",
       "wholesale_price               21539128\n",
       "MMR_price                      3506218\n",
       "list_price                     7330263\n",
       "price                          3517366\n",
       "cost                                 0\n",
       "revenue                              0\n",
       "profit                               0\n",
       "profitability                     9337\n",
       "NGC_total_floored                    0\n",
       "wallet_share                      8734\n",
       "count_vin                            0\n",
       "count_vin_for_wallet_share           0\n",
       "count_vin_floored                    0\n",
       "count_vin_floored_by_NGC             0\n",
       "dtype: int64"
      ]
     },
     "execution_count": 7,
     "metadata": {},
     "output_type": "execute_result"
    }
   ],
   "source": [
    "df2.isnull().sum()"
   ]
  },
  {
   "cell_type": "code",
   "execution_count": 5,
   "metadata": {},
   "outputs": [],
   "source": [
    "dealer= pd.read_csv('dealer_data.csv')"
   ]
  },
  {
   "cell_type": "code",
   "execution_count": 6,
   "metadata": {},
   "outputs": [
    {
     "name": "stderr",
     "output_type": "stream",
     "text": [
      "/home/ec2-user/anaconda3/envs/python3/lib/python3.6/site-packages/IPython/core/interactiveshell.py:2785: DtypeWarning: Columns (12) have mixed types. Specify dtype option on import or set low_memory=False.\n",
      "  interactivity=interactivity, compiler=compiler, result=result)\n"
     ]
    }
   ],
   "source": [
    "wa= pd.read_csv('profit_wallet_share.csv')"
   ]
  },
  {
   "cell_type": "code",
   "execution_count": 7,
   "metadata": {},
   "outputs": [
    {
     "data": {
      "text/plain": [
       "Index(['isca', 'caid', 'cost', 'revenue', 'profit', 'profitability',\n",
       "       'NGC_total_floored', 'wallet_share', 'count_vin',\n",
       "       'count_vin_for_wallet_share', 'count_vin_floored',\n",
       "       'count_vin_floored_by_NGC', 'custname'],\n",
       "      dtype='object')"
      ]
     },
     "execution_count": 7,
     "metadata": {},
     "output_type": "execute_result"
    }
   ],
   "source": [
    "wa.columns"
   ]
  },
  {
   "cell_type": "code",
   "execution_count": 8,
   "metadata": {},
   "outputs": [],
   "source": [
    "wa['Per']=wa['count_vin_floored']/wa['count_vin_for_wallet_share']"
   ]
  },
  {
   "cell_type": "code",
   "execution_count": 9,
   "metadata": {},
   "outputs": [],
   "source": [
    "wa=wa.loc[:,['caid', 'wallet_share','Per']]"
   ]
  },
  {
   "cell_type": "code",
   "execution_count": 10,
   "metadata": {},
   "outputs": [],
   "source": [
    "dealer2=pd.merge(wa, dealer, left_on='caid', right_on='caid',how='right')"
   ]
  },
  {
   "cell_type": "code",
   "execution_count": 11,
   "metadata": {},
   "outputs": [
    {
     "data": {
      "text/plain": [
       "caid                              0\n",
       "wallet_share                   3754\n",
       "Per                            3407\n",
       "isca                              0\n",
       "Vin                               0\n",
       "MMR_adj_current                2305\n",
       "RMI_adj_current                4029\n",
       "AvgPrice                       1167\n",
       "avgmiles                       1167\n",
       "Salesefficiency                1167\n",
       "AvgDaysToSell                  1167\n",
       "inventory                      1290\n",
       "NGC_floored_amount           100982\n",
       "list_price                    54795\n",
       "wholesale_price               51634\n",
       "MMR_price                      3942\n",
       "revenue                           0\n",
       "cost                              0\n",
       "profitability                  3942\n",
       "Velocity_Cold                     0\n",
       "Velocity_Hot                      0\n",
       "Velocity_Warm                     0\n",
       "vol_tier_Tier1                    0\n",
       "vol_tier_Tier2                    0\n",
       "vol_tier_Tier3                    0\n",
       "vol_tier_Tier4                    0\n",
       "vol_tier_Tier5                    0\n",
       "availability_Excessive            0\n",
       "availability_High                 0\n",
       "availability_Low                  0\n",
       "availability_Medium               0\n",
       "availability_No Inventory         0\n",
       "availability_Other                0\n",
       "price_gap                     55724\n",
       "car_count                         0\n",
       "dtype: int64"
      ]
     },
     "execution_count": 11,
     "metadata": {},
     "output_type": "execute_result"
    }
   ],
   "source": [
    "dealer2.isnull().sum()"
   ]
  },
  {
   "cell_type": "code",
   "execution_count": 12,
   "metadata": {},
   "outputs": [
    {
     "data": {
      "text/plain": [
       "(109873, 33)"
      ]
     },
     "execution_count": 12,
     "metadata": {},
     "output_type": "execute_result"
    }
   ],
   "source": [
    "dealer.shape"
   ]
  },
  {
   "cell_type": "code",
   "execution_count": 13,
   "metadata": {},
   "outputs": [
    {
     "data": {
      "text/plain": [
       "Index(['caid', 'wallet_share', 'Per', 'isca', 'Vin', 'MMR_adj_current',\n",
       "       'RMI_adj_current', 'AvgPrice', 'avgmiles', 'Salesefficiency',\n",
       "       'AvgDaysToSell', 'inventory', 'NGC_floored_amount', 'list_price',\n",
       "       'wholesale_price', 'MMR_price', 'revenue', 'cost', 'profitability',\n",
       "       'Velocity_Cold', 'Velocity_Hot', 'Velocity_Warm', 'vol_tier_Tier1',\n",
       "       'vol_tier_Tier2', 'vol_tier_Tier3', 'vol_tier_Tier4', 'vol_tier_Tier5',\n",
       "       'availability_Excessive', 'availability_High', 'availability_Low',\n",
       "       'availability_Medium', 'availability_No Inventory',\n",
       "       'availability_Other', 'price_gap', 'car_count'],\n",
       "      dtype='object')"
      ]
     },
     "execution_count": 13,
     "metadata": {},
     "output_type": "execute_result"
    }
   ],
   "source": [
    "dealer2.columns"
   ]
  },
  {
   "cell_type": "code",
   "execution_count": 14,
   "metadata": {},
   "outputs": [],
   "source": [
    "dealer2=dealer2.loc[:,['wallet_share','Per','isca','MMR_adj_current', 'RMI_adj_current', 'AvgPrice',\n",
    "       'avgmiles', 'Salesefficiency', 'AvgDaysToSell', 'inventory', 'MMR_price',\n",
    "       'revenue', 'cost', 'profitability', 'Velocity_Cold', 'Velocity_Hot',\n",
    "       'Velocity_Warm', 'vol_tier_Tier1', 'vol_tier_Tier2', 'vol_tier_Tier3',\n",
    "       'vol_tier_Tier4', 'vol_tier_Tier5', 'availability_Excessive',\n",
    "       'availability_High', 'availability_Low', 'availability_Medium',\n",
    "       'availability_No Inventory', 'availability_Other',\n",
    "       'car_count']]"
   ]
  },
  {
   "cell_type": "code",
   "execution_count": 15,
   "metadata": {},
   "outputs": [
    {
     "data": {
      "text/plain": [
       "Index(['wallet_share', 'Per', 'isca', 'MMR_adj_current', 'RMI_adj_current',\n",
       "       'AvgPrice', 'avgmiles', 'Salesefficiency', 'AvgDaysToSell', 'inventory',\n",
       "       'MMR_price', 'revenue', 'cost', 'profitability', 'Velocity_Cold',\n",
       "       'Velocity_Hot', 'Velocity_Warm', 'vol_tier_Tier1', 'vol_tier_Tier2',\n",
       "       'vol_tier_Tier3', 'vol_tier_Tier4', 'vol_tier_Tier5',\n",
       "       'availability_Excessive', 'availability_High', 'availability_Low',\n",
       "       'availability_Medium', 'availability_No Inventory',\n",
       "       'availability_Other', 'car_count'],\n",
       "      dtype='object')"
      ]
     },
     "execution_count": 15,
     "metadata": {},
     "output_type": "execute_result"
    }
   ],
   "source": [
    "dealer2.columns"
   ]
  },
  {
   "cell_type": "code",
   "execution_count": 16,
   "metadata": {},
   "outputs": [],
   "source": [
    "dealer2=dealer2.dropna()"
   ]
  },
  {
   "cell_type": "code",
   "execution_count": 124,
   "metadata": {},
   "outputs": [],
   "source": [
    "from sklearn.model_selection import train_test_split\n",
    "X = dealer2.loc[:,['MMR_adj_current', 'RMI_adj_current', 'AvgPrice',\n",
    "       'avgmiles', 'Salesefficiency', 'AvgDaysToSell', 'inventory', 'MMR_price',\n",
    "       'revenue', 'cost', 'profitability', 'Velocity_Cold', 'Velocity_Hot',\n",
    "       'Velocity_Warm', 'vol_tier_Tier1', 'vol_tier_Tier2', 'vol_tier_Tier3',\n",
    "       'vol_tier_Tier4', 'vol_tier_Tier5', 'availability_Excessive',\n",
    "       'availability_High', 'availability_Low', 'availability_Medium',\n",
    "       'availability_No Inventory', 'availability_Other',\n",
    "       'car_count']]\n",
    "y = dealer2.iloc[:, 1]\n",
    "X_train, X_test, y_train, y_test = train_test_split(X, y, test_size=0.3, random_state=42)\n",
    "X_train = X_train.reset_index(drop = True)\n",
    "X_test = X_test.reset_index(drop = True)\n",
    "y_train = y_train.reset_index(drop = True)\n",
    "y_test = y_test.reset_index(drop = True)"
   ]
  },
  {
   "cell_type": "code",
   "execution_count": 125,
   "metadata": {},
   "outputs": [
    {
     "data": {
      "text/plain": [
       "0.14575827881822123"
      ]
     },
     "execution_count": 125,
     "metadata": {},
     "output_type": "execute_result"
    }
   ],
   "source": [
    "y_test.mean()"
   ]
  },
  {
   "cell_type": "code",
   "execution_count": 126,
   "metadata": {},
   "outputs": [
    {
     "data": {
      "text/plain": [
       "17.0"
      ]
     },
     "execution_count": 126,
     "metadata": {},
     "output_type": "execute_result"
    }
   ],
   "source": [
    "y_test.max()"
   ]
  },
  {
   "cell_type": "code",
   "execution_count": 69,
   "metadata": {},
   "outputs": [],
   "source": [
    "import matplotlib.pyplot as plt\n",
    "import numpy as np\n",
    "from sklearn import datasets, linear_model\n",
    "from sklearn.metrics import mean_squared_error, r2_score\n",
    "from sklearn.model_selection import train_test_split \n",
    "from sklearn.linear_model import LinearRegression\n",
    "from sklearn import metrics\n",
    "%matplotlib inline"
   ]
  },
  {
   "cell_type": "code",
   "execution_count": 127,
   "metadata": {},
   "outputs": [
    {
     "data": {
      "text/plain": [
       "LinearRegression(copy_X=True, fit_intercept=True, n_jobs=None,\n",
       "         normalize=False)"
      ]
     },
     "execution_count": 127,
     "metadata": {},
     "output_type": "execute_result"
    }
   ],
   "source": [
    "regressor = LinearRegression()  \n",
    "regressor.fit(X_train, y_train)"
   ]
  },
  {
   "cell_type": "code",
   "execution_count": 128,
   "metadata": {
    "scrolled": true
   },
   "outputs": [
    {
     "name": "stdout",
     "output_type": "stream",
     "text": [
      "0.08461045059456224\n",
      "[-2.84539113e-05 -9.95454770e-06  9.37907209e-06  1.72600742e-06\n",
      " -8.21638414e-02  8.70304906e-04  6.81232323e-06  2.88723295e-05\n",
      " -9.81083462e-09  1.11212342e-08  6.04063733e-04  3.87177163e-05\n",
      " -4.23937243e-05 -2.54558630e-06 -8.89250063e-02 -8.91048351e-02\n",
      " -8.90207081e-02 -8.91388079e-02 -8.88743972e-02  8.89074820e-02\n",
      "  8.90635362e-02  8.91585062e-02  8.89613078e-02  8.97231282e-02\n",
      "  8.89616303e-02 -3.66355850e-05]\n"
     ]
    }
   ],
   "source": [
    "#To retrieve the intercept:\n",
    "print(regressor.intercept_)\n",
    "#For retrieving the slope:\n",
    "print(regressor.coef_)"
   ]
  },
  {
   "cell_type": "code",
   "execution_count": 129,
   "metadata": {},
   "outputs": [
    {
     "name": "stdout",
     "output_type": "stream",
     "text": [
      "Mean Absolute Error: 0.23245563689055457\n",
      "Mean Squared Error: 0.16856202943730636\n",
      "Root Mean Squared Error: 0.41056306389799163\n"
     ]
    }
   ],
   "source": [
    "y_pred = regressor.predict(X_test)\n",
    "print('Mean Absolute Error:', metrics.mean_absolute_error(y_test, y_pred))  \n",
    "print('Mean Squared Error:', metrics.mean_squared_error(y_test, y_pred))  \n",
    "print('Root Mean Squared Error:', np.sqrt(metrics.mean_squared_error(y_test, y_pred)))"
   ]
  },
  {
   "cell_type": "markdown",
   "metadata": {},
   "source": [
    "# Ramdom Forest"
   ]
  },
  {
   "cell_type": "code",
   "execution_count": 130,
   "metadata": {},
   "outputs": [],
   "source": [
    "from sklearn.model_selection import GridSearchCV, KFold, cross_val_score \n",
    "np.random.seed(42)\n",
    "inner_cv = KFold(n_splits=5, shuffle=True, random_state = 42) \n",
    "outer_cv = KFold(n_splits=5, shuffle=True, random_state = 42)"
   ]
  },
  {
   "cell_type": "code",
   "execution_count": 131,
   "metadata": {},
   "outputs": [
    {
     "name": "stdout",
     "output_type": "stream",
     "text": [
      " Parameter Tuning for Decision Tree\n",
      "Non-nested CV f1:  -0.18960195984305955\n",
      "Optimal Parameter:  {'max_depth': 20, 'max_features': None, 'min_impurity_decrease': 0.001, 'n_estimators': 50}\n",
      "Optimal Estimator:  RandomForestRegressor(bootstrap=True, criterion='mse', max_depth=20,\n",
      "           max_features=None, max_leaf_nodes=None,\n",
      "           min_impurity_decrease=0.001, min_impurity_split=None,\n",
      "           min_samples_leaf=1, min_samples_split=2,\n",
      "           min_weight_fraction_leaf=0.0, n_estimators=50, n_jobs=None,\n",
      "           oob_score=False, random_state=42, verbose=0, warm_start=False)\n"
     ]
    }
   ],
   "source": [
    "from sklearn.ensemble import RandomForestRegressor\n",
    "\n",
    "gs_rf = GridSearchCV(estimator= RandomForestRegressor(random_state=42),\n",
    "                  param_grid=[{'n_estimators':[50, 100, 200],\n",
    "                               'max_depth': [1,3,5, 10, 20],\n",
    "                               'min_impurity_decrease': [0.1, 0.01, 0.001],\n",
    "                               'max_features': ['sqrt', 'log2', None]\n",
    "                              }],\n",
    "                  scoring='neg_mean_squared_error',\n",
    "                  cv=inner_cv)\n",
    "\n",
    "gs_rf = gs_rf.fit(X_train,y_train)\n",
    "print(\" Parameter Tuning for Decision Tree\")\n",
    "print(\"Non-nested CV f1: \", gs_rf.best_score_)\n",
    "print(\"Optimal Parameter: \", gs_rf.best_params_)    \n",
    "print(\"Optimal Estimator: \", gs_rf.best_estimator_) "
   ]
  },
  {
   "cell_type": "code",
   "execution_count": 132,
   "metadata": {},
   "outputs": [
    {
     "name": "stdout",
     "output_type": "stream",
     "text": [
      "Mean Absolute Error: 0.22288563051160365\n",
      "Mean Squared Error: 0.16027524845795893\n",
      "Root Mean Squared Error: 0.4003439127274935\n"
     ]
    }
   ],
   "source": [
    "y_pred =  gs_rf.best_estimator_.predict(X_test)\n",
    "\n",
    "print('Mean Absolute Error:', metrics.mean_absolute_error(y_test, y_pred))  \n",
    "print('Mean Squared Error:', metrics.mean_squared_error(y_test, y_pred))  \n",
    "print('Root Mean Squared Error:', np.sqrt(metrics.mean_squared_error(y_test, y_pred)))"
   ]
  },
  {
   "cell_type": "code",
   "execution_count": 133,
   "metadata": {},
   "outputs": [
    {
     "data": {
      "text/plain": [
       "Index(['MMR_adj_current', 'RMI_adj_current', 'AvgPrice', 'avgmiles',\n",
       "       'Salesefficiency', 'AvgDaysToSell', 'inventory', 'MMR_price', 'revenue',\n",
       "       'cost', 'profitability', 'Velocity_Cold', 'Velocity_Hot',\n",
       "       'Velocity_Warm', 'vol_tier_Tier1', 'vol_tier_Tier2', 'vol_tier_Tier3',\n",
       "       'vol_tier_Tier4', 'vol_tier_Tier5', 'availability_Excessive',\n",
       "       'availability_High', 'availability_Low', 'availability_Medium',\n",
       "       'availability_No Inventory', 'availability_Other', 'car_count'],\n",
       "      dtype='object')"
      ]
     },
     "execution_count": 133,
     "metadata": {},
     "output_type": "execute_result"
    }
   ],
   "source": [
    "X_test.columns"
   ]
  },
  {
   "cell_type": "code",
   "execution_count": 134,
   "metadata": {},
   "outputs": [
    {
     "data": {
      "text/plain": [
       "array([0.02270198, 0.00639481, 0.01212413, 0.07851284, 0.00598877,\n",
       "       0.02154899, 0.02224778, 0.01004206, 0.02537868, 0.0250559 ,\n",
       "       0.17472417, 0.        , 0.02388115, 0.01313707, 0.00642447,\n",
       "       0.00186056, 0.00066146, 0.        , 0.02361865, 0.36246281,\n",
       "       0.06367155, 0.00665467, 0.00720644, 0.        , 0.        ,\n",
       "       0.08570105])"
      ]
     },
     "execution_count": 134,
     "metadata": {},
     "output_type": "execute_result"
    }
   ],
   "source": [
    "gs_rf.best_estimator_.feature_importances_"
   ]
  },
  {
   "cell_type": "markdown",
   "metadata": {},
   "source": [
    "# For Wallet Share"
   ]
  },
  {
   "cell_type": "code",
   "execution_count": 144,
   "metadata": {},
   "outputs": [],
   "source": [
    "isdealer=dealer2['Per']!=0"
   ]
  },
  {
   "cell_type": "code",
   "execution_count": 158,
   "metadata": {},
   "outputs": [
    {
     "data": {
      "text/plain": [
       "(105439, 29)"
      ]
     },
     "execution_count": 158,
     "metadata": {},
     "output_type": "execute_result"
    }
   ],
   "source": [
    "dealer2.shape"
   ]
  },
  {
   "cell_type": "code",
   "execution_count": 162,
   "metadata": {},
   "outputs": [
    {
     "data": {
      "text/plain": [
       "0.2085064785418899"
      ]
     },
     "execution_count": 162,
     "metadata": {},
     "output_type": "execute_result"
    }
   ],
   "source": [
    "y_test.mean()"
   ]
  },
  {
   "cell_type": "code",
   "execution_count": 145,
   "metadata": {},
   "outputs": [],
   "source": [
    "dealer4 = dealer2[isdealer]"
   ]
  },
  {
   "cell_type": "code",
   "execution_count": 157,
   "metadata": {},
   "outputs": [
    {
     "data": {
      "text/plain": [
       "(22988, 29)"
      ]
     },
     "execution_count": 157,
     "metadata": {},
     "output_type": "execute_result"
    }
   ],
   "source": [
    "dealer4.shape"
   ]
  },
  {
   "cell_type": "code",
   "execution_count": 146,
   "metadata": {},
   "outputs": [],
   "source": [
    "from sklearn.model_selection import train_test_split\n",
    "X = dealer4.loc[:,['Per','MMR_adj_current', 'RMI_adj_current', 'AvgPrice',\n",
    "       'avgmiles', 'Salesefficiency', 'AvgDaysToSell', 'inventory', 'MMR_price',\n",
    "       'revenue', 'cost', 'profitability', 'Velocity_Cold', 'Velocity_Hot',\n",
    "       'Velocity_Warm', 'vol_tier_Tier1', 'vol_tier_Tier2', 'vol_tier_Tier3',\n",
    "       'vol_tier_Tier4', 'vol_tier_Tier5', 'availability_Excessive',\n",
    "       'availability_High', 'availability_Low', 'availability_Medium',\n",
    "       'availability_No Inventory', 'availability_Other',\n",
    "       'car_count']]\n",
    "y = dealer4.iloc[:, 0]\n",
    "X_train, X_test, y_train, y_test = train_test_split(X, y, test_size=0.3, random_state=42)\n",
    "X_train = X_train.reset_index(drop = True)\n",
    "X_test = X_test.reset_index(drop = True)\n",
    "y_train = y_train.reset_index(drop = True)\n",
    "y_test = y_test.reset_index(drop = True)"
   ]
  },
  {
   "cell_type": "code",
   "execution_count": 147,
   "metadata": {},
   "outputs": [
    {
     "name": "stderr",
     "output_type": "stream",
     "text": [
      "/home/ec2-user/anaconda3/envs/python3/lib/python3.6/site-packages/sklearn/preprocessing/data.py:645: DataConversionWarning: Data with input dtype int64, float64 were all converted to float64 by StandardScaler.\n",
      "  return self.partial_fit(X, y)\n",
      "/home/ec2-user/anaconda3/envs/python3/lib/python3.6/site-packages/ipykernel/__main__.py:5: DataConversionWarning: Data with input dtype int64, float64 were all converted to float64 by StandardScaler.\n",
      "/home/ec2-user/anaconda3/envs/python3/lib/python3.6/site-packages/ipykernel/__main__.py:6: DataConversionWarning: Data with input dtype int64, float64 were all converted to float64 by StandardScaler.\n"
     ]
    }
   ],
   "source": [
    "from sklearn.preprocessing import StandardScaler\n",
    "scaler = StandardScaler()\n",
    "\n",
    "scaler.fit(X_train)\n",
    "X_train_std = pd.DataFrame(scaler.transform(X_train))\n",
    "X_test_std = pd.DataFrame(scaler.transform(X_test))"
   ]
  },
  {
   "cell_type": "code",
   "execution_count": 153,
   "metadata": {},
   "outputs": [
    {
     "data": {
      "text/plain": [
       "Lasso(alpha=0.1, copy_X=True, fit_intercept=True, max_iter=1000,\n",
       "   normalize=False, positive=False, precompute=False, random_state=None,\n",
       "   selection='cyclic', tol=0.0001, warm_start=False)"
      ]
     },
     "execution_count": 153,
     "metadata": {},
     "output_type": "execute_result"
    }
   ],
   "source": [
    "from sklearn import linear_model\n",
    "clf = linear_model.Lasso(alpha=0.1)\n",
    "clf.fit(X_train_std, y_train)"
   ]
  },
  {
   "cell_type": "code",
   "execution_count": 154,
   "metadata": {},
   "outputs": [
    {
     "name": "stdout",
     "output_type": "stream",
     "text": [
      "Mean Absolute Error: 0.2880868008868449\n",
      "Mean Squared Error: 0.12454391564452803\n",
      "Root Mean Squared Error: 0.35290780048693743\n"
     ]
    }
   ],
   "source": [
    "y_pred =  clf.predict(X_test_std)\n",
    "\n",
    "print('Mean Absolute Error:', metrics.mean_absolute_error(y_test, y_pred))  \n",
    "print('Mean Squared Error:', metrics.mean_squared_error(y_test, y_pred))  \n",
    "print('Root Mean Squared Error:', np.sqrt(metrics.mean_squared_error(y_test, y_pred)))"
   ]
  },
  {
   "cell_type": "code",
   "execution_count": 155,
   "metadata": {},
   "outputs": [
    {
     "data": {
      "text/plain": [
       "Index(['Per', 'MMR_adj_current', 'RMI_adj_current', 'AvgPrice', 'avgmiles',\n",
       "       'Salesefficiency', 'AvgDaysToSell', 'inventory', 'MMR_price', 'revenue',\n",
       "       'cost', 'profitability', 'Velocity_Cold', 'Velocity_Hot',\n",
       "       'Velocity_Warm', 'vol_tier_Tier1', 'vol_tier_Tier2', 'vol_tier_Tier3',\n",
       "       'vol_tier_Tier4', 'vol_tier_Tier5', 'availability_Excessive',\n",
       "       'availability_High', 'availability_Low', 'availability_Medium',\n",
       "       'availability_No Inventory', 'availability_Other', 'car_count'],\n",
       "      dtype='object')"
      ]
     },
     "execution_count": 155,
     "metadata": {},
     "output_type": "execute_result"
    }
   ],
   "source": [
    "X_test.columns"
   ]
  },
  {
   "cell_type": "code",
   "execution_count": 156,
   "metadata": {},
   "outputs": [
    {
     "name": "stdout",
     "output_type": "stream",
     "text": [
      "[ 0.00962094 -0.         -0.         -0.          0.          0.\n",
      " -0.         -0.         -0.         -0.         -0.          0.\n",
      " -0.         -0.         -0.         -0.         -0.         -0.\n",
      " -0.         -0.         -0.         -0.         -0.         -0.\n",
      " -0.         -0.         -0.        ]\n"
     ]
    }
   ],
   "source": [
    "print(clf.coef_)"
   ]
  },
  {
   "cell_type": "markdown",
   "metadata": {},
   "source": [
    "# Profitbility"
   ]
  },
  {
   "cell_type": "code",
   "execution_count": 84,
   "metadata": {},
   "outputs": [],
   "source": [
    "dealer3=dealer2.loc[:,['profitability','wallet_share','isca','AvgPrice',\n",
    "       'avgmiles', 'Salesefficiency', 'AvgDaysToSell', 'inventory', \n",
    "       'profitability', 'Velocity_Cold', 'Velocity_Hot',\n",
    "       'Velocity_Warm', 'vol_tier_Tier1', 'vol_tier_Tier2', 'vol_tier_Tier3',\n",
    "       'vol_tier_Tier4', 'vol_tier_Tier5', 'availability_Excessive',\n",
    "       'availability_High', 'availability_Low', 'availability_Medium',\n",
    "       'availability_No Inventory', 'availability_Other',\n",
    "       'car_count']]"
   ]
  },
  {
   "cell_type": "code",
   "execution_count": 98,
   "metadata": {},
   "outputs": [],
   "source": [
    "from sklearn.model_selection import train_test_split\n",
    "X = dealer3.loc[:,['wallet_share','isca','AvgPrice',\n",
    "       'avgmiles', 'Salesefficiency', 'AvgDaysToSell', 'inventory', \n",
    "       'Velocity_Cold', 'Velocity_Hot',\n",
    "       'Velocity_Warm', 'vol_tier_Tier1', 'vol_tier_Tier2', 'vol_tier_Tier3',\n",
    "       'vol_tier_Tier4', 'vol_tier_Tier5', 'availability_Excessive',\n",
    "       'availability_High', 'availability_Low', 'availability_Medium',\n",
    "       'availability_No Inventory', 'availability_Other',\n",
    "       'car_count']]\n",
    "y = dealer3.iloc[:, 0]\n",
    "X_train, X_test, y_train, y_test = train_test_split(X, y, test_size=0.3, random_state=42)\n",
    "X_train = X_train.reset_index(drop = True)\n",
    "X_test = X_test.reset_index(drop = True)\n",
    "y_train = y_train.reset_index(drop = True)\n",
    "y_test = y_test.reset_index(drop = True)"
   ]
  },
  {
   "cell_type": "code",
   "execution_count": null,
   "metadata": {},
   "outputs": [],
   "source": [
    "dealer3.profitability.max()"
   ]
  },
  {
   "cell_type": "code",
   "execution_count": 99,
   "metadata": {},
   "outputs": [
    {
     "data": {
      "text/plain": [
       "Index(['wallet_share', 'isca', 'AvgPrice', 'avgmiles', 'Salesefficiency',\n",
       "       'AvgDaysToSell', 'inventory', 'Velocity_Cold', 'Velocity_Hot',\n",
       "       'Velocity_Warm', 'vol_tier_Tier1', 'vol_tier_Tier2', 'vol_tier_Tier3',\n",
       "       'vol_tier_Tier4', 'vol_tier_Tier5', 'availability_Excessive',\n",
       "       'availability_High', 'availability_Low', 'availability_Medium',\n",
       "       'availability_No Inventory', 'availability_Other', 'car_count'],\n",
       "      dtype='object')"
      ]
     },
     "execution_count": 99,
     "metadata": {},
     "output_type": "execute_result"
    }
   ],
   "source": [
    "X_train.columns"
   ]
  },
  {
   "cell_type": "code",
   "execution_count": 92,
   "metadata": {},
   "outputs": [
    {
     "data": {
      "text/plain": [
       "0        0.195483\n",
       "1        0.324930\n",
       "2        0.828571\n",
       "3        0.361326\n",
       "4        0.315434\n",
       "5        0.451389\n",
       "6        0.317866\n",
       "7        0.180884\n",
       "8        0.088325\n",
       "9        0.406906\n",
       "10       0.121001\n",
       "11       0.199377\n",
       "12       0.459627\n",
       "13       0.148551\n",
       "14       0.924242\n",
       "15       0.179067\n",
       "16       1.336066\n",
       "17       0.777876\n",
       "18       2.195514\n",
       "19       0.081843\n",
       "20       0.205617\n",
       "21       0.491250\n",
       "22       0.129352\n",
       "23       0.218782\n",
       "24       0.308954\n",
       "25       0.376437\n",
       "26       3.296119\n",
       "27       0.362184\n",
       "28       0.629339\n",
       "29       0.811765\n",
       "           ...   \n",
       "73777    0.330687\n",
       "73778    0.144781\n",
       "73779    0.388945\n",
       "73780    0.261324\n",
       "73781    0.178282\n",
       "73782    0.101620\n",
       "73783    0.190748\n",
       "73784    0.048701\n",
       "73785    0.081437\n",
       "73786    0.288667\n",
       "73787    0.579854\n",
       "73788    0.794815\n",
       "73789    1.049858\n",
       "73790   -0.149573\n",
       "73791    0.530914\n",
       "73792    0.803862\n",
       "73793    0.622228\n",
       "73794    0.165558\n",
       "73795    0.791123\n",
       "73796    4.000000\n",
       "73797    0.153438\n",
       "73798    0.167441\n",
       "73799    0.182261\n",
       "73800    0.195257\n",
       "73801    0.240501\n",
       "73802    0.089929\n",
       "73803    0.253216\n",
       "73804    0.076931\n",
       "73805    0.464164\n",
       "73806    0.808140\n",
       "Name: profitability, Length: 73807, dtype: float64"
      ]
     },
     "execution_count": 92,
     "metadata": {},
     "output_type": "execute_result"
    }
   ],
   "source": [
    "y_train"
   ]
  },
  {
   "cell_type": "code",
   "execution_count": 100,
   "metadata": {},
   "outputs": [
    {
     "name": "stdout",
     "output_type": "stream",
     "text": [
      " Parameter Tuning for Decision Tree\n",
      "Non-nested CV f1:  -4.317034846885645\n",
      "Optimal Parameter:  {'max_depth': 5, 'max_features': 'sqrt', 'min_impurity_decrease': 0.001, 'n_estimators': 200}\n",
      "Optimal Estimator:  RandomForestRegressor(bootstrap=True, criterion='mse', max_depth=5,\n",
      "           max_features='sqrt', max_leaf_nodes=None,\n",
      "           min_impurity_decrease=0.001, min_impurity_split=None,\n",
      "           min_samples_leaf=1, min_samples_split=2,\n",
      "           min_weight_fraction_leaf=0.0, n_estimators=200, n_jobs=None,\n",
      "           oob_score=False, random_state=42, verbose=0, warm_start=False)\n"
     ]
    }
   ],
   "source": [
    "from sklearn.ensemble import RandomForestRegressor\n",
    "\n",
    "gs_rf = GridSearchCV(estimator= RandomForestRegressor(random_state=42),\n",
    "                  param_grid=[{'n_estimators':[50, 100, 200],\n",
    "                               'max_depth': [1,3,5, 10, 20],\n",
    "                               'min_impurity_decrease': [0.1, 0.01, 0.001],\n",
    "                               'max_features': ['sqrt', 'log2', None]\n",
    "                              }],\n",
    "                  scoring='neg_mean_squared_error',\n",
    "                  cv=inner_cv)\n",
    "\n",
    "gs_rf = gs_rf.fit(X_train,y_train)\n",
    "print(\" Parameter Tuning for Decision Tree\")\n",
    "print(\"Non-nested CV f1: \", gs_rf.best_score_)\n",
    "print(\"Optimal Parameter: \", gs_rf.best_params_)    \n",
    "print(\"Optimal Estimator: \", gs_rf.best_estimator_) "
   ]
  },
  {
   "cell_type": "code",
   "execution_count": 101,
   "metadata": {},
   "outputs": [
    {
     "name": "stdout",
     "output_type": "stream",
     "text": [
      "Mean Absolute Error: 0.8162386933961688\n",
      "Mean Squared Error: 9931.133933302404\n",
      "Root Mean Squared Error: 99.65507479954246\n"
     ]
    }
   ],
   "source": [
    "y_pred =  gs_rf.best_estimator_.predict(X_test)\n",
    "\n",
    "print('Mean Absolute Error:', metrics.mean_absolute_error(y_test, y_pred))  \n",
    "print('Mean Squared Error:', metrics.mean_squared_error(y_test, y_pred))  \n",
    "print('Root Mean Squared Error:', np.sqrt(metrics.mean_squared_error(y_test, y_pred)))"
   ]
  },
  {
   "cell_type": "code",
   "execution_count": 102,
   "metadata": {},
   "outputs": [
    {
     "data": {
      "text/plain": [
       "Index(['wallet_share', 'isca', 'AvgPrice', 'avgmiles', 'Salesefficiency',\n",
       "       'AvgDaysToSell', 'inventory', 'Velocity_Cold', 'Velocity_Hot',\n",
       "       'Velocity_Warm', 'vol_tier_Tier1', 'vol_tier_Tier2', 'vol_tier_Tier3',\n",
       "       'vol_tier_Tier4', 'vol_tier_Tier5', 'availability_Excessive',\n",
       "       'availability_High', 'availability_Low', 'availability_Medium',\n",
       "       'availability_No Inventory', 'availability_Other', 'car_count'],\n",
       "      dtype='object')"
      ]
     },
     "execution_count": 102,
     "metadata": {},
     "output_type": "execute_result"
    }
   ],
   "source": [
    "X_test.columns"
   ]
  },
  {
   "cell_type": "code",
   "execution_count": 103,
   "metadata": {},
   "outputs": [
    {
     "data": {
      "text/plain": [
       "array([0.00042244, 0.00567269, 0.35030337, 0.1653397 , 0.07512155,\n",
       "       0.05553139, 0.06464852, 0.02228426, 0.01201435, 0.01598714,\n",
       "       0.03456318, 0.00607015, 0.00571683, 0.00208406, 0.01002205,\n",
       "       0.04838856, 0.04743213, 0.01757175, 0.01711838, 0.0127915 ,\n",
       "       0.0087751 , 0.02214092])"
      ]
     },
     "execution_count": 103,
     "metadata": {},
     "output_type": "execute_result"
    }
   ],
   "source": [
    "gs_rf.best_estimator_.feature_importances_"
   ]
  },
  {
   "cell_type": "code",
   "execution_count": 104,
   "metadata": {},
   "outputs": [
    {
     "name": "stdout",
     "output_type": "stream",
     "text": [
      "Feature ranking:\n",
      "1. feature 2 (0.350303)\n",
      "2. feature 3 (0.165340)\n",
      "3. feature 4 (0.075122)\n",
      "4. feature 6 (0.064649)\n",
      "5. feature 5 (0.055531)\n",
      "6. feature 15 (0.048389)\n",
      "7. feature 16 (0.047432)\n",
      "8. feature 10 (0.034563)\n",
      "9. feature 7 (0.022284)\n",
      "10. feature 21 (0.022141)\n",
      "11. feature 17 (0.017572)\n",
      "12. feature 18 (0.017118)\n",
      "13. feature 9 (0.015987)\n",
      "14. feature 19 (0.012791)\n",
      "15. feature 8 (0.012014)\n",
      "16. feature 14 (0.010022)\n",
      "17. feature 20 (0.008775)\n",
      "18. feature 11 (0.006070)\n",
      "19. feature 12 (0.005717)\n",
      "20. feature 1 (0.005673)\n",
      "21. feature 13 (0.002084)\n",
      "22. feature 0 (0.000422)\n"
     ]
    },
    {
     "data": {
      "image/png": "[encoded data removed]",
      "text/plain": [
       "<Figure size 432x288 with 1 Axes>"
      ]
     },
     "metadata": {},
     "output_type": "display_data"
    }
   ],
   "source": [
    "importances = gs_rf.best_estimator_.feature_importances_\n",
    "std = np.std([tree.feature_importances_ for tree in gs_rf.best_estimator_],\n",
    "             axis=0)\n",
    "indices = np.argsort(importances)[::-1]\n",
    "\n",
    "# Print the feature ranking\n",
    "print(\"Feature ranking:\")\n",
    "\n",
    "for f in range(X.shape[1]):\n",
    "    print(\"%d. feature %d (%f)\" % (f + 1, indices[f], importances[indices[f]]))\n",
    "\n",
    "# Plot the feature importances of the forest\n",
    "plt.figure()\n",
    "plt.title(\"Feature importances\")\n",
    "plt.bar(range(X.shape[1]), importances[indices],\n",
    "       color=\"r\", yerr=std[indices], align=\"center\")\n",
    "plt.xticks(range(X.shape[1]), indices)\n",
    "plt.xlim([-1, X.shape[1]])\n",
    "plt.show()"
   ]
  },
  {
   "cell_type": "code",
   "execution_count": null,
   "metadata": {},
   "outputs": [],
   "source": []
  }
 ],
 "metadata": {
  "kernelspec": {
   "display_name": "conda_python3",
   "language": "python",
   "name": "conda_python3"
  },
  "language_info": {
   "codemirror_mode": {
    "name": "ipython",
    "version": 3
   },
   "file_extension": ".py",
   "mimetype": "text/x-python",
   "name": "python",
   "nbconvert_exporter": "python",
   "pygments_lexer": "ipython3",
   "version": "3.6.5"
  }
 },
 "nbformat": 4,
 "nbformat_minor": 4
}
