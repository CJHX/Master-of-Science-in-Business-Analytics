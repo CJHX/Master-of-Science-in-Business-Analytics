{
 "cells": [
  {
   "cell_type": "code",
   "execution_count": 12,
   "metadata": {},
   "outputs": [],
   "source": [
    "import numpy as np\n",
    "import pandas as pd\n",
    "from matplotlib import pyplot as plt\n",
    "from sklearn.datasets.samples_generator import make_blobs\n",
    "from sklearn.cluster import KMeans"
   ]
  },
  {
   "cell_type": "code",
   "execution_count": 13,
   "metadata": {},
   "outputs": [],
   "source": [
    "df = pd.read_csv('0407KMEANS_data.csv')"
   ]
  },
  {
   "cell_type": "code",
   "execution_count": 14,
   "metadata": {},
   "outputs": [
    {
     "data": {
      "text/plain": [
       "Index(['Unnamed: 0', 'isca', 'AvgPrice', 'avgmiles', 'Salesefficiency',\n",
       "       'AvgDaysToSell', 'inventory', 'revenue', 'profitability',\n",
       "       'NGC_total_floored', 'wallet_share', 'count_vin', 'Velocity_Cold',\n",
       "       'Velocity_Hot', 'Velocity_Warm', 'vol_tier_Tier1', 'vol_tier_Tier2',\n",
       "       'vol_tier_Tier3', 'vol_tier_Tier4', 'vol_tier_Tier5',\n",
       "       'availability_Excessive', 'availability_High', 'availability_Low',\n",
       "       'availability_Medium', 'availability_No Inventory',\n",
       "       'availability_Other', 'avg_year', 'make_count', 'Wholesale_dif',\n",
       "       'Retail_dif', 'Avg_mileage_dif'],\n",
       "      dtype='object')"
      ]
     },
     "execution_count": 14,
     "metadata": {},
     "output_type": "execute_result"
    }
   ],
   "source": [
    "df.columns"
   ]
  },
  {
   "cell_type": "code",
   "execution_count": 15,
   "metadata": {},
   "outputs": [],
   "source": [
    "df = df.drop('Unnamed: 0',axis=1)"
   ]
  },
  {
   "cell_type": "code",
   "execution_count": 16,
   "metadata": {},
   "outputs": [
    {
     "data": {
      "text/plain": [
       "(109873, 30)"
      ]
     },
     "execution_count": 16,
     "metadata": {},
     "output_type": "execute_result"
    }
   ],
   "source": [
    "df.shape"
   ]
  },
  {
   "cell_type": "code",
   "execution_count": 18,
   "metadata": {},
   "outputs": [],
   "source": [
    "df = df.dropna()"
   ]
  },
  {
   "cell_type": "code",
   "execution_count": 54,
   "metadata": {},
   "outputs": [
    {
     "data": {
      "text/html": [
       "<div>\n",
       "<style scoped>\n",
       "    .dataframe tbody tr th:only-of-type {\n",
       "        vertical-align: middle;\n",
       "    }\n",
       "\n",
       "    .dataframe tbody tr th {\n",
       "        vertical-align: top;\n",
       "    }\n",
       "\n",
       "    .dataframe thead th {\n",
       "        text-align: right;\n",
       "    }\n",
       "</style>\n",
       "<table border=\"1\" class=\"dataframe\">\n",
       "  <thead>\n",
       "    <tr style=\"text-align: right;\">\n",
       "      <th></th>\n",
       "      <th>isca</th>\n",
       "      <th>AvgPrice</th>\n",
       "      <th>avgmiles</th>\n",
       "      <th>Salesefficiency</th>\n",
       "      <th>AvgDaysToSell</th>\n",
       "      <th>inventory</th>\n",
       "      <th>revenue</th>\n",
       "      <th>profitability</th>\n",
       "      <th>NGC_total_floored</th>\n",
       "      <th>wallet_share</th>\n",
       "      <th>count_vin</th>\n",
       "      <th>Velocity_Cold</th>\n",
       "      <th>Velocity_Hot</th>\n",
       "      <th>Velocity_Warm</th>\n",
       "      <th>vol_tier_Tier1</th>\n",
       "      <th>vol_tier_Tier2</th>\n",
       "      <th>vol_tier_Tier3</th>\n",
       "      <th>vol_tier_Tier4</th>\n",
       "      <th>vol_tier_Tier5</th>\n",
       "      <th>availability_Excessive</th>\n",
       "      <th>availability_High</th>\n",
       "      <th>availability_Low</th>\n",
       "      <th>availability_Medium</th>\n",
       "      <th>availability_No Inventory</th>\n",
       "      <th>availability_Other</th>\n",
       "      <th>avg_year</th>\n",
       "      <th>make_count</th>\n",
       "      <th>Wholesale_dif</th>\n",
       "      <th>Retail_dif</th>\n",
       "      <th>Avg_mileage_dif</th>\n",
       "    </tr>\n",
       "  </thead>\n",
       "  <tbody>\n",
       "    <tr>\n",
       "      <th>0</th>\n",
       "      <td>1</td>\n",
       "      <td>10433.666667</td>\n",
       "      <td>84630.000000</td>\n",
       "      <td>0.624331</td>\n",
       "      <td>18.333333</td>\n",
       "      <td>234.333333</td>\n",
       "      <td>4.805000e+04</td>\n",
       "      <td>0.211238</td>\n",
       "      <td>0.0</td>\n",
       "      <td>0.0</td>\n",
       "      <td>3</td>\n",
       "      <td>0.333333</td>\n",
       "      <td>0.333333</td>\n",
       "      <td>0.333333</td>\n",
       "      <td>0.333333</td>\n",
       "      <td>0.333333</td>\n",
       "      <td>0.333333</td>\n",
       "      <td>0.000000</td>\n",
       "      <td>0.000000</td>\n",
       "      <td>0.000000</td>\n",
       "      <td>0.000000</td>\n",
       "      <td>0.333333</td>\n",
       "      <td>0.666667</td>\n",
       "      <td>0.000000</td>\n",
       "      <td>0.000000</td>\n",
       "      <td>80.666667</td>\n",
       "      <td>3</td>\n",
       "      <td>0.210824</td>\n",
       "      <td>0.535095</td>\n",
       "      <td>-0.771830</td>\n",
       "    </tr>\n",
       "    <tr>\n",
       "      <th>1</th>\n",
       "      <td>1</td>\n",
       "      <td>29009.302128</td>\n",
       "      <td>33553.957447</td>\n",
       "      <td>0.503281</td>\n",
       "      <td>18.408511</td>\n",
       "      <td>282.646809</td>\n",
       "      <td>6.464402e+06</td>\n",
       "      <td>0.086799</td>\n",
       "      <td>0.0</td>\n",
       "      <td>0.0</td>\n",
       "      <td>242</td>\n",
       "      <td>0.202479</td>\n",
       "      <td>0.392562</td>\n",
       "      <td>0.376033</td>\n",
       "      <td>0.123967</td>\n",
       "      <td>0.152893</td>\n",
       "      <td>0.177686</td>\n",
       "      <td>0.409091</td>\n",
       "      <td>0.107438</td>\n",
       "      <td>0.433884</td>\n",
       "      <td>0.177686</td>\n",
       "      <td>0.053719</td>\n",
       "      <td>0.235537</td>\n",
       "      <td>0.000000</td>\n",
       "      <td>0.070248</td>\n",
       "      <td>84.619835</td>\n",
       "      <td>15</td>\n",
       "      <td>-0.069515</td>\n",
       "      <td>0.069385</td>\n",
       "      <td>-0.264682</td>\n",
       "    </tr>\n",
       "    <tr>\n",
       "      <th>2</th>\n",
       "      <td>1</td>\n",
       "      <td>56054.082781</td>\n",
       "      <td>26070.062914</td>\n",
       "      <td>0.647884</td>\n",
       "      <td>21.076159</td>\n",
       "      <td>42.979933</td>\n",
       "      <td>9.735923e+06</td>\n",
       "      <td>0.130765</td>\n",
       "      <td>0.0</td>\n",
       "      <td>0.0</td>\n",
       "      <td>331</td>\n",
       "      <td>0.057402</td>\n",
       "      <td>0.664653</td>\n",
       "      <td>0.160121</td>\n",
       "      <td>0.027190</td>\n",
       "      <td>0.018127</td>\n",
       "      <td>0.178248</td>\n",
       "      <td>0.274924</td>\n",
       "      <td>0.413897</td>\n",
       "      <td>0.015106</td>\n",
       "      <td>0.326284</td>\n",
       "      <td>0.129909</td>\n",
       "      <td>0.410876</td>\n",
       "      <td>0.009063</td>\n",
       "      <td>0.021148</td>\n",
       "      <td>83.752266</td>\n",
       "      <td>21</td>\n",
       "      <td>-0.195374</td>\n",
       "      <td>0.026491</td>\n",
       "      <td>-0.188768</td>\n",
       "    </tr>\n",
       "    <tr>\n",
       "      <th>3</th>\n",
       "      <td>1</td>\n",
       "      <td>4206.478873</td>\n",
       "      <td>128543.450704</td>\n",
       "      <td>0.595144</td>\n",
       "      <td>13.915493</td>\n",
       "      <td>101.171429</td>\n",
       "      <td>3.561250e+05</td>\n",
       "      <td>0.322148</td>\n",
       "      <td>0.0</td>\n",
       "      <td>0.0</td>\n",
       "      <td>71</td>\n",
       "      <td>0.042254</td>\n",
       "      <td>0.492958</td>\n",
       "      <td>0.450704</td>\n",
       "      <td>0.154930</td>\n",
       "      <td>0.084507</td>\n",
       "      <td>0.352113</td>\n",
       "      <td>0.169014</td>\n",
       "      <td>0.239437</td>\n",
       "      <td>0.000000</td>\n",
       "      <td>0.056338</td>\n",
       "      <td>0.239437</td>\n",
       "      <td>0.690141</td>\n",
       "      <td>0.014085</td>\n",
       "      <td>0.000000</td>\n",
       "      <td>75.422535</td>\n",
       "      <td>25</td>\n",
       "      <td>-0.168295</td>\n",
       "      <td>0.597379</td>\n",
       "      <td>0.036589</td>\n",
       "    </tr>\n",
       "    <tr>\n",
       "      <th>4</th>\n",
       "      <td>1</td>\n",
       "      <td>9144.500000</td>\n",
       "      <td>88761.500000</td>\n",
       "      <td>0.594674</td>\n",
       "      <td>13.500000</td>\n",
       "      <td>199.000000</td>\n",
       "      <td>1.940000e+04</td>\n",
       "      <td>0.072165</td>\n",
       "      <td>0.0</td>\n",
       "      <td>0.0</td>\n",
       "      <td>2</td>\n",
       "      <td>0.500000</td>\n",
       "      <td>0.000000</td>\n",
       "      <td>0.500000</td>\n",
       "      <td>0.500000</td>\n",
       "      <td>0.000000</td>\n",
       "      <td>0.000000</td>\n",
       "      <td>0.000000</td>\n",
       "      <td>0.500000</td>\n",
       "      <td>0.000000</td>\n",
       "      <td>0.500000</td>\n",
       "      <td>0.000000</td>\n",
       "      <td>0.500000</td>\n",
       "      <td>0.000000</td>\n",
       "      <td>0.000000</td>\n",
       "      <td>78.500000</td>\n",
       "      <td>2</td>\n",
       "      <td>-0.032205</td>\n",
       "      <td>1.121494</td>\n",
       "      <td>0.143964</td>\n",
       "    </tr>\n",
       "  </tbody>\n",
       "</table>\n",
       "</div>"
      ],
      "text/plain": [
       "   isca      AvgPrice       avgmiles  Salesefficiency  AvgDaysToSell  \\\n",
       "0     1  10433.666667   84630.000000         0.624331      18.333333   \n",
       "1     1  29009.302128   33553.957447         0.503281      18.408511   \n",
       "2     1  56054.082781   26070.062914         0.647884      21.076159   \n",
       "3     1   4206.478873  128543.450704         0.595144      13.915493   \n",
       "4     1   9144.500000   88761.500000         0.594674      13.500000   \n",
       "\n",
       "    inventory       revenue  profitability  NGC_total_floored  wallet_share  \\\n",
       "0  234.333333  4.805000e+04       0.211238                0.0           0.0   \n",
       "1  282.646809  6.464402e+06       0.086799                0.0           0.0   \n",
       "2   42.979933  9.735923e+06       0.130765                0.0           0.0   \n",
       "3  101.171429  3.561250e+05       0.322148                0.0           0.0   \n",
       "4  199.000000  1.940000e+04       0.072165                0.0           0.0   \n",
       "\n",
       "   count_vin  Velocity_Cold  Velocity_Hot  Velocity_Warm  vol_tier_Tier1  \\\n",
       "0          3       0.333333      0.333333       0.333333        0.333333   \n",
       "1        242       0.202479      0.392562       0.376033        0.123967   \n",
       "2        331       0.057402      0.664653       0.160121        0.027190   \n",
       "3         71       0.042254      0.492958       0.450704        0.154930   \n",
       "4          2       0.500000      0.000000       0.500000        0.500000   \n",
       "\n",
       "   vol_tier_Tier2  vol_tier_Tier3  vol_tier_Tier4  vol_tier_Tier5  \\\n",
       "0        0.333333        0.333333        0.000000        0.000000   \n",
       "1        0.152893        0.177686        0.409091        0.107438   \n",
       "2        0.018127        0.178248        0.274924        0.413897   \n",
       "3        0.084507        0.352113        0.169014        0.239437   \n",
       "4        0.000000        0.000000        0.000000        0.500000   \n",
       "\n",
       "   availability_Excessive  availability_High  availability_Low  \\\n",
       "0                0.000000           0.000000          0.333333   \n",
       "1                0.433884           0.177686          0.053719   \n",
       "2                0.015106           0.326284          0.129909   \n",
       "3                0.000000           0.056338          0.239437   \n",
       "4                0.000000           0.500000          0.000000   \n",
       "\n",
       "   availability_Medium  availability_No Inventory  availability_Other  \\\n",
       "0             0.666667                   0.000000            0.000000   \n",
       "1             0.235537                   0.000000            0.070248   \n",
       "2             0.410876                   0.009063            0.021148   \n",
       "3             0.690141                   0.014085            0.000000   \n",
       "4             0.500000                   0.000000            0.000000   \n",
       "\n",
       "    avg_year  make_count  Wholesale_dif  Retail_dif  Avg_mileage_dif  \n",
       "0  80.666667           3       0.210824    0.535095        -0.771830  \n",
       "1  84.619835          15      -0.069515    0.069385        -0.264682  \n",
       "2  83.752266          21      -0.195374    0.026491        -0.188768  \n",
       "3  75.422535          25      -0.168295    0.597379         0.036589  \n",
       "4  78.500000           2      -0.032205    1.121494         0.143964  "
      ]
     },
     "execution_count": 54,
     "metadata": {},
     "output_type": "execute_result"
    }
   ],
   "source": [
    "pd.set_option('display.max_columns', None)\n",
    "df.head()"
   ]
  },
  {
   "cell_type": "code",
   "execution_count": 55,
   "metadata": {},
   "outputs": [
    {
     "data": {
      "text/plain": [
       "(102114, 30)"
      ]
     },
     "execution_count": 55,
     "metadata": {},
     "output_type": "execute_result"
    }
   ],
   "source": [
    "df.shape"
   ]
  },
  {
   "cell_type": "code",
   "execution_count": 63,
   "metadata": {
    "scrolled": true
   },
   "outputs": [
    {
     "name": "stderr",
     "output_type": "stream",
     "text": [
      "/home/ec2-user/anaconda3/envs/python3/lib/python3.6/site-packages/sklearn/preprocessing/data.py:334: DataConversionWarning: Data with input dtype int64, float64 were all converted to float64 by MinMaxScaler.\n",
      "  return self.partial_fit(X, y)\n"
     ]
    },
    {
     "data": {
      "text/plain": [
       "array([[ 1.00000000e+00, -2.65619719e-03, -3.71888463e-04, ...,\n",
       "         2.12114883e-01,  1.39201559e-01,  1.31689384e-02],\n",
       "       [ 1.00000000e+00, -2.65584144e-03, -3.72048780e-04, ...,\n",
       "         2.02975543e-01,  1.32005632e-01,  1.32563639e-02],\n",
       "       [ 1.00000000e+00, -2.65532349e-03, -3.72072270e-04, ...,\n",
       "         1.98872417e-01,  1.31342855e-01,  1.32694504e-02],\n",
       "       ...,\n",
       "       [ 0.00000000e+00, -2.65633012e-03, -3.71781847e-04, ...,\n",
       "         2.07407116e-01,  1.43350490e-01,  1.33058885e-02],\n",
       "       [ 0.00000000e+00, -2.65630940e-03, -3.71746072e-04, ...,\n",
       "         1.91168127e-01,  1.30258044e-01,  1.33803880e-02],\n",
       "       [ 0.00000000e+00, -2.65636724e-03, -3.71736220e-04, ...,\n",
       "         2.11439041e-01,  1.56359729e-01,  1.32329151e-02]])"
      ]
     },
     "execution_count": 63,
     "metadata": {},
     "output_type": "execute_result"
    }
   ],
   "source": [
    "x = df.values\n",
    "\n",
    "from sklearn import preprocessing\n",
    "mm_scaler = preprocessing.MinMaxScaler()\n",
    "x = mm_scaler.fit_transform(df)\n",
    "mm_scaler.transform(x)"
   ]
  },
  {
   "cell_type": "code",
   "execution_count": 64,
   "metadata": {},
   "outputs": [],
   "source": [
    "dfa = pd.DataFrame(x)"
   ]
  },
  {
   "cell_type": "code",
   "execution_count": 65,
   "metadata": {},
   "outputs": [],
   "source": [
    "dfa.columns = df.columns"
   ]
  },
  {
   "cell_type": "code",
   "execution_count": 66,
   "metadata": {},
   "outputs": [
    {
     "data": {
      "text/html": [
       "<div>\n",
       "<style scoped>\n",
       "    .dataframe tbody tr th:only-of-type {\n",
       "        vertical-align: middle;\n",
       "    }\n",
       "\n",
       "    .dataframe tbody tr th {\n",
       "        vertical-align: top;\n",
       "    }\n",
       "\n",
       "    .dataframe thead th {\n",
       "        text-align: right;\n",
       "    }\n",
       "</style>\n",
       "<table border=\"1\" class=\"dataframe\">\n",
       "  <thead>\n",
       "    <tr style=\"text-align: right;\">\n",
       "      <th></th>\n",
       "      <th>isca</th>\n",
       "      <th>AvgPrice</th>\n",
       "      <th>avgmiles</th>\n",
       "      <th>Salesefficiency</th>\n",
       "      <th>AvgDaysToSell</th>\n",
       "      <th>inventory</th>\n",
       "      <th>revenue</th>\n",
       "      <th>profitability</th>\n",
       "      <th>NGC_total_floored</th>\n",
       "      <th>wallet_share</th>\n",
       "      <th>count_vin</th>\n",
       "      <th>Velocity_Cold</th>\n",
       "      <th>Velocity_Hot</th>\n",
       "      <th>Velocity_Warm</th>\n",
       "      <th>vol_tier_Tier1</th>\n",
       "      <th>vol_tier_Tier2</th>\n",
       "      <th>vol_tier_Tier3</th>\n",
       "      <th>vol_tier_Tier4</th>\n",
       "      <th>vol_tier_Tier5</th>\n",
       "      <th>availability_Excessive</th>\n",
       "      <th>availability_High</th>\n",
       "      <th>availability_Low</th>\n",
       "      <th>availability_Medium</th>\n",
       "      <th>availability_No Inventory</th>\n",
       "      <th>availability_Other</th>\n",
       "      <th>avg_year</th>\n",
       "      <th>make_count</th>\n",
       "      <th>Wholesale_dif</th>\n",
       "      <th>Retail_dif</th>\n",
       "      <th>Avg_mileage_dif</th>\n",
       "    </tr>\n",
       "  </thead>\n",
       "  <tbody>\n",
       "    <tr>\n",
       "      <th>0</th>\n",
       "      <td>1.0</td>\n",
       "      <td>0.043004</td>\n",
       "      <td>0.149564</td>\n",
       "      <td>0.673539</td>\n",
       "      <td>0.061466</td>\n",
       "      <td>0.040251</td>\n",
       "      <td>0.000011</td>\n",
       "      <td>0.949687</td>\n",
       "      <td>0.0</td>\n",
       "      <td>0.0</td>\n",
       "      <td>0.000009</td>\n",
       "      <td>0.333333</td>\n",
       "      <td>0.333333</td>\n",
       "      <td>0.333333</td>\n",
       "      <td>0.333333</td>\n",
       "      <td>0.333333</td>\n",
       "      <td>0.333333</td>\n",
       "      <td>0.000000</td>\n",
       "      <td>0.000000</td>\n",
       "      <td>0.000000</td>\n",
       "      <td>0.000000</td>\n",
       "      <td>0.333333</td>\n",
       "      <td>0.666667</td>\n",
       "      <td>0.000000</td>\n",
       "      <td>0.000000</td>\n",
       "      <td>0.865475</td>\n",
       "      <td>0.031250</td>\n",
       "      <td>0.211917</td>\n",
       "      <td>0.182972</td>\n",
       "      <td>0.002996</td>\n",
       "    </tr>\n",
       "    <tr>\n",
       "      <th>1</th>\n",
       "      <td>1.0</td>\n",
       "      <td>0.124296</td>\n",
       "      <td>0.059074</td>\n",
       "      <td>0.529810</td>\n",
       "      <td>0.061732</td>\n",
       "      <td>0.048585</td>\n",
       "      <td>0.001488</td>\n",
       "      <td>0.941749</td>\n",
       "      <td>0.0</td>\n",
       "      <td>0.0</td>\n",
       "      <td>0.001031</td>\n",
       "      <td>0.202479</td>\n",
       "      <td>0.392562</td>\n",
       "      <td>0.376033</td>\n",
       "      <td>0.123967</td>\n",
       "      <td>0.152893</td>\n",
       "      <td>0.177686</td>\n",
       "      <td>0.409091</td>\n",
       "      <td>0.107438</td>\n",
       "      <td>0.433884</td>\n",
       "      <td>0.177686</td>\n",
       "      <td>0.053719</td>\n",
       "      <td>0.235537</td>\n",
       "      <td>0.000000</td>\n",
       "      <td>0.070248</td>\n",
       "      <td>0.949443</td>\n",
       "      <td>0.218750</td>\n",
       "      <td>0.161300</td>\n",
       "      <td>0.125082</td>\n",
       "      <td>0.009654</td>\n",
       "    </tr>\n",
       "    <tr>\n",
       "      <th>2</th>\n",
       "      <td>1.0</td>\n",
       "      <td>0.242650</td>\n",
       "      <td>0.045815</td>\n",
       "      <td>0.701504</td>\n",
       "      <td>0.071192</td>\n",
       "      <td>0.007242</td>\n",
       "      <td>0.002240</td>\n",
       "      <td>0.944554</td>\n",
       "      <td>0.0</td>\n",
       "      <td>0.0</td>\n",
       "      <td>0.001412</td>\n",
       "      <td>0.057402</td>\n",
       "      <td>0.664653</td>\n",
       "      <td>0.160121</td>\n",
       "      <td>0.027190</td>\n",
       "      <td>0.018127</td>\n",
       "      <td>0.178248</td>\n",
       "      <td>0.274924</td>\n",
       "      <td>0.413897</td>\n",
       "      <td>0.015106</td>\n",
       "      <td>0.326284</td>\n",
       "      <td>0.129909</td>\n",
       "      <td>0.410876</td>\n",
       "      <td>0.012085</td>\n",
       "      <td>0.021148</td>\n",
       "      <td>0.931015</td>\n",
       "      <td>0.312500</td>\n",
       "      <td>0.138575</td>\n",
       "      <td>0.119750</td>\n",
       "      <td>0.010651</td>\n",
       "    </tr>\n",
       "    <tr>\n",
       "      <th>3</th>\n",
       "      <td>1.0</td>\n",
       "      <td>0.015752</td>\n",
       "      <td>0.227364</td>\n",
       "      <td>0.638884</td>\n",
       "      <td>0.045800</td>\n",
       "      <td>0.017280</td>\n",
       "      <td>0.000082</td>\n",
       "      <td>0.956762</td>\n",
       "      <td>0.0</td>\n",
       "      <td>0.0</td>\n",
       "      <td>0.000300</td>\n",
       "      <td>0.042254</td>\n",
       "      <td>0.492958</td>\n",
       "      <td>0.450704</td>\n",
       "      <td>0.154930</td>\n",
       "      <td>0.084507</td>\n",
       "      <td>0.352113</td>\n",
       "      <td>0.169014</td>\n",
       "      <td>0.239437</td>\n",
       "      <td>0.000000</td>\n",
       "      <td>0.056338</td>\n",
       "      <td>0.239437</td>\n",
       "      <td>0.690141</td>\n",
       "      <td>0.018779</td>\n",
       "      <td>0.000000</td>\n",
       "      <td>0.754085</td>\n",
       "      <td>0.375000</td>\n",
       "      <td>0.143465</td>\n",
       "      <td>0.190714</td>\n",
       "      <td>0.013610</td>\n",
       "    </tr>\n",
       "    <tr>\n",
       "      <th>4</th>\n",
       "      <td>1.0</td>\n",
       "      <td>0.037362</td>\n",
       "      <td>0.156883</td>\n",
       "      <td>0.638326</td>\n",
       "      <td>0.044326</td>\n",
       "      <td>0.034156</td>\n",
       "      <td>0.000004</td>\n",
       "      <td>0.940815</td>\n",
       "      <td>0.0</td>\n",
       "      <td>0.0</td>\n",
       "      <td>0.000004</td>\n",
       "      <td>0.500000</td>\n",
       "      <td>0.000000</td>\n",
       "      <td>0.500000</td>\n",
       "      <td>0.500000</td>\n",
       "      <td>0.000000</td>\n",
       "      <td>0.000000</td>\n",
       "      <td>0.000000</td>\n",
       "      <td>0.500000</td>\n",
       "      <td>0.000000</td>\n",
       "      <td>0.500000</td>\n",
       "      <td>0.000000</td>\n",
       "      <td>0.500000</td>\n",
       "      <td>0.000000</td>\n",
       "      <td>0.000000</td>\n",
       "      <td>0.819453</td>\n",
       "      <td>0.015625</td>\n",
       "      <td>0.168037</td>\n",
       "      <td>0.255864</td>\n",
       "      <td>0.015020</td>\n",
       "    </tr>\n",
       "  </tbody>\n",
       "</table>\n",
       "</div>"
      ],
      "text/plain": [
       "   isca  AvgPrice  avgmiles  Salesefficiency  AvgDaysToSell  inventory  \\\n",
       "0   1.0  0.043004  0.149564         0.673539       0.061466   0.040251   \n",
       "1   1.0  0.124296  0.059074         0.529810       0.061732   0.048585   \n",
       "2   1.0  0.242650  0.045815         0.701504       0.071192   0.007242   \n",
       "3   1.0  0.015752  0.227364         0.638884       0.045800   0.017280   \n",
       "4   1.0  0.037362  0.156883         0.638326       0.044326   0.034156   \n",
       "\n",
       "    revenue  profitability  NGC_total_floored  wallet_share  count_vin  \\\n",
       "0  0.000011       0.949687                0.0           0.0   0.000009   \n",
       "1  0.001488       0.941749                0.0           0.0   0.001031   \n",
       "2  0.002240       0.944554                0.0           0.0   0.001412   \n",
       "3  0.000082       0.956762                0.0           0.0   0.000300   \n",
       "4  0.000004       0.940815                0.0           0.0   0.000004   \n",
       "\n",
       "   Velocity_Cold  Velocity_Hot  Velocity_Warm  vol_tier_Tier1  vol_tier_Tier2  \\\n",
       "0       0.333333      0.333333       0.333333        0.333333        0.333333   \n",
       "1       0.202479      0.392562       0.376033        0.123967        0.152893   \n",
       "2       0.057402      0.664653       0.160121        0.027190        0.018127   \n",
       "3       0.042254      0.492958       0.450704        0.154930        0.084507   \n",
       "4       0.500000      0.000000       0.500000        0.500000        0.000000   \n",
       "\n",
       "   vol_tier_Tier3  vol_tier_Tier4  vol_tier_Tier5  availability_Excessive  \\\n",
       "0        0.333333        0.000000        0.000000                0.000000   \n",
       "1        0.177686        0.409091        0.107438                0.433884   \n",
       "2        0.178248        0.274924        0.413897                0.015106   \n",
       "3        0.352113        0.169014        0.239437                0.000000   \n",
       "4        0.000000        0.000000        0.500000                0.000000   \n",
       "\n",
       "   availability_High  availability_Low  availability_Medium  \\\n",
       "0           0.000000          0.333333             0.666667   \n",
       "1           0.177686          0.053719             0.235537   \n",
       "2           0.326284          0.129909             0.410876   \n",
       "3           0.056338          0.239437             0.690141   \n",
       "4           0.500000          0.000000             0.500000   \n",
       "\n",
       "   availability_No Inventory  availability_Other  avg_year  make_count  \\\n",
       "0                   0.000000            0.000000  0.865475    0.031250   \n",
       "1                   0.000000            0.070248  0.949443    0.218750   \n",
       "2                   0.012085            0.021148  0.931015    0.312500   \n",
       "3                   0.018779            0.000000  0.754085    0.375000   \n",
       "4                   0.000000            0.000000  0.819453    0.015625   \n",
       "\n",
       "   Wholesale_dif  Retail_dif  Avg_mileage_dif  \n",
       "0       0.211917    0.182972         0.002996  \n",
       "1       0.161300    0.125082         0.009654  \n",
       "2       0.138575    0.119750         0.010651  \n",
       "3       0.143465    0.190714         0.013610  \n",
       "4       0.168037    0.255864         0.015020  "
      ]
     },
     "execution_count": 66,
     "metadata": {},
     "output_type": "execute_result"
    }
   ],
   "source": [
    "dfa.head()"
   ]
  },
  {
   "cell_type": "code",
   "execution_count": 67,
   "metadata": {},
   "outputs": [
    {
     "data": {
      "text/plain": [
       "Index(['isca', 'AvgPrice', 'avgmiles', 'Salesefficiency', 'AvgDaysToSell',\n",
       "       'inventory', 'revenue', 'profitability', 'NGC_total_floored',\n",
       "       'wallet_share', 'count_vin', 'Velocity_Cold', 'Velocity_Hot',\n",
       "       'Velocity_Warm', 'vol_tier_Tier1', 'vol_tier_Tier2', 'vol_tier_Tier3',\n",
       "       'vol_tier_Tier4', 'vol_tier_Tier5', 'availability_Excessive',\n",
       "       'availability_High', 'availability_Low', 'availability_Medium',\n",
       "       'availability_No Inventory', 'availability_Other', 'avg_year',\n",
       "       'make_count', 'Wholesale_dif', 'Retail_dif', 'Avg_mileage_dif'],\n",
       "      dtype='object')"
      ]
     },
     "execution_count": 67,
     "metadata": {},
     "output_type": "execute_result"
    }
   ],
   "source": [
    "dfa.columns"
   ]
  },
  {
   "cell_type": "code",
   "execution_count": 68,
   "metadata": {},
   "outputs": [],
   "source": [
    "dfa['popularity'] = 5 * dfa.vol_tier_Tier1 + 4 * dfa.vol_tier_Tier2 + 3 * dfa.vol_tier_Tier3 + 2 * dfa.vol_tier_Tier4 + 1 * dfa.vol_tier_Tier5\n",
    "dfa['velocity'] = 3 * dfa.Velocity_Hot + 2 * dfa.Velocity_Warm + 1 * dfa.Velocity_Cold\n",
    "dfa['availability'] = 5 * dfa['availability_No Inventory'] + 4 * dfa.availability_Low + 3 * dfa.availability_Medium + 2 * dfa.availability_High + 1 * dfa.availability_Excessive"
   ]
  },
  {
   "cell_type": "code",
   "execution_count": 69,
   "metadata": {
    "scrolled": true
   },
   "outputs": [
    {
     "data": {
      "text/plain": [
       "array([[1.        , 0.04300398, 0.14956368, ..., 0.15388696, 0.22222222,\n",
       "        0.11019284],\n",
       "       [1.        , 0.12429565, 0.05907415, ..., 0.10076001, 0.2369146 ,\n",
       "        0.05655351],\n",
       "       [1.        , 0.24265045, 0.04581521, ..., 0.06088656, 0.26351125,\n",
       "        0.08199546],\n",
       "       ...,\n",
       "       [0.        , 0.01262987, 0.20974176, ..., 0.11332948, 0.33333333,\n",
       "        0.09917355],\n",
       "       [0.        , 0.01736497, 0.22993517, ..., 0.15388696, 0.33333333,\n",
       "        0.09917355],\n",
       "       [0.        , 0.0041465 , 0.23549554, ..., 0.07277199, 0.22222222,\n",
       "        0.09917355]])"
      ]
     },
     "execution_count": 69,
     "metadata": {},
     "output_type": "execute_result"
    }
   ],
   "source": [
    "x = dfa.values\n",
    "\n",
    "from sklearn import preprocessing\n",
    "mm_scaler = preprocessing.MinMaxScaler()\n",
    "x = mm_scaler.fit_transform(dfa)\n",
    "mm_scaler.transform(x)"
   ]
  },
  {
   "cell_type": "code",
   "execution_count": 70,
   "metadata": {},
   "outputs": [],
   "source": [
    "dfa1 = pd.DataFrame(x)"
   ]
  },
  {
   "cell_type": "code",
   "execution_count": 71,
   "metadata": {},
   "outputs": [],
   "source": [
    "dfa1.columns = dfa.columns"
   ]
  },
  {
   "cell_type": "code",
   "execution_count": 72,
   "metadata": {
    "scrolled": true
   },
   "outputs": [
    {
     "data": {
      "text/html": [
       "<div>\n",
       "<style scoped>\n",
       "    .dataframe tbody tr th:only-of-type {\n",
       "        vertical-align: middle;\n",
       "    }\n",
       "\n",
       "    .dataframe tbody tr th {\n",
       "        vertical-align: top;\n",
       "    }\n",
       "\n",
       "    .dataframe thead th {\n",
       "        text-align: right;\n",
       "    }\n",
       "</style>\n",
       "<table border=\"1\" class=\"dataframe\">\n",
       "  <thead>\n",
       "    <tr style=\"text-align: right;\">\n",
       "      <th></th>\n",
       "      <th>isca</th>\n",
       "      <th>AvgPrice</th>\n",
       "      <th>avgmiles</th>\n",
       "      <th>Salesefficiency</th>\n",
       "      <th>AvgDaysToSell</th>\n",
       "      <th>inventory</th>\n",
       "      <th>revenue</th>\n",
       "      <th>profitability</th>\n",
       "      <th>NGC_total_floored</th>\n",
       "      <th>wallet_share</th>\n",
       "      <th>count_vin</th>\n",
       "      <th>Velocity_Cold</th>\n",
       "      <th>Velocity_Hot</th>\n",
       "      <th>Velocity_Warm</th>\n",
       "      <th>vol_tier_Tier1</th>\n",
       "      <th>vol_tier_Tier2</th>\n",
       "      <th>vol_tier_Tier3</th>\n",
       "      <th>vol_tier_Tier4</th>\n",
       "      <th>vol_tier_Tier5</th>\n",
       "      <th>availability_Excessive</th>\n",
       "      <th>availability_High</th>\n",
       "      <th>availability_Low</th>\n",
       "      <th>availability_Medium</th>\n",
       "      <th>availability_No Inventory</th>\n",
       "      <th>availability_Other</th>\n",
       "      <th>avg_year</th>\n",
       "      <th>make_count</th>\n",
       "      <th>Wholesale_dif</th>\n",
       "      <th>Retail_dif</th>\n",
       "      <th>Avg_mileage_dif</th>\n",
       "      <th>popularity</th>\n",
       "      <th>velocity</th>\n",
       "      <th>availability</th>\n",
       "    </tr>\n",
       "  </thead>\n",
       "  <tbody>\n",
       "    <tr>\n",
       "      <th>0</th>\n",
       "      <td>1.0</td>\n",
       "      <td>0.043004</td>\n",
       "      <td>0.149564</td>\n",
       "      <td>0.673539</td>\n",
       "      <td>0.061466</td>\n",
       "      <td>0.040251</td>\n",
       "      <td>0.000011</td>\n",
       "      <td>0.949687</td>\n",
       "      <td>0.0</td>\n",
       "      <td>0.0</td>\n",
       "      <td>0.000009</td>\n",
       "      <td>0.333333</td>\n",
       "      <td>0.333333</td>\n",
       "      <td>0.333333</td>\n",
       "      <td>0.333333</td>\n",
       "      <td>0.333333</td>\n",
       "      <td>0.333333</td>\n",
       "      <td>0.000000</td>\n",
       "      <td>0.000000</td>\n",
       "      <td>0.000000</td>\n",
       "      <td>0.000000</td>\n",
       "      <td>0.333333</td>\n",
       "      <td>0.666667</td>\n",
       "      <td>0.000000</td>\n",
       "      <td>0.000000</td>\n",
       "      <td>0.865475</td>\n",
       "      <td>0.031250</td>\n",
       "      <td>0.211917</td>\n",
       "      <td>0.182972</td>\n",
       "      <td>0.002996</td>\n",
       "      <td>0.798611</td>\n",
       "      <td>0.666667</td>\n",
       "      <td>0.606061</td>\n",
       "    </tr>\n",
       "    <tr>\n",
       "      <th>1</th>\n",
       "      <td>1.0</td>\n",
       "      <td>0.124296</td>\n",
       "      <td>0.059074</td>\n",
       "      <td>0.529810</td>\n",
       "      <td>0.061732</td>\n",
       "      <td>0.048585</td>\n",
       "      <td>0.001488</td>\n",
       "      <td>0.941749</td>\n",
       "      <td>0.0</td>\n",
       "      <td>0.0</td>\n",
       "      <td>0.001031</td>\n",
       "      <td>0.202479</td>\n",
       "      <td>0.392562</td>\n",
       "      <td>0.376033</td>\n",
       "      <td>0.123967</td>\n",
       "      <td>0.152893</td>\n",
       "      <td>0.177686</td>\n",
       "      <td>0.409091</td>\n",
       "      <td>0.107438</td>\n",
       "      <td>0.433884</td>\n",
       "      <td>0.177686</td>\n",
       "      <td>0.053719</td>\n",
       "      <td>0.235537</td>\n",
       "      <td>0.000000</td>\n",
       "      <td>0.070248</td>\n",
       "      <td>0.949443</td>\n",
       "      <td>0.218750</td>\n",
       "      <td>0.161300</td>\n",
       "      <td>0.125082</td>\n",
       "      <td>0.009654</td>\n",
       "      <td>0.534808</td>\n",
       "      <td>0.710744</td>\n",
       "      <td>0.311044</td>\n",
       "    </tr>\n",
       "    <tr>\n",
       "      <th>2</th>\n",
       "      <td>1.0</td>\n",
       "      <td>0.242650</td>\n",
       "      <td>0.045815</td>\n",
       "      <td>0.701504</td>\n",
       "      <td>0.071192</td>\n",
       "      <td>0.007242</td>\n",
       "      <td>0.002240</td>\n",
       "      <td>0.944554</td>\n",
       "      <td>0.0</td>\n",
       "      <td>0.0</td>\n",
       "      <td>0.001412</td>\n",
       "      <td>0.057402</td>\n",
       "      <td>0.664653</td>\n",
       "      <td>0.160121</td>\n",
       "      <td>0.027190</td>\n",
       "      <td>0.018127</td>\n",
       "      <td>0.178248</td>\n",
       "      <td>0.274924</td>\n",
       "      <td>0.413897</td>\n",
       "      <td>0.015106</td>\n",
       "      <td>0.326284</td>\n",
       "      <td>0.129909</td>\n",
       "      <td>0.410876</td>\n",
       "      <td>0.012085</td>\n",
       "      <td>0.021148</td>\n",
       "      <td>0.931015</td>\n",
       "      <td>0.312500</td>\n",
       "      <td>0.138575</td>\n",
       "      <td>0.119750</td>\n",
       "      <td>0.010651</td>\n",
       "      <td>0.336816</td>\n",
       "      <td>0.790534</td>\n",
       "      <td>0.450975</td>\n",
       "    </tr>\n",
       "    <tr>\n",
       "      <th>3</th>\n",
       "      <td>1.0</td>\n",
       "      <td>0.015752</td>\n",
       "      <td>0.227364</td>\n",
       "      <td>0.638884</td>\n",
       "      <td>0.045800</td>\n",
       "      <td>0.017280</td>\n",
       "      <td>0.000082</td>\n",
       "      <td>0.956762</td>\n",
       "      <td>0.0</td>\n",
       "      <td>0.0</td>\n",
       "      <td>0.000300</td>\n",
       "      <td>0.042254</td>\n",
       "      <td>0.492958</td>\n",
       "      <td>0.450704</td>\n",
       "      <td>0.154930</td>\n",
       "      <td>0.084507</td>\n",
       "      <td>0.352113</td>\n",
       "      <td>0.169014</td>\n",
       "      <td>0.239437</td>\n",
       "      <td>0.000000</td>\n",
       "      <td>0.056338</td>\n",
       "      <td>0.239437</td>\n",
       "      <td>0.690141</td>\n",
       "      <td>0.018779</td>\n",
       "      <td>0.000000</td>\n",
       "      <td>0.754085</td>\n",
       "      <td>0.375000</td>\n",
       "      <td>0.143465</td>\n",
       "      <td>0.190714</td>\n",
       "      <td>0.013610</td>\n",
       "      <td>0.546166</td>\n",
       "      <td>0.807512</td>\n",
       "      <td>0.588135</td>\n",
       "    </tr>\n",
       "    <tr>\n",
       "      <th>4</th>\n",
       "      <td>1.0</td>\n",
       "      <td>0.037362</td>\n",
       "      <td>0.156883</td>\n",
       "      <td>0.638326</td>\n",
       "      <td>0.044326</td>\n",
       "      <td>0.034156</td>\n",
       "      <td>0.000004</td>\n",
       "      <td>0.940815</td>\n",
       "      <td>0.0</td>\n",
       "      <td>0.0</td>\n",
       "      <td>0.000004</td>\n",
       "      <td>0.500000</td>\n",
       "      <td>0.000000</td>\n",
       "      <td>0.500000</td>\n",
       "      <td>0.500000</td>\n",
       "      <td>0.000000</td>\n",
       "      <td>0.000000</td>\n",
       "      <td>0.000000</td>\n",
       "      <td>0.500000</td>\n",
       "      <td>0.000000</td>\n",
       "      <td>0.500000</td>\n",
       "      <td>0.000000</td>\n",
       "      <td>0.500000</td>\n",
       "      <td>0.000000</td>\n",
       "      <td>0.000000</td>\n",
       "      <td>0.819453</td>\n",
       "      <td>0.015625</td>\n",
       "      <td>0.168037</td>\n",
       "      <td>0.255864</td>\n",
       "      <td>0.015020</td>\n",
       "      <td>0.597222</td>\n",
       "      <td>0.500000</td>\n",
       "      <td>0.454545</td>\n",
       "    </tr>\n",
       "  </tbody>\n",
       "</table>\n",
       "</div>"
      ],
      "text/plain": [
       "   isca  AvgPrice  avgmiles  Salesefficiency  AvgDaysToSell  inventory  \\\n",
       "0   1.0  0.043004  0.149564         0.673539       0.061466   0.040251   \n",
       "1   1.0  0.124296  0.059074         0.529810       0.061732   0.048585   \n",
       "2   1.0  0.242650  0.045815         0.701504       0.071192   0.007242   \n",
       "3   1.0  0.015752  0.227364         0.638884       0.045800   0.017280   \n",
       "4   1.0  0.037362  0.156883         0.638326       0.044326   0.034156   \n",
       "\n",
       "    revenue  profitability  NGC_total_floored  wallet_share  count_vin  \\\n",
       "0  0.000011       0.949687                0.0           0.0   0.000009   \n",
       "1  0.001488       0.941749                0.0           0.0   0.001031   \n",
       "2  0.002240       0.944554                0.0           0.0   0.001412   \n",
       "3  0.000082       0.956762                0.0           0.0   0.000300   \n",
       "4  0.000004       0.940815                0.0           0.0   0.000004   \n",
       "\n",
       "   Velocity_Cold  Velocity_Hot  Velocity_Warm  vol_tier_Tier1  vol_tier_Tier2  \\\n",
       "0       0.333333      0.333333       0.333333        0.333333        0.333333   \n",
       "1       0.202479      0.392562       0.376033        0.123967        0.152893   \n",
       "2       0.057402      0.664653       0.160121        0.027190        0.018127   \n",
       "3       0.042254      0.492958       0.450704        0.154930        0.084507   \n",
       "4       0.500000      0.000000       0.500000        0.500000        0.000000   \n",
       "\n",
       "   vol_tier_Tier3  vol_tier_Tier4  vol_tier_Tier5  availability_Excessive  \\\n",
       "0        0.333333        0.000000        0.000000                0.000000   \n",
       "1        0.177686        0.409091        0.107438                0.433884   \n",
       "2        0.178248        0.274924        0.413897                0.015106   \n",
       "3        0.352113        0.169014        0.239437                0.000000   \n",
       "4        0.000000        0.000000        0.500000                0.000000   \n",
       "\n",
       "   availability_High  availability_Low  availability_Medium  \\\n",
       "0           0.000000          0.333333             0.666667   \n",
       "1           0.177686          0.053719             0.235537   \n",
       "2           0.326284          0.129909             0.410876   \n",
       "3           0.056338          0.239437             0.690141   \n",
       "4           0.500000          0.000000             0.500000   \n",
       "\n",
       "   availability_No Inventory  availability_Other  avg_year  make_count  \\\n",
       "0                   0.000000            0.000000  0.865475    0.031250   \n",
       "1                   0.000000            0.070248  0.949443    0.218750   \n",
       "2                   0.012085            0.021148  0.931015    0.312500   \n",
       "3                   0.018779            0.000000  0.754085    0.375000   \n",
       "4                   0.000000            0.000000  0.819453    0.015625   \n",
       "\n",
       "   Wholesale_dif  Retail_dif  Avg_mileage_dif  popularity  velocity  \\\n",
       "0       0.211917    0.182972         0.002996    0.798611  0.666667   \n",
       "1       0.161300    0.125082         0.009654    0.534808  0.710744   \n",
       "2       0.138575    0.119750         0.010651    0.336816  0.790534   \n",
       "3       0.143465    0.190714         0.013610    0.546166  0.807512   \n",
       "4       0.168037    0.255864         0.015020    0.597222  0.500000   \n",
       "\n",
       "   availability  \n",
       "0      0.606061  \n",
       "1      0.311044  \n",
       "2      0.450975  \n",
       "3      0.588135  \n",
       "4      0.454545  "
      ]
     },
     "execution_count": 72,
     "metadata": {},
     "output_type": "execute_result"
    }
   ],
   "source": [
    "dfa1.head()"
   ]
  },
  {
   "cell_type": "code",
   "execution_count": 151,
   "metadata": {},
   "outputs": [],
   "source": [
    "dfa1['financial_risk'] = (dfa1.NGC_total_floored + dfa1.wallet_share) / 2\n",
    "dfa1['vehicle_risk'] = ((1 - dfa1.AvgDaysToSell) + (1 - dfa1.inventory) + dfa1.popularity + dfa1.velocity + dfa1.availability + (1 - dfa1.Wholesale_dif)) / 6\n",
    "dfa1['pricing_risk'] = (dfa1.Salesefficiency + dfa1.Retail_dif + dfa1.count_vin) / 3\n",
    "dfa1['market_risk'] = ((1 - dfa1.AvgPrice) + dfa1.profitability + dfa1.avg_year + dfa1.make_count) / 4"
   ]
  },
  {
   "cell_type": "code",
   "execution_count": 152,
   "metadata": {},
   "outputs": [
    {
     "data": {
      "text/html": [
       "<div>\n",
       "<style scoped>\n",
       "    .dataframe tbody tr th:only-of-type {\n",
       "        vertical-align: middle;\n",
       "    }\n",
       "\n",
       "    .dataframe tbody tr th {\n",
       "        vertical-align: top;\n",
       "    }\n",
       "\n",
       "    .dataframe thead th {\n",
       "        text-align: right;\n",
       "    }\n",
       "</style>\n",
       "<table border=\"1\" class=\"dataframe\">\n",
       "  <thead>\n",
       "    <tr style=\"text-align: right;\">\n",
       "      <th></th>\n",
       "      <th>isca</th>\n",
       "      <th>AvgPrice</th>\n",
       "      <th>avgmiles</th>\n",
       "      <th>Salesefficiency</th>\n",
       "      <th>AvgDaysToSell</th>\n",
       "      <th>inventory</th>\n",
       "      <th>revenue</th>\n",
       "      <th>profitability</th>\n",
       "      <th>NGC_total_floored</th>\n",
       "      <th>wallet_share</th>\n",
       "      <th>count_vin</th>\n",
       "      <th>Velocity_Cold</th>\n",
       "      <th>Velocity_Hot</th>\n",
       "      <th>Velocity_Warm</th>\n",
       "      <th>vol_tier_Tier1</th>\n",
       "      <th>vol_tier_Tier2</th>\n",
       "      <th>vol_tier_Tier3</th>\n",
       "      <th>vol_tier_Tier4</th>\n",
       "      <th>vol_tier_Tier5</th>\n",
       "      <th>availability_Excessive</th>\n",
       "      <th>availability_High</th>\n",
       "      <th>availability_Low</th>\n",
       "      <th>availability_Medium</th>\n",
       "      <th>availability_No Inventory</th>\n",
       "      <th>availability_Other</th>\n",
       "      <th>avg_year</th>\n",
       "      <th>make_count</th>\n",
       "      <th>Wholesale_dif</th>\n",
       "      <th>Retail_dif</th>\n",
       "      <th>Avg_mileage_dif</th>\n",
       "      <th>popularity</th>\n",
       "      <th>velocity</th>\n",
       "      <th>availability</th>\n",
       "      <th>financial_risk</th>\n",
       "      <th>vehicle_risk</th>\n",
       "      <th>pricing_risk</th>\n",
       "      <th>market_risk</th>\n",
       "    </tr>\n",
       "  </thead>\n",
       "  <tbody>\n",
       "    <tr>\n",
       "      <th>0</th>\n",
       "      <td>1.0</td>\n",
       "      <td>0.043004</td>\n",
       "      <td>0.149564</td>\n",
       "      <td>0.673539</td>\n",
       "      <td>0.061466</td>\n",
       "      <td>0.040251</td>\n",
       "      <td>0.000011</td>\n",
       "      <td>0.949687</td>\n",
       "      <td>0.0</td>\n",
       "      <td>0.0</td>\n",
       "      <td>0.000009</td>\n",
       "      <td>0.333333</td>\n",
       "      <td>0.333333</td>\n",
       "      <td>0.333333</td>\n",
       "      <td>0.333333</td>\n",
       "      <td>0.333333</td>\n",
       "      <td>0.333333</td>\n",
       "      <td>0.000000</td>\n",
       "      <td>0.000000</td>\n",
       "      <td>0.000000</td>\n",
       "      <td>0.000000</td>\n",
       "      <td>0.333333</td>\n",
       "      <td>0.666667</td>\n",
       "      <td>0.000000</td>\n",
       "      <td>0.000000</td>\n",
       "      <td>0.865475</td>\n",
       "      <td>0.031250</td>\n",
       "      <td>0.211917</td>\n",
       "      <td>0.182972</td>\n",
       "      <td>0.002996</td>\n",
       "      <td>0.798611</td>\n",
       "      <td>0.666667</td>\n",
       "      <td>0.606061</td>\n",
       "      <td>0.0</td>\n",
       "      <td>0.792951</td>\n",
       "      <td>0.285506</td>\n",
       "      <td>0.700852</td>\n",
       "    </tr>\n",
       "    <tr>\n",
       "      <th>1</th>\n",
       "      <td>1.0</td>\n",
       "      <td>0.124296</td>\n",
       "      <td>0.059074</td>\n",
       "      <td>0.529810</td>\n",
       "      <td>0.061732</td>\n",
       "      <td>0.048585</td>\n",
       "      <td>0.001488</td>\n",
       "      <td>0.941749</td>\n",
       "      <td>0.0</td>\n",
       "      <td>0.0</td>\n",
       "      <td>0.001031</td>\n",
       "      <td>0.202479</td>\n",
       "      <td>0.392562</td>\n",
       "      <td>0.376033</td>\n",
       "      <td>0.123967</td>\n",
       "      <td>0.152893</td>\n",
       "      <td>0.177686</td>\n",
       "      <td>0.409091</td>\n",
       "      <td>0.107438</td>\n",
       "      <td>0.433884</td>\n",
       "      <td>0.177686</td>\n",
       "      <td>0.053719</td>\n",
       "      <td>0.235537</td>\n",
       "      <td>0.000000</td>\n",
       "      <td>0.070248</td>\n",
       "      <td>0.949443</td>\n",
       "      <td>0.218750</td>\n",
       "      <td>0.161300</td>\n",
       "      <td>0.125082</td>\n",
       "      <td>0.009654</td>\n",
       "      <td>0.534808</td>\n",
       "      <td>0.710744</td>\n",
       "      <td>0.311044</td>\n",
       "      <td>0.0</td>\n",
       "      <td>0.714163</td>\n",
       "      <td>0.218641</td>\n",
       "      <td>0.746412</td>\n",
       "    </tr>\n",
       "    <tr>\n",
       "      <th>2</th>\n",
       "      <td>1.0</td>\n",
       "      <td>0.242650</td>\n",
       "      <td>0.045815</td>\n",
       "      <td>0.701504</td>\n",
       "      <td>0.071192</td>\n",
       "      <td>0.007242</td>\n",
       "      <td>0.002240</td>\n",
       "      <td>0.944554</td>\n",
       "      <td>0.0</td>\n",
       "      <td>0.0</td>\n",
       "      <td>0.001412</td>\n",
       "      <td>0.057402</td>\n",
       "      <td>0.664653</td>\n",
       "      <td>0.160121</td>\n",
       "      <td>0.027190</td>\n",
       "      <td>0.018127</td>\n",
       "      <td>0.178248</td>\n",
       "      <td>0.274924</td>\n",
       "      <td>0.413897</td>\n",
       "      <td>0.015106</td>\n",
       "      <td>0.326284</td>\n",
       "      <td>0.129909</td>\n",
       "      <td>0.410876</td>\n",
       "      <td>0.012085</td>\n",
       "      <td>0.021148</td>\n",
       "      <td>0.931015</td>\n",
       "      <td>0.312500</td>\n",
       "      <td>0.138575</td>\n",
       "      <td>0.119750</td>\n",
       "      <td>0.010651</td>\n",
       "      <td>0.336816</td>\n",
       "      <td>0.790534</td>\n",
       "      <td>0.450975</td>\n",
       "      <td>0.0</td>\n",
       "      <td>0.726886</td>\n",
       "      <td>0.274222</td>\n",
       "      <td>0.736355</td>\n",
       "    </tr>\n",
       "    <tr>\n",
       "      <th>3</th>\n",
       "      <td>1.0</td>\n",
       "      <td>0.015752</td>\n",
       "      <td>0.227364</td>\n",
       "      <td>0.638884</td>\n",
       "      <td>0.045800</td>\n",
       "      <td>0.017280</td>\n",
       "      <td>0.000082</td>\n",
       "      <td>0.956762</td>\n",
       "      <td>0.0</td>\n",
       "      <td>0.0</td>\n",
       "      <td>0.000300</td>\n",
       "      <td>0.042254</td>\n",
       "      <td>0.492958</td>\n",
       "      <td>0.450704</td>\n",
       "      <td>0.154930</td>\n",
       "      <td>0.084507</td>\n",
       "      <td>0.352113</td>\n",
       "      <td>0.169014</td>\n",
       "      <td>0.239437</td>\n",
       "      <td>0.000000</td>\n",
       "      <td>0.056338</td>\n",
       "      <td>0.239437</td>\n",
       "      <td>0.690141</td>\n",
       "      <td>0.018779</td>\n",
       "      <td>0.000000</td>\n",
       "      <td>0.754085</td>\n",
       "      <td>0.375000</td>\n",
       "      <td>0.143465</td>\n",
       "      <td>0.190714</td>\n",
       "      <td>0.013610</td>\n",
       "      <td>0.546166</td>\n",
       "      <td>0.807512</td>\n",
       "      <td>0.588135</td>\n",
       "      <td>0.0</td>\n",
       "      <td>0.789211</td>\n",
       "      <td>0.276632</td>\n",
       "      <td>0.767524</td>\n",
       "    </tr>\n",
       "    <tr>\n",
       "      <th>4</th>\n",
       "      <td>1.0</td>\n",
       "      <td>0.037362</td>\n",
       "      <td>0.156883</td>\n",
       "      <td>0.638326</td>\n",
       "      <td>0.044326</td>\n",
       "      <td>0.034156</td>\n",
       "      <td>0.000004</td>\n",
       "      <td>0.940815</td>\n",
       "      <td>0.0</td>\n",
       "      <td>0.0</td>\n",
       "      <td>0.000004</td>\n",
       "      <td>0.500000</td>\n",
       "      <td>0.000000</td>\n",
       "      <td>0.500000</td>\n",
       "      <td>0.500000</td>\n",
       "      <td>0.000000</td>\n",
       "      <td>0.000000</td>\n",
       "      <td>0.000000</td>\n",
       "      <td>0.500000</td>\n",
       "      <td>0.000000</td>\n",
       "      <td>0.500000</td>\n",
       "      <td>0.000000</td>\n",
       "      <td>0.500000</td>\n",
       "      <td>0.000000</td>\n",
       "      <td>0.000000</td>\n",
       "      <td>0.819453</td>\n",
       "      <td>0.015625</td>\n",
       "      <td>0.168037</td>\n",
       "      <td>0.255864</td>\n",
       "      <td>0.015020</td>\n",
       "      <td>0.597222</td>\n",
       "      <td>0.500000</td>\n",
       "      <td>0.454545</td>\n",
       "      <td>0.0</td>\n",
       "      <td>0.717542</td>\n",
       "      <td>0.298065</td>\n",
       "      <td>0.684633</td>\n",
       "    </tr>\n",
       "  </tbody>\n",
       "</table>\n",
       "</div>"
      ],
      "text/plain": [
       "   isca  AvgPrice  avgmiles  Salesefficiency  AvgDaysToSell  inventory  \\\n",
       "0   1.0  0.043004  0.149564         0.673539       0.061466   0.040251   \n",
       "1   1.0  0.124296  0.059074         0.529810       0.061732   0.048585   \n",
       "2   1.0  0.242650  0.045815         0.701504       0.071192   0.007242   \n",
       "3   1.0  0.015752  0.227364         0.638884       0.045800   0.017280   \n",
       "4   1.0  0.037362  0.156883         0.638326       0.044326   0.034156   \n",
       "\n",
       "    revenue  profitability  NGC_total_floored  wallet_share  count_vin  \\\n",
       "0  0.000011       0.949687                0.0           0.0   0.000009   \n",
       "1  0.001488       0.941749                0.0           0.0   0.001031   \n",
       "2  0.002240       0.944554                0.0           0.0   0.001412   \n",
       "3  0.000082       0.956762                0.0           0.0   0.000300   \n",
       "4  0.000004       0.940815                0.0           0.0   0.000004   \n",
       "\n",
       "   Velocity_Cold  Velocity_Hot  Velocity_Warm  vol_tier_Tier1  vol_tier_Tier2  \\\n",
       "0       0.333333      0.333333       0.333333        0.333333        0.333333   \n",
       "1       0.202479      0.392562       0.376033        0.123967        0.152893   \n",
       "2       0.057402      0.664653       0.160121        0.027190        0.018127   \n",
       "3       0.042254      0.492958       0.450704        0.154930        0.084507   \n",
       "4       0.500000      0.000000       0.500000        0.500000        0.000000   \n",
       "\n",
       "   vol_tier_Tier3  vol_tier_Tier4  vol_tier_Tier5  availability_Excessive  \\\n",
       "0        0.333333        0.000000        0.000000                0.000000   \n",
       "1        0.177686        0.409091        0.107438                0.433884   \n",
       "2        0.178248        0.274924        0.413897                0.015106   \n",
       "3        0.352113        0.169014        0.239437                0.000000   \n",
       "4        0.000000        0.000000        0.500000                0.000000   \n",
       "\n",
       "   availability_High  availability_Low  availability_Medium  \\\n",
       "0           0.000000          0.333333             0.666667   \n",
       "1           0.177686          0.053719             0.235537   \n",
       "2           0.326284          0.129909             0.410876   \n",
       "3           0.056338          0.239437             0.690141   \n",
       "4           0.500000          0.000000             0.500000   \n",
       "\n",
       "   availability_No Inventory  availability_Other  avg_year  make_count  \\\n",
       "0                   0.000000            0.000000  0.865475    0.031250   \n",
       "1                   0.000000            0.070248  0.949443    0.218750   \n",
       "2                   0.012085            0.021148  0.931015    0.312500   \n",
       "3                   0.018779            0.000000  0.754085    0.375000   \n",
       "4                   0.000000            0.000000  0.819453    0.015625   \n",
       "\n",
       "   Wholesale_dif  Retail_dif  Avg_mileage_dif  popularity  velocity  \\\n",
       "0       0.211917    0.182972         0.002996    0.798611  0.666667   \n",
       "1       0.161300    0.125082         0.009654    0.534808  0.710744   \n",
       "2       0.138575    0.119750         0.010651    0.336816  0.790534   \n",
       "3       0.143465    0.190714         0.013610    0.546166  0.807512   \n",
       "4       0.168037    0.255864         0.015020    0.597222  0.500000   \n",
       "\n",
       "   availability  financial_risk  vehicle_risk  pricing_risk  market_risk  \n",
       "0      0.606061             0.0      0.792951      0.285506     0.700852  \n",
       "1      0.311044             0.0      0.714163      0.218641     0.746412  \n",
       "2      0.450975             0.0      0.726886      0.274222     0.736355  \n",
       "3      0.588135             0.0      0.789211      0.276632     0.767524  \n",
       "4      0.454545             0.0      0.717542      0.298065     0.684633  "
      ]
     },
     "execution_count": 152,
     "metadata": {},
     "output_type": "execute_result"
    }
   ],
   "source": [
    "dfa1.head()"
   ]
  },
  {
   "cell_type": "code",
   "execution_count": 233,
   "metadata": {},
   "outputs": [],
   "source": [
    "dfb = dfa1.loc[:,['isca','financial_risk','vehicle_risk','pricing_risk','market_risk']]"
   ]
  },
  {
   "cell_type": "code",
   "execution_count": 154,
   "metadata": {},
   "outputs": [
    {
     "data": {
      "text/plain": [
       "(102114, 5)"
      ]
     },
     "execution_count": 154,
     "metadata": {},
     "output_type": "execute_result"
    }
   ],
   "source": [
    "dfb.shape"
   ]
  },
  {
   "cell_type": "markdown",
   "metadata": {},
   "source": [
    "## Average Weight - Not with CA"
   ]
  },
  {
   "cell_type": "code",
   "execution_count": 155,
   "metadata": {},
   "outputs": [],
   "source": [
    "df00 = dfb[dfb.isca == 0].dropna()"
   ]
  },
  {
   "cell_type": "code",
   "execution_count": 156,
   "metadata": {},
   "outputs": [
    {
     "data": {
      "text/html": [
       "<div>\n",
       "<style scoped>\n",
       "    .dataframe tbody tr th:only-of-type {\n",
       "        vertical-align: middle;\n",
       "    }\n",
       "\n",
       "    .dataframe tbody tr th {\n",
       "        vertical-align: top;\n",
       "    }\n",
       "\n",
       "    .dataframe thead th {\n",
       "        text-align: right;\n",
       "    }\n",
       "</style>\n",
       "<table border=\"1\" class=\"dataframe\">\n",
       "  <thead>\n",
       "    <tr style=\"text-align: right;\">\n",
       "      <th></th>\n",
       "      <th>isca</th>\n",
       "      <th>financial_risk</th>\n",
       "      <th>vehicle_risk</th>\n",
       "      <th>pricing_risk</th>\n",
       "      <th>market_risk</th>\n",
       "    </tr>\n",
       "  </thead>\n",
       "  <tbody>\n",
       "    <tr>\n",
       "      <th>59231</th>\n",
       "      <td>0.0</td>\n",
       "      <td>0.0</td>\n",
       "      <td>0.758081</td>\n",
       "      <td>0.244773</td>\n",
       "      <td>0.826048</td>\n",
       "    </tr>\n",
       "    <tr>\n",
       "      <th>59232</th>\n",
       "      <td>0.0</td>\n",
       "      <td>0.0</td>\n",
       "      <td>0.751590</td>\n",
       "      <td>0.229707</td>\n",
       "      <td>0.759841</td>\n",
       "    </tr>\n",
       "    <tr>\n",
       "      <th>59233</th>\n",
       "      <td>0.0</td>\n",
       "      <td>0.0</td>\n",
       "      <td>0.757814</td>\n",
       "      <td>0.294010</td>\n",
       "      <td>0.736984</td>\n",
       "    </tr>\n",
       "    <tr>\n",
       "      <th>59234</th>\n",
       "      <td>0.0</td>\n",
       "      <td>0.0</td>\n",
       "      <td>0.792857</td>\n",
       "      <td>0.231390</td>\n",
       "      <td>0.695124</td>\n",
       "    </tr>\n",
       "    <tr>\n",
       "      <th>59235</th>\n",
       "      <td>0.0</td>\n",
       "      <td>0.0</td>\n",
       "      <td>0.607503</td>\n",
       "      <td>0.179599</td>\n",
       "      <td>0.601154</td>\n",
       "    </tr>\n",
       "  </tbody>\n",
       "</table>\n",
       "</div>"
      ],
      "text/plain": [
       "       isca  financial_risk  vehicle_risk  pricing_risk  market_risk\n",
       "59231   0.0             0.0      0.758081      0.244773     0.826048\n",
       "59232   0.0             0.0      0.751590      0.229707     0.759841\n",
       "59233   0.0             0.0      0.757814      0.294010     0.736984\n",
       "59234   0.0             0.0      0.792857      0.231390     0.695124\n",
       "59235   0.0             0.0      0.607503      0.179599     0.601154"
      ]
     },
     "execution_count": 156,
     "metadata": {},
     "output_type": "execute_result"
    }
   ],
   "source": [
    "df00.head()"
   ]
  },
  {
   "cell_type": "code",
   "execution_count": 157,
   "metadata": {},
   "outputs": [
    {
     "data": {
      "text/plain": [
       "(42883, 5)"
      ]
     },
     "execution_count": 157,
     "metadata": {},
     "output_type": "execute_result"
    }
   ],
   "source": [
    "df00.shape"
   ]
  },
  {
   "cell_type": "code",
   "execution_count": 158,
   "metadata": {},
   "outputs": [],
   "source": [
    "df00 = df00.drop(['isca','financial_risk'],axis=1)"
   ]
  },
  {
   "cell_type": "code",
   "execution_count": 159,
   "metadata": {},
   "outputs": [
    {
     "data": {
      "text/plain": [
       "array([[ 0.67810941,  0.70353191,  0.71167786],\n",
       "       [ 0.66149787,  0.64038912,  0.36966871],\n",
       "       [ 0.6774252 ,  0.90988533,  0.25159522],\n",
       "       ...,\n",
       "       [ 0.82313407,  1.01356708,  0.02033472],\n",
       "       [ 0.94260613,  0.77790868,  0.01186578],\n",
       "       [ 0.59826052,  1.21426466, -0.11356313]])"
      ]
     },
     "execution_count": 159,
     "metadata": {},
     "output_type": "execute_result"
    }
   ],
   "source": [
    "x = df00.values\n",
    "\n",
    "from sklearn import preprocessing\n",
    "mm_scaler = preprocessing.MinMaxScaler()\n",
    "x = mm_scaler.fit_transform(df00)\n",
    "mm_scaler.transform(x)"
   ]
  },
  {
   "cell_type": "code",
   "execution_count": 160,
   "metadata": {},
   "outputs": [
    {
     "name": "stdout",
     "output_type": "stream",
     "text": [
      "2\n",
      "3\n",
      "4\n",
      "5\n",
      "6\n",
      "7\n",
      "8\n",
      "9\n"
     ]
    },
    {
     "data": {
      "image/png": "[encoded data removed]",
      "text/plain": [
       "<Figure size 432x288 with 1 Axes>"
      ]
     },
     "metadata": {},
     "output_type": "display_data"
    }
   ],
   "source": [
    "Error =[]\n",
    "for i in range(2, 10):\n",
    "    print(i)\n",
    "    kmeans = KMeans(n_clusters = i).fit(x)\n",
    "    kmeans.fit(x)\n",
    "    Error.append(kmeans.inertia_)\n",
    "    \n",
    "import matplotlib.pyplot as plt\n",
    "plt.plot(range(2, 10), Error)\n",
    "plt.title('Elbow method')\n",
    "plt.xlabel('No of clusters')\n",
    "plt.ylabel('Error')\n",
    "plt.show()"
   ]
  },
  {
   "cell_type": "code",
   "execution_count": 86,
   "metadata": {},
   "outputs": [
    {
     "name": "stdout",
     "output_type": "stream",
     "text": [
      "2\n",
      "3\n",
      "4\n",
      "5\n",
      "6\n",
      "7\n",
      "8\n",
      "9\n"
     ]
    },
    {
     "data": {
      "image/png": "[encoded data removed]",
      "text/plain": [
       "<Figure size 432x288 with 1 Axes>"
      ]
     },
     "metadata": {},
     "output_type": "display_data"
    }
   ],
   "source": [
    "from sklearn.metrics import silhouette_score\n",
    "Silhouette = []\n",
    "for i in range(2,10):\n",
    "    print(i)\n",
    "    clusterer = KMeans(n_clusters = i)\n",
    "    cluster_labels = clusterer.fit_predict(x)\n",
    "    sil = silhouette_score(x, cluster_labels)\n",
    "    Silhouette.append(sil)\n",
    "    \n",
    "plt.plot(range(2, 10), Silhouette)\n",
    "plt.title('Silhouette method')\n",
    "plt.xlabel('No of clusters')\n",
    "plt.ylabel('Silhouette score')\n",
    "plt.show()"
   ]
  },
  {
   "cell_type": "code",
   "execution_count": 161,
   "metadata": {},
   "outputs": [
    {
     "name": "stdout",
     "output_type": "stream",
     "text": [
      "[0 0 1 ... 1 1 1]\n"
     ]
    },
    {
     "data": {
      "text/plain": [
       "array([[0.7115063 , 0.40553542, 0.66773553],\n",
       "       [0.7736009 , 0.4475116 , 0.50884821],\n",
       "       [0.5771826 , 0.32748431, 0.50664033]])"
      ]
     },
     "execution_count": 161,
     "metadata": {},
     "output_type": "execute_result"
    }
   ],
   "source": [
    "kmeansk = KMeans(n_clusters=3)\n",
    "y_kmeansk = kmeansk.fit_predict(x)\n",
    "print(y_kmeansk)\n",
    "\n",
    "kmeansk.cluster_centers_"
   ]
  },
  {
   "cell_type": "code",
   "execution_count": 162,
   "metadata": {},
   "outputs": [
    {
     "data": {
      "text/plain": [
       "array([[0.7, 0.4, 0.7],\n",
       "       [0.8, 0.4, 0.5],\n",
       "       [0.6, 0.3, 0.5]])"
      ]
     },
     "execution_count": 162,
     "metadata": {},
     "output_type": "execute_result"
    }
   ],
   "source": [
    "np.around(kmeansk.cluster_centers_, decimals=1)"
   ]
  },
  {
   "cell_type": "code",
   "execution_count": 163,
   "metadata": {},
   "outputs": [
    {
     "data": {
      "text/plain": [
       "Counter({0: 8209, 1: 22452, 2: 12222})"
      ]
     },
     "execution_count": 163,
     "metadata": {},
     "output_type": "execute_result"
    }
   ],
   "source": [
    "import collections, numpy\n",
    "collections.Counter(y_kmeansk)"
   ]
  },
  {
   "cell_type": "code",
   "execution_count": 165,
   "metadata": {},
   "outputs": [
    {
     "data": {
      "text/html": [
       "<div>\n",
       "<style scoped>\n",
       "    .dataframe tbody tr th:only-of-type {\n",
       "        vertical-align: middle;\n",
       "    }\n",
       "\n",
       "    .dataframe tbody tr th {\n",
       "        vertical-align: top;\n",
       "    }\n",
       "\n",
       "    .dataframe thead th {\n",
       "        text-align: right;\n",
       "    }\n",
       "</style>\n",
       "<table border=\"1\" class=\"dataframe\">\n",
       "  <thead>\n",
       "    <tr style=\"text-align: right;\">\n",
       "      <th></th>\n",
       "      <th>vehicle_risk</th>\n",
       "      <th>pricing_risk</th>\n",
       "      <th>market_risk</th>\n",
       "    </tr>\n",
       "  </thead>\n",
       "  <tbody>\n",
       "    <tr>\n",
       "      <th>0</th>\n",
       "      <td>0.712</td>\n",
       "      <td>0.406</td>\n",
       "      <td>0.668</td>\n",
       "    </tr>\n",
       "    <tr>\n",
       "      <th>1</th>\n",
       "      <td>0.774</td>\n",
       "      <td>0.448</td>\n",
       "      <td>0.509</td>\n",
       "    </tr>\n",
       "    <tr>\n",
       "      <th>2</th>\n",
       "      <td>0.577</td>\n",
       "      <td>0.327</td>\n",
       "      <td>0.507</td>\n",
       "    </tr>\n",
       "  </tbody>\n",
       "</table>\n",
       "</div>"
      ],
      "text/plain": [
       "   vehicle_risk  pricing_risk  market_risk\n",
       "0         0.712         0.406        0.668\n",
       "1         0.774         0.448        0.509\n",
       "2         0.577         0.327        0.507"
      ]
     },
     "execution_count": 165,
     "metadata": {},
     "output_type": "execute_result"
    }
   ],
   "source": [
    "result = pd.DataFrame(np.around(kmeansk.cluster_centers_,decimals=3))\n",
    "result.columns = df00.columns\n",
    "result"
   ]
  },
  {
   "cell_type": "code",
   "execution_count": 166,
   "metadata": {},
   "outputs": [],
   "source": [
    "result['counter'] = [8209,22452,12222]"
   ]
  },
  {
   "cell_type": "code",
   "execution_count": 167,
   "metadata": {},
   "outputs": [],
   "source": [
    "result.to_csv('Aclustering_result00.csv')"
   ]
  },
  {
   "cell_type": "code",
   "execution_count": 168,
   "metadata": {
    "scrolled": true
   },
   "outputs": [],
   "source": [
    "df00['cluster'] = y_kmeansk"
   ]
  },
  {
   "cell_type": "code",
   "execution_count": 169,
   "metadata": {
    "scrolled": true
   },
   "outputs": [
    {
     "data": {
      "text/html": [
       "<div>\n",
       "<style scoped>\n",
       "    .dataframe tbody tr th:only-of-type {\n",
       "        vertical-align: middle;\n",
       "    }\n",
       "\n",
       "    .dataframe tbody tr th {\n",
       "        vertical-align: top;\n",
       "    }\n",
       "\n",
       "    .dataframe thead th {\n",
       "        text-align: right;\n",
       "    }\n",
       "</style>\n",
       "<table border=\"1\" class=\"dataframe\">\n",
       "  <thead>\n",
       "    <tr style=\"text-align: right;\">\n",
       "      <th></th>\n",
       "      <th>vehicle_risk</th>\n",
       "      <th>pricing_risk</th>\n",
       "      <th>market_risk</th>\n",
       "      <th>cluster</th>\n",
       "    </tr>\n",
       "  </thead>\n",
       "  <tbody>\n",
       "    <tr>\n",
       "      <th>59231</th>\n",
       "      <td>0.758081</td>\n",
       "      <td>0.244773</td>\n",
       "      <td>0.826048</td>\n",
       "      <td>0</td>\n",
       "    </tr>\n",
       "    <tr>\n",
       "      <th>59232</th>\n",
       "      <td>0.751590</td>\n",
       "      <td>0.229707</td>\n",
       "      <td>0.759841</td>\n",
       "      <td>0</td>\n",
       "    </tr>\n",
       "    <tr>\n",
       "      <th>59233</th>\n",
       "      <td>0.757814</td>\n",
       "      <td>0.294010</td>\n",
       "      <td>0.736984</td>\n",
       "      <td>1</td>\n",
       "    </tr>\n",
       "    <tr>\n",
       "      <th>59234</th>\n",
       "      <td>0.792857</td>\n",
       "      <td>0.231390</td>\n",
       "      <td>0.695124</td>\n",
       "      <td>1</td>\n",
       "    </tr>\n",
       "    <tr>\n",
       "      <th>59235</th>\n",
       "      <td>0.607503</td>\n",
       "      <td>0.179599</td>\n",
       "      <td>0.601154</td>\n",
       "      <td>2</td>\n",
       "    </tr>\n",
       "  </tbody>\n",
       "</table>\n",
       "</div>"
      ],
      "text/plain": [
       "       vehicle_risk  pricing_risk  market_risk  cluster\n",
       "59231      0.758081      0.244773     0.826048        0\n",
       "59232      0.751590      0.229707     0.759841        0\n",
       "59233      0.757814      0.294010     0.736984        1\n",
       "59234      0.792857      0.231390     0.695124        1\n",
       "59235      0.607503      0.179599     0.601154        2"
      ]
     },
     "execution_count": 169,
     "metadata": {},
     "output_type": "execute_result"
    }
   ],
   "source": [
    "df00.head()"
   ]
  },
  {
   "cell_type": "code",
   "execution_count": 170,
   "metadata": {},
   "outputs": [],
   "source": [
    "df00.to_csv('Aclustering_data00.csv')"
   ]
  },
  {
   "cell_type": "markdown",
   "metadata": {},
   "source": [
    "## Average Weight - with CA"
   ]
  },
  {
   "cell_type": "code",
   "execution_count": 171,
   "metadata": {},
   "outputs": [],
   "source": [
    "df01 = dfb[dfb.isca == 1].dropna()"
   ]
  },
  {
   "cell_type": "code",
   "execution_count": 172,
   "metadata": {},
   "outputs": [
    {
     "data": {
      "text/html": [
       "<div>\n",
       "<style scoped>\n",
       "    .dataframe tbody tr th:only-of-type {\n",
       "        vertical-align: middle;\n",
       "    }\n",
       "\n",
       "    .dataframe tbody tr th {\n",
       "        vertical-align: top;\n",
       "    }\n",
       "\n",
       "    .dataframe thead th {\n",
       "        text-align: right;\n",
       "    }\n",
       "</style>\n",
       "<table border=\"1\" class=\"dataframe\">\n",
       "  <thead>\n",
       "    <tr style=\"text-align: right;\">\n",
       "      <th></th>\n",
       "      <th>isca</th>\n",
       "      <th>financial_risk</th>\n",
       "      <th>vehicle_risk</th>\n",
       "      <th>pricing_risk</th>\n",
       "      <th>market_risk</th>\n",
       "    </tr>\n",
       "  </thead>\n",
       "  <tbody>\n",
       "    <tr>\n",
       "      <th>0</th>\n",
       "      <td>1.0</td>\n",
       "      <td>0.0</td>\n",
       "      <td>0.792951</td>\n",
       "      <td>0.285506</td>\n",
       "      <td>0.700852</td>\n",
       "    </tr>\n",
       "    <tr>\n",
       "      <th>1</th>\n",
       "      <td>1.0</td>\n",
       "      <td>0.0</td>\n",
       "      <td>0.714163</td>\n",
       "      <td>0.218641</td>\n",
       "      <td>0.746412</td>\n",
       "    </tr>\n",
       "    <tr>\n",
       "      <th>2</th>\n",
       "      <td>1.0</td>\n",
       "      <td>0.0</td>\n",
       "      <td>0.726886</td>\n",
       "      <td>0.274222</td>\n",
       "      <td>0.736355</td>\n",
       "    </tr>\n",
       "    <tr>\n",
       "      <th>3</th>\n",
       "      <td>1.0</td>\n",
       "      <td>0.0</td>\n",
       "      <td>0.789211</td>\n",
       "      <td>0.276632</td>\n",
       "      <td>0.767524</td>\n",
       "    </tr>\n",
       "    <tr>\n",
       "      <th>4</th>\n",
       "      <td>1.0</td>\n",
       "      <td>0.0</td>\n",
       "      <td>0.717542</td>\n",
       "      <td>0.298065</td>\n",
       "      <td>0.684633</td>\n",
       "    </tr>\n",
       "  </tbody>\n",
       "</table>\n",
       "</div>"
      ],
      "text/plain": [
       "   isca  financial_risk  vehicle_risk  pricing_risk  market_risk\n",
       "0   1.0             0.0      0.792951      0.285506     0.700852\n",
       "1   1.0             0.0      0.714163      0.218641     0.746412\n",
       "2   1.0             0.0      0.726886      0.274222     0.736355\n",
       "3   1.0             0.0      0.789211      0.276632     0.767524\n",
       "4   1.0             0.0      0.717542      0.298065     0.684633"
      ]
     },
     "execution_count": 172,
     "metadata": {},
     "output_type": "execute_result"
    }
   ],
   "source": [
    "df01.head()"
   ]
  },
  {
   "cell_type": "code",
   "execution_count": 173,
   "metadata": {},
   "outputs": [
    {
     "data": {
      "text/plain": [
       "(59231, 5)"
      ]
     },
     "execution_count": 173,
     "metadata": {},
     "output_type": "execute_result"
    }
   ],
   "source": [
    "df01.shape"
   ]
  },
  {
   "cell_type": "code",
   "execution_count": 174,
   "metadata": {},
   "outputs": [],
   "source": [
    "df01 = df01.drop('isca',axis=1)"
   ]
  },
  {
   "cell_type": "code",
   "execution_count": 175,
   "metadata": {},
   "outputs": [
    {
     "data": {
      "text/plain": [
       "array([[0.        , 0.64228692, 0.77746112, 0.43751105],\n",
       "       [0.        , 0.34305216, 0.54445379, 0.57790938],\n",
       "       [0.        , 0.39137316, 0.73813892, 0.54691739],\n",
       "       ...,\n",
       "       [0.        , 0.63325939, 0.67752594, 0.43164298],\n",
       "       [0.        , 0.47478873, 0.39108614, 0.38817116],\n",
       "       [0.        , 0.78903772, 0.66136054, 0.35685074]])"
      ]
     },
     "execution_count": 175,
     "metadata": {},
     "output_type": "execute_result"
    }
   ],
   "source": [
    "x = df01.values\n",
    "\n",
    "from sklearn import preprocessing\n",
    "mm_scaler = preprocessing.MinMaxScaler()\n",
    "x = mm_scaler.fit_transform(df01)\n",
    "mm_scaler.transform(x)"
   ]
  },
  {
   "cell_type": "code",
   "execution_count": 176,
   "metadata": {},
   "outputs": [
    {
     "name": "stdout",
     "output_type": "stream",
     "text": [
      "2\n",
      "3\n",
      "4\n",
      "5\n",
      "6\n",
      "7\n",
      "8\n",
      "9\n"
     ]
    },
    {
     "data": {
      "image/png": "[encoded data removed]",
      "text/plain": [
       "<Figure size 432x288 with 1 Axes>"
      ]
     },
     "metadata": {},
     "output_type": "display_data"
    }
   ],
   "source": [
    "Error =[]\n",
    "for i in range(2, 10):\n",
    "    print(i)\n",
    "    kmeans = KMeans(n_clusters = i).fit(x)\n",
    "    kmeans.fit(x)\n",
    "    Error.append(kmeans.inertia_)\n",
    "    \n",
    "import matplotlib.pyplot as plt\n",
    "plt.plot(range(2, 10), Error)\n",
    "plt.title('Elbow method')\n",
    "plt.xlabel('No of clusters')\n",
    "plt.ylabel('Error')\n",
    "plt.show()"
   ]
  },
  {
   "cell_type": "code",
   "execution_count": 104,
   "metadata": {},
   "outputs": [
    {
     "name": "stdout",
     "output_type": "stream",
     "text": [
      "2\n",
      "3\n",
      "4\n",
      "5\n",
      "6\n",
      "7\n",
      "8\n",
      "9\n"
     ]
    },
    {
     "data": {
      "image/png": "[encoded data removed]",
      "text/plain": [
       "<Figure size 432x288 with 1 Axes>"
      ]
     },
     "metadata": {},
     "output_type": "display_data"
    }
   ],
   "source": [
    "from sklearn.metrics import silhouette_score\n",
    "Silhouette = []\n",
    "for i in range(2,10):\n",
    "    print(i)\n",
    "    clusterer = KMeans(n_clusters = i)\n",
    "    cluster_labels = clusterer.fit_predict(x)\n",
    "    sil = silhouette_score(x, cluster_labels)\n",
    "    Silhouette.append(sil)\n",
    "    \n",
    "plt.plot(range(2, 10), Silhouette)\n",
    "plt.title('Silhouette method')\n",
    "plt.xlabel('No of clusters')\n",
    "plt.ylabel('Silhouette score')\n",
    "plt.show()"
   ]
  },
  {
   "cell_type": "code",
   "execution_count": 177,
   "metadata": {},
   "outputs": [
    {
     "name": "stdout",
     "output_type": "stream",
     "text": [
      "[0 3 2 ... 0 3 0]\n"
     ]
    },
    {
     "data": {
      "text/plain": [
       "array([[0.00964092, 0.74300961, 0.42849036, 0.61445848],\n",
       "       [0.56564988, 0.72201298, 0.4094469 , 0.61493576],\n",
       "       [0.00473093, 0.63396856, 0.38218513, 0.77422605],\n",
       "       [0.00276256, 0.50624813, 0.33064625, 0.62910993]])"
      ]
     },
     "execution_count": 177,
     "metadata": {},
     "output_type": "execute_result"
    }
   ],
   "source": [
    "kmeansk = KMeans(n_clusters=4)\n",
    "y_kmeansk = kmeansk.fit_predict(x)\n",
    "print(y_kmeansk)\n",
    "\n",
    "kmeansk.cluster_centers_"
   ]
  },
  {
   "cell_type": "code",
   "execution_count": 178,
   "metadata": {},
   "outputs": [
    {
     "data": {
      "text/plain": [
       "array([[0. , 0.7, 0.4, 0.6],\n",
       "       [0.6, 0.7, 0.4, 0.6],\n",
       "       [0. , 0.6, 0.4, 0.8],\n",
       "       [0. , 0.5, 0.3, 0.6]])"
      ]
     },
     "execution_count": 178,
     "metadata": {},
     "output_type": "execute_result"
    }
   ],
   "source": [
    "np.around(kmeansk.cluster_centers_, decimals=1)"
   ]
  },
  {
   "cell_type": "code",
   "execution_count": 179,
   "metadata": {},
   "outputs": [
    {
     "data": {
      "text/plain": [
       "Counter({0: 27765, 3: 10994, 2: 15506, 1: 4966})"
      ]
     },
     "execution_count": 179,
     "metadata": {},
     "output_type": "execute_result"
    }
   ],
   "source": [
    "import collections, numpy\n",
    "collections.Counter(y_kmeansk)"
   ]
  },
  {
   "cell_type": "code",
   "execution_count": 180,
   "metadata": {},
   "outputs": [
    {
     "data": {
      "text/html": [
       "<div>\n",
       "<style scoped>\n",
       "    .dataframe tbody tr th:only-of-type {\n",
       "        vertical-align: middle;\n",
       "    }\n",
       "\n",
       "    .dataframe tbody tr th {\n",
       "        vertical-align: top;\n",
       "    }\n",
       "\n",
       "    .dataframe thead th {\n",
       "        text-align: right;\n",
       "    }\n",
       "</style>\n",
       "<table border=\"1\" class=\"dataframe\">\n",
       "  <thead>\n",
       "    <tr style=\"text-align: right;\">\n",
       "      <th></th>\n",
       "      <th>financial_risk</th>\n",
       "      <th>vehicle_risk</th>\n",
       "      <th>pricing_risk</th>\n",
       "      <th>market_risk</th>\n",
       "    </tr>\n",
       "  </thead>\n",
       "  <tbody>\n",
       "    <tr>\n",
       "      <th>0</th>\n",
       "      <td>0.010</td>\n",
       "      <td>0.743</td>\n",
       "      <td>0.428</td>\n",
       "      <td>0.614</td>\n",
       "    </tr>\n",
       "    <tr>\n",
       "      <th>1</th>\n",
       "      <td>0.566</td>\n",
       "      <td>0.722</td>\n",
       "      <td>0.409</td>\n",
       "      <td>0.615</td>\n",
       "    </tr>\n",
       "    <tr>\n",
       "      <th>2</th>\n",
       "      <td>0.005</td>\n",
       "      <td>0.634</td>\n",
       "      <td>0.382</td>\n",
       "      <td>0.774</td>\n",
       "    </tr>\n",
       "    <tr>\n",
       "      <th>3</th>\n",
       "      <td>0.003</td>\n",
       "      <td>0.506</td>\n",
       "      <td>0.331</td>\n",
       "      <td>0.629</td>\n",
       "    </tr>\n",
       "  </tbody>\n",
       "</table>\n",
       "</div>"
      ],
      "text/plain": [
       "   financial_risk  vehicle_risk  pricing_risk  market_risk\n",
       "0           0.010         0.743         0.428        0.614\n",
       "1           0.566         0.722         0.409        0.615\n",
       "2           0.005         0.634         0.382        0.774\n",
       "3           0.003         0.506         0.331        0.629"
      ]
     },
     "execution_count": 180,
     "metadata": {},
     "output_type": "execute_result"
    }
   ],
   "source": [
    "result = pd.DataFrame(np.around(kmeansk.cluster_centers_,decimals=3))\n",
    "result.columns = df01.columns\n",
    "result"
   ]
  },
  {
   "cell_type": "code",
   "execution_count": 181,
   "metadata": {},
   "outputs": [],
   "source": [
    "result['counter'] = [27765,4966,15506,10994]"
   ]
  },
  {
   "cell_type": "code",
   "execution_count": 182,
   "metadata": {},
   "outputs": [],
   "source": [
    "result.to_csv('Aclustering_result01.csv')"
   ]
  },
  {
   "cell_type": "code",
   "execution_count": 183,
   "metadata": {
    "scrolled": true
   },
   "outputs": [],
   "source": [
    "df01['cluster'] = y_kmeansk"
   ]
  },
  {
   "cell_type": "code",
   "execution_count": 184,
   "metadata": {
    "scrolled": true
   },
   "outputs": [
    {
     "data": {
      "text/html": [
       "<div>\n",
       "<style scoped>\n",
       "    .dataframe tbody tr th:only-of-type {\n",
       "        vertical-align: middle;\n",
       "    }\n",
       "\n",
       "    .dataframe tbody tr th {\n",
       "        vertical-align: top;\n",
       "    }\n",
       "\n",
       "    .dataframe thead th {\n",
       "        text-align: right;\n",
       "    }\n",
       "</style>\n",
       "<table border=\"1\" class=\"dataframe\">\n",
       "  <thead>\n",
       "    <tr style=\"text-align: right;\">\n",
       "      <th></th>\n",
       "      <th>financial_risk</th>\n",
       "      <th>vehicle_risk</th>\n",
       "      <th>pricing_risk</th>\n",
       "      <th>market_risk</th>\n",
       "      <th>cluster</th>\n",
       "    </tr>\n",
       "  </thead>\n",
       "  <tbody>\n",
       "    <tr>\n",
       "      <th>0</th>\n",
       "      <td>0.0</td>\n",
       "      <td>0.792951</td>\n",
       "      <td>0.285506</td>\n",
       "      <td>0.700852</td>\n",
       "      <td>0</td>\n",
       "    </tr>\n",
       "    <tr>\n",
       "      <th>1</th>\n",
       "      <td>0.0</td>\n",
       "      <td>0.714163</td>\n",
       "      <td>0.218641</td>\n",
       "      <td>0.746412</td>\n",
       "      <td>3</td>\n",
       "    </tr>\n",
       "    <tr>\n",
       "      <th>2</th>\n",
       "      <td>0.0</td>\n",
       "      <td>0.726886</td>\n",
       "      <td>0.274222</td>\n",
       "      <td>0.736355</td>\n",
       "      <td>2</td>\n",
       "    </tr>\n",
       "    <tr>\n",
       "      <th>3</th>\n",
       "      <td>0.0</td>\n",
       "      <td>0.789211</td>\n",
       "      <td>0.276632</td>\n",
       "      <td>0.767524</td>\n",
       "      <td>0</td>\n",
       "    </tr>\n",
       "    <tr>\n",
       "      <th>4</th>\n",
       "      <td>0.0</td>\n",
       "      <td>0.717542</td>\n",
       "      <td>0.298065</td>\n",
       "      <td>0.684633</td>\n",
       "      <td>0</td>\n",
       "    </tr>\n",
       "  </tbody>\n",
       "</table>\n",
       "</div>"
      ],
      "text/plain": [
       "   financial_risk  vehicle_risk  pricing_risk  market_risk  cluster\n",
       "0             0.0      0.792951      0.285506     0.700852        0\n",
       "1             0.0      0.714163      0.218641     0.746412        3\n",
       "2             0.0      0.726886      0.274222     0.736355        2\n",
       "3             0.0      0.789211      0.276632     0.767524        0\n",
       "4             0.0      0.717542      0.298065     0.684633        0"
      ]
     },
     "execution_count": 184,
     "metadata": {},
     "output_type": "execute_result"
    }
   ],
   "source": [
    "df01.head()"
   ]
  },
  {
   "cell_type": "code",
   "execution_count": 185,
   "metadata": {},
   "outputs": [],
   "source": [
    "df01.to_csv('Aclustering_data01.csv')"
   ]
  },
  {
   "cell_type": "markdown",
   "metadata": {},
   "source": [
    "## Market Downturn - Not with CA"
   ]
  },
  {
   "cell_type": "code",
   "execution_count": 307,
   "metadata": {},
   "outputs": [],
   "source": [
    "dfc = dfb.copy()"
   ]
  },
  {
   "cell_type": "code",
   "execution_count": 309,
   "metadata": {},
   "outputs": [],
   "source": [
    "dfc['market_risk'] = 10 * dfb.market_risk\n",
    "dfc['pricing_risk'] = 4.5 * dfb.pricing_risk\n",
    "dfc['vehicle_risk'] = 4.5 * dfb.vehicle_risk"
   ]
  },
  {
   "cell_type": "code",
   "execution_count": 310,
   "metadata": {},
   "outputs": [
    {
     "data": {
      "text/html": [
       "<div>\n",
       "<style scoped>\n",
       "    .dataframe tbody tr th:only-of-type {\n",
       "        vertical-align: middle;\n",
       "    }\n",
       "\n",
       "    .dataframe tbody tr th {\n",
       "        vertical-align: top;\n",
       "    }\n",
       "\n",
       "    .dataframe thead th {\n",
       "        text-align: right;\n",
       "    }\n",
       "</style>\n",
       "<table border=\"1\" class=\"dataframe\">\n",
       "  <thead>\n",
       "    <tr style=\"text-align: right;\">\n",
       "      <th></th>\n",
       "      <th>isca</th>\n",
       "      <th>financial_risk</th>\n",
       "      <th>vehicle_risk</th>\n",
       "      <th>pricing_risk</th>\n",
       "      <th>market_risk</th>\n",
       "    </tr>\n",
       "  </thead>\n",
       "  <tbody>\n",
       "    <tr>\n",
       "      <th>0</th>\n",
       "      <td>1.0</td>\n",
       "      <td>0.0</td>\n",
       "      <td>3.568278</td>\n",
       "      <td>1.284779</td>\n",
       "      <td>7.008520</td>\n",
       "    </tr>\n",
       "    <tr>\n",
       "      <th>1</th>\n",
       "      <td>1.0</td>\n",
       "      <td>0.0</td>\n",
       "      <td>3.213734</td>\n",
       "      <td>0.983885</td>\n",
       "      <td>7.464117</td>\n",
       "    </tr>\n",
       "    <tr>\n",
       "      <th>2</th>\n",
       "      <td>1.0</td>\n",
       "      <td>0.0</td>\n",
       "      <td>3.270987</td>\n",
       "      <td>1.234000</td>\n",
       "      <td>7.363547</td>\n",
       "    </tr>\n",
       "    <tr>\n",
       "      <th>3</th>\n",
       "      <td>1.0</td>\n",
       "      <td>0.0</td>\n",
       "      <td>3.551451</td>\n",
       "      <td>1.244846</td>\n",
       "      <td>7.675238</td>\n",
       "    </tr>\n",
       "    <tr>\n",
       "      <th>4</th>\n",
       "      <td>1.0</td>\n",
       "      <td>0.0</td>\n",
       "      <td>3.228937</td>\n",
       "      <td>1.341291</td>\n",
       "      <td>6.846328</td>\n",
       "    </tr>\n",
       "  </tbody>\n",
       "</table>\n",
       "</div>"
      ],
      "text/plain": [
       "   isca  financial_risk  vehicle_risk  pricing_risk  market_risk\n",
       "0   1.0             0.0      3.568278      1.284779     7.008520\n",
       "1   1.0             0.0      3.213734      0.983885     7.464117\n",
       "2   1.0             0.0      3.270987      1.234000     7.363547\n",
       "3   1.0             0.0      3.551451      1.244846     7.675238\n",
       "4   1.0             0.0      3.228937      1.341291     6.846328"
      ]
     },
     "execution_count": 310,
     "metadata": {},
     "output_type": "execute_result"
    }
   ],
   "source": [
    "dfc.head()"
   ]
  },
  {
   "cell_type": "code",
   "execution_count": 311,
   "metadata": {},
   "outputs": [],
   "source": [
    "df00 = dfc[dfc.isca == 0].dropna()"
   ]
  },
  {
   "cell_type": "code",
   "execution_count": 312,
   "metadata": {},
   "outputs": [
    {
     "data": {
      "text/html": [
       "<div>\n",
       "<style scoped>\n",
       "    .dataframe tbody tr th:only-of-type {\n",
       "        vertical-align: middle;\n",
       "    }\n",
       "\n",
       "    .dataframe tbody tr th {\n",
       "        vertical-align: top;\n",
       "    }\n",
       "\n",
       "    .dataframe thead th {\n",
       "        text-align: right;\n",
       "    }\n",
       "</style>\n",
       "<table border=\"1\" class=\"dataframe\">\n",
       "  <thead>\n",
       "    <tr style=\"text-align: right;\">\n",
       "      <th></th>\n",
       "      <th>isca</th>\n",
       "      <th>financial_risk</th>\n",
       "      <th>vehicle_risk</th>\n",
       "      <th>pricing_risk</th>\n",
       "      <th>market_risk</th>\n",
       "    </tr>\n",
       "  </thead>\n",
       "  <tbody>\n",
       "    <tr>\n",
       "      <th>59231</th>\n",
       "      <td>0.0</td>\n",
       "      <td>0.0</td>\n",
       "      <td>3.411367</td>\n",
       "      <td>1.101478</td>\n",
       "      <td>8.260480</td>\n",
       "    </tr>\n",
       "    <tr>\n",
       "      <th>59232</th>\n",
       "      <td>0.0</td>\n",
       "      <td>0.0</td>\n",
       "      <td>3.382154</td>\n",
       "      <td>1.033680</td>\n",
       "      <td>7.598413</td>\n",
       "    </tr>\n",
       "    <tr>\n",
       "      <th>59233</th>\n",
       "      <td>0.0</td>\n",
       "      <td>0.0</td>\n",
       "      <td>3.410163</td>\n",
       "      <td>1.323044</td>\n",
       "      <td>7.369845</td>\n",
       "    </tr>\n",
       "    <tr>\n",
       "      <th>59234</th>\n",
       "      <td>0.0</td>\n",
       "      <td>0.0</td>\n",
       "      <td>3.567857</td>\n",
       "      <td>1.041254</td>\n",
       "      <td>6.951240</td>\n",
       "    </tr>\n",
       "    <tr>\n",
       "      <th>59235</th>\n",
       "      <td>0.0</td>\n",
       "      <td>0.0</td>\n",
       "      <td>2.733765</td>\n",
       "      <td>0.808197</td>\n",
       "      <td>6.011543</td>\n",
       "    </tr>\n",
       "  </tbody>\n",
       "</table>\n",
       "</div>"
      ],
      "text/plain": [
       "       isca  financial_risk  vehicle_risk  pricing_risk  market_risk\n",
       "59231   0.0             0.0      3.411367      1.101478     8.260480\n",
       "59232   0.0             0.0      3.382154      1.033680     7.598413\n",
       "59233   0.0             0.0      3.410163      1.323044     7.369845\n",
       "59234   0.0             0.0      3.567857      1.041254     6.951240\n",
       "59235   0.0             0.0      2.733765      0.808197     6.011543"
      ]
     },
     "execution_count": 312,
     "metadata": {},
     "output_type": "execute_result"
    }
   ],
   "source": [
    "df00.head()"
   ]
  },
  {
   "cell_type": "code",
   "execution_count": 313,
   "metadata": {},
   "outputs": [
    {
     "data": {
      "text/plain": [
       "(42883, 5)"
      ]
     },
     "execution_count": 313,
     "metadata": {},
     "output_type": "execute_result"
    }
   ],
   "source": [
    "df00.shape"
   ]
  },
  {
   "cell_type": "code",
   "execution_count": 314,
   "metadata": {},
   "outputs": [],
   "source": [
    "df00 = df00.drop(['isca','financial_risk'],axis=1)"
   ]
  },
  {
   "cell_type": "code",
   "execution_count": 315,
   "metadata": {},
   "outputs": [],
   "source": [
    "x = df00.values"
   ]
  },
  {
   "cell_type": "code",
   "execution_count": 248,
   "metadata": {},
   "outputs": [
    {
     "name": "stdout",
     "output_type": "stream",
     "text": [
      "2\n",
      "3\n",
      "4\n",
      "5\n",
      "6\n",
      "7\n",
      "8\n",
      "9\n"
     ]
    },
    {
     "data": {
      "image/png": "[encoded data removed]",
      "text/plain": [
       "<Figure size 432x288 with 1 Axes>"
      ]
     },
     "metadata": {},
     "output_type": "display_data"
    }
   ],
   "source": [
    "Error =[]\n",
    "for i in range(2, 10):\n",
    "    print(i)\n",
    "    kmeans = KMeans(n_clusters = i).fit(x)\n",
    "    kmeans.fit(x)\n",
    "    Error.append(kmeans.inertia_)\n",
    "    \n",
    "import matplotlib.pyplot as plt\n",
    "plt.plot(range(2, 10), Error)\n",
    "plt.title('Elbow method')\n",
    "plt.xlabel('No of clusters')\n",
    "plt.ylabel('Error')\n",
    "plt.show()"
   ]
  },
  {
   "cell_type": "code",
   "execution_count": 125,
   "metadata": {},
   "outputs": [
    {
     "name": "stdout",
     "output_type": "stream",
     "text": [
      "2\n",
      "3\n",
      "4\n",
      "5\n",
      "6\n",
      "7\n",
      "8\n",
      "9\n"
     ]
    },
    {
     "data": {
      "image/png": "[encoded data removed]",
      "text/plain": [
       "<Figure size 432x288 with 1 Axes>"
      ]
     },
     "metadata": {},
     "output_type": "display_data"
    }
   ],
   "source": [
    "from sklearn.metrics import silhouette_score\n",
    "Silhouette = []\n",
    "for i in range(2,10):\n",
    "    print(i)\n",
    "    clusterer = KMeans(n_clusters = i)\n",
    "    cluster_labels = clusterer.fit_predict(x)\n",
    "    sil = silhouette_score(x, cluster_labels)\n",
    "    Silhouette.append(sil)\n",
    "    \n",
    "plt.plot(range(2, 10), Silhouette)\n",
    "plt.title('Silhouette method')\n",
    "plt.xlabel('No of clusters')\n",
    "plt.ylabel('Silhouette score')\n",
    "plt.show()"
   ]
  },
  {
   "cell_type": "code",
   "execution_count": 316,
   "metadata": {},
   "outputs": [
    {
     "name": "stdout",
     "output_type": "stream",
     "text": [
      "[1 1 1 ... 2 2 2]\n"
     ]
    },
    {
     "data": {
      "text/plain": [
       "array([[2.97624449, 0.95905345, 6.9852821 ],\n",
       "       [3.35970805, 1.12658835, 7.70949067],\n",
       "       [3.53723994, 1.20548651, 7.01268185]])"
      ]
     },
     "execution_count": 316,
     "metadata": {},
     "output_type": "execute_result"
    }
   ],
   "source": [
    "kmeansk = KMeans(n_clusters=3)\n",
    "y_kmeansk = kmeansk.fit_predict(x)\n",
    "print(y_kmeansk)\n",
    "\n",
    "kmeansk.cluster_centers_"
   ]
  },
  {
   "cell_type": "code",
   "execution_count": 317,
   "metadata": {},
   "outputs": [
    {
     "data": {
      "text/plain": [
       "array([[3. , 1. , 7. ],\n",
       "       [3.4, 1.1, 7.7],\n",
       "       [3.5, 1.2, 7. ]])"
      ]
     },
     "execution_count": 317,
     "metadata": {},
     "output_type": "execute_result"
    }
   ],
   "source": [
    "np.around(kmeansk.cluster_centers_, decimals=1)"
   ]
  },
  {
   "cell_type": "code",
   "execution_count": 318,
   "metadata": {},
   "outputs": [
    {
     "data": {
      "text/plain": [
       "Counter({1: 8907, 2: 22514, 0: 11462})"
      ]
     },
     "execution_count": 318,
     "metadata": {},
     "output_type": "execute_result"
    }
   ],
   "source": [
    "import collections, numpy\n",
    "collections.Counter(y_kmeansk)"
   ]
  },
  {
   "cell_type": "code",
   "execution_count": 319,
   "metadata": {},
   "outputs": [
    {
     "data": {
      "text/html": [
       "<div>\n",
       "<style scoped>\n",
       "    .dataframe tbody tr th:only-of-type {\n",
       "        vertical-align: middle;\n",
       "    }\n",
       "\n",
       "    .dataframe tbody tr th {\n",
       "        vertical-align: top;\n",
       "    }\n",
       "\n",
       "    .dataframe thead th {\n",
       "        text-align: right;\n",
       "    }\n",
       "</style>\n",
       "<table border=\"1\" class=\"dataframe\">\n",
       "  <thead>\n",
       "    <tr style=\"text-align: right;\">\n",
       "      <th></th>\n",
       "      <th>vehicle_risk</th>\n",
       "      <th>pricing_risk</th>\n",
       "      <th>market_risk</th>\n",
       "    </tr>\n",
       "  </thead>\n",
       "  <tbody>\n",
       "    <tr>\n",
       "      <th>0</th>\n",
       "      <td>2.976</td>\n",
       "      <td>0.959</td>\n",
       "      <td>6.985</td>\n",
       "    </tr>\n",
       "    <tr>\n",
       "      <th>1</th>\n",
       "      <td>3.360</td>\n",
       "      <td>1.127</td>\n",
       "      <td>7.709</td>\n",
       "    </tr>\n",
       "    <tr>\n",
       "      <th>2</th>\n",
       "      <td>3.537</td>\n",
       "      <td>1.205</td>\n",
       "      <td>7.013</td>\n",
       "    </tr>\n",
       "  </tbody>\n",
       "</table>\n",
       "</div>"
      ],
      "text/plain": [
       "   vehicle_risk  pricing_risk  market_risk\n",
       "0         2.976         0.959        6.985\n",
       "1         3.360         1.127        7.709\n",
       "2         3.537         1.205        7.013"
      ]
     },
     "execution_count": 319,
     "metadata": {},
     "output_type": "execute_result"
    }
   ],
   "source": [
    "result = pd.DataFrame(np.around(kmeansk.cluster_centers_,decimals=3))\n",
    "result.columns = df00.columns\n",
    "result"
   ]
  },
  {
   "cell_type": "code",
   "execution_count": 320,
   "metadata": {},
   "outputs": [],
   "source": [
    "result['counter'] = [11462,8907,22514]"
   ]
  },
  {
   "cell_type": "code",
   "execution_count": 321,
   "metadata": {},
   "outputs": [],
   "source": [
    "result.to_csv('Bclustering_result00.csv')"
   ]
  },
  {
   "cell_type": "code",
   "execution_count": 322,
   "metadata": {
    "scrolled": true
   },
   "outputs": [],
   "source": [
    "df00['cluster'] = y_kmeansk"
   ]
  },
  {
   "cell_type": "code",
   "execution_count": 323,
   "metadata": {
    "scrolled": true
   },
   "outputs": [
    {
     "data": {
      "text/html": [
       "<div>\n",
       "<style scoped>\n",
       "    .dataframe tbody tr th:only-of-type {\n",
       "        vertical-align: middle;\n",
       "    }\n",
       "\n",
       "    .dataframe tbody tr th {\n",
       "        vertical-align: top;\n",
       "    }\n",
       "\n",
       "    .dataframe thead th {\n",
       "        text-align: right;\n",
       "    }\n",
       "</style>\n",
       "<table border=\"1\" class=\"dataframe\">\n",
       "  <thead>\n",
       "    <tr style=\"text-align: right;\">\n",
       "      <th></th>\n",
       "      <th>vehicle_risk</th>\n",
       "      <th>pricing_risk</th>\n",
       "      <th>market_risk</th>\n",
       "      <th>cluster</th>\n",
       "    </tr>\n",
       "  </thead>\n",
       "  <tbody>\n",
       "    <tr>\n",
       "      <th>59231</th>\n",
       "      <td>3.411367</td>\n",
       "      <td>1.101478</td>\n",
       "      <td>8.260480</td>\n",
       "      <td>1</td>\n",
       "    </tr>\n",
       "    <tr>\n",
       "      <th>59232</th>\n",
       "      <td>3.382154</td>\n",
       "      <td>1.033680</td>\n",
       "      <td>7.598413</td>\n",
       "      <td>1</td>\n",
       "    </tr>\n",
       "    <tr>\n",
       "      <th>59233</th>\n",
       "      <td>3.410163</td>\n",
       "      <td>1.323044</td>\n",
       "      <td>7.369845</td>\n",
       "      <td>1</td>\n",
       "    </tr>\n",
       "    <tr>\n",
       "      <th>59234</th>\n",
       "      <td>3.567857</td>\n",
       "      <td>1.041254</td>\n",
       "      <td>6.951240</td>\n",
       "      <td>2</td>\n",
       "    </tr>\n",
       "    <tr>\n",
       "      <th>59235</th>\n",
       "      <td>2.733765</td>\n",
       "      <td>0.808197</td>\n",
       "      <td>6.011543</td>\n",
       "      <td>0</td>\n",
       "    </tr>\n",
       "  </tbody>\n",
       "</table>\n",
       "</div>"
      ],
      "text/plain": [
       "       vehicle_risk  pricing_risk  market_risk  cluster\n",
       "59231      3.411367      1.101478     8.260480        1\n",
       "59232      3.382154      1.033680     7.598413        1\n",
       "59233      3.410163      1.323044     7.369845        1\n",
       "59234      3.567857      1.041254     6.951240        2\n",
       "59235      2.733765      0.808197     6.011543        0"
      ]
     },
     "execution_count": 323,
     "metadata": {},
     "output_type": "execute_result"
    }
   ],
   "source": [
    "df00.head()"
   ]
  },
  {
   "cell_type": "code",
   "execution_count": 324,
   "metadata": {},
   "outputs": [],
   "source": [
    "df00.to_csv('Bclustering_data00.csv')"
   ]
  },
  {
   "cell_type": "markdown",
   "metadata": {},
   "source": [
    "## Market Downturn - with CA"
   ]
  },
  {
   "cell_type": "code",
   "execution_count": 258,
   "metadata": {},
   "outputs": [],
   "source": [
    "df01 = dfc[dfc.isca == 1].dropna()"
   ]
  },
  {
   "cell_type": "code",
   "execution_count": 259,
   "metadata": {},
   "outputs": [
    {
     "data": {
      "text/html": [
       "<div>\n",
       "<style scoped>\n",
       "    .dataframe tbody tr th:only-of-type {\n",
       "        vertical-align: middle;\n",
       "    }\n",
       "\n",
       "    .dataframe tbody tr th {\n",
       "        vertical-align: top;\n",
       "    }\n",
       "\n",
       "    .dataframe thead th {\n",
       "        text-align: right;\n",
       "    }\n",
       "</style>\n",
       "<table border=\"1\" class=\"dataframe\">\n",
       "  <thead>\n",
       "    <tr style=\"text-align: right;\">\n",
       "      <th></th>\n",
       "      <th>isca</th>\n",
       "      <th>financial_risk</th>\n",
       "      <th>vehicle_risk</th>\n",
       "      <th>pricing_risk</th>\n",
       "      <th>market_risk</th>\n",
       "    </tr>\n",
       "  </thead>\n",
       "  <tbody>\n",
       "    <tr>\n",
       "      <th>0</th>\n",
       "      <td>1.0</td>\n",
       "      <td>0.0</td>\n",
       "      <td>3.964754</td>\n",
       "      <td>1.427532</td>\n",
       "      <td>7.008520</td>\n",
       "    </tr>\n",
       "    <tr>\n",
       "      <th>1</th>\n",
       "      <td>1.0</td>\n",
       "      <td>0.0</td>\n",
       "      <td>3.570816</td>\n",
       "      <td>1.093205</td>\n",
       "      <td>7.464117</td>\n",
       "    </tr>\n",
       "    <tr>\n",
       "      <th>2</th>\n",
       "      <td>1.0</td>\n",
       "      <td>0.0</td>\n",
       "      <td>3.634430</td>\n",
       "      <td>1.371111</td>\n",
       "      <td>7.363547</td>\n",
       "    </tr>\n",
       "    <tr>\n",
       "      <th>3</th>\n",
       "      <td>1.0</td>\n",
       "      <td>0.0</td>\n",
       "      <td>3.946057</td>\n",
       "      <td>1.383162</td>\n",
       "      <td>7.675238</td>\n",
       "    </tr>\n",
       "    <tr>\n",
       "      <th>4</th>\n",
       "      <td>1.0</td>\n",
       "      <td>0.0</td>\n",
       "      <td>3.587708</td>\n",
       "      <td>1.490323</td>\n",
       "      <td>6.846328</td>\n",
       "    </tr>\n",
       "  </tbody>\n",
       "</table>\n",
       "</div>"
      ],
      "text/plain": [
       "   isca  financial_risk  vehicle_risk  pricing_risk  market_risk\n",
       "0   1.0             0.0      3.964754      1.427532     7.008520\n",
       "1   1.0             0.0      3.570816      1.093205     7.464117\n",
       "2   1.0             0.0      3.634430      1.371111     7.363547\n",
       "3   1.0             0.0      3.946057      1.383162     7.675238\n",
       "4   1.0             0.0      3.587708      1.490323     6.846328"
      ]
     },
     "execution_count": 259,
     "metadata": {},
     "output_type": "execute_result"
    }
   ],
   "source": [
    "df01.head()"
   ]
  },
  {
   "cell_type": "code",
   "execution_count": 260,
   "metadata": {},
   "outputs": [
    {
     "data": {
      "text/plain": [
       "(59231, 5)"
      ]
     },
     "execution_count": 260,
     "metadata": {},
     "output_type": "execute_result"
    }
   ],
   "source": [
    "df01.shape"
   ]
  },
  {
   "cell_type": "code",
   "execution_count": 261,
   "metadata": {},
   "outputs": [],
   "source": [
    "df01 = df01.drop('isca',axis=1)"
   ]
  },
  {
   "cell_type": "code",
   "execution_count": 262,
   "metadata": {},
   "outputs": [],
   "source": [
    "x = df01.values"
   ]
  },
  {
   "cell_type": "code",
   "execution_count": 209,
   "metadata": {},
   "outputs": [
    {
     "name": "stdout",
     "output_type": "stream",
     "text": [
      "2\n",
      "3\n",
      "4\n",
      "5\n",
      "6\n",
      "7\n",
      "8\n",
      "9\n"
     ]
    },
    {
     "data": {
      "image/png": "[encoded data removed]",
      "text/plain": [
       "<Figure size 432x288 with 1 Axes>"
      ]
     },
     "metadata": {},
     "output_type": "display_data"
    }
   ],
   "source": [
    "Error =[]\n",
    "for i in range(2, 10):\n",
    "    print(i)\n",
    "    kmeans = KMeans(n_clusters = i).fit(x)\n",
    "    kmeans.fit(x)\n",
    "    Error.append(kmeans.inertia_)\n",
    "    \n",
    "import matplotlib.pyplot as plt\n",
    "plt.plot(range(2, 10), Error)\n",
    "plt.title('Elbow method')\n",
    "plt.xlabel('No of clusters')\n",
    "plt.ylabel('Error')\n",
    "plt.show()"
   ]
  },
  {
   "cell_type": "code",
   "execution_count": 141,
   "metadata": {},
   "outputs": [
    {
     "name": "stdout",
     "output_type": "stream",
     "text": [
      "2\n",
      "3\n",
      "4\n",
      "5\n",
      "6\n",
      "7\n",
      "8\n",
      "9\n"
     ]
    },
    {
     "data": {
      "image/png": "[encoded data removed]",
      "text/plain": [
       "<Figure size 432x288 with 1 Axes>"
      ]
     },
     "metadata": {},
     "output_type": "display_data"
    }
   ],
   "source": [
    "from sklearn.metrics import silhouette_score\n",
    "Silhouette = []\n",
    "for i in range(2,10):\n",
    "    print(i)\n",
    "    clusterer = KMeans(n_clusters = i)\n",
    "    cluster_labels = clusterer.fit_predict(x)\n",
    "    sil = silhouette_score(x, cluster_labels)\n",
    "    Silhouette.append(sil)\n",
    "    \n",
    "plt.plot(range(2, 10), Silhouette)\n",
    "plt.title('Silhouette method')\n",
    "plt.xlabel('No of clusters')\n",
    "plt.ylabel('Silhouette score')\n",
    "plt.show()"
   ]
  },
  {
   "cell_type": "code",
   "execution_count": 263,
   "metadata": {},
   "outputs": [
    {
     "name": "stdout",
     "output_type": "stream",
     "text": [
      "[1 0 0 ... 1 2 1]\n"
     ]
    },
    {
     "data": {
      "text/plain": [
       "array([[4.53871103e-02, 3.86277129e+00, 1.29041643e+00, 7.47521241e+00],\n",
       "       [6.44534135e-02, 3.98037388e+00, 1.35581483e+00, 6.94898777e+00],\n",
       "       [2.52994370e-02, 3.38786415e+00, 1.08678876e+00, 6.99571337e+00],\n",
       "       [3.43046174e-03, 3.61990770e+00, 1.21154768e+00, 8.05511667e+00]])"
      ]
     },
     "execution_count": 263,
     "metadata": {},
     "output_type": "execute_result"
    }
   ],
   "source": [
    "kmeansk = KMeans(n_clusters=4)\n",
    "y_kmeansk = kmeansk.fit_predict(x)\n",
    "print(y_kmeansk)\n",
    "\n",
    "kmeansk.cluster_centers_"
   ]
  },
  {
   "cell_type": "code",
   "execution_count": 264,
   "metadata": {},
   "outputs": [
    {
     "data": {
      "text/plain": [
       "array([[0. , 3.9, 1.3, 7.5],\n",
       "       [0.1, 4. , 1.4, 6.9],\n",
       "       [0. , 3.4, 1.1, 7. ],\n",
       "       [0. , 3.6, 1.2, 8.1]])"
      ]
     },
     "execution_count": 264,
     "metadata": {},
     "output_type": "execute_result"
    }
   ],
   "source": [
    "np.around(kmeansk.cluster_centers_, decimals=1)"
   ]
  },
  {
   "cell_type": "code",
   "execution_count": 265,
   "metadata": {},
   "outputs": [
    {
     "data": {
      "text/plain": [
       "Counter({1: 23894, 0: 12209, 2: 9742, 3: 13386})"
      ]
     },
     "execution_count": 265,
     "metadata": {},
     "output_type": "execute_result"
    }
   ],
   "source": [
    "import collections, numpy\n",
    "collections.Counter(y_kmeansk)"
   ]
  },
  {
   "cell_type": "code",
   "execution_count": 266,
   "metadata": {},
   "outputs": [
    {
     "data": {
      "text/html": [
       "<div>\n",
       "<style scoped>\n",
       "    .dataframe tbody tr th:only-of-type {\n",
       "        vertical-align: middle;\n",
       "    }\n",
       "\n",
       "    .dataframe tbody tr th {\n",
       "        vertical-align: top;\n",
       "    }\n",
       "\n",
       "    .dataframe thead th {\n",
       "        text-align: right;\n",
       "    }\n",
       "</style>\n",
       "<table border=\"1\" class=\"dataframe\">\n",
       "  <thead>\n",
       "    <tr style=\"text-align: right;\">\n",
       "      <th></th>\n",
       "      <th>financial_risk</th>\n",
       "      <th>vehicle_risk</th>\n",
       "      <th>pricing_risk</th>\n",
       "      <th>market_risk</th>\n",
       "    </tr>\n",
       "  </thead>\n",
       "  <tbody>\n",
       "    <tr>\n",
       "      <th>0</th>\n",
       "      <td>0.045</td>\n",
       "      <td>3.863</td>\n",
       "      <td>1.290</td>\n",
       "      <td>7.475</td>\n",
       "    </tr>\n",
       "    <tr>\n",
       "      <th>1</th>\n",
       "      <td>0.064</td>\n",
       "      <td>3.980</td>\n",
       "      <td>1.356</td>\n",
       "      <td>6.949</td>\n",
       "    </tr>\n",
       "    <tr>\n",
       "      <th>2</th>\n",
       "      <td>0.025</td>\n",
       "      <td>3.388</td>\n",
       "      <td>1.087</td>\n",
       "      <td>6.996</td>\n",
       "    </tr>\n",
       "    <tr>\n",
       "      <th>3</th>\n",
       "      <td>0.003</td>\n",
       "      <td>3.620</td>\n",
       "      <td>1.212</td>\n",
       "      <td>8.055</td>\n",
       "    </tr>\n",
       "  </tbody>\n",
       "</table>\n",
       "</div>"
      ],
      "text/plain": [
       "   financial_risk  vehicle_risk  pricing_risk  market_risk\n",
       "0           0.045         3.863         1.290        7.475\n",
       "1           0.064         3.980         1.356        6.949\n",
       "2           0.025         3.388         1.087        6.996\n",
       "3           0.003         3.620         1.212        8.055"
      ]
     },
     "execution_count": 266,
     "metadata": {},
     "output_type": "execute_result"
    }
   ],
   "source": [
    "result = pd.DataFrame(np.around(kmeansk.cluster_centers_,decimals=3))\n",
    "result.columns = df01.columns\n",
    "result"
   ]
  },
  {
   "cell_type": "code",
   "execution_count": 267,
   "metadata": {},
   "outputs": [],
   "source": [
    "result['counter'] = [12209,23894,9742,13386]"
   ]
  },
  {
   "cell_type": "code",
   "execution_count": 268,
   "metadata": {},
   "outputs": [],
   "source": [
    "result.to_csv('Bclustering_result01.csv')"
   ]
  },
  {
   "cell_type": "code",
   "execution_count": 269,
   "metadata": {
    "scrolled": true
   },
   "outputs": [],
   "source": [
    "df01['cluster'] = y_kmeansk"
   ]
  },
  {
   "cell_type": "code",
   "execution_count": 270,
   "metadata": {
    "scrolled": true
   },
   "outputs": [
    {
     "data": {
      "text/html": [
       "<div>\n",
       "<style scoped>\n",
       "    .dataframe tbody tr th:only-of-type {\n",
       "        vertical-align: middle;\n",
       "    }\n",
       "\n",
       "    .dataframe tbody tr th {\n",
       "        vertical-align: top;\n",
       "    }\n",
       "\n",
       "    .dataframe thead th {\n",
       "        text-align: right;\n",
       "    }\n",
       "</style>\n",
       "<table border=\"1\" class=\"dataframe\">\n",
       "  <thead>\n",
       "    <tr style=\"text-align: right;\">\n",
       "      <th></th>\n",
       "      <th>financial_risk</th>\n",
       "      <th>vehicle_risk</th>\n",
       "      <th>pricing_risk</th>\n",
       "      <th>market_risk</th>\n",
       "      <th>cluster</th>\n",
       "    </tr>\n",
       "  </thead>\n",
       "  <tbody>\n",
       "    <tr>\n",
       "      <th>0</th>\n",
       "      <td>0.0</td>\n",
       "      <td>3.964754</td>\n",
       "      <td>1.427532</td>\n",
       "      <td>7.008520</td>\n",
       "      <td>1</td>\n",
       "    </tr>\n",
       "    <tr>\n",
       "      <th>1</th>\n",
       "      <td>0.0</td>\n",
       "      <td>3.570816</td>\n",
       "      <td>1.093205</td>\n",
       "      <td>7.464117</td>\n",
       "      <td>0</td>\n",
       "    </tr>\n",
       "    <tr>\n",
       "      <th>2</th>\n",
       "      <td>0.0</td>\n",
       "      <td>3.634430</td>\n",
       "      <td>1.371111</td>\n",
       "      <td>7.363547</td>\n",
       "      <td>0</td>\n",
       "    </tr>\n",
       "    <tr>\n",
       "      <th>3</th>\n",
       "      <td>0.0</td>\n",
       "      <td>3.946057</td>\n",
       "      <td>1.383162</td>\n",
       "      <td>7.675238</td>\n",
       "      <td>0</td>\n",
       "    </tr>\n",
       "    <tr>\n",
       "      <th>4</th>\n",
       "      <td>0.0</td>\n",
       "      <td>3.587708</td>\n",
       "      <td>1.490323</td>\n",
       "      <td>6.846328</td>\n",
       "      <td>1</td>\n",
       "    </tr>\n",
       "  </tbody>\n",
       "</table>\n",
       "</div>"
      ],
      "text/plain": [
       "   financial_risk  vehicle_risk  pricing_risk  market_risk  cluster\n",
       "0             0.0      3.964754      1.427532     7.008520        1\n",
       "1             0.0      3.570816      1.093205     7.464117        0\n",
       "2             0.0      3.634430      1.371111     7.363547        0\n",
       "3             0.0      3.946057      1.383162     7.675238        0\n",
       "4             0.0      3.587708      1.490323     6.846328        1"
      ]
     },
     "execution_count": 270,
     "metadata": {},
     "output_type": "execute_result"
    }
   ],
   "source": [
    "df01.head()"
   ]
  },
  {
   "cell_type": "code",
   "execution_count": 271,
   "metadata": {},
   "outputs": [],
   "source": [
    "df01.to_csv('Bclustering_data01.csv')"
   ]
  },
  {
   "cell_type": "markdown",
   "metadata": {},
   "source": [
    "## Market Uprise - Not with CA"
   ]
  },
  {
   "cell_type": "code",
   "execution_count": 272,
   "metadata": {},
   "outputs": [],
   "source": [
    "dfc = dfb.copy()"
   ]
  },
  {
   "cell_type": "code",
   "execution_count": 273,
   "metadata": {},
   "outputs": [],
   "source": [
    "dfc['market_risk'] = 1 * dfb.market_risk\n",
    "dfc['pricing_risk'] = 2 * dfb.pricing_risk\n",
    "dfc['vehicle_risk'] = 6 * dfb.vehicle_risk"
   ]
  },
  {
   "cell_type": "code",
   "execution_count": 274,
   "metadata": {},
   "outputs": [
    {
     "data": {
      "text/html": [
       "<div>\n",
       "<style scoped>\n",
       "    .dataframe tbody tr th:only-of-type {\n",
       "        vertical-align: middle;\n",
       "    }\n",
       "\n",
       "    .dataframe tbody tr th {\n",
       "        vertical-align: top;\n",
       "    }\n",
       "\n",
       "    .dataframe thead th {\n",
       "        text-align: right;\n",
       "    }\n",
       "</style>\n",
       "<table border=\"1\" class=\"dataframe\">\n",
       "  <thead>\n",
       "    <tr style=\"text-align: right;\">\n",
       "      <th></th>\n",
       "      <th>isca</th>\n",
       "      <th>financial_risk</th>\n",
       "      <th>vehicle_risk</th>\n",
       "      <th>pricing_risk</th>\n",
       "      <th>market_risk</th>\n",
       "    </tr>\n",
       "  </thead>\n",
       "  <tbody>\n",
       "    <tr>\n",
       "      <th>0</th>\n",
       "      <td>1.0</td>\n",
       "      <td>0.0</td>\n",
       "      <td>4.757705</td>\n",
       "      <td>0.571013</td>\n",
       "      <td>0.700852</td>\n",
       "    </tr>\n",
       "    <tr>\n",
       "      <th>1</th>\n",
       "      <td>1.0</td>\n",
       "      <td>0.0</td>\n",
       "      <td>4.284979</td>\n",
       "      <td>0.437282</td>\n",
       "      <td>0.746412</td>\n",
       "    </tr>\n",
       "    <tr>\n",
       "      <th>2</th>\n",
       "      <td>1.0</td>\n",
       "      <td>0.0</td>\n",
       "      <td>4.361316</td>\n",
       "      <td>0.548445</td>\n",
       "      <td>0.736355</td>\n",
       "    </tr>\n",
       "    <tr>\n",
       "      <th>3</th>\n",
       "      <td>1.0</td>\n",
       "      <td>0.0</td>\n",
       "      <td>4.735268</td>\n",
       "      <td>0.553265</td>\n",
       "      <td>0.767524</td>\n",
       "    </tr>\n",
       "    <tr>\n",
       "      <th>4</th>\n",
       "      <td>1.0</td>\n",
       "      <td>0.0</td>\n",
       "      <td>4.305249</td>\n",
       "      <td>0.596129</td>\n",
       "      <td>0.684633</td>\n",
       "    </tr>\n",
       "  </tbody>\n",
       "</table>\n",
       "</div>"
      ],
      "text/plain": [
       "   isca  financial_risk  vehicle_risk  pricing_risk  market_risk\n",
       "0   1.0             0.0      4.757705      0.571013     0.700852\n",
       "1   1.0             0.0      4.284979      0.437282     0.746412\n",
       "2   1.0             0.0      4.361316      0.548445     0.736355\n",
       "3   1.0             0.0      4.735268      0.553265     0.767524\n",
       "4   1.0             0.0      4.305249      0.596129     0.684633"
      ]
     },
     "execution_count": 274,
     "metadata": {},
     "output_type": "execute_result"
    }
   ],
   "source": [
    "dfc.head()"
   ]
  },
  {
   "cell_type": "code",
   "execution_count": 275,
   "metadata": {},
   "outputs": [],
   "source": [
    "df00 = dfc[dfc.isca == 0].dropna()"
   ]
  },
  {
   "cell_type": "code",
   "execution_count": 276,
   "metadata": {},
   "outputs": [
    {
     "data": {
      "text/html": [
       "<div>\n",
       "<style scoped>\n",
       "    .dataframe tbody tr th:only-of-type {\n",
       "        vertical-align: middle;\n",
       "    }\n",
       "\n",
       "    .dataframe tbody tr th {\n",
       "        vertical-align: top;\n",
       "    }\n",
       "\n",
       "    .dataframe thead th {\n",
       "        text-align: right;\n",
       "    }\n",
       "</style>\n",
       "<table border=\"1\" class=\"dataframe\">\n",
       "  <thead>\n",
       "    <tr style=\"text-align: right;\">\n",
       "      <th></th>\n",
       "      <th>isca</th>\n",
       "      <th>financial_risk</th>\n",
       "      <th>vehicle_risk</th>\n",
       "      <th>pricing_risk</th>\n",
       "      <th>market_risk</th>\n",
       "    </tr>\n",
       "  </thead>\n",
       "  <tbody>\n",
       "    <tr>\n",
       "      <th>59231</th>\n",
       "      <td>0.0</td>\n",
       "      <td>0.0</td>\n",
       "      <td>4.548489</td>\n",
       "      <td>0.489546</td>\n",
       "      <td>0.826048</td>\n",
       "    </tr>\n",
       "    <tr>\n",
       "      <th>59232</th>\n",
       "      <td>0.0</td>\n",
       "      <td>0.0</td>\n",
       "      <td>4.509539</td>\n",
       "      <td>0.459413</td>\n",
       "      <td>0.759841</td>\n",
       "    </tr>\n",
       "    <tr>\n",
       "      <th>59233</th>\n",
       "      <td>0.0</td>\n",
       "      <td>0.0</td>\n",
       "      <td>4.546885</td>\n",
       "      <td>0.588020</td>\n",
       "      <td>0.736984</td>\n",
       "    </tr>\n",
       "    <tr>\n",
       "      <th>59234</th>\n",
       "      <td>0.0</td>\n",
       "      <td>0.0</td>\n",
       "      <td>4.757143</td>\n",
       "      <td>0.462779</td>\n",
       "      <td>0.695124</td>\n",
       "    </tr>\n",
       "    <tr>\n",
       "      <th>59235</th>\n",
       "      <td>0.0</td>\n",
       "      <td>0.0</td>\n",
       "      <td>3.645020</td>\n",
       "      <td>0.359199</td>\n",
       "      <td>0.601154</td>\n",
       "    </tr>\n",
       "  </tbody>\n",
       "</table>\n",
       "</div>"
      ],
      "text/plain": [
       "       isca  financial_risk  vehicle_risk  pricing_risk  market_risk\n",
       "59231   0.0             0.0      4.548489      0.489546     0.826048\n",
       "59232   0.0             0.0      4.509539      0.459413     0.759841\n",
       "59233   0.0             0.0      4.546885      0.588020     0.736984\n",
       "59234   0.0             0.0      4.757143      0.462779     0.695124\n",
       "59235   0.0             0.0      3.645020      0.359199     0.601154"
      ]
     },
     "execution_count": 276,
     "metadata": {},
     "output_type": "execute_result"
    }
   ],
   "source": [
    "df00.head()"
   ]
  },
  {
   "cell_type": "code",
   "execution_count": 277,
   "metadata": {},
   "outputs": [
    {
     "data": {
      "text/plain": [
       "(42883, 5)"
      ]
     },
     "execution_count": 277,
     "metadata": {},
     "output_type": "execute_result"
    }
   ],
   "source": [
    "df00.shape"
   ]
  },
  {
   "cell_type": "code",
   "execution_count": 278,
   "metadata": {},
   "outputs": [],
   "source": [
    "df00 = df00.drop(['isca','financial_risk'],axis=1)"
   ]
  },
  {
   "cell_type": "code",
   "execution_count": 279,
   "metadata": {},
   "outputs": [],
   "source": [
    "x = df00.values"
   ]
  },
  {
   "cell_type": "code",
   "execution_count": 227,
   "metadata": {},
   "outputs": [
    {
     "name": "stdout",
     "output_type": "stream",
     "text": [
      "2\n",
      "3\n",
      "4\n",
      "5\n",
      "6\n",
      "7\n",
      "8\n",
      "9\n"
     ]
    },
    {
     "data": {
      "image/png": "[encoded data removed]",
      "text/plain": [
       "<Figure size 432x288 with 1 Axes>"
      ]
     },
     "metadata": {},
     "output_type": "display_data"
    }
   ],
   "source": [
    "Error =[]\n",
    "for i in range(2, 10):\n",
    "    print(i)\n",
    "    kmeans = KMeans(n_clusters = i).fit(x)\n",
    "    kmeans.fit(x)\n",
    "    Error.append(kmeans.inertia_)\n",
    "    \n",
    "import matplotlib.pyplot as plt\n",
    "plt.plot(range(2, 10), Error)\n",
    "plt.title('Elbow method')\n",
    "plt.xlabel('No of clusters')\n",
    "plt.ylabel('Error')\n",
    "plt.show()"
   ]
  },
  {
   "cell_type": "code",
   "execution_count": 125,
   "metadata": {},
   "outputs": [
    {
     "name": "stdout",
     "output_type": "stream",
     "text": [
      "2\n",
      "3\n",
      "4\n",
      "5\n",
      "6\n",
      "7\n",
      "8\n",
      "9\n"
     ]
    },
    {
     "data": {
      "image/png": "[encoded data removed]",
      "text/plain": [
       "<Figure size 432x288 with 1 Axes>"
      ]
     },
     "metadata": {},
     "output_type": "display_data"
    }
   ],
   "source": [
    "from sklearn.metrics import silhouette_score\n",
    "Silhouette = []\n",
    "for i in range(2,10):\n",
    "    print(i)\n",
    "    clusterer = KMeans(n_clusters = i)\n",
    "    cluster_labels = clusterer.fit_predict(x)\n",
    "    sil = silhouette_score(x, cluster_labels)\n",
    "    Silhouette.append(sil)\n",
    "    \n",
    "plt.plot(range(2, 10), Silhouette)\n",
    "plt.title('Silhouette method')\n",
    "plt.xlabel('No of clusters')\n",
    "plt.ylabel('Silhouette score')\n",
    "plt.show()"
   ]
  },
  {
   "cell_type": "code",
   "execution_count": 280,
   "metadata": {},
   "outputs": [
    {
     "name": "stdout",
     "output_type": "stream",
     "text": [
      "[0 0 0 ... 1 1 0]\n"
     ]
    },
    {
     "data": {
      "text/plain": [
       "array([[4.35589017, 0.48036557, 0.72016869],\n",
       "       [4.79660407, 0.53898834, 0.71365685],\n",
       "       [3.75811253, 0.42622445, 0.70689312]])"
      ]
     },
     "execution_count": 280,
     "metadata": {},
     "output_type": "execute_result"
    }
   ],
   "source": [
    "kmeansk = KMeans(n_clusters=3)\n",
    "y_kmeansk = kmeansk.fit_predict(x)\n",
    "print(y_kmeansk)\n",
    "\n",
    "kmeansk.cluster_centers_"
   ]
  },
  {
   "cell_type": "code",
   "execution_count": 281,
   "metadata": {},
   "outputs": [
    {
     "data": {
      "text/plain": [
       "array([[4.4, 0.5, 0.7],\n",
       "       [4.8, 0.5, 0.7],\n",
       "       [3.8, 0.4, 0.7]])"
      ]
     },
     "execution_count": 281,
     "metadata": {},
     "output_type": "execute_result"
    }
   ],
   "source": [
    "np.around(kmeansk.cluster_centers_, decimals=1)"
   ]
  },
  {
   "cell_type": "code",
   "execution_count": 282,
   "metadata": {},
   "outputs": [
    {
     "data": {
      "text/plain": [
       "Counter({0: 15949, 1: 20095, 2: 6839})"
      ]
     },
     "execution_count": 282,
     "metadata": {},
     "output_type": "execute_result"
    }
   ],
   "source": [
    "import collections, numpy\n",
    "collections.Counter(y_kmeansk)"
   ]
  },
  {
   "cell_type": "code",
   "execution_count": 284,
   "metadata": {},
   "outputs": [
    {
     "data": {
      "text/html": [
       "<div>\n",
       "<style scoped>\n",
       "    .dataframe tbody tr th:only-of-type {\n",
       "        vertical-align: middle;\n",
       "    }\n",
       "\n",
       "    .dataframe tbody tr th {\n",
       "        vertical-align: top;\n",
       "    }\n",
       "\n",
       "    .dataframe thead th {\n",
       "        text-align: right;\n",
       "    }\n",
       "</style>\n",
       "<table border=\"1\" class=\"dataframe\">\n",
       "  <thead>\n",
       "    <tr style=\"text-align: right;\">\n",
       "      <th></th>\n",
       "      <th>vehicle_risk</th>\n",
       "      <th>pricing_risk</th>\n",
       "      <th>market_risk</th>\n",
       "    </tr>\n",
       "  </thead>\n",
       "  <tbody>\n",
       "    <tr>\n",
       "      <th>0</th>\n",
       "      <td>4.356</td>\n",
       "      <td>0.480</td>\n",
       "      <td>0.720</td>\n",
       "    </tr>\n",
       "    <tr>\n",
       "      <th>1</th>\n",
       "      <td>4.797</td>\n",
       "      <td>0.539</td>\n",
       "      <td>0.714</td>\n",
       "    </tr>\n",
       "    <tr>\n",
       "      <th>2</th>\n",
       "      <td>3.758</td>\n",
       "      <td>0.426</td>\n",
       "      <td>0.707</td>\n",
       "    </tr>\n",
       "  </tbody>\n",
       "</table>\n",
       "</div>"
      ],
      "text/plain": [
       "   vehicle_risk  pricing_risk  market_risk\n",
       "0         4.356         0.480        0.720\n",
       "1         4.797         0.539        0.714\n",
       "2         3.758         0.426        0.707"
      ]
     },
     "execution_count": 284,
     "metadata": {},
     "output_type": "execute_result"
    }
   ],
   "source": [
    "result = pd.DataFrame(np.around(kmeansk.cluster_centers_,decimals=3))\n",
    "result.columns = df00.columns\n",
    "result"
   ]
  },
  {
   "cell_type": "code",
   "execution_count": 285,
   "metadata": {},
   "outputs": [],
   "source": [
    "result['counter'] = [15949,20095,6839]"
   ]
  },
  {
   "cell_type": "code",
   "execution_count": 291,
   "metadata": {},
   "outputs": [],
   "source": [
    "result.to_csv('Cclustering_result00.csv')"
   ]
  },
  {
   "cell_type": "code",
   "execution_count": 287,
   "metadata": {
    "scrolled": true
   },
   "outputs": [],
   "source": [
    "df00['cluster'] = y_kmeansk"
   ]
  },
  {
   "cell_type": "code",
   "execution_count": 288,
   "metadata": {
    "scrolled": true
   },
   "outputs": [
    {
     "data": {
      "text/html": [
       "<div>\n",
       "<style scoped>\n",
       "    .dataframe tbody tr th:only-of-type {\n",
       "        vertical-align: middle;\n",
       "    }\n",
       "\n",
       "    .dataframe tbody tr th {\n",
       "        vertical-align: top;\n",
       "    }\n",
       "\n",
       "    .dataframe thead th {\n",
       "        text-align: right;\n",
       "    }\n",
       "</style>\n",
       "<table border=\"1\" class=\"dataframe\">\n",
       "  <thead>\n",
       "    <tr style=\"text-align: right;\">\n",
       "      <th></th>\n",
       "      <th>vehicle_risk</th>\n",
       "      <th>pricing_risk</th>\n",
       "      <th>market_risk</th>\n",
       "      <th>cluster</th>\n",
       "    </tr>\n",
       "  </thead>\n",
       "  <tbody>\n",
       "    <tr>\n",
       "      <th>59231</th>\n",
       "      <td>4.548489</td>\n",
       "      <td>0.489546</td>\n",
       "      <td>0.826048</td>\n",
       "      <td>0</td>\n",
       "    </tr>\n",
       "    <tr>\n",
       "      <th>59232</th>\n",
       "      <td>4.509539</td>\n",
       "      <td>0.459413</td>\n",
       "      <td>0.759841</td>\n",
       "      <td>0</td>\n",
       "    </tr>\n",
       "    <tr>\n",
       "      <th>59233</th>\n",
       "      <td>4.546885</td>\n",
       "      <td>0.588020</td>\n",
       "      <td>0.736984</td>\n",
       "      <td>0</td>\n",
       "    </tr>\n",
       "    <tr>\n",
       "      <th>59234</th>\n",
       "      <td>4.757143</td>\n",
       "      <td>0.462779</td>\n",
       "      <td>0.695124</td>\n",
       "      <td>1</td>\n",
       "    </tr>\n",
       "    <tr>\n",
       "      <th>59235</th>\n",
       "      <td>3.645020</td>\n",
       "      <td>0.359199</td>\n",
       "      <td>0.601154</td>\n",
       "      <td>2</td>\n",
       "    </tr>\n",
       "  </tbody>\n",
       "</table>\n",
       "</div>"
      ],
      "text/plain": [
       "       vehicle_risk  pricing_risk  market_risk  cluster\n",
       "59231      4.548489      0.489546     0.826048        0\n",
       "59232      4.509539      0.459413     0.759841        0\n",
       "59233      4.546885      0.588020     0.736984        0\n",
       "59234      4.757143      0.462779     0.695124        1\n",
       "59235      3.645020      0.359199     0.601154        2"
      ]
     },
     "execution_count": 288,
     "metadata": {},
     "output_type": "execute_result"
    }
   ],
   "source": [
    "df00.head()"
   ]
  },
  {
   "cell_type": "code",
   "execution_count": 292,
   "metadata": {},
   "outputs": [],
   "source": [
    "df00.to_csv('Cclustering_data00.csv')"
   ]
  },
  {
   "cell_type": "markdown",
   "metadata": {},
   "source": [
    "## Market Uprise - with CA"
   ]
  },
  {
   "cell_type": "code",
   "execution_count": 293,
   "metadata": {},
   "outputs": [],
   "source": [
    "df01 = dfc[dfc.isca == 1].dropna()"
   ]
  },
  {
   "cell_type": "code",
   "execution_count": 294,
   "metadata": {},
   "outputs": [
    {
     "data": {
      "text/html": [
       "<div>\n",
       "<style scoped>\n",
       "    .dataframe tbody tr th:only-of-type {\n",
       "        vertical-align: middle;\n",
       "    }\n",
       "\n",
       "    .dataframe tbody tr th {\n",
       "        vertical-align: top;\n",
       "    }\n",
       "\n",
       "    .dataframe thead th {\n",
       "        text-align: right;\n",
       "    }\n",
       "</style>\n",
       "<table border=\"1\" class=\"dataframe\">\n",
       "  <thead>\n",
       "    <tr style=\"text-align: right;\">\n",
       "      <th></th>\n",
       "      <th>isca</th>\n",
       "      <th>financial_risk</th>\n",
       "      <th>vehicle_risk</th>\n",
       "      <th>pricing_risk</th>\n",
       "      <th>market_risk</th>\n",
       "    </tr>\n",
       "  </thead>\n",
       "  <tbody>\n",
       "    <tr>\n",
       "      <th>0</th>\n",
       "      <td>1.0</td>\n",
       "      <td>0.0</td>\n",
       "      <td>4.757705</td>\n",
       "      <td>0.571013</td>\n",
       "      <td>0.700852</td>\n",
       "    </tr>\n",
       "    <tr>\n",
       "      <th>1</th>\n",
       "      <td>1.0</td>\n",
       "      <td>0.0</td>\n",
       "      <td>4.284979</td>\n",
       "      <td>0.437282</td>\n",
       "      <td>0.746412</td>\n",
       "    </tr>\n",
       "    <tr>\n",
       "      <th>2</th>\n",
       "      <td>1.0</td>\n",
       "      <td>0.0</td>\n",
       "      <td>4.361316</td>\n",
       "      <td>0.548445</td>\n",
       "      <td>0.736355</td>\n",
       "    </tr>\n",
       "    <tr>\n",
       "      <th>3</th>\n",
       "      <td>1.0</td>\n",
       "      <td>0.0</td>\n",
       "      <td>4.735268</td>\n",
       "      <td>0.553265</td>\n",
       "      <td>0.767524</td>\n",
       "    </tr>\n",
       "    <tr>\n",
       "      <th>4</th>\n",
       "      <td>1.0</td>\n",
       "      <td>0.0</td>\n",
       "      <td>4.305249</td>\n",
       "      <td>0.596129</td>\n",
       "      <td>0.684633</td>\n",
       "    </tr>\n",
       "  </tbody>\n",
       "</table>\n",
       "</div>"
      ],
      "text/plain": [
       "   isca  financial_risk  vehicle_risk  pricing_risk  market_risk\n",
       "0   1.0             0.0      4.757705      0.571013     0.700852\n",
       "1   1.0             0.0      4.284979      0.437282     0.746412\n",
       "2   1.0             0.0      4.361316      0.548445     0.736355\n",
       "3   1.0             0.0      4.735268      0.553265     0.767524\n",
       "4   1.0             0.0      4.305249      0.596129     0.684633"
      ]
     },
     "execution_count": 294,
     "metadata": {},
     "output_type": "execute_result"
    }
   ],
   "source": [
    "df01.head()"
   ]
  },
  {
   "cell_type": "code",
   "execution_count": 295,
   "metadata": {},
   "outputs": [
    {
     "data": {
      "text/plain": [
       "(59231, 5)"
      ]
     },
     "execution_count": 295,
     "metadata": {},
     "output_type": "execute_result"
    }
   ],
   "source": [
    "df01.shape"
   ]
  },
  {
   "cell_type": "code",
   "execution_count": 296,
   "metadata": {},
   "outputs": [],
   "source": [
    "df01 = df01.drop('isca',axis=1)"
   ]
  },
  {
   "cell_type": "code",
   "execution_count": 297,
   "metadata": {},
   "outputs": [],
   "source": [
    "x = df01.values"
   ]
  },
  {
   "cell_type": "code",
   "execution_count": 209,
   "metadata": {},
   "outputs": [
    {
     "name": "stdout",
     "output_type": "stream",
     "text": [
      "2\n",
      "3\n",
      "4\n",
      "5\n",
      "6\n",
      "7\n",
      "8\n",
      "9\n"
     ]
    },
    {
     "data": {
      "image/png": "[encoded data removed]",
      "text/plain": [
       "<Figure size 432x288 with 1 Axes>"
      ]
     },
     "metadata": {},
     "output_type": "display_data"
    }
   ],
   "source": [
    "Error =[]\n",
    "for i in range(2, 10):\n",
    "    print(i)\n",
    "    kmeans = KMeans(n_clusters = i).fit(x)\n",
    "    kmeans.fit(x)\n",
    "    Error.append(kmeans.inertia_)\n",
    "    \n",
    "import matplotlib.pyplot as plt\n",
    "plt.plot(range(2, 10), Error)\n",
    "plt.title('Elbow method')\n",
    "plt.xlabel('No of clusters')\n",
    "plt.ylabel('Error')\n",
    "plt.show()"
   ]
  },
  {
   "cell_type": "code",
   "execution_count": 141,
   "metadata": {},
   "outputs": [
    {
     "name": "stdout",
     "output_type": "stream",
     "text": [
      "2\n",
      "3\n",
      "4\n",
      "5\n",
      "6\n",
      "7\n",
      "8\n",
      "9\n"
     ]
    },
    {
     "data": {
      "image/png": "[encoded data removed]",
      "text/plain": [
       "<Figure size 432x288 with 1 Axes>"
      ]
     },
     "metadata": {},
     "output_type": "display_data"
    }
   ],
   "source": [
    "from sklearn.metrics import silhouette_score\n",
    "Silhouette = []\n",
    "for i in range(2,10):\n",
    "    print(i)\n",
    "    clusterer = KMeans(n_clusters = i)\n",
    "    cluster_labels = clusterer.fit_predict(x)\n",
    "    sil = silhouette_score(x, cluster_labels)\n",
    "    Silhouette.append(sil)\n",
    "    \n",
    "plt.plot(range(2, 10), Silhouette)\n",
    "plt.title('Silhouette method')\n",
    "plt.xlabel('No of clusters')\n",
    "plt.ylabel('Silhouette score')\n",
    "plt.show()"
   ]
  },
  {
   "cell_type": "code",
   "execution_count": 298,
   "metadata": {},
   "outputs": [
    {
     "name": "stdout",
     "output_type": "stream",
     "text": [
      "[1 0 0 ... 1 0 1]\n"
     ]
    },
    {
     "data": {
      "text/plain": [
       "array([[0.00628112, 4.40321859, 0.48927232, 0.74927338],\n",
       "       [0.00862132, 4.82426702, 0.53983087, 0.71833285],\n",
       "       [0.01205902, 3.87944773, 0.43982049, 0.73491483],\n",
       "       [0.42908477, 4.74166953, 0.5246167 , 0.70780048]])"
      ]
     },
     "execution_count": 298,
     "metadata": {},
     "output_type": "execute_result"
    }
   ],
   "source": [
    "kmeansk = KMeans(n_clusters=4)\n",
    "y_kmeansk = kmeansk.fit_predict(x)\n",
    "print(y_kmeansk)\n",
    "\n",
    "kmeansk.cluster_centers_"
   ]
  },
  {
   "cell_type": "code",
   "execution_count": 299,
   "metadata": {},
   "outputs": [
    {
     "data": {
      "text/plain": [
       "array([[0. , 4.4, 0.5, 0.7],\n",
       "       [0. , 4.8, 0.5, 0.7],\n",
       "       [0. , 3.9, 0.4, 0.7],\n",
       "       [0.4, 4.7, 0.5, 0.7]])"
      ]
     },
     "execution_count": 299,
     "metadata": {},
     "output_type": "execute_result"
    }
   ],
   "source": [
    "np.around(kmeansk.cluster_centers_, decimals=1)"
   ]
  },
  {
   "cell_type": "code",
   "execution_count": 300,
   "metadata": {},
   "outputs": [
    {
     "data": {
      "text/plain": [
       "Counter({1: 24342, 0: 22494, 2: 7870, 3: 4525})"
      ]
     },
     "execution_count": 300,
     "metadata": {},
     "output_type": "execute_result"
    }
   ],
   "source": [
    "import collections, numpy\n",
    "collections.Counter(y_kmeansk)"
   ]
  },
  {
   "cell_type": "code",
   "execution_count": 301,
   "metadata": {},
   "outputs": [
    {
     "data": {
      "text/html": [
       "<div>\n",
       "<style scoped>\n",
       "    .dataframe tbody tr th:only-of-type {\n",
       "        vertical-align: middle;\n",
       "    }\n",
       "\n",
       "    .dataframe tbody tr th {\n",
       "        vertical-align: top;\n",
       "    }\n",
       "\n",
       "    .dataframe thead th {\n",
       "        text-align: right;\n",
       "    }\n",
       "</style>\n",
       "<table border=\"1\" class=\"dataframe\">\n",
       "  <thead>\n",
       "    <tr style=\"text-align: right;\">\n",
       "      <th></th>\n",
       "      <th>financial_risk</th>\n",
       "      <th>vehicle_risk</th>\n",
       "      <th>pricing_risk</th>\n",
       "      <th>market_risk</th>\n",
       "    </tr>\n",
       "  </thead>\n",
       "  <tbody>\n",
       "    <tr>\n",
       "      <th>0</th>\n",
       "      <td>0.006</td>\n",
       "      <td>4.403</td>\n",
       "      <td>0.489</td>\n",
       "      <td>0.749</td>\n",
       "    </tr>\n",
       "    <tr>\n",
       "      <th>1</th>\n",
       "      <td>0.009</td>\n",
       "      <td>4.824</td>\n",
       "      <td>0.540</td>\n",
       "      <td>0.718</td>\n",
       "    </tr>\n",
       "    <tr>\n",
       "      <th>2</th>\n",
       "      <td>0.012</td>\n",
       "      <td>3.879</td>\n",
       "      <td>0.440</td>\n",
       "      <td>0.735</td>\n",
       "    </tr>\n",
       "    <tr>\n",
       "      <th>3</th>\n",
       "      <td>0.429</td>\n",
       "      <td>4.742</td>\n",
       "      <td>0.525</td>\n",
       "      <td>0.708</td>\n",
       "    </tr>\n",
       "  </tbody>\n",
       "</table>\n",
       "</div>"
      ],
      "text/plain": [
       "   financial_risk  vehicle_risk  pricing_risk  market_risk\n",
       "0           0.006         4.403         0.489        0.749\n",
       "1           0.009         4.824         0.540        0.718\n",
       "2           0.012         3.879         0.440        0.735\n",
       "3           0.429         4.742         0.525        0.708"
      ]
     },
     "execution_count": 301,
     "metadata": {},
     "output_type": "execute_result"
    }
   ],
   "source": [
    "result = pd.DataFrame(np.around(kmeansk.cluster_centers_,decimals=3))\n",
    "result.columns = df01.columns\n",
    "result"
   ]
  },
  {
   "cell_type": "code",
   "execution_count": 302,
   "metadata": {},
   "outputs": [],
   "source": [
    "result['counter'] = [22494,24342,7870,4525]"
   ]
  },
  {
   "cell_type": "code",
   "execution_count": 303,
   "metadata": {},
   "outputs": [],
   "source": [
    "result.to_csv('Cclustering_result01.csv')"
   ]
  },
  {
   "cell_type": "code",
   "execution_count": 304,
   "metadata": {
    "scrolled": true
   },
   "outputs": [],
   "source": [
    "df01['cluster'] = y_kmeansk"
   ]
  },
  {
   "cell_type": "code",
   "execution_count": 305,
   "metadata": {
    "scrolled": true
   },
   "outputs": [
    {
     "data": {
      "text/html": [
       "<div>\n",
       "<style scoped>\n",
       "    .dataframe tbody tr th:only-of-type {\n",
       "        vertical-align: middle;\n",
       "    }\n",
       "\n",
       "    .dataframe tbody tr th {\n",
       "        vertical-align: top;\n",
       "    }\n",
       "\n",
       "    .dataframe thead th {\n",
       "        text-align: right;\n",
       "    }\n",
       "</style>\n",
       "<table border=\"1\" class=\"dataframe\">\n",
       "  <thead>\n",
       "    <tr style=\"text-align: right;\">\n",
       "      <th></th>\n",
       "      <th>financial_risk</th>\n",
       "      <th>vehicle_risk</th>\n",
       "      <th>pricing_risk</th>\n",
       "      <th>market_risk</th>\n",
       "      <th>cluster</th>\n",
       "    </tr>\n",
       "  </thead>\n",
       "  <tbody>\n",
       "    <tr>\n",
       "      <th>0</th>\n",
       "      <td>0.0</td>\n",
       "      <td>4.757705</td>\n",
       "      <td>0.571013</td>\n",
       "      <td>0.700852</td>\n",
       "      <td>1</td>\n",
       "    </tr>\n",
       "    <tr>\n",
       "      <th>1</th>\n",
       "      <td>0.0</td>\n",
       "      <td>4.284979</td>\n",
       "      <td>0.437282</td>\n",
       "      <td>0.746412</td>\n",
       "      <td>0</td>\n",
       "    </tr>\n",
       "    <tr>\n",
       "      <th>2</th>\n",
       "      <td>0.0</td>\n",
       "      <td>4.361316</td>\n",
       "      <td>0.548445</td>\n",
       "      <td>0.736355</td>\n",
       "      <td>0</td>\n",
       "    </tr>\n",
       "    <tr>\n",
       "      <th>3</th>\n",
       "      <td>0.0</td>\n",
       "      <td>4.735268</td>\n",
       "      <td>0.553265</td>\n",
       "      <td>0.767524</td>\n",
       "      <td>1</td>\n",
       "    </tr>\n",
       "    <tr>\n",
       "      <th>4</th>\n",
       "      <td>0.0</td>\n",
       "      <td>4.305249</td>\n",
       "      <td>0.596129</td>\n",
       "      <td>0.684633</td>\n",
       "      <td>0</td>\n",
       "    </tr>\n",
       "  </tbody>\n",
       "</table>\n",
       "</div>"
      ],
      "text/plain": [
       "   financial_risk  vehicle_risk  pricing_risk  market_risk  cluster\n",
       "0             0.0      4.757705      0.571013     0.700852        1\n",
       "1             0.0      4.284979      0.437282     0.746412        0\n",
       "2             0.0      4.361316      0.548445     0.736355        0\n",
       "3             0.0      4.735268      0.553265     0.767524        1\n",
       "4             0.0      4.305249      0.596129     0.684633        0"
      ]
     },
     "execution_count": 305,
     "metadata": {},
     "output_type": "execute_result"
    }
   ],
   "source": [
    "df01.head()"
   ]
  },
  {
   "cell_type": "code",
   "execution_count": 306,
   "metadata": {},
   "outputs": [],
   "source": [
    "df01.to_csv('Cclustering_data01.csv')"
   ]
  },
  {
   "cell_type": "code",
   "execution_count": null,
   "metadata": {},
   "outputs": [],
   "source": []
  }
 ],
 "metadata": {
  "kernelspec": {
   "display_name": "conda_python3",
   "language": "python",
   "name": "conda_python3"
  },
  "language_info": {
   "codemirror_mode": {
    "name": "ipython",
    "version": 3
   },
   "file_extension": ".py",
   "mimetype": "text/x-python",
   "name": "python",
   "nbconvert_exporter": "python",
   "pygments_lexer": "ipython3",
   "version": "3.6.5"
  }
 },
 "nbformat": 4,
 "nbformat_minor": 4
}
